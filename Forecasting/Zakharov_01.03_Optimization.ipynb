{
 "cells": [
  {
   "cell_type": "markdown",
   "metadata": {},
   "source": [
    "## Optimization\n",
    "### Kirill Zakharov\n",
    "#### 01.03.2021"
   ]
  },
  {
   "cell_type": "code",
   "execution_count": 1,
   "metadata": {},
   "outputs": [],
   "source": [
    "import numpy as np\n",
    "import pandas as pd\n",
    "import scipy.stats as sts\n",
    "import matplotlib.pyplot as plt\n",
    "from scipy.optimize import minimize\n",
    "%matplotlib inline\n",
    "plt.style.use('ggplot')"
   ]
  },
  {
   "cell_type": "code",
   "execution_count": 2,
   "metadata": {},
   "outputs": [
    {
     "data": {
      "text/html": [
       "<div>\n",
       "<style scoped>\n",
       "    .dataframe tbody tr th:only-of-type {\n",
       "        vertical-align: middle;\n",
       "    }\n",
       "\n",
       "    .dataframe tbody tr th {\n",
       "        vertical-align: top;\n",
       "    }\n",
       "\n",
       "    .dataframe thead th {\n",
       "        text-align: right;\n",
       "    }\n",
       "</style>\n",
       "<table border=\"1\" class=\"dataframe\">\n",
       "  <thead>\n",
       "    <tr style=\"text-align: right;\">\n",
       "      <th></th>\n",
       "      <th>Passengers</th>\n",
       "    </tr>\n",
       "    <tr>\n",
       "      <th>Year</th>\n",
       "      <th></th>\n",
       "    </tr>\n",
       "  </thead>\n",
       "  <tbody>\n",
       "    <tr>\n",
       "      <th>1970-01-01</th>\n",
       "      <td>7.32</td>\n",
       "    </tr>\n",
       "    <tr>\n",
       "      <th>1971-01-01</th>\n",
       "      <td>7.33</td>\n",
       "    </tr>\n",
       "    <tr>\n",
       "      <th>1972-01-01</th>\n",
       "      <td>7.80</td>\n",
       "    </tr>\n",
       "    <tr>\n",
       "      <th>1973-01-01</th>\n",
       "      <td>9.38</td>\n",
       "    </tr>\n",
       "    <tr>\n",
       "      <th>1974-01-01</th>\n",
       "      <td>10.66</td>\n",
       "    </tr>\n",
       "  </tbody>\n",
       "</table>\n",
       "</div>"
      ],
      "text/plain": [
       "            Passengers\n",
       "Year                  \n",
       "1970-01-01        7.32\n",
       "1971-01-01        7.33\n",
       "1972-01-01        7.80\n",
       "1973-01-01        9.38\n",
       "1974-01-01       10.66"
      ]
     },
     "execution_count": 2,
     "metadata": {},
     "output_type": "execute_result"
    }
   ],
   "source": [
    "passengers = pd.read_csv('ausair.csv', index_col='Year', parse_dates=True)\n",
    "passengers.head()"
   ]
  },
  {
   "cell_type": "code",
   "execution_count": 3,
   "metadata": {},
   "outputs": [
    {
     "data": {
      "text/plain": [
       "DatetimeIndex(['2017-01-01', '2018-01-01', '2019-01-01', '2020-01-01',\n",
       "               '2021-01-01', '2022-01-01', '2023-01-01', '2024-01-01',\n",
       "               '2025-01-01', '2026-01-01'],\n",
       "              dtype='datetime64[ns]', freq='AS-JAN')"
      ]
     },
     "execution_count": 3,
     "metadata": {},
     "output_type": "execute_result"
    }
   ],
   "source": [
    "num = passengers.values\n",
    "date1 = passengers.index[-1] + pd.DateOffset(years=1)\n",
    "date2 = date1 + pd.DateOffset(years=9)\n",
    "dates = pd.date_range(date1, date2, freq='YS')\n",
    "dates"
   ]
  },
  {
   "cell_type": "code",
   "execution_count": 4,
   "metadata": {},
   "outputs": [],
   "source": [
    "def forecast_H2_opt(alpha, beta):\n",
    "    df = num[:, 0]\n",
    "    h = 10\n",
    "    res = [df[0]]\n",
    "    l, b = df[0], df[1] - df[0]\n",
    "    sum1 = 0\n",
    "    \n",
    "    for t in range(1, len(df)):\n",
    "        prev_l, l = l, alpha*df[t] + (1-alpha)*(l + b)\n",
    "        b = beta*(l-prev_l) + (1-beta)*b\n",
    "        res.append(l + b)\n",
    "    \n",
    "    forecast = res\n",
    "    for t in range(len(df), len(df)+h):\n",
    "        prev_l, l = l, alpha*forecast[t-1] + (1-alpha)*(l + b)\n",
    "        b = beta*(l-prev_l) + (1-beta)*b\n",
    "        forecast.append(l + b)\n",
    "        \n",
    "    for t in range(1, len(df)):\n",
    "        sum1 += (df[t]-res[t-1])**2\n",
    "    \n",
    "    return sum1/(len(df)-1)"
   ]
  },
  {
   "cell_type": "code",
   "execution_count": 5,
   "metadata": {},
   "outputs": [
    {
     "data": {
      "text/plain": [
       "      fun: 4.083660456834512\n",
       " hess_inv: <2x2 LbfgsInvHessProduct with dtype=float64>\n",
       "      jac: array([-7.99360578e-07, -8.88178420e-08])\n",
       "  message: b'CONVERGENCE: NORM_OF_PROJECTED_GRADIENT_<=_PGTOL'\n",
       "     nfev: 54\n",
       "      nit: 17\n",
       "   status: 0\n",
       "  success: True\n",
       "        x: array([0.85085928, 0.12919859])"
      ]
     },
     "execution_count": 5,
     "metadata": {},
     "output_type": "execute_result"
    }
   ],
   "source": [
    "opt = minimize(lambda x: forecast_H2_opt(x[0], x[1]), (0, 0), bounds=((0, 1), (0, 1)))\n",
    "opt"
   ]
  },
  {
   "cell_type": "code",
   "execution_count": 6,
   "metadata": {},
   "outputs": [],
   "source": [
    "def forecast_H2(df, alpha, beta, h):\n",
    "    res = [df[0]]\n",
    "    l, b = df[0], df[1] - df[0]\n",
    "    for t in range(1, len(df)):\n",
    "        prev_l, l = l, alpha*df[t] + (1-alpha)*(l + b)\n",
    "        b = beta*(l-prev_l) + (1-beta)*b\n",
    "        res.append(l + b)\n",
    "    \n",
    "    forecast = res\n",
    "    for t in range(len(df), len(df)+h):\n",
    "        prev_l, l = l, alpha*forecast[t-1] + (1-alpha)*(l + b)\n",
    "        b = beta*(l-prev_l) + (1-beta)*b\n",
    "        forecast.append(l + b)\n",
    "        \n",
    "    return forecast[:-h], forecast[-h:]"
   ]
  },
  {
   "cell_type": "code",
   "execution_count": 7,
   "metadata": {},
   "outputs": [],
   "source": [
    "alpha = opt.x[0]\n",
    "beta = opt.x[1]\n",
    "h = 10\n",
    "\n",
    "forecast2 = pd.DataFrame(dates)\n",
    "forecast2.columns = ['Year']\n",
    "forecast2 = forecast2.set_index('Year')\n",
    "smooth, forecast2['Passengers'] = forecast_H2(num[:, 0], alpha, beta, h)"
   ]
  },
  {
   "cell_type": "code",
   "execution_count": 8,
   "metadata": {},
   "outputs": [
    {
     "data": {
      "image/png": "[encoded data removed]",
      "text/plain": [
       "<Figure size 864x432 with 1 Axes>"
      ]
     },
     "metadata": {
      "needs_background": "light"
     },
     "output_type": "display_data"
    }
   ],
   "source": [
    "d = pd.DataFrame(pd.date_range('1970-01-01', '2016-01-01', freq='YS'))\n",
    "d.columns = ['Year']\n",
    "d = d.set_index('Year')\n",
    "\n",
    "d['Passengers'] = smooth\n",
    "d['Passengers'].plot(label='smoothing', figsize=(12, 6))\n",
    "\n",
    "passengers['Passengers'].plot(figsize=(12, 6), label='initial data')\n",
    "forecast2['Passengers'].plot(label='forecast')\n",
    "plt.ylabel('Number of passengers')\n",
    "plt.legend()\n",
    "plt.show()"
   ]
  },
  {
   "cell_type": "code",
   "execution_count": 9,
   "metadata": {},
   "outputs": [],
   "source": [
    "def add_trend_opt(alpha, beta, phi):\n",
    "    df = num[:, 0]\n",
    "    h = 10\n",
    "    res = [df[0]]\n",
    "    l, b = df[0], df[1] - df[0]\n",
    "    sum1 = 0\n",
    "        \n",
    "    for t in range(1, len(df)):\n",
    "        prev_l, l = l, alpha*df[t] + (1-alpha)*(l + phi*b)\n",
    "        b = beta*(l-prev_l) + (1-beta)*phi*b\n",
    "        res.append(l + phi*b)\n",
    "    \n",
    "    forecast = res\n",
    "    for t in range(len(df), len(df)+h):\n",
    "        prev_l, l = l, alpha*forecast[t-1] + (1-alpha)*(l+phi*b)\n",
    "        b = beta*(l-prev_l) + (1-beta)*phi*b\n",
    "        forecast.append(l + phi*b)\n",
    "        \n",
    "    for t in range(1, len(df)):\n",
    "        sum1 += (df[t]-res[t-1])**2    \n",
    "        \n",
    "    return sum1/(len(df)-1)"
   ]
  },
  {
   "cell_type": "code",
   "execution_count": 10,
   "metadata": {},
   "outputs": [
    {
     "data": {
      "text/plain": [
       "      fun: 4.083660456834664\n",
       " hess_inv: <3x3 LbfgsInvHessProduct with dtype=float64>\n",
       "      jac: array([ 2.66453526e-07, -4.26325641e-06, -5.01507555e+00])\n",
       "  message: b'CONVERGENCE: NORM_OF_PROJECTED_GRADIENT_<=_PGTOL'\n",
       "     nfev: 76\n",
       "      nit: 17\n",
       "   status: 0\n",
       "  success: True\n",
       "        x: array([0.8508595 , 0.12919849, 1.        ])"
      ]
     },
     "execution_count": 10,
     "metadata": {},
     "output_type": "execute_result"
    }
   ],
   "source": [
    "opt1 = minimize(lambda x: add_trend_opt(x[0], x[1], x[2]), (0, 0, 1), bounds=((0, 1), (0, 1), (0, 1)))\n",
    "opt1"
   ]
  },
  {
   "cell_type": "code",
   "execution_count": 11,
   "metadata": {},
   "outputs": [],
   "source": [
    "def add_trend(df, alpha, beta, phi, h):\n",
    "    res = [df[0]]\n",
    "    l, b = df[0], df[1] - df[0]\n",
    "        \n",
    "    for t in range(1, len(df)):\n",
    "        prev_l, l = l, alpha*df[t] + (1-alpha)*(l + phi*b)\n",
    "        b = beta*(l-prev_l) + (1-beta)*phi*b\n",
    "        res.append(l + phi*b)\n",
    "    \n",
    "    forecast = res\n",
    "    for t in range(len(df), len(df)+h):\n",
    "        prev_l, l = l, alpha*forecast[t-1] + (1-alpha)*(l+phi*b)\n",
    "        b = beta*(l-prev_l) + (1-beta)*phi*b\n",
    "        forecast.append(l + phi*b)\n",
    "        \n",
    "    return forecast[:-h], forecast[-h:]"
   ]
  },
  {
   "cell_type": "code",
   "execution_count": 12,
   "metadata": {},
   "outputs": [],
   "source": [
    "num = passengers.values\n",
    "alpha = opt1.x[0]\n",
    "beta = opt1.x[1]\n",
    "phi = 0.9\n",
    "h = 10\n",
    "\n",
    "forecast3 = pd.DataFrame(dates)\n",
    "forecast3.columns = ['Year']\n",
    "forecast3 = forecast3.set_index('Year')\n",
    "smooth, forecast3['Passengers'] = add_trend(num[:, 0], alpha, beta, phi, h)"
   ]
  },
  {
   "cell_type": "code",
   "execution_count": 13,
   "metadata": {},
   "outputs": [
    {
     "data": {
      "image/png": "[encoded data removed]",
      "text/plain": [
       "<Figure size 864x432 with 1 Axes>"
      ]
     },
     "metadata": {
      "needs_background": "light"
     },
     "output_type": "display_data"
    }
   ],
   "source": [
    "d = pd.DataFrame(pd.date_range('1970-01-01', '2016-01-01', freq='YS'))\n",
    "d.columns = ['Year']\n",
    "d = d.set_index('Year')\n",
    "\n",
    "d['Passengers'] = smooth\n",
    "d['Passengers'].plot(label='smoothing', figsize=(12, 6))\n",
    "\n",
    "passengers['Passengers'].plot(figsize=(12, 6), label='initial data')\n",
    "forecast3['Passengers'].plot(label='forecast')\n",
    "plt.ylabel('Number of passengers')\n",
    "plt.legend()\n",
    "plt.show()"
   ]
  },
  {
   "cell_type": "code",
   "execution_count": null,
   "metadata": {},
   "outputs": [],
   "source": []
  }
 ],
 "metadata": {
  "kernelspec": {
   "display_name": "Python 3",
   "language": "python",
   "name": "python3"
  },
  "language_info": {
   "codemirror_mode": {
    "name": "ipython",
    "version": 3
   },
   "file_extension": ".py",
   "mimetype": "text/x-python",
   "name": "python",
   "nbconvert_exporter": "python",
   "pygments_lexer": "ipython3",
   "version": "3.6.4"
  }
 },
 "nbformat": 4,
 "nbformat_minor": 2
}
