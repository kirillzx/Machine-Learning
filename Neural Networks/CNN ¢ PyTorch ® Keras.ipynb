{
 "cells": [
  {
   "cell_type": "code",
   "execution_count": 1,
   "metadata": {},
   "outputs": [],
   "source": [
    "import torch\n",
    "import torchvision\n",
    "\n",
    "import torch.nn as nn\n",
    "from torchvision import transforms"
   ]
  },
  {
   "cell_type": "code",
   "execution_count": 2,
   "metadata": {},
   "outputs": [
    {
     "name": "stderr",
     "output_type": "stream",
     "text": [
      "/opt/anaconda3/lib/python3.8/site-packages/torchvision/datasets/mnist.py:498: UserWarning: The given NumPy array is not writeable, and PyTorch does not support non-writeable tensors. This means you can write to the underlying (supposedly non-writeable) NumPy array using the tensor. You may want to copy the array to protect its data or make it writeable before converting it to a tensor. This type of warning will be suppressed for the rest of this program. (Triggered internally at  ../torch/csrc/utils/tensor_numpy.cpp:180.)\n",
      "  return torch.from_numpy(parsed.astype(m[2], copy=False)).view(*s)\n"
     ]
    }
   ],
   "source": [
    "transform = transforms.Compose([transforms.Resize((32, 32)),\n",
    "                                transforms.ToTensor()])\n",
    "\n",
    "train_dataset = torchvision.datasets.MNIST(root='../../data', \n",
    "                                           train=True, \n",
    "                                           transform=transform,  \n",
    "                                           download=True)\n",
    "\n",
    "test_dataset = torchvision.datasets.MNIST(root='../../data', \n",
    "                                          train=False, \n",
    "                                          transform=transform)\n",
    "\n",
    "train_loader = torch.utils.data.DataLoader(dataset=train_dataset, \n",
    "                                           batch_size=100, \n",
    "                                           shuffle=True)\n",
    "\n",
    "test_loader = torch.utils.data.DataLoader(dataset=test_dataset, \n",
    "                                          batch_size=100, \n",
    "                                          shuffle=False)"
   ]
  },
  {
   "cell_type": "markdown",
   "metadata": {},
   "source": [
    "<img src=\"https://www.researchgate.net/profile/Vladimir-Golovko-5/publication/313808170/figure/fig3/AS:552880910618630@1508828489678/Architecture-of-LeNet-5.png\">"
   ]
  },
  {
   "cell_type": "markdown",
   "metadata": {},
   "source": [
    "## LeNet-5 на PyTorch"
   ]
  },
  {
   "cell_type": "code",
   "execution_count": 3,
   "metadata": {},
   "outputs": [],
   "source": [
    "class LeNet5(nn.Module):\n",
    "    def __init__(self, num_classes):\n",
    "        super(LeNet5, self).__init__()\n",
    "        self.conv_layer1 = nn.Conv2d(in_channels=1, out_channels=6, kernel_size=5, stride=1)\n",
    "        self.conv_layer2 = nn.Conv2d(in_channels=6, out_channels=16, kernel_size=5, stride=1)\n",
    "        self.conv_layer3 = nn.Conv2d(in_channels=16, out_channels=120, kernel_size=5, stride=1)\n",
    "        self.pooling_layer1 = nn.AvgPool2d(kernel_size=2)\n",
    "        self.pooling_layer2 = nn.AvgPool2d(kernel_size=2)\n",
    "        \n",
    "        self.linear_layer1 = nn.Linear(in_features=120, out_features=84)\n",
    "        self.linear_layer2 = nn.Linear(in_features=84, out_features=num_classes)\n",
    "        \n",
    "        self.tanh = nn.Tanh()\n",
    "        \n",
    "    def forward(self, inputs):\n",
    "        output_1 = self.tanh(self.conv_layer1(inputs))\n",
    "        output_2 = self.pooling_layer1(output_1)\n",
    "        output_3 = self.tanh(self.conv_layer2(output_2))\n",
    "        output_4 = self.pooling_layer2(output_3)\n",
    "        output_5 = self.tanh(self.conv_layer3(output_4))\n",
    "        output_6 = torch.flatten(output_5, 1)\n",
    "        \n",
    "        output_7 = self.tanh(self.linear_layer1(output_6))\n",
    "        output = self.linear_layer2(output_7)\n",
    "        \n",
    "        return output"
   ]
  },
  {
   "cell_type": "code",
   "execution_count": 4,
   "metadata": {},
   "outputs": [
    {
     "name": "stdout",
     "output_type": "stream",
     "text": [
      "LeNet5(\n",
      "  (conv_layer1): Conv2d(1, 6, kernel_size=(5, 5), stride=(1, 1))\n",
      "  (conv_layer2): Conv2d(6, 16, kernel_size=(5, 5), stride=(1, 1))\n",
      "  (conv_layer3): Conv2d(16, 120, kernel_size=(5, 5), stride=(1, 1))\n",
      "  (pooling_layer1): AvgPool2d(kernel_size=2, stride=2, padding=0)\n",
      "  (pooling_layer2): AvgPool2d(kernel_size=2, stride=2, padding=0)\n",
      "  (linear_layer1): Linear(in_features=120, out_features=84, bias=True)\n",
      "  (linear_layer2): Linear(in_features=84, out_features=10, bias=True)\n",
      "  (tanh): Tanh()\n",
      ")\n"
     ]
    }
   ],
   "source": [
    "model = LeNet5(10)\n",
    "print(model)"
   ]
  },
  {
   "cell_type": "code",
   "execution_count": 5,
   "metadata": {},
   "outputs": [],
   "source": [
    "criterion = nn.CrossEntropyLoss()\n",
    "optimizer = torch.optim.Adam(model.parameters(), lr=0.001)"
   ]
  },
  {
   "cell_type": "code",
   "execution_count": 6,
   "metadata": {},
   "outputs": [
    {
     "name": "stdout",
     "output_type": "stream",
     "text": [
      "Epoch [1/5], Step [100/600], Loss: 0.4802\n",
      "Epoch [1/5], Step [200/600], Loss: 0.2903\n",
      "Epoch [1/5], Step [300/600], Loss: 0.1781\n",
      "Epoch [1/5], Step [400/600], Loss: 0.2215\n",
      "Epoch [1/5], Step [500/600], Loss: 0.0891\n",
      "Epoch [1/5], Step [600/600], Loss: 0.1719\n",
      "Epoch [2/5], Step [100/600], Loss: 0.0570\n",
      "Epoch [2/5], Step [200/600], Loss: 0.1085\n",
      "Epoch [2/5], Step [300/600], Loss: 0.0389\n",
      "Epoch [2/5], Step [400/600], Loss: 0.0899\n",
      "Epoch [2/5], Step [500/600], Loss: 0.0617\n",
      "Epoch [2/5], Step [600/600], Loss: 0.1228\n",
      "Epoch [3/5], Step [100/600], Loss: 0.0382\n",
      "Epoch [3/5], Step [200/600], Loss: 0.0227\n",
      "Epoch [3/5], Step [300/600], Loss: 0.0380\n",
      "Epoch [3/5], Step [400/600], Loss: 0.0573\n",
      "Epoch [3/5], Step [500/600], Loss: 0.0604\n",
      "Epoch [3/5], Step [600/600], Loss: 0.0774\n",
      "Epoch [4/5], Step [100/600], Loss: 0.0344\n",
      "Epoch [4/5], Step [200/600], Loss: 0.0188\n",
      "Epoch [4/5], Step [300/600], Loss: 0.0621\n",
      "Epoch [4/5], Step [400/600], Loss: 0.0098\n",
      "Epoch [4/5], Step [500/600], Loss: 0.0396\n",
      "Epoch [4/5], Step [600/600], Loss: 0.0230\n",
      "Epoch [5/5], Step [100/600], Loss: 0.0360\n",
      "Epoch [5/5], Step [200/600], Loss: 0.0510\n",
      "Epoch [5/5], Step [300/600], Loss: 0.0833\n",
      "Epoch [5/5], Step [400/600], Loss: 0.0389\n",
      "Epoch [5/5], Step [500/600], Loss: 0.0289\n",
      "Epoch [5/5], Step [600/600], Loss: 0.0647\n"
     ]
    }
   ],
   "source": [
    "torch.manual_seed(0)\n",
    "\n",
    "total_step = len(train_loader)\n",
    "for epoch in range(5):\n",
    "    for i, (images, labels) in enumerate(train_loader): \n",
    "\n",
    "        outputs = model(images)\n",
    "        loss = criterion(outputs, labels)\n",
    "\n",
    "        optimizer.zero_grad()\n",
    "        loss.backward()\n",
    "        optimizer.step()\n",
    "        \n",
    "        if (i+1) % 100 == 0:\n",
    "            print ('Epoch [{}/{}], Step [{}/{}], Loss: {:.4f}' \n",
    "                   .format(epoch+1, 5, i+1, total_step, loss.item()))"
   ]
  },
  {
   "cell_type": "code",
   "execution_count": 7,
   "metadata": {},
   "outputs": [
    {
     "name": "stdout",
     "output_type": "stream",
     "text": [
      "Accuracy: 98.33 %\n"
     ]
    }
   ],
   "source": [
    "with torch.no_grad():\n",
    "    correct = 0\n",
    "    total = 0\n",
    "    for images, labels in test_loader:\n",
    "        outputs = model(images)\n",
    "        _, predicted = torch.max(outputs.data, 1)\n",
    "        total += labels.size(0)\n",
    "        correct += (predicted == labels).sum().item()\n",
    "\n",
    "    print('Accuracy: {} %'.format(100 * correct / total))"
   ]
  },
  {
   "cell_type": "markdown",
   "metadata": {},
   "source": [
    "## LeNet-5 на Keras"
   ]
  },
  {
   "cell_type": "code",
   "execution_count": null,
   "metadata": {},
   "outputs": [],
   "source": [
    "import keras\n",
    "from keras.models import Sequential\n",
    "from keras.layers import Conv2D, AveragePooling2D, Flatten, Dense\n",
    "\n",
    "# from keras.utils import to_categorical"
   ]
  },
  {
   "cell_type": "code",
   "execution_count": null,
   "metadata": {},
   "outputs": [],
   "source": [
    "(X_train, y_train), (X_test, y_test) = keras.datasets.mnist.load_data()\n",
    "X_train = X_train.reshape(X_train.shape[0], 28, 28, 1)\n",
    "X_test = X_test.reshape(X_test.shape[0], 28, 28, 1)\n",
    "\n",
    "y_train = to_categorical(y_train, 10)\n",
    "y_test = to_categorical(y_test, 10)"
   ]
  },
  {
   "cell_type": "code",
   "execution_count": null,
   "metadata": {},
   "outputs": [],
   "source": [
    "model = Sequential()\n",
    "model.add(Conv2D(filters=6, kernel_size=(5, 5), activation='tanh', input_shape=(28, 28, 1), \n",
    "                 padding='same'))\n",
    "model.add(AveragePooling2D(pool_size=(2, 2)))\n",
    "model.add(Conv2D(filters=16, kernel_size=(5, 5), activation='tanh'))\n",
    "model.add(AveragePooling2D(pool_size=(2, 2)))\n",
    "model.add(Flatten())\n",
    "\n",
    "model.add(Dense(units=120, activation='tanh'))\n",
    "model.add(Dense(units=84, activation='tanh'))\n",
    "model.add(Dense(units=10, activation='softmax'))"
   ]
  },
  {
   "cell_type": "code",
   "execution_count": null,
   "metadata": {},
   "outputs": [],
   "source": [
    "model.summary()"
   ]
  },
  {
   "cell_type": "code",
   "execution_count": null,
   "metadata": {},
   "outputs": [],
   "source": [
    "model.compile(loss='categorical_crossentropy', optimizer='adam', \n",
    "              metrics=['accuracy'])"
   ]
  },
  {
   "cell_type": "code",
   "execution_count": null,
   "metadata": {},
   "outputs": [],
   "source": [
    "model.fit(X_train, y_train, batch_size=100, epochs=5, validation_data=(X_test, y_test))"
   ]
  },
  {
   "cell_type": "markdown",
   "metadata": {},
   "source": [
    "### Задание"
   ]
  },
  {
   "cell_type": "markdown",
   "metadata": {},
   "source": [
    "Реализовать и обучить в PyTorch и Keras следующую архитектуру:"
   ]
  },
  {
   "cell_type": "markdown",
   "metadata": {},
   "source": [
    "<img src=\"https://www.easy-tensorflow.com/images/cnntext.png\">"
   ]
  },
  {
   "cell_type": "code",
   "execution_count": 12,
   "metadata": {},
   "outputs": [],
   "source": [
    "class NN2(nn.Module):\n",
    "    def __init__(self, num_classes):\n",
    "        super(NN2, self).__init__()\n",
    "        self.conv_layer1 = nn.Conv2d(in_channels=1, out_channels=16, kernel_size=5, stride=1)\n",
    "        self.conv_layer2 = nn.Conv2d(in_channels=16, out_channels=32, kernel_size=5, stride=1)\n",
    "        self.conv_layer3 = nn.Conv2d(in_channels=32, out_channels=128, kernel_size=5, stride=1)\n",
    "        self.pooling_layer1 = nn.AvgPool2d(kernel_size=2)\n",
    "        self.pooling_layer2 = nn.AvgPool2d(kernel_size=2)\n",
    "        \n",
    "#         self.linear_layer1 = nn.Linear(in_features=128, out_features=10)\n",
    "        self.linear_layer2 = nn.Linear(in_features=128, out_features=num_classes)\n",
    "        \n",
    "        self.tanh = nn.Tanh()\n",
    "        \n",
    "    def forward(self, inputs):\n",
    "        output_1 = self.tanh(self.conv_layer1(inputs))\n",
    "        output_2 = self.pooling_layer1(output_1)\n",
    "        output_3 = self.tanh(self.conv_layer2(output_2))\n",
    "        output_4 = self.pooling_layer2(output_3)\n",
    "        output_5 = self.tanh(self.conv_layer3(output_4))\n",
    "        output_6 = torch.flatten(output_5, 1)\n",
    "        \n",
    "#         output_7 = self.tanh(self.linear_layer1(output_6))\n",
    "        output = self.tanh(self.linear_layer2(output_6))\n",
    "        \n",
    "        return output"
   ]
  },
  {
   "cell_type": "code",
   "execution_count": 13,
   "metadata": {},
   "outputs": [
    {
     "name": "stdout",
     "output_type": "stream",
     "text": [
      "NN2(\n",
      "  (conv_layer1): Conv2d(1, 16, kernel_size=(5, 5), stride=(1, 1))\n",
      "  (conv_layer2): Conv2d(16, 32, kernel_size=(5, 5), stride=(1, 1))\n",
      "  (conv_layer3): Conv2d(32, 128, kernel_size=(5, 5), stride=(1, 1))\n",
      "  (pooling_layer1): AvgPool2d(kernel_size=2, stride=2, padding=0)\n",
      "  (pooling_layer2): AvgPool2d(kernel_size=2, stride=2, padding=0)\n",
      "  (linear_layer2): Linear(in_features=128, out_features=10, bias=True)\n",
      "  (tanh): Tanh()\n",
      ")\n"
     ]
    }
   ],
   "source": [
    "model = NN2(10)\n",
    "print(model)"
   ]
  },
  {
   "cell_type": "code",
   "execution_count": 14,
   "metadata": {},
   "outputs": [],
   "source": [
    "criterion = nn.CrossEntropyLoss()\n",
    "optimizer = torch.optim.Adam(model.parameters(), lr=0.001)"
   ]
  },
  {
   "cell_type": "code",
   "execution_count": 15,
   "metadata": {},
   "outputs": [
    {
     "name": "stdout",
     "output_type": "stream",
     "text": [
      "Epoch [1/5], Step [100/600], Loss: 1.0853\n",
      "Epoch [1/5], Step [200/600], Loss: 0.9546\n",
      "Epoch [1/5], Step [300/600], Loss: 0.9270\n",
      "Epoch [1/5], Step [400/600], Loss: 0.9291\n",
      "Epoch [1/5], Step [500/600], Loss: 0.8378\n",
      "Epoch [1/5], Step [600/600], Loss: 0.8929\n",
      "Epoch [2/5], Step [100/600], Loss: 0.8509\n",
      "Epoch [2/5], Step [200/600], Loss: 0.8647\n",
      "Epoch [2/5], Step [300/600], Loss: 0.8187\n",
      "Epoch [2/5], Step [400/600], Loss: 0.8750\n",
      "Epoch [2/5], Step [500/600], Loss: 0.8336\n",
      "Epoch [2/5], Step [600/600], Loss: 0.8542\n",
      "Epoch [3/5], Step [100/600], Loss: 0.8340\n",
      "Epoch [3/5], Step [200/600], Loss: 0.8200\n",
      "Epoch [3/5], Step [300/600], Loss: 0.8151\n",
      "Epoch [3/5], Step [400/600], Loss: 0.8215\n",
      "Epoch [3/5], Step [500/600], Loss: 0.8259\n",
      "Epoch [3/5], Step [600/600], Loss: 0.8347\n",
      "Epoch [4/5], Step [100/600], Loss: 0.8139\n",
      "Epoch [4/5], Step [200/600], Loss: 0.8085\n",
      "Epoch [4/5], Step [300/600], Loss: 0.8292\n",
      "Epoch [4/5], Step [400/600], Loss: 0.8057\n",
      "Epoch [4/5], Step [500/600], Loss: 0.8325\n",
      "Epoch [4/5], Step [600/600], Loss: 0.8028\n",
      "Epoch [5/5], Step [100/600], Loss: 0.8177\n",
      "Epoch [5/5], Step [200/600], Loss: 0.8182\n",
      "Epoch [5/5], Step [300/600], Loss: 0.8208\n",
      "Epoch [5/5], Step [400/600], Loss: 0.8207\n",
      "Epoch [5/5], Step [500/600], Loss: 0.8287\n",
      "Epoch [5/5], Step [600/600], Loss: 0.8242\n"
     ]
    }
   ],
   "source": [
    "torch.manual_seed(0)\n",
    "\n",
    "total_step = len(train_loader)\n",
    "for epoch in range(5):\n",
    "    for i, (images, labels) in enumerate(train_loader): \n",
    "\n",
    "        outputs = model(images)\n",
    "        loss = criterion(outputs, labels)\n",
    "\n",
    "        optimizer.zero_grad()\n",
    "        loss.backward()\n",
    "        optimizer.step()\n",
    "        \n",
    "        if (i+1) % 100 == 0:\n",
    "            print ('Epoch [{}/{}], Step [{}/{}], Loss: {:.4f}' \n",
    "                   .format(epoch+1, 5, i+1, total_step, loss.item()))"
   ]
  },
  {
   "cell_type": "code",
   "execution_count": 16,
   "metadata": {},
   "outputs": [
    {
     "name": "stdout",
     "output_type": "stream",
     "text": [
      "Accuracy: 98.53 %\n"
     ]
    }
   ],
   "source": [
    "with torch.no_grad():\n",
    "    correct = 0\n",
    "    total = 0\n",
    "    for images, labels in test_loader:\n",
    "        outputs = model(images)\n",
    "        _, predicted = torch.max(outputs.data, 1)\n",
    "        total += labels.size(0)\n",
    "        correct += (predicted == labels).sum().item()\n",
    "\n",
    "    print('Accuracy: {} %'.format(100 * correct / total))"
   ]
  },
  {
   "cell_type": "code",
   "execution_count": null,
   "metadata": {},
   "outputs": [],
   "source": []
  }
 ],
 "metadata": {
  "kernelspec": {
   "display_name": "Python 3",
   "language": "python",
   "name": "python3"
  },
  "language_info": {
   "codemirror_mode": {
    "name": "ipython",
    "version": 3
   },
   "file_extension": ".py",
   "mimetype": "text/x-python",
   "name": "python",
   "nbconvert_exporter": "python",
   "pygments_lexer": "ipython3",
   "version": "3.8.8"
  }
 },
 "nbformat": 4,
 "nbformat_minor": 4
}
