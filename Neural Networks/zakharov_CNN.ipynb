{
 "cells": [
  {
   "cell_type": "code",
   "execution_count": 2,
   "metadata": {
    "_cell_guid": "b1076dfc-b9ad-4769-8c92-a6c4dae69d19",
    "_uuid": "8f2839f25d086af736a60e9eeb907d3b93b6e0e5",
    "execution": {
     "iopub.execute_input": "2021-10-22T10:09:36.115942Z",
     "iopub.status.busy": "2021-10-22T10:09:36.115653Z",
     "iopub.status.idle": "2021-10-22T10:09:37.745893Z",
     "shell.execute_reply": "2021-10-22T10:09:37.745193Z",
     "shell.execute_reply.started": "2021-10-22T10:09:36.115913Z"
    }
   },
   "outputs": [],
   "source": [
    "# This Python 3 environment comes with many helpful analytics libraries installed\n",
    "# It is defined by the kaggle/python Docker image: https://github.com/kaggle/docker-python\n",
    "# For example, here's several helpful packages to load\n",
    "\n",
    "import numpy as np # linear algebra\n",
    "import pandas as pd # data processing, CSV file I/O (e.g. pd.read_csv)\n",
    "\n",
    "import torch\n",
    "import torchvision\n",
    "import torch.nn as nn\n",
    "from torchvision import transforms\n",
    "\n",
    "import os\n",
    "import zipfile\n",
    "# Input data files are available in the read-only \"../input/\" directory\n",
    "# For example, running this (by clicking run or pressing Shift+Enter) will list all files under the input directory\n",
    "\n",
    "import os\n",
    "for dirname, _, filenames in os.walk('/kaggle/input'):\n",
    "    for filename in filenames:\n",
    "        print(os.path.join(dirname, filename))\n",
    "\n",
    "# You can write up to 20GB to the current directory (/kaggle/working/) that gets preserved as output when you create a version using \"Save & Run All\" \n",
    "# You can also write temporary files to /kaggle/temp/, but they won't be saved outside of the current session"
   ]
  },
  {
   "cell_type": "code",
   "execution_count": 3,
   "metadata": {
    "execution": {
     "iopub.execute_input": "2021-10-22T10:09:37.747827Z",
     "iopub.status.busy": "2021-10-22T10:09:37.747569Z",
     "iopub.status.idle": "2021-10-22T10:09:37.797154Z",
     "shell.execute_reply": "2021-10-22T10:09:37.796456Z",
     "shell.execute_reply.started": "2021-10-22T10:09:37.747794Z"
    }
   },
   "outputs": [],
   "source": [
    "if torch.cuda.is_available():\n",
    "    dev = \"cuda:0\" \n",
    "else:  \n",
    "    dev = \"cpu\"  \n",
    "device = torch.device(dev)"
   ]
  },
  {
   "cell_type": "code",
   "execution_count": 4,
   "metadata": {
    "execution": {
     "iopub.execute_input": "2021-10-22T10:09:37.801001Z",
     "iopub.status.busy": "2021-10-22T10:09:37.800391Z",
     "iopub.status.idle": "2021-10-22T10:09:50.100955Z",
     "shell.execute_reply": "2021-10-22T10:09:50.100227Z",
     "shell.execute_reply.started": "2021-10-22T10:09:37.800966Z"
    }
   },
   "outputs": [],
   "source": [
    "base_dir = \"../input/cian-datafest-2019\"\n",
    "train_dir = os.path.join(base_dir, \"train.zip\")\n",
    "test_dir = os.path.join(base_dir, \"test.zip\")\n",
    "\n",
    "with zipfile.ZipFile(train_dir,\"r\") as z:\n",
    "    z.extractall()\n",
    "    \n",
    "with zipfile.ZipFile(test_dir,\"r\") as z:\n",
    "    z.extractall()"
   ]
  },
  {
   "cell_type": "code",
   "execution_count": 5,
   "metadata": {
    "execution": {
     "iopub.execute_input": "2021-10-22T10:09:50.103343Z",
     "iopub.status.busy": "2021-10-22T10:09:50.103034Z",
     "iopub.status.idle": "2021-10-22T10:09:50.436293Z",
     "shell.execute_reply": "2021-10-22T10:09:50.435372Z",
     "shell.execute_reply.started": "2021-10-22T10:09:50.103306Z"
    }
   },
   "outputs": [],
   "source": [
    "torch.manual_seed(10)\n",
    "\n",
    "\n",
    "transform = transforms.Compose([transforms.Resize((56,56)), transforms.ToTensor()])\n",
    "\n",
    "train_data = torchvision.datasets.ImageFolder('./train', \n",
    "                                              transform=transform)\n",
    "\n",
    "trainset = torch.utils.data.Subset(train_data, list(range(0, len(train_data), 6)))\n",
    "\n",
    "train_set, val_set = torch.utils.data.random_split(trainset, [6000, 3221])\n",
    "train_data_loader = torch.utils.data.DataLoader(train_set, batch_size=500, \n",
    "                                                shuffle=True, num_workers=2)\n",
    "val_data_loader = torch.utils.data.DataLoader(val_set, batch_size=500, \n",
    "                                              shuffle=True, num_workers=2)"
   ]
  },
  {
   "cell_type": "code",
   "execution_count": null,
   "metadata": {
    "execution": {
     "iopub.execute_input": "2021-10-22T09:48:17.777013Z",
     "iopub.status.busy": "2021-10-22T09:48:17.776789Z",
     "iopub.status.idle": "2021-10-22T09:48:17.78811Z",
     "shell.execute_reply": "2021-10-22T09:48:17.787457Z",
     "shell.execute_reply.started": "2021-10-22T09:48:17.776986Z"
    }
   },
   "outputs": [],
   "source": [
    "class CNN(nn.Module):\n",
    "    def __init__(self, num_classes):\n",
    "        super(CNN, self).__init__()\n",
    "        \n",
    "        self.conv_layer1 = nn.Conv2d(in_channels=3, out_channels=8, kernel_size=2, stride=1, padding=1)\n",
    "        self.conv_layer2 = nn.Conv2d(in_channels=8, out_channels=16, kernel_size=4, stride=1, padding=1)\n",
    "        self.conv_layer3 = nn.Conv2d(in_channels=16, out_channels=32, kernel_size=2, stride=2, padding=1)\n",
    "        self.pooling_layer1 = nn.AvgPool2d(kernel_size=2)\n",
    "        self.pooling_layer2 = nn.AvgPool2d(kernel_size=2)\n",
    "        \n",
    "        self.linear_layer1 = nn.Linear(in_features=1568, out_features=120)\n",
    "        self.linear_layer2 = nn.Linear(in_features=120, out_features=num_classes)\n",
    "        \n",
    "        self.relu = nn.ReLU()\n",
    "        \n",
    "    def forward(self, inputs):\n",
    "        \n",
    "        output_1 = self.relu(self.conv_layer1(inputs))\n",
    "        output_2 = self.pooling_layer1(output_1)\n",
    "        output_3 = self.relu(self.conv_layer2(output_2))\n",
    "        output_4 = self.pooling_layer2(output_3)\n",
    "        output_5 = self.relu(self.conv_layer3(output_4))\n",
    "        output_6 = torch.flatten(output_5, 1)\n",
    "        \n",
    "        output_7 = self.relu(self.linear_layer1(output_6))\n",
    "#         output_8 = torch.nn.Dropout(output_7)\n",
    "        output = self.linear_layer2(output_7)\n",
    "        \n",
    "        return output\n",
    "        \n",
    "        return x"
   ]
  },
  {
   "cell_type": "code",
   "execution_count": null,
   "metadata": {
    "execution": {
     "iopub.execute_input": "2021-10-22T09:48:17.789569Z",
     "iopub.status.busy": "2021-10-22T09:48:17.789187Z",
     "iopub.status.idle": "2021-10-22T09:48:17.831918Z",
     "shell.execute_reply": "2021-10-22T09:48:17.831325Z",
     "shell.execute_reply.started": "2021-10-22T09:48:17.789538Z"
    }
   },
   "outputs": [],
   "source": [
    "model = CNN(1).to(device)\n",
    "print(model)"
   ]
  },
  {
   "cell_type": "code",
   "execution_count": null,
   "metadata": {
    "execution": {
     "iopub.execute_input": "2021-10-22T09:48:17.833544Z",
     "iopub.status.busy": "2021-10-22T09:48:17.832802Z",
     "iopub.status.idle": "2021-10-22T09:48:17.838209Z",
     "shell.execute_reply": "2021-10-22T09:48:17.837247Z",
     "shell.execute_reply.started": "2021-10-22T09:48:17.83351Z"
    }
   },
   "outputs": [],
   "source": [
    "criterion = nn.BCEWithLogitsLoss()\n",
    "optimizer = torch.optim.Adam(model.parameters(), lr=0.001)"
   ]
  },
  {
   "cell_type": "code",
   "execution_count": null,
   "metadata": {
    "execution": {
     "iopub.execute_input": "2021-10-22T09:48:53.608738Z",
     "iopub.status.busy": "2021-10-22T09:48:53.608391Z",
     "iopub.status.idle": "2021-10-22T09:49:18.158819Z",
     "shell.execute_reply": "2021-10-22T09:49:18.158Z",
     "shell.execute_reply.started": "2021-10-22T09:48:53.608699Z"
    }
   },
   "outputs": [],
   "source": [
    "torch.manual_seed(10)\n",
    "\n",
    "epochs = 5\n",
    "\n",
    "total_step = len(train_data_loader)\n",
    "for epoch in range(epochs):\n",
    "    for i, (images, labels) in enumerate(train_data_loader):\n",
    "        images = images.to(device)\n",
    "        labels = labels.reshape(len(labels), 1)\n",
    "        labels = labels.type(torch.FloatTensor)\n",
    "        labels = labels.to(device)\n",
    "\n",
    "        outputs = model(images)\n",
    "        loss = criterion(outputs, labels)\n",
    "\n",
    "        optimizer.zero_grad()\n",
    "        loss.backward()\n",
    "        optimizer.step()\n",
    "        \n",
    "        print ('Epoch [{}/{}], Step [{}/{}], Loss: {:.4f}'\n",
    "               .format(epoch+1, epochs, i+1, total_step, loss.item()))"
   ]
  },
  {
   "cell_type": "code",
   "execution_count": null,
   "metadata": {
    "execution": {
     "iopub.execute_input": "2021-10-22T09:49:18.162776Z",
     "iopub.status.busy": "2021-10-22T09:49:18.162329Z",
     "iopub.status.idle": "2021-10-22T09:49:19.901215Z",
     "shell.execute_reply": "2021-10-22T09:49:19.900276Z",
     "shell.execute_reply.started": "2021-10-22T09:49:18.162735Z"
    }
   },
   "outputs": [],
   "source": [
    "# оценка качества\n",
    "with torch.no_grad():\n",
    "    correct = 0\n",
    "    total = 0\n",
    "    for images, labels in val_data_loader:\n",
    "        images = images.to(device)\n",
    "        labels = labels.reshape(len(labels), 1)\n",
    "        labels = labels.type(torch.FloatTensor)\n",
    "        labels = labels.to(device)\n",
    "        \n",
    "        outputs = model(images)\n",
    "        predicted = (torch.sigmoid(outputs.data) > 0.5).float()\n",
    "        total += labels.size(0)\n",
    "        correct += (predicted == labels).sum().item()\n",
    "\n",
    "    print('Accuracy: {} %'.format(100 * correct / total))"
   ]
  },
  {
   "cell_type": "markdown",
   "metadata": {},
   "source": [
    "# Model 2"
   ]
  },
  {
   "cell_type": "code",
   "execution_count": 6,
   "metadata": {
    "execution": {
     "iopub.execute_input": "2021-10-22T10:09:50.437854Z",
     "iopub.status.busy": "2021-10-22T10:09:50.437513Z",
     "iopub.status.idle": "2021-10-22T10:09:50.450057Z",
     "shell.execute_reply": "2021-10-22T10:09:50.449247Z",
     "shell.execute_reply.started": "2021-10-22T10:09:50.437813Z"
    }
   },
   "outputs": [],
   "source": [
    "class CNN(nn.Module):\n",
    "    def __init__(self, num_classes):\n",
    "        super(CNN, self).__init__()\n",
    "        \n",
    "        self.conv_layer1 = nn.Conv2d(in_channels=3, out_channels=128, kernel_size=3, stride=1, padding=1)\n",
    "        self.conv_layer2 = nn.Conv2d(in_channels=128, out_channels=256, kernel_size=3, stride=1, padding=1)\n",
    "        self.conv_layer3 = nn.Conv2d(in_channels=256, out_channels=256, kernel_size=3, stride=1, padding=1)\n",
    "        self.conv_layer4 = nn.Conv2d(in_channels=256, out_channels=4036, kernel_size=7, stride=1, padding=0)\n",
    "        self.pooling_layer1 = nn.AvgPool2d(kernel_size=2)\n",
    "        self.pooling_layer2 = nn.AvgPool2d(kernel_size=2)\n",
    "        self.pooling_layer3 = nn.AvgPool2d(kernel_size=2)\n",
    "        \n",
    "        self.linear_layer1 = nn.Linear(in_features=4036, out_features=1000)\n",
    "        self.linear_layer2 = nn.Linear(in_features=1000, out_features=num_classes)\n",
    "        \n",
    "        self.relu = nn.ReLU()\n",
    "        \n",
    "    def forward(self, inputs):\n",
    "        \n",
    "        output_1 = self.relu(self.conv_layer1(inputs))\n",
    "        output_2 = self.pooling_layer1(output_1)\n",
    "        output_3 = self.relu(self.conv_layer2(output_2))\n",
    "        output_4 = self.pooling_layer2(output_3)\n",
    "        output_5 = self.relu(self.conv_layer3(output_4))\n",
    "        output_6 = self.pooling_layer3(output_5)\n",
    "        output_7 = self.relu(self.conv_layer4(output_6))\n",
    "        output_8 = torch.flatten(output_7, 1)\n",
    "        \n",
    "        output_9 = self.relu(self.linear_layer1(output_8))\n",
    "        output = self.linear_layer2(output_9)\n",
    "        \n",
    "        return output\n",
    "        \n",
    "        return x"
   ]
  },
  {
   "cell_type": "code",
   "execution_count": 7,
   "metadata": {
    "execution": {
     "iopub.execute_input": "2021-10-22T10:09:50.452235Z",
     "iopub.status.busy": "2021-10-22T10:09:50.451435Z",
     "iopub.status.idle": "2021-10-22T10:09:53.910646Z",
     "shell.execute_reply": "2021-10-22T10:09:53.909873Z",
     "shell.execute_reply.started": "2021-10-22T10:09:50.452196Z"
    }
   },
   "outputs": [],
   "source": [
    "model = CNN(1).to(device)\n",
    "print(model)"
   ]
  },
  {
   "cell_type": "code",
   "execution_count": 8,
   "metadata": {
    "execution": {
     "iopub.execute_input": "2021-10-22T10:09:53.912424Z",
     "iopub.status.busy": "2021-10-22T10:09:53.912142Z",
     "iopub.status.idle": "2021-10-22T10:09:53.919355Z",
     "shell.execute_reply": "2021-10-22T10:09:53.918670Z",
     "shell.execute_reply.started": "2021-10-22T10:09:53.912387Z"
    }
   },
   "outputs": [],
   "source": [
    "criterion = nn.BCEWithLogitsLoss()\n",
    "optimizer = torch.optim.Adam(model.parameters(), lr=0.001)"
   ]
  },
  {
   "cell_type": "code",
   "execution_count": 9,
   "metadata": {
    "execution": {
     "iopub.execute_input": "2021-10-22T10:09:53.921356Z",
     "iopub.status.busy": "2021-10-22T10:09:53.921062Z",
     "iopub.status.idle": "2021-10-22T10:10:27.861868Z",
     "shell.execute_reply": "2021-10-22T10:10:27.861038Z",
     "shell.execute_reply.started": "2021-10-22T10:09:53.921290Z"
    }
   },
   "outputs": [],
   "source": [
    "torch.manual_seed(10)\n",
    "\n",
    "epochs = 5\n",
    "\n",
    "total_step = len(train_data_loader)\n",
    "for epoch in range(epochs):\n",
    "    for i, (images, labels) in enumerate(train_data_loader):\n",
    "        images = images.to(device)\n",
    "        labels = labels.reshape(len(labels), 1)\n",
    "        labels = labels.type(torch.FloatTensor)\n",
    "        labels = labels.to(device)\n",
    "\n",
    "        outputs = model(images)\n",
    "        loss = criterion(outputs, labels)\n",
    "\n",
    "        optimizer.zero_grad()\n",
    "        loss.backward()\n",
    "        optimizer.step()\n",
    "        \n",
    "        print ('Epoch [{}/{}], Step [{}/{}], Loss: {:.4f}'\n",
    "               .format(epoch+1, epochs, i+1, total_step, loss.item()))"
   ]
  },
  {
   "cell_type": "code",
   "execution_count": 10,
   "metadata": {
    "execution": {
     "iopub.execute_input": "2021-10-22T10:10:47.961292Z",
     "iopub.status.busy": "2021-10-22T10:10:47.960998Z",
     "iopub.status.idle": "2021-10-22T10:10:49.862114Z",
     "shell.execute_reply": "2021-10-22T10:10:49.861284Z",
     "shell.execute_reply.started": "2021-10-22T10:10:47.961255Z"
    }
   },
   "outputs": [],
   "source": [
    "# оценка качества\n",
    "with torch.no_grad():\n",
    "    correct = 0\n",
    "    total = 0\n",
    "    for images, labels in val_data_loader:\n",
    "        images = images.to(device)\n",
    "        labels = labels.reshape(len(labels), 1)\n",
    "        labels = labels.type(torch.FloatTensor)\n",
    "        labels = labels.to(device)\n",
    "        \n",
    "        outputs = model(images)\n",
    "        predicted = (torch.sigmoid(outputs.data) > 0.5).float()\n",
    "        total += labels.size(0)\n",
    "        correct += (predicted == labels).sum().item()\n",
    "\n",
    "    print('Accuracy: {} %'.format(100 * correct / total))"
   ]
  },
  {
   "cell_type": "code",
   "execution_count": 8,
   "metadata": {
    "execution": {
     "iopub.execute_input": "2021-10-22T10:23:41.160714Z",
     "iopub.status.busy": "2021-10-22T10:23:41.160419Z",
     "iopub.status.idle": "2021-10-22T10:23:41.165160Z",
     "shell.execute_reply": "2021-10-22T10:23:41.164136Z",
     "shell.execute_reply.started": "2021-10-22T10:23:41.160682Z"
    }
   },
   "outputs": [],
   "source": [
    "from torchvision.models import vgg16"
   ]
  },
  {
   "cell_type": "code",
   "execution_count": 9,
   "metadata": {
    "execution": {
     "iopub.execute_input": "2021-10-22T10:24:01.064624Z",
     "iopub.status.busy": "2021-10-22T10:24:01.063738Z",
     "iopub.status.idle": "2021-10-22T10:24:22.252241Z",
     "shell.execute_reply": "2021-10-22T10:24:22.251350Z",
     "shell.execute_reply.started": "2021-10-22T10:24:01.064582Z"
    }
   },
   "outputs": [],
   "source": [
    "vgg16 = vgg16(pretrained=True)"
   ]
  },
  {
   "cell_type": "code",
   "execution_count": null,
   "metadata": {},
   "outputs": [],
   "source": []
  }
 ],
 "metadata": {
  "kernelspec": {
   "display_name": "Python 3",
   "language": "python",
   "name": "python3"
  },
  "language_info": {
   "codemirror_mode": {
    "name": "ipython",
    "version": 3
   },
   "file_extension": ".py",
   "mimetype": "text/x-python",
   "name": "python",
   "nbconvert_exporter": "python",
   "pygments_lexer": "ipython3",
   "version": "3.8.8"
  }
 },
 "nbformat": 4,
 "nbformat_minor": 4
}
