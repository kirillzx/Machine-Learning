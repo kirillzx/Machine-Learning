{
 "cells": [
  {
   "cell_type": "markdown",
   "id": "4e1285a4-00da-4fb2-bb5b-068dde380841",
   "metadata": {},
   "source": [
    "# Bayes Classification\n",
    "### Kirill Zakharov"
   ]
  },
  {
   "cell_type": "code",
   "execution_count": 51,
   "id": "0d3f7460-e868-4c33-9a83-478718ff1446",
   "metadata": {},
   "outputs": [],
   "source": [
    "import pandas as pd\n",
    "import numpy as np"
   ]
  },
  {
   "cell_type": "code",
   "execution_count": 3,
   "id": "0df876ae-ca41-4d45-8873-2e66857dbac5",
   "metadata": {},
   "outputs": [],
   "source": [
    "data = pd.read_csv('golf_binary.csv')"
   ]
  },
  {
   "cell_type": "code",
   "execution_count": 4,
   "id": "9832fb8b-82ff-4654-993c-3e7b44fc97aa",
   "metadata": {},
   "outputs": [
    {
     "data": {
      "text/html": [
       "<div>\n",
       "<style scoped>\n",
       "    .dataframe tbody tr th:only-of-type {\n",
       "        vertical-align: middle;\n",
       "    }\n",
       "\n",
       "    .dataframe tbody tr th {\n",
       "        vertical-align: top;\n",
       "    }\n",
       "\n",
       "    .dataframe thead th {\n",
       "        text-align: right;\n",
       "    }\n",
       "</style>\n",
       "<table border=\"1\" class=\"dataframe\">\n",
       "  <thead>\n",
       "    <tr style=\"text-align: right;\">\n",
       "      <th></th>\n",
       "      <th>Outlook</th>\n",
       "      <th>Temperature</th>\n",
       "      <th>Humidity</th>\n",
       "      <th>Wind</th>\n",
       "      <th>Play Golf</th>\n",
       "    </tr>\n",
       "  </thead>\n",
       "  <tbody>\n",
       "    <tr>\n",
       "      <th>0</th>\n",
       "      <td>Rainy</td>\n",
       "      <td>Hot</td>\n",
       "      <td>High</td>\n",
       "      <td>Weak</td>\n",
       "      <td>No</td>\n",
       "    </tr>\n",
       "    <tr>\n",
       "      <th>1</th>\n",
       "      <td>Rainy</td>\n",
       "      <td>Hot</td>\n",
       "      <td>High</td>\n",
       "      <td>Strong</td>\n",
       "      <td>No</td>\n",
       "    </tr>\n",
       "    <tr>\n",
       "      <th>2</th>\n",
       "      <td>Overcast</td>\n",
       "      <td>Hot</td>\n",
       "      <td>High</td>\n",
       "      <td>Weak</td>\n",
       "      <td>Yes</td>\n",
       "    </tr>\n",
       "    <tr>\n",
       "      <th>3</th>\n",
       "      <td>Sunny</td>\n",
       "      <td>Mild</td>\n",
       "      <td>High</td>\n",
       "      <td>Weak</td>\n",
       "      <td>Yes</td>\n",
       "    </tr>\n",
       "    <tr>\n",
       "      <th>4</th>\n",
       "      <td>Sunny</td>\n",
       "      <td>Cool</td>\n",
       "      <td>Normal</td>\n",
       "      <td>Weak</td>\n",
       "      <td>Yes</td>\n",
       "    </tr>\n",
       "  </tbody>\n",
       "</table>\n",
       "</div>"
      ],
      "text/plain": [
       "    Outlook Temperature Humidity    Wind Play Golf\n",
       "0     Rainy         Hot     High    Weak        No\n",
       "1     Rainy         Hot     High  Strong        No\n",
       "2  Overcast         Hot     High    Weak       Yes\n",
       "3     Sunny        Mild     High    Weak       Yes\n",
       "4     Sunny        Cool   Normal    Weak       Yes"
      ]
     },
     "execution_count": 4,
     "metadata": {},
     "output_type": "execute_result"
    }
   ],
   "source": [
    "data.head()"
   ]
  },
  {
   "cell_type": "code",
   "execution_count": 14,
   "id": "2144bd2e-caec-4ae0-855d-e0f52fd5ecd6",
   "metadata": {},
   "outputs": [
    {
     "data": {
      "text/html": [
       "<div>\n",
       "<style scoped>\n",
       "    .dataframe tbody tr th:only-of-type {\n",
       "        vertical-align: middle;\n",
       "    }\n",
       "\n",
       "    .dataframe tbody tr th {\n",
       "        vertical-align: top;\n",
       "    }\n",
       "\n",
       "    .dataframe thead th {\n",
       "        text-align: right;\n",
       "    }\n",
       "</style>\n",
       "<table border=\"1\" class=\"dataframe\">\n",
       "  <thead>\n",
       "    <tr style=\"text-align: right;\">\n",
       "      <th></th>\n",
       "      <th>Humidity</th>\n",
       "      <th>Wind</th>\n",
       "      <th>Play Golf</th>\n",
       "      <th>Outlook_Overcast</th>\n",
       "      <th>Outlook_Rainy</th>\n",
       "      <th>Outlook_Sunny</th>\n",
       "      <th>Temperature_Cool</th>\n",
       "      <th>Temperature_Hot</th>\n",
       "      <th>Temperature_Mild</th>\n",
       "    </tr>\n",
       "  </thead>\n",
       "  <tbody>\n",
       "    <tr>\n",
       "      <th>0</th>\n",
       "      <td>1</td>\n",
       "      <td>1</td>\n",
       "      <td>0</td>\n",
       "      <td>0</td>\n",
       "      <td>1</td>\n",
       "      <td>0</td>\n",
       "      <td>0</td>\n",
       "      <td>1</td>\n",
       "      <td>0</td>\n",
       "    </tr>\n",
       "    <tr>\n",
       "      <th>1</th>\n",
       "      <td>1</td>\n",
       "      <td>0</td>\n",
       "      <td>0</td>\n",
       "      <td>0</td>\n",
       "      <td>1</td>\n",
       "      <td>0</td>\n",
       "      <td>0</td>\n",
       "      <td>1</td>\n",
       "      <td>0</td>\n",
       "    </tr>\n",
       "    <tr>\n",
       "      <th>2</th>\n",
       "      <td>1</td>\n",
       "      <td>1</td>\n",
       "      <td>1</td>\n",
       "      <td>1</td>\n",
       "      <td>0</td>\n",
       "      <td>0</td>\n",
       "      <td>0</td>\n",
       "      <td>1</td>\n",
       "      <td>0</td>\n",
       "    </tr>\n",
       "    <tr>\n",
       "      <th>3</th>\n",
       "      <td>1</td>\n",
       "      <td>1</td>\n",
       "      <td>1</td>\n",
       "      <td>0</td>\n",
       "      <td>0</td>\n",
       "      <td>1</td>\n",
       "      <td>0</td>\n",
       "      <td>0</td>\n",
       "      <td>1</td>\n",
       "    </tr>\n",
       "    <tr>\n",
       "      <th>4</th>\n",
       "      <td>0</td>\n",
       "      <td>1</td>\n",
       "      <td>1</td>\n",
       "      <td>0</td>\n",
       "      <td>0</td>\n",
       "      <td>1</td>\n",
       "      <td>1</td>\n",
       "      <td>0</td>\n",
       "      <td>0</td>\n",
       "    </tr>\n",
       "  </tbody>\n",
       "</table>\n",
       "</div>"
      ],
      "text/plain": [
       "   Humidity  Wind  Play Golf  Outlook_Overcast  Outlook_Rainy  Outlook_Sunny  \\\n",
       "0         1     1          0                 0              1              0   \n",
       "1         1     0          0                 0              1              0   \n",
       "2         1     1          1                 1              0              0   \n",
       "3         1     1          1                 0              0              1   \n",
       "4         0     1          1                 0              0              1   \n",
       "\n",
       "   Temperature_Cool  Temperature_Hot  Temperature_Mild  \n",
       "0                 0                1                 0  \n",
       "1                 0                1                 0  \n",
       "2                 0                1                 0  \n",
       "3                 0                0                 1  \n",
       "4                 1                0                 0  "
      ]
     },
     "execution_count": 14,
     "metadata": {},
     "output_type": "execute_result"
    }
   ],
   "source": [
    "data = pd.get_dummies(data)\n",
    "data.head()"
   ]
  },
  {
   "cell_type": "code",
   "execution_count": 83,
   "id": "eb307c90-369b-40a0-b30f-6f38df6b98e6",
   "metadata": {},
   "outputs": [],
   "source": [
    "def bayesC(data, variables):\n",
    "    y = data['Play Golf']\n",
    "    prob_y0 = (len(y) - y.sum())/len(y)\n",
    "    \n",
    "    X0 = data[data['Play Golf'] == 0].drop('Play Golf', axis=1)\n",
    "    X1 = data[data['Play Golf'] == 1].drop('Play Golf', axis=1)\n",
    "    \n",
    "    prob_array = []\n",
    "\n",
    "    for i in range(len(variables)):\n",
    "        l = len(X0)\n",
    "        if variables[i] == 1:\n",
    "            prob_array.append(X0.iloc[:, i].sum() / l)\n",
    "\n",
    "        else:\n",
    "            prob_array.append((l - X0.iloc[:, i].sum()) / l)\n",
    "            \n",
    "    prob_array2 = []\n",
    "\n",
    "    for i in range(len(variables)):\n",
    "        l = len(X1)\n",
    "        if variables[i] == 1:\n",
    "            prob_array2.append(X1.iloc[:, i].sum() / l)\n",
    "\n",
    "        else:\n",
    "            prob_array2.append((l - X1.iloc[:, i].sum()) / l)\n",
    "            \n",
    "    d = prob_y0 * np.prod(prob_array) + (1 - prob_y0) * np.prod(prob_array2)\n",
    "    \n",
    "    return prob_y0 * np.prod(prob_array) / d"
   ]
  },
  {
   "cell_type": "code",
   "execution_count": 84,
   "id": "9fb15140-5f0e-4efe-acfb-205b1e262f58",
   "metadata": {},
   "outputs": [],
   "source": [
    "variables = [1, 1, 0, 0, 1, 0, 0, 1]"
   ]
  },
  {
   "cell_type": "code",
   "execution_count": 85,
   "id": "325dba22-d7da-4c13-b22b-425f9311c4f1",
   "metadata": {},
   "outputs": [
    {
     "data": {
      "text/plain": [
       "0.4254201552965963"
      ]
     },
     "execution_count": 85,
     "metadata": {},
     "output_type": "execute_result"
    }
   ],
   "source": [
    "bayesC(data, variables)"
   ]
  },
  {
   "cell_type": "code",
   "execution_count": 93,
   "id": "15ff4770-9ff5-4f07-aed2-60a12016d1f4",
   "metadata": {},
   "outputs": [
    {
     "data": {
      "text/plain": [
       "0.17941985752928147"
      ]
     },
     "execution_count": 93,
     "metadata": {},
     "output_type": "execute_result"
    }
   ],
   "source": [
    "bayesC(data, [0, 1, 0, 1, 0, 1, 0, 0])"
   ]
  },
  {
   "cell_type": "code",
   "execution_count": 94,
   "id": "6023c771-3e94-4084-8bce-550f1edce848",
   "metadata": {},
   "outputs": [
    {
     "data": {
      "text/plain": [
       "0.4595487361655288"
      ]
     },
     "execution_count": 94,
     "metadata": {},
     "output_type": "execute_result"
    }
   ],
   "source": [
    "bayesC(data, [0, 1, 0, 1, 0, 0, 1, 1])"
   ]
  },
  {
   "cell_type": "code",
   "execution_count": null,
   "id": "9419e614-1249-4419-812c-92f868355d18",
   "metadata": {},
   "outputs": [],
   "source": []
  }
 ],
 "metadata": {
  "kernelspec": {
   "display_name": "Python 3",
   "language": "python",
   "name": "python3"
  },
  "language_info": {
   "codemirror_mode": {
    "name": "ipython",
    "version": 3
   },
   "file_extension": ".py",
   "mimetype": "text/x-python",
   "name": "python",
   "nbconvert_exporter": "python",
   "pygments_lexer": "ipython3",
   "version": "3.8.8"
  }
 },
 "nbformat": 4,
 "nbformat_minor": 5
}
