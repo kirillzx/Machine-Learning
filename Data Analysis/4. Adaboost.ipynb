{
 "cells": [
  {
   "cell_type": "markdown",
   "metadata": {},
   "source": [
    "# <center>Алгоритм Adaboost</center>\n",
    "### <center>Кирилл Захаров</center>"
   ]
  },
  {
   "cell_type": "code",
   "execution_count": 1,
   "metadata": {},
   "outputs": [],
   "source": [
    "import numpy as np\n",
    "import pandas as pd"
   ]
  },
  {
   "cell_type": "code",
   "execution_count": 2,
   "metadata": {},
   "outputs": [],
   "source": [
    "data = pd.read_csv('data_adaboost.csv', header=None)"
   ]
  },
  {
   "cell_type": "markdown",
   "metadata": {},
   "source": [
    "**Задание.** Реализуйте алгоритм Adaboost.\n",
    "\n",
    "В качестве базового алгоритма возьмем `DecisionTreeClassifier` глубины 1. Количество базовых алгоритмов $T=3$.\n",
    "\n",
    "- В переменной `self.sample_weight` будем хранить текущие значения весов объектов.\n",
    "- В методе `fit` последовательно будет производиться построение пней решения. На первом шаге алгоритма веса всех объектов одинаковы, т.е.:\n",
    "$$w_i^0=\\frac{1}{l}, i=1,\\ldots,l,$$\n",
    "где $l$ &ndash; количество объектов обучающей выборки.\n",
    "- На каждом шаге алгоритма необходимо обучить пень решения с текущими весами объектов. Веса объектов задаются в методе `fit(X, y, sample_weight=...)` пня.\n",
    "- После того, как пень обучен, вычислить:\n",
    "$$\\epsilon_t=\\sum_{i=1}^{l} w_i[y_i \\neq b_t(x_i)],$$\n",
    "$$\\alpha_t=\\frac{1}{2}\\log\\frac{1-\\epsilon_t}{\\epsilon_t}.$$\n",
    "- И обновить веса объектов:\n",
    "$$w_i^t=w_i^{t-1}\\exp(-\\alpha_t y_i b_t(x_i)), i=1,\\ldots,l,$$\n",
    "$$w_i^t=\\frac{w_i^t}{\\sum_{j=1}^{l} w_j^t}.$$\n",
    "\n",
    "- Обученные пни будем хранить в переменной `self.trees`."
   ]
  },
  {
   "cell_type": "markdown",
   "metadata": {},
   "source": [
    "1. Какими оказались веса объектов после обучения?\n",
    "2. Пользуясь полученной композицией алгоритмов, классифицируйте точку (4,4) (метод `predict` в реализации).\n",
    "3. За сколько шагов алгоритм классифицирует все точки верно, если глубина дерева равна 2?"
   ]
  },
  {
   "cell_type": "code",
   "execution_count": 55,
   "metadata": {},
   "outputs": [],
   "source": [
    "from sklearn.base import BaseEstimator\n",
    "from sklearn.tree import DecisionTreeClassifier\n",
    "\n",
    "class AdaboostClassifierCustom(BaseEstimator):\n",
    "    def __init__(self, n_estimators=3, max_depth=1, random_state=5):\n",
    "        self.n_estimators = n_estimators\n",
    "        self.max_depth = max_depth\n",
    "        self.random_state = random_state\n",
    "        self.trees = []\n",
    "        self.sample_weight = []\n",
    "        self.coef = []\n",
    "        \n",
    "    def fit(self, X, y):\n",
    "        self.sample_weight = np.array([1/len(X)] * 12)\n",
    "        \n",
    "        for _ in range(3):\n",
    "            model = DecisionTreeClassifier(max_depth=self.max_depth, random_state=self.random_state)\n",
    "            model.fit(X, y, sample_weight = self.sample_weight)\n",
    "            \n",
    "            prediction = model.predict(X)\n",
    "            \n",
    "            indx = np.where(y != prediction)[0]\n",
    "            \n",
    "            eps = sum(self.sample_weight[indx])\n",
    "            alpha = 1/2 * np.log((1-eps)/eps)\n",
    "            \n",
    "            self.sample_weight = self.sample_weight * np.exp(alpha * y * prediction)\n",
    "            self.sample_weight = self.sample_weight/sum(self.sample_weight)\n",
    "            \n",
    "            self.trees.append(model)\n",
    "            self.coef.append(alpha)\n",
    "        \n",
    "    def predict(self, X):\n",
    "        h = 0\n",
    "        for t in range(3):\n",
    "            h += self.trees[t].predict(X) * self.coef[t]\n",
    "            \n",
    "        return np.sign(h)    "
   ]
  },
  {
   "cell_type": "code",
   "execution_count": 56,
   "metadata": {},
   "outputs": [],
   "source": [
    "adaboost = AdaboostClassifierCustom()"
   ]
  },
  {
   "cell_type": "code",
   "execution_count": 57,
   "metadata": {},
   "outputs": [],
   "source": [
    "adaboost.fit(data.iloc[:,:2], data.iloc[:, 2])"
   ]
  },
  {
   "cell_type": "code",
   "execution_count": 62,
   "metadata": {},
   "outputs": [
    {
     "data": {
      "text/plain": [
       "array([-1.])"
      ]
     },
     "execution_count": 62,
     "metadata": {},
     "output_type": "execute_result"
    }
   ],
   "source": [
    "adaboost.predict(pd.DataFrame([[4,4]]))"
   ]
  },
  {
   "cell_type": "code",
   "execution_count": null,
   "metadata": {},
   "outputs": [],
   "source": []
  }
 ],
 "metadata": {
  "kernelspec": {
   "display_name": "Python 3",
   "language": "python",
   "name": "python3"
  },
  "language_info": {
   "codemirror_mode": {
    "name": "ipython",
    "version": 3
   },
   "file_extension": ".py",
   "mimetype": "text/x-python",
   "name": "python",
   "nbconvert_exporter": "python",
   "pygments_lexer": "ipython3",
   "version": "3.8.8"
  }
 },
 "nbformat": 4,
 "nbformat_minor": 4
}
