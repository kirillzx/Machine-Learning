{
 "cells": [
  {
   "cell_type": "code",
   "execution_count": 1,
   "metadata": {},
   "outputs": [],
   "source": [
    "import numpy as np\n",
    "import pandas as pd\n",
    "import seaborn as sns   \n",
    "import matplotlib.pyplot as plt"
   ]
  },
  {
   "cell_type": "markdown",
   "metadata": {},
   "source": [
    "## Кирилл Захаров"
   ]
  },
  {
   "cell_type": "markdown",
   "metadata": {},
   "source": [
    "#### 1) Ввод и проверка данных"
   ]
  },
  {
   "cell_type": "code",
   "execution_count": 4,
   "metadata": {},
   "outputs": [
    {
     "data": {
      "text/html": [
       "<div>\n",
       "<style scoped>\n",
       "    .dataframe tbody tr th:only-of-type {\n",
       "        vertical-align: middle;\n",
       "    }\n",
       "\n",
       "    .dataframe tbody tr th {\n",
       "        vertical-align: top;\n",
       "    }\n",
       "\n",
       "    .dataframe thead th {\n",
       "        text-align: right;\n",
       "    }\n",
       "</style>\n",
       "<table border=\"1\" class=\"dataframe\">\n",
       "  <thead>\n",
       "    <tr style=\"text-align: right;\">\n",
       "      <th></th>\n",
       "      <th>Country</th>\n",
       "      <th>Agr</th>\n",
       "      <th>Min</th>\n",
       "      <th>Man</th>\n",
       "      <th>PS</th>\n",
       "      <th>Con</th>\n",
       "      <th>SI</th>\n",
       "      <th>Fin</th>\n",
       "      <th>SPS</th>\n",
       "      <th>TC</th>\n",
       "    </tr>\n",
       "  </thead>\n",
       "  <tbody>\n",
       "    <tr>\n",
       "      <th>0</th>\n",
       "      <td>Belgium</td>\n",
       "      <td>3.3</td>\n",
       "      <td>0.9</td>\n",
       "      <td>27.6</td>\n",
       "      <td>0.9</td>\n",
       "      <td>8.2</td>\n",
       "      <td>19.1</td>\n",
       "      <td>6.2</td>\n",
       "      <td>26.6</td>\n",
       "      <td>7.2</td>\n",
       "    </tr>\n",
       "    <tr>\n",
       "      <th>1</th>\n",
       "      <td>Denmark</td>\n",
       "      <td>9.2</td>\n",
       "      <td>0.1</td>\n",
       "      <td>21.8</td>\n",
       "      <td>0.6</td>\n",
       "      <td>8.3</td>\n",
       "      <td>14.6</td>\n",
       "      <td>6.5</td>\n",
       "      <td>32.2</td>\n",
       "      <td>7.1</td>\n",
       "    </tr>\n",
       "    <tr>\n",
       "      <th>2</th>\n",
       "      <td>France</td>\n",
       "      <td>10.8</td>\n",
       "      <td>0.8</td>\n",
       "      <td>27.5</td>\n",
       "      <td>0.9</td>\n",
       "      <td>8.9</td>\n",
       "      <td>16.8</td>\n",
       "      <td>6.0</td>\n",
       "      <td>22.6</td>\n",
       "      <td>5.7</td>\n",
       "    </tr>\n",
       "    <tr>\n",
       "      <th>3</th>\n",
       "      <td>W_Germany</td>\n",
       "      <td>6.7</td>\n",
       "      <td>1.3</td>\n",
       "      <td>35.8</td>\n",
       "      <td>0.9</td>\n",
       "      <td>7.3</td>\n",
       "      <td>14.4</td>\n",
       "      <td>5.0</td>\n",
       "      <td>22.3</td>\n",
       "      <td>6.1</td>\n",
       "    </tr>\n",
       "    <tr>\n",
       "      <th>4</th>\n",
       "      <td>Ireland</td>\n",
       "      <td>23.2</td>\n",
       "      <td>1.0</td>\n",
       "      <td>20.7</td>\n",
       "      <td>1.3</td>\n",
       "      <td>7.5</td>\n",
       "      <td>16.8</td>\n",
       "      <td>2.8</td>\n",
       "      <td>20.8</td>\n",
       "      <td>6.1</td>\n",
       "    </tr>\n",
       "  </tbody>\n",
       "</table>\n",
       "</div>"
      ],
      "text/plain": [
       "     Country   Agr  Min   Man   PS  Con    SI  Fin   SPS   TC\n",
       "0    Belgium   3.3  0.9  27.6  0.9  8.2  19.1  6.2  26.6  7.2\n",
       "1    Denmark   9.2  0.1  21.8  0.6  8.3  14.6  6.5  32.2  7.1\n",
       "2     France  10.8  0.8  27.5  0.9  8.9  16.8  6.0  22.6  5.7\n",
       "3  W_Germany   6.7  1.3  35.8  0.9  7.3  14.4  5.0  22.3  6.1\n",
       "4    Ireland  23.2  1.0  20.7  1.3  7.5  16.8  2.8  20.8  6.1"
      ]
     },
     "execution_count": 4,
     "metadata": {},
     "output_type": "execute_result"
    }
   ],
   "source": [
    "df = pd.read_excel(\"European.xlsx\")\n",
    "df.head()"
   ]
  },
  {
   "cell_type": "code",
   "execution_count": 5,
   "metadata": {},
   "outputs": [
    {
     "name": "stdout",
     "output_type": "stream",
     "text": [
      "(26, 10)\n",
      "<class 'pandas.core.frame.DataFrame'>\n",
      "RangeIndex: 26 entries, 0 to 25\n",
      "Data columns (total 10 columns):\n",
      " #   Column   Non-Null Count  Dtype  \n",
      "---  ------   --------------  -----  \n",
      " 0   Country  26 non-null     object \n",
      " 1   Agr      26 non-null     float64\n",
      " 2   Min      26 non-null     float64\n",
      " 3   Man      26 non-null     float64\n",
      " 4   PS       26 non-null     float64\n",
      " 5   Con      26 non-null     float64\n",
      " 6   SI       26 non-null     float64\n",
      " 7   Fin      26 non-null     float64\n",
      " 8   SPS      26 non-null     float64\n",
      " 9   TC       26 non-null     float64\n",
      "dtypes: float64(9), object(1)\n",
      "memory usage: 2.2+ KB\n"
     ]
    }
   ],
   "source": [
    "# Пропущенные значения?\n",
    "\n",
    "print(df.shape)\n",
    "df.info()               "
   ]
  },
  {
   "cell_type": "code",
   "execution_count": 6,
   "metadata": {
    "tags": []
   },
   "outputs": [
    {
     "data": {
      "image/png": "[encoded data removed]",
      "text/plain": [
       "<Figure size 576x360 with 1 Axes>"
      ]
     },
     "metadata": {
      "needs_background": "light"
     },
     "output_type": "display_data"
    }
   ],
   "source": [
    " # Выбросы?\n",
    "    \n",
    "fig, ax = plt.subplots(1, 1, figsize=(8, 5))     \n",
    "sns.boxplot(data=df, ax=ax, orient=\"h\")           \n",
    "plt.show()                       "
   ]
  },
  {
   "cell_type": "markdown",
   "metadata": {},
   "source": [
    "По данным видно, что есть страны, где процент занятых в сельском хозяйстве очень велик, что является выбросом, относительно стран с меньшим процентом"
   ]
  },
  {
   "cell_type": "markdown",
   "metadata": {},
   "source": [
    "#### 2) Проверка применимости МГК  (РСА)"
   ]
  },
  {
   "cell_type": "code",
   "execution_count": 7,
   "metadata": {},
   "outputs": [],
   "source": [
    "# Наличие корреляции\n",
    "# Коррелограмма\n",
    "\n",
    "dfCor=df.corr()"
   ]
  },
  {
   "cell_type": "code",
   "execution_count": 9,
   "metadata": {},
   "outputs": [
    {
     "data": {
      "image/png": "[encoded data removed]",
      "text/plain": [
       "<Figure size 576x432 with 2 Axes>"
      ]
     },
     "metadata": {
      "needs_background": "light"
     },
     "output_type": "display_data"
    }
   ],
   "source": [
    "plt.figure(figsize=(8, 6))\n",
    "sns.heatmap(dfCor,xticklabels=dfCor.columns, \\\n",
    "            yticklabels=dfCor.columns, \\\n",
    "            center=0,annot=True, cmap='BuPu')\n",
    "plt.title('Коррелограмма', fontsize=18)\n",
    "plt.xticks(fontsize=10)\n",
    "plt.yticks(fontsize=10)\n",
    "plt.show()"
   ]
  },
  {
   "cell_type": "markdown",
   "metadata": {},
   "source": [
    "Есть связь между процентом занятых в социальных службах и в транспорте"
   ]
  },
  {
   "cell_type": "markdown",
   "metadata": {},
   "source": [
    "### Метод Главных Компонент"
   ]
  },
  {
   "cell_type": "markdown",
   "metadata": {},
   "source": [
    "#### 3) Стандартизация:  данные центрируются (среднее=0) и нормируются (дисперсия=1)"
   ]
  },
  {
   "cell_type": "code",
   "execution_count": 10,
   "metadata": {},
   "outputs": [],
   "source": [
    "from sklearn.preprocessing import StandardScaler"
   ]
  },
  {
   "cell_type": "code",
   "execution_count": 12,
   "metadata": {},
   "outputs": [],
   "source": [
    "sc = StandardScaler()              # создать ОБЪЕКТ класса\n",
    "df_sc = sc.fit_transform(df.iloc[:,1:])     # применить метод"
   ]
  },
  {
   "cell_type": "code",
   "execution_count": 13,
   "metadata": {},
   "outputs": [
    {
     "data": {
      "text/plain": [
       "numpy.ndarray"
      ]
     },
     "execution_count": 13,
     "metadata": {},
     "output_type": "execute_result"
    }
   ],
   "source": [
    "type(df_sc)"
   ]
  },
  {
   "cell_type": "code",
   "execution_count": 14,
   "metadata": {},
   "outputs": [
    {
     "data": {
      "text/plain": [
       "array([19.13076923,  1.25384615, 27.00769231,  0.90769231,  8.16538462,\n",
       "       12.95769231,  4.        , 20.02307692,  6.54615385])"
      ]
     },
     "execution_count": 14,
     "metadata": {},
     "output_type": "execute_result"
    }
   ],
   "source": [
    "sc.mean_"
   ]
  },
  {
   "cell_type": "code",
   "execution_count": 15,
   "metadata": {},
   "outputs": [
    {
     "data": {
      "text/plain": [
       "array([2.32399822e+02, 9.04792899e-01, 4.72199408e+01, 1.36094675e-01,\n",
       "       2.60380178e+00, 2.01278254e+01, 7.57384615e+00, 4.48486982e+01,\n",
       "       1.86171598e+00])"
      ]
     },
     "execution_count": 15,
     "metadata": {},
     "output_type": "execute_result"
    }
   ],
   "source": [
    "sc.var_"
   ]
  },
  {
   "cell_type": "code",
   "execution_count": 16,
   "metadata": {},
   "outputs": [
    {
     "data": {
      "text/html": [
       "<div>\n",
       "<style scoped>\n",
       "    .dataframe tbody tr th:only-of-type {\n",
       "        vertical-align: middle;\n",
       "    }\n",
       "\n",
       "    .dataframe tbody tr th {\n",
       "        vertical-align: top;\n",
       "    }\n",
       "\n",
       "    .dataframe thead th {\n",
       "        text-align: right;\n",
       "    }\n",
       "</style>\n",
       "<table border=\"1\" class=\"dataframe\">\n",
       "  <thead>\n",
       "    <tr style=\"text-align: right;\">\n",
       "      <th></th>\n",
       "      <th>1</th>\n",
       "      <th>2</th>\n",
       "      <th>3</th>\n",
       "      <th>4</th>\n",
       "      <th>5</th>\n",
       "      <th>6</th>\n",
       "      <th>7</th>\n",
       "      <th>8</th>\n",
       "      <th>9</th>\n",
       "    </tr>\n",
       "  </thead>\n",
       "  <tbody>\n",
       "    <tr>\n",
       "      <th>1</th>\n",
       "      <td>-1.038446</td>\n",
       "      <td>-0.371997</td>\n",
       "      <td>0.086196</td>\n",
       "      <td>-0.020851</td>\n",
       "      <td>0.021452</td>\n",
       "      <td>1.369094</td>\n",
       "      <td>0.799401</td>\n",
       "      <td>0.982082</td>\n",
       "      <td>0.479202</td>\n",
       "    </tr>\n",
       "    <tr>\n",
       "      <th>2</th>\n",
       "      <td>-0.651426</td>\n",
       "      <td>-1.213035</td>\n",
       "      <td>-0.757849</td>\n",
       "      <td>-0.834058</td>\n",
       "      <td>0.083424</td>\n",
       "      <td>0.366063</td>\n",
       "      <td>0.908410</td>\n",
       "      <td>1.818288</td>\n",
       "      <td>0.405913</td>\n",
       "    </tr>\n",
       "    <tr>\n",
       "      <th>3</th>\n",
       "      <td>-0.546471</td>\n",
       "      <td>-0.477127</td>\n",
       "      <td>0.071643</td>\n",
       "      <td>-0.020851</td>\n",
       "      <td>0.455256</td>\n",
       "      <td>0.856434</td>\n",
       "      <td>0.726728</td>\n",
       "      <td>0.384792</td>\n",
       "      <td>-0.620144</td>\n",
       "    </tr>\n",
       "    <tr>\n",
       "      <th>4</th>\n",
       "      <td>-0.815418</td>\n",
       "      <td>0.048521</td>\n",
       "      <td>1.279500</td>\n",
       "      <td>-0.020851</td>\n",
       "      <td>-0.536297</td>\n",
       "      <td>0.321484</td>\n",
       "      <td>0.363364</td>\n",
       "      <td>0.339996</td>\n",
       "      <td>-0.326985</td>\n",
       "    </tr>\n",
       "    <tr>\n",
       "      <th>5</th>\n",
       "      <td>0.266928</td>\n",
       "      <td>-0.266868</td>\n",
       "      <td>-0.917926</td>\n",
       "      <td>1.063424</td>\n",
       "      <td>-0.412353</td>\n",
       "      <td>0.856434</td>\n",
       "      <td>-0.436037</td>\n",
       "      <td>0.116012</td>\n",
       "      <td>-0.326985</td>\n",
       "    </tr>\n",
       "  </tbody>\n",
       "</table>\n",
       "</div>"
      ],
      "text/plain": [
       "          1         2         3         4         5         6         7  \\\n",
       "1 -1.038446 -0.371997  0.086196 -0.020851  0.021452  1.369094  0.799401   \n",
       "2 -0.651426 -1.213035 -0.757849 -0.834058  0.083424  0.366063  0.908410   \n",
       "3 -0.546471 -0.477127  0.071643 -0.020851  0.455256  0.856434  0.726728   \n",
       "4 -0.815418  0.048521  1.279500 -0.020851 -0.536297  0.321484  0.363364   \n",
       "5  0.266928 -0.266868 -0.917926  1.063424 -0.412353  0.856434 -0.436037   \n",
       "\n",
       "          8         9  \n",
       "1  0.982082  0.479202  \n",
       "2  1.818288  0.405913  \n",
       "3  0.384792 -0.620144  \n",
       "4  0.339996 -0.326985  \n",
       "5  0.116012 -0.326985  "
      ]
     },
     "execution_count": 16,
     "metadata": {},
     "output_type": "execute_result"
    }
   ],
   "source": [
    "df1 = pd.DataFrame(df_sc)              # ndarray в DataFrame\n",
    "df1.columns = df1.columns+1\n",
    "df1.index = df1.index + 1\n",
    "df1.head()"
   ]
  },
  {
   "cell_type": "code",
   "execution_count": 17,
   "metadata": {},
   "outputs": [
    {
     "data": {
      "text/plain": [
       "(26, 9)"
      ]
     },
     "execution_count": 17,
     "metadata": {},
     "output_type": "execute_result"
    }
   ],
   "source": [
    "df1.shape"
   ]
  },
  {
   "cell_type": "markdown",
   "metadata": {},
   "source": [
    "#### 4) Найдем корреляционную матрицу"
   ]
  },
  {
   "cell_type": "code",
   "execution_count": 18,
   "metadata": {},
   "outputs": [
    {
     "data": {
      "text/html": [
       "<div>\n",
       "<style scoped>\n",
       "    .dataframe tbody tr th:only-of-type {\n",
       "        vertical-align: middle;\n",
       "    }\n",
       "\n",
       "    .dataframe tbody tr th {\n",
       "        vertical-align: top;\n",
       "    }\n",
       "\n",
       "    .dataframe thead th {\n",
       "        text-align: right;\n",
       "    }\n",
       "</style>\n",
       "<table border=\"1\" class=\"dataframe\">\n",
       "  <thead>\n",
       "    <tr style=\"text-align: right;\">\n",
       "      <th></th>\n",
       "      <th>1</th>\n",
       "      <th>2</th>\n",
       "      <th>3</th>\n",
       "      <th>4</th>\n",
       "      <th>5</th>\n",
       "      <th>6</th>\n",
       "      <th>7</th>\n",
       "      <th>8</th>\n",
       "      <th>9</th>\n",
       "    </tr>\n",
       "  </thead>\n",
       "  <tbody>\n",
       "    <tr>\n",
       "      <th>1</th>\n",
       "      <td>1.000000</td>\n",
       "      <td>0.035799</td>\n",
       "      <td>-0.671098</td>\n",
       "      <td>-0.400051</td>\n",
       "      <td>-0.538325</td>\n",
       "      <td>-0.736981</td>\n",
       "      <td>-0.219836</td>\n",
       "      <td>-0.746790</td>\n",
       "      <td>-0.564920</td>\n",
       "    </tr>\n",
       "    <tr>\n",
       "      <th>2</th>\n",
       "      <td>0.035799</td>\n",
       "      <td>1.000000</td>\n",
       "      <td>0.445196</td>\n",
       "      <td>0.405455</td>\n",
       "      <td>-0.025598</td>\n",
       "      <td>-0.396565</td>\n",
       "      <td>-0.442683</td>\n",
       "      <td>-0.281012</td>\n",
       "      <td>0.156629</td>\n",
       "    </tr>\n",
       "    <tr>\n",
       "      <th>3</th>\n",
       "      <td>-0.671098</td>\n",
       "      <td>0.445196</td>\n",
       "      <td>1.000000</td>\n",
       "      <td>0.385346</td>\n",
       "      <td>0.494479</td>\n",
       "      <td>0.203826</td>\n",
       "      <td>-0.155829</td>\n",
       "      <td>0.154171</td>\n",
       "      <td>0.350692</td>\n",
       "    </tr>\n",
       "    <tr>\n",
       "      <th>4</th>\n",
       "      <td>-0.400051</td>\n",
       "      <td>0.405455</td>\n",
       "      <td>0.385346</td>\n",
       "      <td>1.000000</td>\n",
       "      <td>0.059889</td>\n",
       "      <td>0.201907</td>\n",
       "      <td>0.109862</td>\n",
       "      <td>0.132411</td>\n",
       "      <td>0.375231</td>\n",
       "    </tr>\n",
       "    <tr>\n",
       "      <th>5</th>\n",
       "      <td>-0.538325</td>\n",
       "      <td>-0.025598</td>\n",
       "      <td>0.494479</td>\n",
       "      <td>0.059889</td>\n",
       "      <td>1.000000</td>\n",
       "      <td>0.356022</td>\n",
       "      <td>0.016283</td>\n",
       "      <td>0.158243</td>\n",
       "      <td>0.387662</td>\n",
       "    </tr>\n",
       "    <tr>\n",
       "      <th>6</th>\n",
       "      <td>-0.736981</td>\n",
       "      <td>-0.396565</td>\n",
       "      <td>0.203826</td>\n",
       "      <td>0.201907</td>\n",
       "      <td>0.356022</td>\n",
       "      <td>1.000000</td>\n",
       "      <td>0.365555</td>\n",
       "      <td>0.572173</td>\n",
       "      <td>0.187554</td>\n",
       "    </tr>\n",
       "    <tr>\n",
       "      <th>7</th>\n",
       "      <td>-0.219836</td>\n",
       "      <td>-0.442683</td>\n",
       "      <td>-0.155829</td>\n",
       "      <td>0.109862</td>\n",
       "      <td>0.016283</td>\n",
       "      <td>0.365555</td>\n",
       "      <td>1.000000</td>\n",
       "      <td>0.107640</td>\n",
       "      <td>-0.245926</td>\n",
       "    </tr>\n",
       "    <tr>\n",
       "      <th>8</th>\n",
       "      <td>-0.746790</td>\n",
       "      <td>-0.281012</td>\n",
       "      <td>0.154171</td>\n",
       "      <td>0.132411</td>\n",
       "      <td>0.158243</td>\n",
       "      <td>0.572173</td>\n",
       "      <td>0.107640</td>\n",
       "      <td>1.000000</td>\n",
       "      <td>0.567867</td>\n",
       "    </tr>\n",
       "    <tr>\n",
       "      <th>9</th>\n",
       "      <td>-0.564920</td>\n",
       "      <td>0.156629</td>\n",
       "      <td>0.350692</td>\n",
       "      <td>0.375231</td>\n",
       "      <td>0.387662</td>\n",
       "      <td>0.187554</td>\n",
       "      <td>-0.245926</td>\n",
       "      <td>0.567867</td>\n",
       "      <td>1.000000</td>\n",
       "    </tr>\n",
       "  </tbody>\n",
       "</table>\n",
       "</div>"
      ],
      "text/plain": [
       "          1         2         3         4         5         6         7  \\\n",
       "1  1.000000  0.035799 -0.671098 -0.400051 -0.538325 -0.736981 -0.219836   \n",
       "2  0.035799  1.000000  0.445196  0.405455 -0.025598 -0.396565 -0.442683   \n",
       "3 -0.671098  0.445196  1.000000  0.385346  0.494479  0.203826 -0.155829   \n",
       "4 -0.400051  0.405455  0.385346  1.000000  0.059889  0.201907  0.109862   \n",
       "5 -0.538325 -0.025598  0.494479  0.059889  1.000000  0.356022  0.016283   \n",
       "6 -0.736981 -0.396565  0.203826  0.201907  0.356022  1.000000  0.365555   \n",
       "7 -0.219836 -0.442683 -0.155829  0.109862  0.016283  0.365555  1.000000   \n",
       "8 -0.746790 -0.281012  0.154171  0.132411  0.158243  0.572173  0.107640   \n",
       "9 -0.564920  0.156629  0.350692  0.375231  0.387662  0.187554 -0.245926   \n",
       "\n",
       "          8         9  \n",
       "1 -0.746790 -0.564920  \n",
       "2 -0.281012  0.156629  \n",
       "3  0.154171  0.350692  \n",
       "4  0.132411  0.375231  \n",
       "5  0.158243  0.387662  \n",
       "6  0.572173  0.187554  \n",
       "7  0.107640 -0.245926  \n",
       "8  1.000000  0.567867  \n",
       "9  0.567867  1.000000  "
      ]
     },
     "execution_count": 18,
     "metadata": {},
     "output_type": "execute_result"
    }
   ],
   "source": [
    "dcorr=df1.corr()   #  применяется к DataFrame\n",
    "dcorr"
   ]
  },
  {
   "cell_type": "code",
   "execution_count": 19,
   "metadata": {},
   "outputs": [
    {
     "data": {
      "text/plain": [
       "(9, 9)"
      ]
     },
     "execution_count": 19,
     "metadata": {},
     "output_type": "execute_result"
    }
   ],
   "source": [
    "dcorr.shape"
   ]
  },
  {
   "cell_type": "markdown",
   "metadata": {},
   "source": [
    "#### 5) Найдем собственные числа и собственые векторы"
   ]
  },
  {
   "cell_type": "code",
   "execution_count": 20,
   "metadata": {},
   "outputs": [],
   "source": [
    "eigenvalues, eigenvectors = np.linalg.eig(dcorr)"
   ]
  },
  {
   "cell_type": "code",
   "execution_count": 21,
   "metadata": {},
   "outputs": [
    {
     "data": {
      "text/plain": [
       "array([3.48715127e+00, 2.13017314e+00, 1.09895761e+00, 9.94482978e-01,\n",
       "       5.43217725e-01, 4.56251025e-05, 3.83427666e-01, 2.25754055e-01,\n",
       "       1.36789926e-01])"
      ]
     },
     "execution_count": 21,
     "metadata": {},
     "output_type": "execute_result"
    }
   ],
   "source": [
    "eigenvalues"
   ]
  },
  {
   "cell_type": "code",
   "execution_count": 23,
   "metadata": {},
   "outputs": [
    {
     "data": {
      "text/html": [
       "<div>\n",
       "<style scoped>\n",
       "    .dataframe tbody tr th:only-of-type {\n",
       "        vertical-align: middle;\n",
       "    }\n",
       "\n",
       "    .dataframe tbody tr th {\n",
       "        vertical-align: top;\n",
       "    }\n",
       "\n",
       "    .dataframe thead th {\n",
       "        text-align: right;\n",
       "    }\n",
       "</style>\n",
       "<table border=\"1\" class=\"dataframe\">\n",
       "  <thead>\n",
       "    <tr style=\"text-align: right;\">\n",
       "      <th></th>\n",
       "      <th>1</th>\n",
       "      <th>2</th>\n",
       "      <th>3</th>\n",
       "      <th>4</th>\n",
       "      <th>5</th>\n",
       "      <th>6</th>\n",
       "      <th>7</th>\n",
       "      <th>8</th>\n",
       "      <th>9</th>\n",
       "    </tr>\n",
       "  </thead>\n",
       "  <tbody>\n",
       "    <tr>\n",
       "      <th>Agr</th>\n",
       "      <td>0.523791</td>\n",
       "      <td>0.053594</td>\n",
       "      <td>0.048674</td>\n",
       "      <td>0.028793</td>\n",
       "      <td>0.212703</td>\n",
       "      <td>0.806418</td>\n",
       "      <td>-0.153307</td>\n",
       "      <td>-0.021321</td>\n",
       "      <td>0.007922</td>\n",
       "    </tr>\n",
       "    <tr>\n",
       "      <th>Min</th>\n",
       "      <td>0.001323</td>\n",
       "      <td>0.617807</td>\n",
       "      <td>-0.201100</td>\n",
       "      <td>0.064085</td>\n",
       "      <td>-0.163743</td>\n",
       "      <td>0.048563</td>\n",
       "      <td>0.100590</td>\n",
       "      <td>0.725719</td>\n",
       "      <td>0.088363</td>\n",
       "    </tr>\n",
       "    <tr>\n",
       "      <th>Man</th>\n",
       "      <td>-0.347495</td>\n",
       "      <td>0.355054</td>\n",
       "      <td>-0.150463</td>\n",
       "      <td>-0.346088</td>\n",
       "      <td>-0.384958</td>\n",
       "      <td>0.365957</td>\n",
       "      <td>0.288152</td>\n",
       "      <td>-0.479363</td>\n",
       "      <td>0.125818</td>\n",
       "    </tr>\n",
       "    <tr>\n",
       "      <th>PS</th>\n",
       "      <td>-0.255716</td>\n",
       "      <td>0.261096</td>\n",
       "      <td>-0.561083</td>\n",
       "      <td>0.393309</td>\n",
       "      <td>0.295172</td>\n",
       "      <td>0.019385</td>\n",
       "      <td>-0.357264</td>\n",
       "      <td>-0.255647</td>\n",
       "      <td>-0.341228</td>\n",
       "    </tr>\n",
       "    <tr>\n",
       "      <th>Con</th>\n",
       "      <td>-0.325179</td>\n",
       "      <td>0.051288</td>\n",
       "      <td>0.153321</td>\n",
       "      <td>-0.668324</td>\n",
       "      <td>0.471593</td>\n",
       "      <td>0.082572</td>\n",
       "      <td>-0.130354</td>\n",
       "      <td>0.220695</td>\n",
       "      <td>-0.355734</td>\n",
       "    </tr>\n",
       "    <tr>\n",
       "      <th>SI</th>\n",
       "      <td>-0.378920</td>\n",
       "      <td>-0.350172</td>\n",
       "      <td>-0.115096</td>\n",
       "      <td>-0.050157</td>\n",
       "      <td>-0.283568</td>\n",
       "      <td>0.238299</td>\n",
       "      <td>-0.614829</td>\n",
       "      <td>0.229435</td>\n",
       "      <td>0.387537</td>\n",
       "    </tr>\n",
       "    <tr>\n",
       "      <th>Fin</th>\n",
       "      <td>-0.074374</td>\n",
       "      <td>-0.453698</td>\n",
       "      <td>-0.587361</td>\n",
       "      <td>-0.051567</td>\n",
       "      <td>0.279568</td>\n",
       "      <td>0.145171</td>\n",
       "      <td>0.525558</td>\n",
       "      <td>0.187455</td>\n",
       "      <td>0.174329</td>\n",
       "    </tr>\n",
       "    <tr>\n",
       "      <th>SPS</th>\n",
       "      <td>-0.387409</td>\n",
       "      <td>-0.221521</td>\n",
       "      <td>0.311904</td>\n",
       "      <td>0.412230</td>\n",
       "      <td>-0.220351</td>\n",
       "      <td>0.350942</td>\n",
       "      <td>0.262910</td>\n",
       "      <td>0.191302</td>\n",
       "      <td>-0.506154</td>\n",
       "    </tr>\n",
       "    <tr>\n",
       "      <th>TC</th>\n",
       "      <td>-0.366823</td>\n",
       "      <td>0.202592</td>\n",
       "      <td>0.375106</td>\n",
       "      <td>0.314372</td>\n",
       "      <td>0.512936</td>\n",
       "      <td>0.072055</td>\n",
       "      <td>0.123976</td>\n",
       "      <td>-0.068193</td>\n",
       "      <td>0.544562</td>\n",
       "    </tr>\n",
       "  </tbody>\n",
       "</table>\n",
       "</div>"
      ],
      "text/plain": [
       "            1         2         3         4         5         6         7  \\\n",
       "Agr  0.523791  0.053594  0.048674  0.028793  0.212703  0.806418 -0.153307   \n",
       "Min  0.001323  0.617807 -0.201100  0.064085 -0.163743  0.048563  0.100590   \n",
       "Man -0.347495  0.355054 -0.150463 -0.346088 -0.384958  0.365957  0.288152   \n",
       "PS  -0.255716  0.261096 -0.561083  0.393309  0.295172  0.019385 -0.357264   \n",
       "Con -0.325179  0.051288  0.153321 -0.668324  0.471593  0.082572 -0.130354   \n",
       "SI  -0.378920 -0.350172 -0.115096 -0.050157 -0.283568  0.238299 -0.614829   \n",
       "Fin -0.074374 -0.453698 -0.587361 -0.051567  0.279568  0.145171  0.525558   \n",
       "SPS -0.387409 -0.221521  0.311904  0.412230 -0.220351  0.350942  0.262910   \n",
       "TC  -0.366823  0.202592  0.375106  0.314372  0.512936  0.072055  0.123976   \n",
       "\n",
       "            8         9  \n",
       "Agr -0.021321  0.007922  \n",
       "Min  0.725719  0.088363  \n",
       "Man -0.479363  0.125818  \n",
       "PS  -0.255647 -0.341228  \n",
       "Con  0.220695 -0.355734  \n",
       "SI   0.229435  0.387537  \n",
       "Fin  0.187455  0.174329  \n",
       "SPS  0.191302 -0.506154  \n",
       "TC  -0.068193  0.544562  "
      ]
     },
     "execution_count": 23,
     "metadata": {},
     "output_type": "execute_result"
    }
   ],
   "source": [
    "pd.DataFrame(eigenvectors,columns=dcorr.columns,index=df.iloc[:,1:].columns)"
   ]
  },
  {
   "cell_type": "markdown",
   "metadata": {},
   "source": [
    "## Отбор факторов"
   ]
  },
  {
   "cell_type": "code",
   "execution_count": 24,
   "metadata": {},
   "outputs": [
    {
     "data": {
      "image/png": "[encoded data removed]",
      "text/plain": [
       "<Figure size 576x432 with 1 Axes>"
      ]
     },
     "metadata": {
      "needs_background": "light"
     },
     "output_type": "display_data"
    }
   ],
   "source": [
    "# (1) Критерий Кайзера\n",
    "\n",
    "fig, ax = plt.subplots(1,1, figsize = (8,6))\n",
    "ax.bar(range(1, len(eigenvalues)+1), eigenvalues, label = 'Собственные значения', color = 'indigo')\n",
    "ax.plot(np.full(8, 1), '--',color='green')\n",
    "ax.legend()\n",
    "plt.show()"
   ]
  },
  {
   "cell_type": "code",
   "execution_count": 25,
   "metadata": {},
   "outputs": [
    {
     "data": {
      "text/plain": [
       "array([ 38.74612525,  62.41471571,  74.62535583,  85.6751667 ,\n",
       "        91.7109192 ,  91.71142615,  95.97173354,  98.48011194,\n",
       "       100.        ])"
      ]
     },
     "execution_count": 25,
     "metadata": {},
     "output_type": "execute_result"
    }
   ],
   "source": [
    "# (2)  Объясненная сумма дисперсии\n",
    "\n",
    "eigenvalues / np.sum(eigenvalues)*100\n",
    "np.cumsum(eigenvalues)/ np.sum(eigenvalues)*100"
   ]
  },
  {
   "cell_type": "markdown",
   "metadata": {},
   "source": [
    "#### PCA Sklearn"
   ]
  },
  {
   "cell_type": "code",
   "execution_count": 26,
   "metadata": {},
   "outputs": [],
   "source": [
    "from sklearn.decomposition import PCA\n"
   ]
  },
  {
   "cell_type": "code",
   "execution_count": 27,
   "metadata": {},
   "outputs": [],
   "source": [
    "pca = PCA(n_components=2)\n",
    "score_new = pca.fit_transform(df_sc) # матрица счетов, данные в новой системе координат"
   ]
  },
  {
   "cell_type": "code",
   "execution_count": 28,
   "metadata": {
    "tags": []
   },
   "outputs": [
    {
     "data": {
      "text/html": [
       "<div>\n",
       "<style scoped>\n",
       "    .dataframe tbody tr th:only-of-type {\n",
       "        vertical-align: middle;\n",
       "    }\n",
       "\n",
       "    .dataframe tbody tr th {\n",
       "        vertical-align: top;\n",
       "    }\n",
       "\n",
       "    .dataframe thead th {\n",
       "        text-align: right;\n",
       "    }\n",
       "</style>\n",
       "<table border=\"1\" class=\"dataframe\">\n",
       "  <thead>\n",
       "    <tr style=\"text-align: right;\">\n",
       "      <th></th>\n",
       "      <th>0</th>\n",
       "      <th>1</th>\n",
       "    </tr>\n",
       "  </thead>\n",
       "  <tbody>\n",
       "    <tr>\n",
       "      <th>0</th>\n",
       "      <td>-1.710498</td>\n",
       "      <td>-1.221791</td>\n",
       "    </tr>\n",
       "    <tr>\n",
       "      <th>1</th>\n",
       "      <td>-0.952902</td>\n",
       "      <td>-2.127785</td>\n",
       "    </tr>\n",
       "    <tr>\n",
       "      <th>2</th>\n",
       "      <td>-0.754630</td>\n",
       "      <td>-1.121208</td>\n",
       "    </tr>\n",
       "    <tr>\n",
       "      <th>3</th>\n",
       "      <td>-0.852553</td>\n",
       "      <td>-0.011377</td>\n",
       "    </tr>\n",
       "    <tr>\n",
       "      <th>4</th>\n",
       "      <td>0.103502</td>\n",
       "      <td>-0.413987</td>\n",
       "    </tr>\n",
       "    <tr>\n",
       "      <th>5</th>\n",
       "      <td>-0.375407</td>\n",
       "      <td>-0.769547</td>\n",
       "    </tr>\n",
       "    <tr>\n",
       "      <th>6</th>\n",
       "      <td>-1.059442</td>\n",
       "      <td>0.755827</td>\n",
       "    </tr>\n",
       "    <tr>\n",
       "      <th>7</th>\n",
       "      <td>-1.688217</td>\n",
       "      <td>-2.004845</td>\n",
       "    </tr>\n",
       "    <tr>\n",
       "      <th>8</th>\n",
       "      <td>-1.630449</td>\n",
       "      <td>-0.373130</td>\n",
       "    </tr>\n",
       "    <tr>\n",
       "      <th>9</th>\n",
       "      <td>-1.176448</td>\n",
       "      <td>0.143101</td>\n",
       "    </tr>\n",
       "    <tr>\n",
       "      <th>10</th>\n",
       "      <td>-0.991940</td>\n",
       "      <td>-0.748305</td>\n",
       "    </tr>\n",
       "    <tr>\n",
       "      <th>11</th>\n",
       "      <td>2.113405</td>\n",
       "      <td>-0.353461</td>\n",
       "    </tr>\n",
       "    <tr>\n",
       "      <th>12</th>\n",
       "      <td>-1.686496</td>\n",
       "      <td>-1.075717</td>\n",
       "    </tr>\n",
       "    <tr>\n",
       "      <th>13</th>\n",
       "      <td>1.015293</td>\n",
       "      <td>-0.757045</td>\n",
       "    </tr>\n",
       "    <tr>\n",
       "      <th>14</th>\n",
       "      <td>0.435862</td>\n",
       "      <td>-0.616338</td>\n",
       "    </tr>\n",
       "    <tr>\n",
       "      <th>15</th>\n",
       "      <td>-1.083805</td>\n",
       "      <td>-1.578523</td>\n",
       "    </tr>\n",
       "    <tr>\n",
       "      <th>16</th>\n",
       "      <td>-1.058128</td>\n",
       "      <td>-0.742391</td>\n",
       "    </tr>\n",
       "    <tr>\n",
       "      <th>17</th>\n",
       "      <td>6.347540</td>\n",
       "      <td>-1.066145</td>\n",
       "    </tr>\n",
       "    <tr>\n",
       "      <th>18</th>\n",
       "      <td>0.725600</td>\n",
       "      <td>1.496766</td>\n",
       "    </tr>\n",
       "    <tr>\n",
       "      <th>19</th>\n",
       "      <td>-0.425950</td>\n",
       "      <td>2.664556</td>\n",
       "    </tr>\n",
       "    <tr>\n",
       "      <th>20</th>\n",
       "      <td>-1.780826</td>\n",
       "      <td>2.815023</td>\n",
       "    </tr>\n",
       "    <tr>\n",
       "      <th>21</th>\n",
       "      <td>-0.578344</td>\n",
       "      <td>3.143445</td>\n",
       "    </tr>\n",
       "    <tr>\n",
       "      <th>22</th>\n",
       "      <td>1.113712</td>\n",
       "      <td>1.905247</td>\n",
       "    </tr>\n",
       "    <tr>\n",
       "      <th>23</th>\n",
       "      <td>2.051500</td>\n",
       "      <td>1.605032</td>\n",
       "    </tr>\n",
       "    <tr>\n",
       "      <th>24</th>\n",
       "      <td>-0.050435</td>\n",
       "      <td>1.266533</td>\n",
       "    </tr>\n",
       "    <tr>\n",
       "      <th>25</th>\n",
       "      <td>3.950055</td>\n",
       "      <td>-0.813934</td>\n",
       "    </tr>\n",
       "  </tbody>\n",
       "</table>\n",
       "</div>"
      ],
      "text/plain": [
       "           0         1\n",
       "0  -1.710498 -1.221791\n",
       "1  -0.952902 -2.127785\n",
       "2  -0.754630 -1.121208\n",
       "3  -0.852553 -0.011377\n",
       "4   0.103502 -0.413987\n",
       "5  -0.375407 -0.769547\n",
       "6  -1.059442  0.755827\n",
       "7  -1.688217 -2.004845\n",
       "8  -1.630449 -0.373130\n",
       "9  -1.176448  0.143101\n",
       "10 -0.991940 -0.748305\n",
       "11  2.113405 -0.353461\n",
       "12 -1.686496 -1.075717\n",
       "13  1.015293 -0.757045\n",
       "14  0.435862 -0.616338\n",
       "15 -1.083805 -1.578523\n",
       "16 -1.058128 -0.742391\n",
       "17  6.347540 -1.066145\n",
       "18  0.725600  1.496766\n",
       "19 -0.425950  2.664556\n",
       "20 -1.780826  2.815023\n",
       "21 -0.578344  3.143445\n",
       "22  1.113712  1.905247\n",
       "23  2.051500  1.605032\n",
       "24 -0.050435  1.266533\n",
       "25  3.950055 -0.813934"
      ]
     },
     "execution_count": 28,
     "metadata": {},
     "output_type": "execute_result"
    }
   ],
   "source": [
    "pd.DataFrame(score_new)"
   ]
  },
  {
   "cell_type": "code",
   "execution_count": 29,
   "metadata": {},
   "outputs": [
    {
     "data": {
      "text/plain": [
       "array([[ 0.52379099,  0.00132346, -0.34749513, -0.25571618, -0.32517932,\n",
       "        -0.37891966, -0.07437358, -0.38740881, -0.36682271],\n",
       "       [ 0.05359389,  0.61780714,  0.3550536 ,  0.26109606,  0.05128845,\n",
       "        -0.35017206, -0.45369785, -0.2215212 ,  0.20259185]])"
      ]
     },
     "execution_count": 29,
     "metadata": {},
     "output_type": "execute_result"
    }
   ],
   "source": [
    "pca.components_ #  Матрица факторных нагрузок"
   ]
  },
  {
   "cell_type": "code",
   "execution_count": 31,
   "metadata": {},
   "outputs": [
    {
     "data": {
      "text/html": [
       "<div>\n",
       "<style scoped>\n",
       "    .dataframe tbody tr th:only-of-type {\n",
       "        vertical-align: middle;\n",
       "    }\n",
       "\n",
       "    .dataframe tbody tr th {\n",
       "        vertical-align: top;\n",
       "    }\n",
       "\n",
       "    .dataframe thead th {\n",
       "        text-align: right;\n",
       "    }\n",
       "</style>\n",
       "<table border=\"1\" class=\"dataframe\">\n",
       "  <thead>\n",
       "    <tr style=\"text-align: right;\">\n",
       "      <th></th>\n",
       "      <th>1</th>\n",
       "      <th>2</th>\n",
       "    </tr>\n",
       "  </thead>\n",
       "  <tbody>\n",
       "    <tr>\n",
       "      <th>Agr</th>\n",
       "      <td>0.523791</td>\n",
       "      <td>0.053594</td>\n",
       "    </tr>\n",
       "    <tr>\n",
       "      <th>Min</th>\n",
       "      <td>0.001323</td>\n",
       "      <td>0.617807</td>\n",
       "    </tr>\n",
       "    <tr>\n",
       "      <th>Man</th>\n",
       "      <td>-0.347495</td>\n",
       "      <td>0.355054</td>\n",
       "    </tr>\n",
       "    <tr>\n",
       "      <th>PS</th>\n",
       "      <td>-0.255716</td>\n",
       "      <td>0.261096</td>\n",
       "    </tr>\n",
       "    <tr>\n",
       "      <th>Con</th>\n",
       "      <td>-0.325179</td>\n",
       "      <td>0.051288</td>\n",
       "    </tr>\n",
       "    <tr>\n",
       "      <th>SI</th>\n",
       "      <td>-0.378920</td>\n",
       "      <td>-0.350172</td>\n",
       "    </tr>\n",
       "    <tr>\n",
       "      <th>Fin</th>\n",
       "      <td>-0.074374</td>\n",
       "      <td>-0.453698</td>\n",
       "    </tr>\n",
       "    <tr>\n",
       "      <th>SPS</th>\n",
       "      <td>-0.387409</td>\n",
       "      <td>-0.221521</td>\n",
       "    </tr>\n",
       "    <tr>\n",
       "      <th>TC</th>\n",
       "      <td>-0.366823</td>\n",
       "      <td>0.202592</td>\n",
       "    </tr>\n",
       "  </tbody>\n",
       "</table>\n",
       "</div>"
      ],
      "text/plain": [
       "            1         2\n",
       "Agr  0.523791  0.053594\n",
       "Min  0.001323  0.617807\n",
       "Man -0.347495  0.355054\n",
       "PS  -0.255716  0.261096\n",
       "Con -0.325179  0.051288\n",
       "SI  -0.378920 -0.350172\n",
       "Fin -0.074374 -0.453698\n",
       "SPS -0.387409 -0.221521\n",
       "TC  -0.366823  0.202592"
      ]
     },
     "execution_count": 31,
     "metadata": {},
     "output_type": "execute_result"
    }
   ],
   "source": [
    "#  Матрица факторных нагрузок, для наглядности в DataFrame\n",
    "P=pd.DataFrame((pca.components_).T,\n",
    "               index=df.iloc[:,1:].columns,columns=[i for i in range(1,pca.components_.shape[0]+1)])\n",
    "P"
   ]
  },
  {
   "cell_type": "code",
   "execution_count": 33,
   "metadata": {},
   "outputs": [
    {
     "data": {
      "text/html": [
       "<div>\n",
       "<style scoped>\n",
       "    .dataframe tbody tr th:only-of-type {\n",
       "        vertical-align: middle;\n",
       "    }\n",
       "\n",
       "    .dataframe tbody tr th {\n",
       "        vertical-align: top;\n",
       "    }\n",
       "\n",
       "    .dataframe thead th {\n",
       "        text-align: right;\n",
       "    }\n",
       "</style>\n",
       "<table border=\"1\" class=\"dataframe\">\n",
       "  <thead>\n",
       "    <tr style=\"text-align: right;\">\n",
       "      <th></th>\n",
       "      <th>1</th>\n",
       "      <th>2</th>\n",
       "      <th>3</th>\n",
       "      <th>4</th>\n",
       "      <th>5</th>\n",
       "      <th>6</th>\n",
       "      <th>7</th>\n",
       "      <th>8</th>\n",
       "      <th>9</th>\n",
       "    </tr>\n",
       "  </thead>\n",
       "  <tbody>\n",
       "    <tr>\n",
       "      <th>Agr</th>\n",
       "      <td>0.523791</td>\n",
       "      <td>0.053594</td>\n",
       "      <td>0.048674</td>\n",
       "      <td>0.028793</td>\n",
       "      <td>0.212703</td>\n",
       "      <td>0.806418</td>\n",
       "      <td>-0.153307</td>\n",
       "      <td>-0.021321</td>\n",
       "      <td>0.007922</td>\n",
       "    </tr>\n",
       "    <tr>\n",
       "      <th>Min</th>\n",
       "      <td>0.001323</td>\n",
       "      <td>0.617807</td>\n",
       "      <td>-0.201100</td>\n",
       "      <td>0.064085</td>\n",
       "      <td>-0.163743</td>\n",
       "      <td>0.048563</td>\n",
       "      <td>0.100590</td>\n",
       "      <td>0.725719</td>\n",
       "      <td>0.088363</td>\n",
       "    </tr>\n",
       "    <tr>\n",
       "      <th>Man</th>\n",
       "      <td>-0.347495</td>\n",
       "      <td>0.355054</td>\n",
       "      <td>-0.150463</td>\n",
       "      <td>-0.346088</td>\n",
       "      <td>-0.384958</td>\n",
       "      <td>0.365957</td>\n",
       "      <td>0.288152</td>\n",
       "      <td>-0.479363</td>\n",
       "      <td>0.125818</td>\n",
       "    </tr>\n",
       "    <tr>\n",
       "      <th>PS</th>\n",
       "      <td>-0.255716</td>\n",
       "      <td>0.261096</td>\n",
       "      <td>-0.561083</td>\n",
       "      <td>0.393309</td>\n",
       "      <td>0.295172</td>\n",
       "      <td>0.019385</td>\n",
       "      <td>-0.357264</td>\n",
       "      <td>-0.255647</td>\n",
       "      <td>-0.341228</td>\n",
       "    </tr>\n",
       "    <tr>\n",
       "      <th>Con</th>\n",
       "      <td>-0.325179</td>\n",
       "      <td>0.051288</td>\n",
       "      <td>0.153321</td>\n",
       "      <td>-0.668324</td>\n",
       "      <td>0.471593</td>\n",
       "      <td>0.082572</td>\n",
       "      <td>-0.130354</td>\n",
       "      <td>0.220695</td>\n",
       "      <td>-0.355734</td>\n",
       "    </tr>\n",
       "    <tr>\n",
       "      <th>SI</th>\n",
       "      <td>-0.378920</td>\n",
       "      <td>-0.350172</td>\n",
       "      <td>-0.115096</td>\n",
       "      <td>-0.050157</td>\n",
       "      <td>-0.283568</td>\n",
       "      <td>0.238299</td>\n",
       "      <td>-0.614829</td>\n",
       "      <td>0.229435</td>\n",
       "      <td>0.387537</td>\n",
       "    </tr>\n",
       "    <tr>\n",
       "      <th>Fin</th>\n",
       "      <td>-0.074374</td>\n",
       "      <td>-0.453698</td>\n",
       "      <td>-0.587361</td>\n",
       "      <td>-0.051567</td>\n",
       "      <td>0.279568</td>\n",
       "      <td>0.145171</td>\n",
       "      <td>0.525558</td>\n",
       "      <td>0.187455</td>\n",
       "      <td>0.174329</td>\n",
       "    </tr>\n",
       "    <tr>\n",
       "      <th>SPS</th>\n",
       "      <td>-0.387409</td>\n",
       "      <td>-0.221521</td>\n",
       "      <td>0.311904</td>\n",
       "      <td>0.412230</td>\n",
       "      <td>-0.220351</td>\n",
       "      <td>0.350942</td>\n",
       "      <td>0.262910</td>\n",
       "      <td>0.191302</td>\n",
       "      <td>-0.506154</td>\n",
       "    </tr>\n",
       "    <tr>\n",
       "      <th>TC</th>\n",
       "      <td>-0.366823</td>\n",
       "      <td>0.202592</td>\n",
       "      <td>0.375106</td>\n",
       "      <td>0.314372</td>\n",
       "      <td>0.512936</td>\n",
       "      <td>0.072055</td>\n",
       "      <td>0.123976</td>\n",
       "      <td>-0.068193</td>\n",
       "      <td>0.544562</td>\n",
       "    </tr>\n",
       "  </tbody>\n",
       "</table>\n",
       "</div>"
      ],
      "text/plain": [
       "            1         2         3         4         5         6         7  \\\n",
       "Agr  0.523791  0.053594  0.048674  0.028793  0.212703  0.806418 -0.153307   \n",
       "Min  0.001323  0.617807 -0.201100  0.064085 -0.163743  0.048563  0.100590   \n",
       "Man -0.347495  0.355054 -0.150463 -0.346088 -0.384958  0.365957  0.288152   \n",
       "PS  -0.255716  0.261096 -0.561083  0.393309  0.295172  0.019385 -0.357264   \n",
       "Con -0.325179  0.051288  0.153321 -0.668324  0.471593  0.082572 -0.130354   \n",
       "SI  -0.378920 -0.350172 -0.115096 -0.050157 -0.283568  0.238299 -0.614829   \n",
       "Fin -0.074374 -0.453698 -0.587361 -0.051567  0.279568  0.145171  0.525558   \n",
       "SPS -0.387409 -0.221521  0.311904  0.412230 -0.220351  0.350942  0.262910   \n",
       "TC  -0.366823  0.202592  0.375106  0.314372  0.512936  0.072055  0.123976   \n",
       "\n",
       "            8         9  \n",
       "Agr -0.021321  0.007922  \n",
       "Min  0.725719  0.088363  \n",
       "Man -0.479363  0.125818  \n",
       "PS  -0.255647 -0.341228  \n",
       "Con  0.220695 -0.355734  \n",
       "SI   0.229435  0.387537  \n",
       "Fin  0.187455  0.174329  \n",
       "SPS  0.191302 -0.506154  \n",
       "TC  -0.068193  0.544562  "
      ]
     },
     "execution_count": 33,
     "metadata": {},
     "output_type": "execute_result"
    }
   ],
   "source": [
    "# Сравним с собственными векторами\n",
    "pd.DataFrame(eigenvectors,columns=dcorr.columns,index=df.iloc[:,1:].columns)"
   ]
  },
  {
   "cell_type": "code",
   "execution_count": 34,
   "metadata": {
    "tags": []
   },
   "outputs": [
    {
     "data": {
      "image/png": "[encoded data removed]",
      "text/plain": [
       "<Figure size 576x288 with 1 Axes>"
      ]
     },
     "metadata": {
      "needs_background": "light"
     },
     "output_type": "display_data"
    }
   ],
   "source": [
    "fig, ax = plt.subplots(1,1, figsize = (8, 4))\n",
    "ax.scatter(-score_new[:, 0], score_new[:, 1],s=50)\n",
    "\n",
    "ax.set_xlabel('PC1')\n",
    "ax.set_ylabel('PC2')\n",
    "\n",
    "ax.set_title('Наблюдения в пространстве факторов')\n",
    "plt.show()"
   ]
  },
  {
   "cell_type": "code",
   "execution_count": 35,
   "metadata": {
    "tags": []
   },
   "outputs": [
    {
     "data": {
      "image/png": "[encoded data removed]",
      "text/plain": [
       "<Figure size 576x288 with 1 Axes>"
      ]
     },
     "metadata": {
      "needs_background": "light"
     },
     "output_type": "display_data"
    }
   ],
   "source": [
    "fig, ax = plt.subplots(1,1, figsize = (8, 4))\n",
    "ax.scatter(-pca.components_[:, 0], pca.components_[:, 1],s=50)\n",
    "\n",
    "ax.set_xlabel('PC1')\n",
    "ax.set_ylabel('PC2')\n",
    "\n",
    "ax.set_title('Признаки в пространстве факторов')\n",
    "plt.show()"
   ]
  },
  {
   "cell_type": "code",
   "execution_count": null,
   "metadata": {},
   "outputs": [],
   "source": []
  }
 ],
 "metadata": {
  "kernelspec": {
   "display_name": "Python 3",
   "language": "python",
   "name": "python3"
  },
  "language_info": {
   "codemirror_mode": {
    "name": "ipython",
    "version": 3
   },
   "file_extension": ".py",
   "mimetype": "text/x-python",
   "name": "python",
   "nbconvert_exporter": "python",
   "pygments_lexer": "ipython3",
   "version": "3.8.8"
  }
 },
 "nbformat": 4,
 "nbformat_minor": 4
}
