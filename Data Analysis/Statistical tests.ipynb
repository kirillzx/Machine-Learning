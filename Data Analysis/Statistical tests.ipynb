{
 "cells": [
  {
   "cell_type": "code",
   "execution_count": 1,
   "id": "f5c83fb1",
   "metadata": {},
   "outputs": [],
   "source": [
    "import numpy as np\n",
    "import pandas as pd"
   ]
  },
  {
   "cell_type": "code",
   "execution_count": 2,
   "id": "589d96ae",
   "metadata": {},
   "outputs": [],
   "source": [
    "import scipy.stats as sts"
   ]
  },
  {
   "cell_type": "code",
   "execution_count": 3,
   "id": "3bf304c4",
   "metadata": {},
   "outputs": [],
   "source": [
    "sample1 = np.random.uniform(-10, 10, 1000)"
   ]
  },
  {
   "cell_type": "code",
   "execution_count": 4,
   "id": "3e53c61a",
   "metadata": {},
   "outputs": [],
   "source": [
    "sample2 = np.random.normal(loc=0, scale=1, size=10000)"
   ]
  },
  {
   "cell_type": "code",
   "execution_count": 5,
   "id": "c67edb67",
   "metadata": {},
   "outputs": [
    {
     "name": "stderr",
     "output_type": "stream",
     "text": [
      "/opt/anaconda3/lib/python3.8/site-packages/scipy/stats/morestats.py:1681: UserWarning: p-value may not be accurate for N > 5000.\n",
      "  warnings.warn(\"p-value may not be accurate for N > 5000.\")\n"
     ]
    }
   ],
   "source": [
    "shap, pshap = sts.shapiro(sample2)"
   ]
  },
  {
   "cell_type": "code",
   "execution_count": 6,
   "id": "527f9b97",
   "metadata": {},
   "outputs": [
    {
     "data": {
      "text/plain": [
       "False"
      ]
     },
     "execution_count": 6,
     "metadata": {},
     "output_type": "execute_result"
    }
   ],
   "source": [
    "pshap <= 0.05"
   ]
  },
  {
   "cell_type": "code",
   "execution_count": 7,
   "id": "dc87ca81",
   "metadata": {},
   "outputs": [
    {
     "data": {
      "text/plain": [
       "0.4326557219028473"
      ]
     },
     "execution_count": 7,
     "metadata": {},
     "output_type": "execute_result"
    }
   ],
   "source": [
    "pshap"
   ]
  },
  {
   "cell_type": "code",
   "execution_count": 8,
   "id": "25671a89",
   "metadata": {},
   "outputs": [],
   "source": [
    "ks, pks = sts.kstest(sample2, sts.norm.cdf)"
   ]
  },
  {
   "cell_type": "code",
   "execution_count": 9,
   "id": "7f72b8f8",
   "metadata": {},
   "outputs": [
    {
     "data": {
      "text/plain": [
       "False"
      ]
     },
     "execution_count": 9,
     "metadata": {},
     "output_type": "execute_result"
    }
   ],
   "source": [
    "pks <= 0.05"
   ]
  },
  {
   "cell_type": "code",
   "execution_count": 10,
   "id": "f7e2f0e4",
   "metadata": {},
   "outputs": [
    {
     "data": {
      "text/plain": [
       "0.781300919101261"
      ]
     },
     "execution_count": 10,
     "metadata": {},
     "output_type": "execute_result"
    }
   ],
   "source": [
    "pks"
   ]
  },
  {
   "cell_type": "code",
   "execution_count": 11,
   "id": "17d92676",
   "metadata": {},
   "outputs": [
    {
     "data": {
      "text/plain": [
       "array([[<AxesSubplot:title={'center':'0'}>]], dtype=object)"
      ]
     },
     "execution_count": 11,
     "metadata": {},
     "output_type": "execute_result"
    },
    {
     "data": {
      "image/png": "[encoded data removed]",
      "text/plain": [
       "<Figure size 432x288 with 1 Axes>"
      ]
     },
     "metadata": {
      "needs_background": "light"
     },
     "output_type": "display_data"
    }
   ],
   "source": [
    "pd.DataFrame(sample2).hist()"
   ]
  },
  {
   "cell_type": "code",
   "execution_count": 12,
   "id": "bbddef70",
   "metadata": {},
   "outputs": [],
   "source": [
    "x = sts.uniform.rvs(size=1000)"
   ]
  },
  {
   "cell_type": "code",
   "execution_count": 13,
   "id": "68e9839b",
   "metadata": {},
   "outputs": [
    {
     "data": {
      "text/plain": [
       "KstestResult(statistic=0.5008, pvalue=1.840549934684077e-11)"
      ]
     },
     "execution_count": 13,
     "metadata": {},
     "output_type": "execute_result"
    }
   ],
   "source": [
    "sts.kstest(sample2, x)"
   ]
  },
  {
   "cell_type": "code",
   "execution_count": 14,
   "id": "7f846889",
   "metadata": {},
   "outputs": [
    {
     "data": {
      "text/plain": [
       "array([ 0.94549489,  0.48996936, -1.38220263, ..., -1.78084211,\n",
       "       -1.51343332,  0.06556282])"
      ]
     },
     "execution_count": 14,
     "metadata": {},
     "output_type": "execute_result"
    }
   ],
   "source": [
    "sample2"
   ]
  },
  {
   "cell_type": "code",
   "execution_count": 15,
   "id": "49550747",
   "metadata": {},
   "outputs": [
    {
     "data": {
      "text/plain": [
       "array([[<AxesSubplot:title={'center':'0'}>]], dtype=object)"
      ]
     },
     "execution_count": 15,
     "metadata": {},
     "output_type": "execute_result"
    },
    {
     "data": {
      "image/png": "[encoded data removed]",
      "text/plain": [
       "<Figure size 432x288 with 1 Axes>"
      ]
     },
     "metadata": {
      "needs_background": "light"
     },
     "output_type": "display_data"
    }
   ],
   "source": [
    "pd.DataFrame(x).hist()"
   ]
  },
  {
   "cell_type": "code",
   "execution_count": null,
   "id": "82328d89",
   "metadata": {},
   "outputs": [],
   "source": []
  }
 ],
 "metadata": {
  "kernelspec": {
   "display_name": "Python 3",
   "language": "python",
   "name": "python3"
  },
  "language_info": {
   "codemirror_mode": {
    "name": "ipython",
    "version": 3
   },
   "file_extension": ".py",
   "mimetype": "text/x-python",
   "name": "python",
   "nbconvert_exporter": "python",
   "pygments_lexer": "ipython3",
   "version": "3.8.8"
  }
 },
 "nbformat": 4,
 "nbformat_minor": 5
}
