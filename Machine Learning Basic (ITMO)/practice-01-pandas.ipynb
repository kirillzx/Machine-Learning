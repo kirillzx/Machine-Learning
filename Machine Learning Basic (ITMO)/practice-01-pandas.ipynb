{
 "cells": [
  {
   "cell_type": "markdown",
   "metadata": {
    "id": "HcF9My_FhLuk"
   },
   "source": [
    "## Технологии машинного обучения\n",
    "\n",
    "## Практическая 1. Введение в Pandas\n",
    "\n"
   ]
  },
  {
   "cell_type": "markdown",
   "metadata": {
    "id": "G64TptyJhLuo"
   },
   "source": [
    "### О задании\n",
    "\n",
    "Задание состоит из двух разделов, посвященных работе с табличными данными с помощью библиотеки pandas и визуализации с помощью matplotlib. В **первом разделе** вам предстоит выполнить базовые задания с помощью вышеуказанных библиотек, а во **втором разделе** распределить студентов по курсам.\n",
    "\n",
    "Задание направлено на освоение jupyter notebook, библиотек pandas и matplotlib.\n",
    "\n",
    "### Оценивание и штрафы\n",
    "Каждая из задач имеет определенную «стоимость» (указана в скобках около задачи). Максимально допустимая оценка за работу — 10 баллов. Проверяющий имеет право снизить оценку за неэффективную реализацию или неопрятные графики.\n",
    "\n",
    "**Обратите внимание**, что в каждом разделе практического задания есть оцениваниемые задачи и есть вопросы. Вопросы дополняют задачи и направлены на то, чтобы проинтерпретировать или обосновать происходящее. Код без интерпретации не имеет смысла, поэтому отвечать на вопросы обязательно — за отсутствие ответов мы будем снижать баллы за задачи.\n"
   ]
  },
  {
   "cell_type": "markdown",
   "metadata": {
    "id": "BaXlfHE_hLup"
   },
   "source": [
    "## 0. Введение"
   ]
  },
  {
   "cell_type": "markdown",
   "metadata": {
    "id": "wirAvJNxhLup"
   },
   "source": [
    "Сейчас мы находимся в jupyter-ноутбуке на онлайн платформе Google Colab. Это удобная среда для написания кода, проведения экспериментов, изучения данных, построения визуализаций и других нужд, не связанных с написанием production-кода. Google Colab уже обеспечивает наше окружение почти всеми необходимыми библиотеками и поэтому в большинстве случаев ничего устанавливать дополнительно не будет нужно.\n",
    "\n",
    "При использовании вы увидете много сходств с jupyter ноутбуком. Одним из преимуществ является доступность GPU, соответствующую опцию можно активировать в настройках сервиса. При желании вы сможете найти в интернете много туториалов по использованию или разобраться самостоятельно =)\n",
    "\n",
    "Для справки, jupyter-ноутбук в Google Colab запущен на виртуальной машине под управлением ОС Ubuntu. Из ячеек кода ноутбука можно передавать напрямую команды bash операционной системе через восклицательный знак:\n",
    "\n",
    "```\n",
    "!<your command>\n",
    "```\n",
    "\n",
    "Таким образом можно устанавливать дополнительные пакеты Python, которых нет в данном окружении по умолчанию.\n",
    "\n",
    "Ноутбук состоит из ячеек, каждая из которых может быть либо ячейкой с кодом, либо ячейкой с текстом размеченным и неразмеченным. Текст поддерживает markdown-разметку и формулы в Latex.\n",
    "\n",
    "Для работы с содержимым ячейки используется *режим редактирования* (*Edit mode*, включается нажатием клавиши **Enter** после выбора ячейки), а для навигации между ячейками искользуется *командный режим* (*Command mode*, включается нажатием клавиши **Esc**). Тип ячейки можно задать в командном режиме либо с помощью горячих клавиш (**y** to code, **m** to markdown, **r** to edit raw text), либо в меню *Cell -> Cell type*. \n",
    "\n",
    "После заполнения ячейки нужно нажать *Shift + Enter*, эта команда обработает содержимое ячейки: проинтерпретирует код или сверстает размеченный текст."
   ]
  },
  {
   "cell_type": "code",
   "execution_count": 1,
   "metadata": {
    "colab": {
     "base_uri": "https://localhost:8080/"
    },
    "executionInfo": {
     "elapsed": 272,
     "status": "ok",
     "timestamp": 1643899667106,
     "user": {
      "displayName": "Andrew Laptev",
      "photoUrl": "https://lh3.googleusercontent.com/a-/AOh14GiX4HHxHGGkyuy4J0SeRrRrUQTEOQgv6zCgmp_7=s64",
      "userId": "04618844592981676343"
     },
     "user_tz": -180
    },
    "id": "aQ2_j3nkhLuq",
    "outputId": "695891d4-6e20-4a4d-e17c-8d3dabceddae"
   },
   "outputs": [
    {
     "data": {
      "text/plain": [
       "4"
      ]
     },
     "execution_count": 1,
     "metadata": {},
     "output_type": "execute_result"
    }
   ],
   "source": [
    "# ячейка с кодом, при выполнении которой появится output\n",
    "2 + 2"
   ]
  },
  {
   "cell_type": "markdown",
   "metadata": {
    "id": "A4wkVlIehLur"
   },
   "source": [
    "Попробуйте создать свои ячейки, написать какой-нибудь код и текст какой-нибудь формулой."
   ]
  },
  {
   "cell_type": "code",
   "execution_count": 2,
   "metadata": {
    "id": "BIuaYSvqhLus"
   },
   "outputs": [
    {
     "name": "stdout",
     "output_type": "stream",
     "text": [
      "Lets compute the mean value of the array: 0.13308707764098146\n"
     ]
    }
   ],
   "source": [
    "import numpy as np\n",
    "\n",
    "array = np.random.normal(0, 1, size=100)\n",
    "\n",
    "print(f'Lets compute the mean value of the array: {array.mean()}')"
   ]
  },
  {
   "cell_type": "markdown",
   "metadata": {
    "id": "iWs6ljrIhLus"
   },
   "source": [
    "[Здесь](https://athena.brynmawr.edu/jupyter/hub/dblank/public/Jupyter%20Notebook%20Users%20Manual.ipynb) находится <s>не</s>большая заметка о используемом языке разметки Markdown. Он позволяет:\n",
    "\n",
    "0. Составлять упорядоченные списки\n",
    "1. Выделять *текст* <s>при</s> **необходимости**\n",
    "2. Добавлять [ссылки](http://imgs.xkcd.com/comics/the_universal_label.png)\n",
    "\n",
    "\n",
    "* Составлять неупорядоченные списки\n",
    "\n",
    "Делать вставки с помощью LaTex:\n",
    "    \n",
    "$\n",
    "\\left\\{\n",
    "\\begin{array}{ll}\n",
    "x = 16 \\sin^3 (t) \\\\ \n",
    "y = 13 \\cos (t) - 5 \\cos (2t) - 2 \\cos (3t) - \\cos (4t) \\\\\n",
    "t \\in [0, 2 \\pi]\n",
    "\\end{array}\n",
    "\\right.$"
   ]
  },
  {
   "cell_type": "markdown",
   "metadata": {
    "id": "6fmTGcXOhLus"
   },
   "source": [
    "А ещё можно вставлять картинки, или гифки, или что захотите:\n",
    "\n",
    "<img src=\"https://media1.tenor.com/images/9b8fbe9214504bcf6c60fe4e4f7e114e/tenor.gif?itemid=5416416\" style=\"width: 400px\">"
   ]
  },
  {
   "cell_type": "markdown",
   "metadata": {
    "id": "sUe2vnFGhLuu"
   },
   "source": [
    "## 1. Табличные данные и Pandas"
   ]
  },
  {
   "cell_type": "markdown",
   "metadata": {
    "id": "DJQzjjqJhLuu"
   },
   "source": [
    "Pandas — удобная библиотека для работы с табличными данными в Python, если данных не слишком много и они помещаются в оперативную память вашего компьютера. Несмотря на неэффективность реализации и некоторые проблемы, библиотека стала стандартом в анализе данных.\n",
    "\n",
    "Основной объект в pandas — это DataFrame, представляющий собой таблицу с именованными колонками различных типов, индексом (может быть многоуровневым). DataFrame можно создавать, считывая таблицу из файла или задавая вручную из других объектов. **Дефакто** в самом коде объект DataFrame принято называть **df**\n",
    "\n",
    "В этой части потребуется выполнить несколько небольших заданий. Можно пойти двумя путями: сначала изучить материалы, а потом приступить к заданиям, или же разбираться \"по ходу\". Выбирайте сами.\n",
    "\n",
    "Материалы:\n",
    "1. [Pandas за 10 минут из официального руководства](http://pandas.pydata.org/pandas-docs/stable/10min.html)\n",
    "2. [Документация](http://pandas.pydata.org/pandas-docs/stable/index.html) (стоит обращаться, если не понятно, как вызывать конкретный метод)\n",
    "3. [Примеры использования функционала](http://nbviewer.jupyter.org/github/justmarkham/pandas-videos/blob/master/pandas.ipynb)\n",
    "\n",
    "Многие из заданий можно выполнить несколькими способами. Не существуют единственно верного, но попробуйте максимально задействовать арсенал pandas и ориентируйтесь на простоту и понятность вашего кода. Мы не будем подсказывать, что нужно использовать для решения конкретной задачи, попробуйте находить необходимый функционал сами (название метода чаще всего очевидно). В помощь вам документация, поиск и stackoverflow."
   ]
  },
  {
   "cell_type": "markdown",
   "metadata": {
    "id": "dneJl9TyhLuv"
   },
   "source": [
    "Скачаем данные:"
   ]
  },
  {
   "cell_type": "code",
   "execution_count": 3,
   "metadata": {
    "id": "rj_I0RslhLuw"
   },
   "outputs": [],
   "source": [
    "# !wget  -O 'end_seminar.xlsx' -q 'https://www.dropbox.com/s/f4rm8sjc3v99p0m/_end_seminar.xlsx?dl=0'"
   ]
  },
  {
   "cell_type": "markdown",
   "metadata": {
    "id": "VFs_6IythLux"
   },
   "source": [
    "##### В первой части задания (до раздела \"Распределение студентов по курсам\") **использование циклов запрещается** и повлечет за собой снижение оценки. Использование <code>vectorize</code> и  <code>apply</code>, <code>apply_along_axis</code> крайне нежелательно."
   ]
  },
  {
   "cell_type": "markdown",
   "metadata": {
    "id": "shFkfJkohLux"
   },
   "source": [
    "Для каждой задачи из этого раздела вы должны написать код для получения ответа, а также дать текстовый ответ, если он предполагается.\n",
    "\n",
    "На некоторые вопросы вы можете получить путём пристального взгляда на таблицу, но это не будет засчитываться. Вы в любом случае должны получить ответ с помощью кода."
   ]
  },
  {
   "cell_type": "markdown",
   "metadata": {
    "id": "gDD85M7bhLux"
   },
   "source": [
    "#### 1. Откройте файл с таблицей (не забудьте про её формат). Выведите последние 10 строк.\n",
    "\n",
    "Посмотрите на данные и скажите, что они из себя представляют, сколько в таблице строк, какие столбцы? (на это не надо отвечать, просто подумайте об этом)"
   ]
  },
  {
   "cell_type": "code",
   "execution_count": 4,
   "metadata": {
    "colab": {
     "base_uri": "https://localhost:8080/"
    },
    "executionInfo": {
     "elapsed": 4617,
     "status": "ok",
     "timestamp": 1644578336532,
     "user": {
      "displayName": "Andrew Laptev",
      "photoUrl": "https://lh3.googleusercontent.com/a-/AOh14GiX4HHxHGGkyuy4J0SeRrRrUQTEOQgv6zCgmp_7=s64",
      "userId": "04618844592981676343"
     },
     "user_tz": -180
    },
    "id": "if3C4FkVDJ_z",
    "outputId": "af28ee20-80a8-419a-be59-ecac41c93db1"
   },
   "outputs": [],
   "source": [
    "# !pip install openpyxl==3.0.9 # установка определенной версии пакета Python для чтения Excel файлов"
   ]
  },
  {
   "cell_type": "code",
   "execution_count": 5,
   "metadata": {
    "id": "PKulur3LhLuy"
   },
   "outputs": [],
   "source": [
    "import pandas as pd\n",
    "\n",
    "data = pd.read_excel('end_seminar.xlsx')"
   ]
  },
  {
   "cell_type": "code",
   "execution_count": 6,
   "metadata": {},
   "outputs": [
    {
     "data": {
      "text/html": [
       "<div>\n",
       "<style scoped>\n",
       "    .dataframe tbody tr th:only-of-type {\n",
       "        vertical-align: middle;\n",
       "    }\n",
       "\n",
       "    .dataframe tbody tr th {\n",
       "        vertical-align: top;\n",
       "    }\n",
       "\n",
       "    .dataframe thead th {\n",
       "        text-align: right;\n",
       "    }\n",
       "</style>\n",
       "<table border=\"1\" class=\"dataframe\">\n",
       "  <thead>\n",
       "    <tr style=\"text-align: right;\">\n",
       "      <th></th>\n",
       "      <th>timestamp</th>\n",
       "      <th>id</th>\n",
       "      <th>rating</th>\n",
       "      <th>18_group</th>\n",
       "      <th>is_mi</th>\n",
       "      <th>fall_1</th>\n",
       "      <th>fall_2</th>\n",
       "      <th>fall_3</th>\n",
       "      <th>spring_1</th>\n",
       "      <th>spring_2</th>\n",
       "      <th>spring_3</th>\n",
       "      <th>is_first_time</th>\n",
       "      <th>percentile</th>\n",
       "      <th>17_group</th>\n",
       "      <th>blended</th>\n",
       "      <th>is_ml_student</th>\n",
       "    </tr>\n",
       "  </thead>\n",
       "  <tbody>\n",
       "    <tr>\n",
       "      <th>351</th>\n",
       "      <td>2020-05-18 23:58:33.903</td>\n",
       "      <td>8fe79f84f36e3a5d2d6745621321302c</td>\n",
       "      <td>1016</td>\n",
       "      <td>NaN</td>\n",
       "      <td>NaN</td>\n",
       "      <td>Безопасность компьютерных систем</td>\n",
       "      <td>Высокопроизводительные вычисления</td>\n",
       "      <td>Сбор и обработка данных с помощью краудсорсинга</td>\n",
       "      <td>Конфликты и кооперация</td>\n",
       "      <td>Проектирование и разработка высоконагруженных ...</td>\n",
       "      <td>Символьные вычисления</td>\n",
       "      <td>Да</td>\n",
       "      <td>0.942029</td>\n",
       "      <td>174.0</td>\n",
       "      <td>DevOps</td>\n",
       "      <td>NaN</td>\n",
       "    </tr>\n",
       "    <tr>\n",
       "      <th>352</th>\n",
       "      <td>2020-05-18 23:59:20.831</td>\n",
       "      <td>f93afd8e92c336b471aa3bbbc579aefe</td>\n",
       "      <td>1298</td>\n",
       "      <td>NaN</td>\n",
       "      <td>NaN</td>\n",
       "      <td>Высокопроизводительные вычисления</td>\n",
       "      <td>Сбор и обработка данных с помощью краудсорсинга</td>\n",
       "      <td>Statistical Learning Theory</td>\n",
       "      <td>Методы сжатия и передачи медиаданных</td>\n",
       "      <td>Проектирование и разработка высоконагруженных ...</td>\n",
       "      <td>Конфликты и кооперация</td>\n",
       "      <td>Да</td>\n",
       "      <td>0.057971</td>\n",
       "      <td>175.0</td>\n",
       "      <td>DevOps</td>\n",
       "      <td>NaN</td>\n",
       "    </tr>\n",
       "    <tr>\n",
       "      <th>353</th>\n",
       "      <td>2020-05-18 23:59:28.998</td>\n",
       "      <td>9963fc00d9405a35b894cc04a7e19855</td>\n",
       "      <td>1135</td>\n",
       "      <td>NaN</td>\n",
       "      <td>NaN</td>\n",
       "      <td>Безопасность компьютерных систем</td>\n",
       "      <td>Высокопроизводительные вычисления</td>\n",
       "      <td>Безопасность компьютерных систем</td>\n",
       "      <td>Проектирование и разработка высоконагруженных ...</td>\n",
       "      <td>Методы сжатия и передачи медиаданных</td>\n",
       "      <td>Символьные вычисления</td>\n",
       "      <td>Да</td>\n",
       "      <td>0.572464</td>\n",
       "      <td>175.0</td>\n",
       "      <td>DevOps</td>\n",
       "      <td>NaN</td>\n",
       "    </tr>\n",
       "    <tr>\n",
       "      <th>354</th>\n",
       "      <td>2020-05-19 08:55:39.509</td>\n",
       "      <td>98c5a2548d93f26bd4195466e93178b3</td>\n",
       "      <td>1035</td>\n",
       "      <td>NaN</td>\n",
       "      <td>NaN</td>\n",
       "      <td>Байесовские методы машинного обучения</td>\n",
       "      <td>Глубинное обучение в обработке звука</td>\n",
       "      <td>Statistical Learning Theory</td>\n",
       "      <td>Обучение с подкреплением</td>\n",
       "      <td>Генеративные модели в машинном обучении</td>\n",
       "      <td>Методы сжатия и передачи медиаданных</td>\n",
       "      <td>Нет</td>\n",
       "      <td>0.905797</td>\n",
       "      <td>171.0</td>\n",
       "      <td>DevOps</td>\n",
       "      <td>NaN</td>\n",
       "    </tr>\n",
       "    <tr>\n",
       "      <th>355</th>\n",
       "      <td>2020-05-19 18:58:06.283</td>\n",
       "      <td>ba298cbd9be59b84bab33325e956f27e</td>\n",
       "      <td>1155</td>\n",
       "      <td>NaN</td>\n",
       "      <td>NaN</td>\n",
       "      <td>Сбор и обработка данных с помощью краудсорсинга</td>\n",
       "      <td>Байесовские методы машинного обучения</td>\n",
       "      <td>Анализ неструктурированных данных</td>\n",
       "      <td>Конфликты и кооперация</td>\n",
       "      <td>Обучение с подкреплением</td>\n",
       "      <td>Компьютерное зрение</td>\n",
       "      <td>Да</td>\n",
       "      <td>0.507246</td>\n",
       "      <td>171.0</td>\n",
       "      <td>Соревновательный анализ данных</td>\n",
       "      <td>NaN</td>\n",
       "    </tr>\n",
       "    <tr>\n",
       "      <th>356</th>\n",
       "      <td>2020-05-19 19:04:17.873</td>\n",
       "      <td>c5870b37ee3f672e4259dfb2fc02ed8f</td>\n",
       "      <td>1029</td>\n",
       "      <td>NaN</td>\n",
       "      <td>NaN</td>\n",
       "      <td>Statistical Learning Theory</td>\n",
       "      <td>Анализ неструктурированных данных</td>\n",
       "      <td>Сбор и обработка данных с помощью краудсорсинга</td>\n",
       "      <td>Обучение с подкреплением</td>\n",
       "      <td>Конфликты и кооперация</td>\n",
       "      <td>Компьютерное зрение</td>\n",
       "      <td>Да</td>\n",
       "      <td>0.920290</td>\n",
       "      <td>174.0</td>\n",
       "      <td>DevOps</td>\n",
       "      <td>NaN</td>\n",
       "    </tr>\n",
       "    <tr>\n",
       "      <th>357</th>\n",
       "      <td>2020-05-19 20:19:25.815</td>\n",
       "      <td>f44aea1095f9f5b8e2f5f0ed2b17891b</td>\n",
       "      <td>1060</td>\n",
       "      <td>NaN</td>\n",
       "      <td>NaN</td>\n",
       "      <td>Анализ неструктурированных данных</td>\n",
       "      <td>Высокопроизводительные вычисления</td>\n",
       "      <td>Моделирование временных рядов</td>\n",
       "      <td>Конфликты и кооперация</td>\n",
       "      <td>Обучение с подкреплением</td>\n",
       "      <td>Численные методы</td>\n",
       "      <td>Да</td>\n",
       "      <td>0.840580</td>\n",
       "      <td>174.0</td>\n",
       "      <td>DevOps</td>\n",
       "      <td>NaN</td>\n",
       "    </tr>\n",
       "    <tr>\n",
       "      <th>358</th>\n",
       "      <td>2020-05-20 11:54:38.318</td>\n",
       "      <td>d7118b44c7e8fdbbaaca226d2da6fef1</td>\n",
       "      <td>1111</td>\n",
       "      <td>NaN</td>\n",
       "      <td>NaN</td>\n",
       "      <td>Сбор и обработка данных с помощью краудсорсинга</td>\n",
       "      <td>Statistical Learning Theory</td>\n",
       "      <td>Анализ неструктурированных данных</td>\n",
       "      <td>Проектирование и разработка высоконагруженных ...</td>\n",
       "      <td>Методы сжатия и передачи медиаданных</td>\n",
       "      <td>Численные методы</td>\n",
       "      <td>Да</td>\n",
       "      <td>0.652174</td>\n",
       "      <td>173.0</td>\n",
       "      <td>Соревновательный анализ данных</td>\n",
       "      <td>NaN</td>\n",
       "    </tr>\n",
       "    <tr>\n",
       "      <th>359</th>\n",
       "      <td>2020-05-23 21:16:40.916</td>\n",
       "      <td>79d14db48e4737af731960ae212d5134</td>\n",
       "      <td>966</td>\n",
       "      <td>NaN</td>\n",
       "      <td>NaN</td>\n",
       "      <td>Безопасность компьютерных систем</td>\n",
       "      <td>Принятие решений в условиях риска и неопределё...</td>\n",
       "      <td>Анализ неструктурированных данных</td>\n",
       "      <td>Проектирование и разработка высоконагруженных ...</td>\n",
       "      <td>Методы сжатия и передачи медиаданных</td>\n",
       "      <td>Компьютерное зрение</td>\n",
       "      <td>Да</td>\n",
       "      <td>0.985507</td>\n",
       "      <td>172.0</td>\n",
       "      <td>DevOps</td>\n",
       "      <td>NaN</td>\n",
       "    </tr>\n",
       "    <tr>\n",
       "      <th>360</th>\n",
       "      <td>2020-05-23 21:16:40.916</td>\n",
       "      <td>f2d210ace25a841e1e58036b257d5d47</td>\n",
       "      <td>1195</td>\n",
       "      <td>NaN</td>\n",
       "      <td>NaN</td>\n",
       "      <td>Анализ неструктурированных данных</td>\n",
       "      <td>Моделирование временных рядов</td>\n",
       "      <td>Высокопроизводительные вычисления</td>\n",
       "      <td>Обучение с подкреплением</td>\n",
       "      <td>Компьютерное зрение</td>\n",
       "      <td>Методы сжатия и передачи медиаданных</td>\n",
       "      <td>NaN</td>\n",
       "      <td>0.369565</td>\n",
       "      <td>176.0</td>\n",
       "      <td>Соревновательный анализ данных</td>\n",
       "      <td>NaN</td>\n",
       "    </tr>\n",
       "  </tbody>\n",
       "</table>\n",
       "</div>"
      ],
      "text/plain": [
       "                  timestamp                                id  rating  \\\n",
       "351 2020-05-18 23:58:33.903  8fe79f84f36e3a5d2d6745621321302c    1016   \n",
       "352 2020-05-18 23:59:20.831  f93afd8e92c336b471aa3bbbc579aefe    1298   \n",
       "353 2020-05-18 23:59:28.998  9963fc00d9405a35b894cc04a7e19855    1135   \n",
       "354 2020-05-19 08:55:39.509  98c5a2548d93f26bd4195466e93178b3    1035   \n",
       "355 2020-05-19 18:58:06.283  ba298cbd9be59b84bab33325e956f27e    1155   \n",
       "356 2020-05-19 19:04:17.873  c5870b37ee3f672e4259dfb2fc02ed8f    1029   \n",
       "357 2020-05-19 20:19:25.815  f44aea1095f9f5b8e2f5f0ed2b17891b    1060   \n",
       "358 2020-05-20 11:54:38.318  d7118b44c7e8fdbbaaca226d2da6fef1    1111   \n",
       "359 2020-05-23 21:16:40.916  79d14db48e4737af731960ae212d5134     966   \n",
       "360 2020-05-23 21:16:40.916  f2d210ace25a841e1e58036b257d5d47    1195   \n",
       "\n",
       "     18_group  is_mi                                           fall_1  \\\n",
       "351       NaN    NaN                 Безопасность компьютерных систем   \n",
       "352       NaN    NaN                Высокопроизводительные вычисления   \n",
       "353       NaN    NaN                 Безопасность компьютерных систем   \n",
       "354       NaN    NaN            Байесовские методы машинного обучения   \n",
       "355       NaN    NaN  Сбор и обработка данных с помощью краудсорсинга   \n",
       "356       NaN    NaN                      Statistical Learning Theory   \n",
       "357       NaN    NaN                Анализ неструктурированных данных   \n",
       "358       NaN    NaN  Сбор и обработка данных с помощью краудсорсинга   \n",
       "359       NaN    NaN                 Безопасность компьютерных систем   \n",
       "360       NaN    NaN                Анализ неструктурированных данных   \n",
       "\n",
       "                                                fall_2  \\\n",
       "351                  Высокопроизводительные вычисления   \n",
       "352    Сбор и обработка данных с помощью краудсорсинга   \n",
       "353                  Высокопроизводительные вычисления   \n",
       "354               Глубинное обучение в обработке звука   \n",
       "355              Байесовские методы машинного обучения   \n",
       "356                  Анализ неструктурированных данных   \n",
       "357                  Высокопроизводительные вычисления   \n",
       "358                        Statistical Learning Theory   \n",
       "359  Принятие решений в условиях риска и неопределё...   \n",
       "360                      Моделирование временных рядов   \n",
       "\n",
       "                                              fall_3  \\\n",
       "351  Сбор и обработка данных с помощью краудсорсинга   \n",
       "352                      Statistical Learning Theory   \n",
       "353                 Безопасность компьютерных систем   \n",
       "354                      Statistical Learning Theory   \n",
       "355                Анализ неструктурированных данных   \n",
       "356  Сбор и обработка данных с помощью краудсорсинга   \n",
       "357                    Моделирование временных рядов   \n",
       "358                Анализ неструктурированных данных   \n",
       "359                Анализ неструктурированных данных   \n",
       "360                Высокопроизводительные вычисления   \n",
       "\n",
       "                                              spring_1  \\\n",
       "351                             Конфликты и кооперация   \n",
       "352               Методы сжатия и передачи медиаданных   \n",
       "353  Проектирование и разработка высоконагруженных ...   \n",
       "354                           Обучение с подкреплением   \n",
       "355                             Конфликты и кооперация   \n",
       "356                           Обучение с подкреплением   \n",
       "357                             Конфликты и кооперация   \n",
       "358  Проектирование и разработка высоконагруженных ...   \n",
       "359  Проектирование и разработка высоконагруженных ...   \n",
       "360                           Обучение с подкреплением   \n",
       "\n",
       "                                              spring_2  \\\n",
       "351  Проектирование и разработка высоконагруженных ...   \n",
       "352  Проектирование и разработка высоконагруженных ...   \n",
       "353               Методы сжатия и передачи медиаданных   \n",
       "354            Генеративные модели в машинном обучении   \n",
       "355                           Обучение с подкреплением   \n",
       "356                             Конфликты и кооперация   \n",
       "357                           Обучение с подкреплением   \n",
       "358               Методы сжатия и передачи медиаданных   \n",
       "359               Методы сжатия и передачи медиаданных   \n",
       "360                                Компьютерное зрение   \n",
       "\n",
       "                                 spring_3 is_first_time  percentile  17_group  \\\n",
       "351                 Символьные вычисления            Да    0.942029     174.0   \n",
       "352                Конфликты и кооперация            Да    0.057971     175.0   \n",
       "353                 Символьные вычисления            Да    0.572464     175.0   \n",
       "354  Методы сжатия и передачи медиаданных           Нет    0.905797     171.0   \n",
       "355                   Компьютерное зрение            Да    0.507246     171.0   \n",
       "356                   Компьютерное зрение            Да    0.920290     174.0   \n",
       "357                      Численные методы            Да    0.840580     174.0   \n",
       "358                      Численные методы            Да    0.652174     173.0   \n",
       "359                   Компьютерное зрение            Да    0.985507     172.0   \n",
       "360  Методы сжатия и передачи медиаданных           NaN    0.369565     176.0   \n",
       "\n",
       "                            blended  is_ml_student  \n",
       "351                          DevOps            NaN  \n",
       "352                          DevOps            NaN  \n",
       "353                          DevOps            NaN  \n",
       "354                          DevOps            NaN  \n",
       "355  Соревновательный анализ данных            NaN  \n",
       "356                          DevOps            NaN  \n",
       "357                          DevOps            NaN  \n",
       "358  Соревновательный анализ данных            NaN  \n",
       "359                          DevOps            NaN  \n",
       "360  Соревновательный анализ данных            NaN  "
      ]
     },
     "execution_count": 6,
     "metadata": {},
     "output_type": "execute_result"
    }
   ],
   "source": [
    "data.tail(10)"
   ]
  },
  {
   "cell_type": "code",
   "execution_count": 7,
   "metadata": {},
   "outputs": [
    {
     "data": {
      "text/plain": [
       "(361, 16)"
      ]
     },
     "execution_count": 7,
     "metadata": {},
     "output_type": "execute_result"
    }
   ],
   "source": [
    "data.shape"
   ]
  },
  {
   "cell_type": "code",
   "execution_count": 8,
   "metadata": {},
   "outputs": [
    {
     "data": {
      "text/plain": [
       "timestamp        datetime64[ns]\n",
       "id                       object\n",
       "rating                    int64\n",
       "18_group                float64\n",
       "is_mi                   float64\n",
       "fall_1                   object\n",
       "fall_2                   object\n",
       "fall_3                   object\n",
       "spring_1                 object\n",
       "spring_2                 object\n",
       "spring_3                 object\n",
       "is_first_time            object\n",
       "percentile              float64\n",
       "17_group                float64\n",
       "blended                  object\n",
       "is_ml_student           float64\n",
       "dtype: object"
      ]
     },
     "execution_count": 8,
     "metadata": {},
     "output_type": "execute_result"
    }
   ],
   "source": [
    "data.dtypes"
   ]
  },
  {
   "cell_type": "markdown",
   "metadata": {
    "id": "Jhk3tVpVhLuy"
   },
   "source": [
    "#### 2. Ответьте на вопросы (0.5 балла):\n",
    "1. Сколько было заявок из групп 18-го года набора, а сколько из групп 17-го года?\n",
    "2. Есть ли студенты с равными перцентилями?"
   ]
  },
  {
   "cell_type": "markdown",
   "metadata": {},
   "source": [
    "#### 1.\n",
    "17 -- 138; 18 -- 223"
   ]
  },
  {
   "cell_type": "code",
   "execution_count": 9,
   "metadata": {},
   "outputs": [
    {
     "data": {
      "text/plain": [
       "138"
      ]
     },
     "execution_count": 9,
     "metadata": {},
     "output_type": "execute_result"
    }
   ],
   "source": [
    "data['17_group'].value_counts().sum()"
   ]
  },
  {
   "cell_type": "code",
   "execution_count": 10,
   "metadata": {},
   "outputs": [
    {
     "data": {
      "text/plain": [
       "223"
      ]
     },
     "execution_count": 10,
     "metadata": {},
     "output_type": "execute_result"
    }
   ],
   "source": [
    "data['18_group'].value_counts().sum()"
   ]
  },
  {
   "cell_type": "markdown",
   "metadata": {},
   "source": [
    "#### 2.\n",
    "Есть, некоторые значения повторяются"
   ]
  },
  {
   "cell_type": "code",
   "execution_count": 11,
   "metadata": {
    "id": "bsn4vn8RhLuy"
   },
   "outputs": [
    {
     "data": {
      "text/plain": [
       "0.807971    2\n",
       "0.795964    2\n",
       "0.773543    2\n",
       "0.526906    2\n",
       "0.293478    2\n",
       "           ..\n",
       "0.560538    1\n",
       "0.843049    1\n",
       "0.385650    1\n",
       "0.739910    1\n",
       "0.369565    1\n",
       "Name: percentile, Length: 346, dtype: int64"
      ]
     },
     "execution_count": 11,
     "metadata": {},
     "output_type": "execute_result"
    }
   ],
   "source": [
    "data.percentile.value_counts()"
   ]
  },
  {
   "cell_type": "markdown",
   "metadata": {
    "id": "jPiMwyqHhLuy"
   },
   "source": [
    "#### 3. Есть ли в данных пропуски? В каких колонках? Сколько их в каждой из этих колонок? (0.5 балла)"
   ]
  },
  {
   "cell_type": "markdown",
   "metadata": {},
   "source": [
    "#### Ответ:\n",
    "Пропуски есть у признаков 18_group, is_mi, 17_group, blended, is_ml_student. Количество представлено ниже"
   ]
  },
  {
   "cell_type": "code",
   "execution_count": 12,
   "metadata": {
    "id": "edY1RrSOhLuy"
   },
   "outputs": [
    {
     "data": {
      "text/plain": [
       "timestamp          0\n",
       "id                 0\n",
       "rating             0\n",
       "18_group         138\n",
       "is_mi            343\n",
       "fall_1             0\n",
       "fall_2             0\n",
       "fall_3             0\n",
       "spring_1           0\n",
       "spring_2           0\n",
       "spring_3           0\n",
       "is_first_time      2\n",
       "percentile         0\n",
       "17_group         223\n",
       "blended          223\n",
       "is_ml_student    304\n",
       "dtype: int64"
      ]
     },
     "execution_count": 12,
     "metadata": {},
     "output_type": "execute_result"
    }
   ],
   "source": [
    "data.isna().sum()"
   ]
  },
  {
   "cell_type": "markdown",
   "metadata": {
    "id": "B5ORhP2uhLuz"
   },
   "source": [
    "Заполните пропуски пустой строкой для строковых колонок и нулём для числовых."
   ]
  },
  {
   "cell_type": "code",
   "execution_count": 13,
   "metadata": {
    "id": "TlF_JJ2ghLuz"
   },
   "outputs": [
    {
     "data": {
      "text/plain": [
       "18_group         float64\n",
       "is_mi            float64\n",
       "17_group         float64\n",
       "blended           object\n",
       "is_ml_student    float64\n",
       "is_first_time     object\n",
       "dtype: object"
      ]
     },
     "execution_count": 13,
     "metadata": {},
     "output_type": "execute_result"
    }
   ],
   "source": [
    "data[['18_group', 'is_mi', '17_group', 'blended', 'is_ml_student', 'is_first_time']].dtypes"
   ]
  },
  {
   "cell_type": "code",
   "execution_count": 14,
   "metadata": {},
   "outputs": [],
   "source": [
    "data[['blended', 'is_first_time']] = data[['blended', 'is_first_time']].fillna('')"
   ]
  },
  {
   "cell_type": "code",
   "execution_count": 15,
   "metadata": {},
   "outputs": [],
   "source": [
    "data[['18_group', 'is_mi', '17_group', 'is_ml_student']] = \\\n",
    "     data[['18_group', 'is_mi', '17_group', 'is_ml_student']].fillna(0)"
   ]
  },
  {
   "cell_type": "code",
   "execution_count": 16,
   "metadata": {},
   "outputs": [
    {
     "data": {
      "text/plain": [
       "timestamp        0\n",
       "id               0\n",
       "rating           0\n",
       "18_group         0\n",
       "is_mi            0\n",
       "fall_1           0\n",
       "fall_2           0\n",
       "fall_3           0\n",
       "spring_1         0\n",
       "spring_2         0\n",
       "spring_3         0\n",
       "is_first_time    0\n",
       "percentile       0\n",
       "17_group         0\n",
       "blended          0\n",
       "is_ml_student    0\n",
       "dtype: int64"
      ]
     },
     "execution_count": 16,
     "metadata": {},
     "output_type": "execute_result"
    }
   ],
   "source": [
    "data.isna().sum()"
   ]
  },
  {
   "cell_type": "markdown",
   "metadata": {
    "id": "w5ELhkT1hLuz"
   },
   "source": [
    "#### 4. Посмотрите повнимательнее на колонку 'is_first_time' (0.5 балла)\n",
    "\n",
    "Есть ли в ней ответы \"Нет\"? Сколько их?\n",
    "\n",
    "Если вы найдете повторные обращения студентов, оставьте только самую позднюю версию. <i>Обращения со значением \"Нет\" в <code>is_first_time</code> могут быть как повторными, так и первичными, поскольку поле заполняли сами студенты.</i>"
   ]
  },
  {
   "cell_type": "markdown",
   "metadata": {},
   "source": [
    "### Ответ:\n",
    "Всего 51 ответ НЕТ. Так как мы не можем удалить все значения Нет, из-за того что студенты сами заполняли анкету, то посмотрми на повторяющиеся индентификаторы."
   ]
  },
  {
   "cell_type": "code",
   "execution_count": 17,
   "metadata": {
    "id": "VEfiNsyQhLuz"
   },
   "outputs": [
    {
     "data": {
      "text/plain": [
       "Да     308\n",
       "Нет     51\n",
       "         2\n",
       "Name: is_first_time, dtype: int64"
      ]
     },
     "execution_count": 17,
     "metadata": {},
     "output_type": "execute_result"
    }
   ],
   "source": [
    "data['is_first_time'].value_counts()"
   ]
  },
  {
   "cell_type": "code",
   "execution_count": 18,
   "metadata": {},
   "outputs": [
    {
     "data": {
      "text/plain": [
       "14"
      ]
     },
     "execution_count": 18,
     "metadata": {},
     "output_type": "execute_result"
    }
   ],
   "source": [
    "len(data['id'].value_counts().loc[(data['id'].value_counts() >= 2) == True])"
   ]
  },
  {
   "cell_type": "markdown",
   "metadata": {},
   "source": [
    "То есть всего 28 повторных. Отсортируем датасет и удалим дупликаты оставив последнее значение этого дупликата."
   ]
  },
  {
   "cell_type": "code",
   "execution_count": 19,
   "metadata": {},
   "outputs": [],
   "source": [
    "data = data.sort_values(by='timestamp').drop_duplicates('id', keep='last')"
   ]
  },
  {
   "cell_type": "code",
   "execution_count": 20,
   "metadata": {},
   "outputs": [
    {
     "data": {
      "text/plain": [
       "0"
      ]
     },
     "execution_count": 20,
     "metadata": {},
     "output_type": "execute_result"
    }
   ],
   "source": [
    "len(data['id'].value_counts().loc[(data['id'].value_counts() >= 2) == True]) #после проверки видно что дубликатов нет"
   ]
  },
  {
   "cell_type": "code",
   "execution_count": null,
   "metadata": {},
   "outputs": [],
   "source": []
  },
  {
   "cell_type": "code",
   "execution_count": null,
   "metadata": {},
   "outputs": [],
   "source": []
  },
  {
   "cell_type": "markdown",
   "metadata": {
    "id": "IlzHp3HVhLuz"
   },
   "source": [
    "#### 5. Какие  blended-курсы для четверокурсников существуют? На какой blended-курс записалось наибольшее количество студентов? На каком из курсов собрались студенты с самым высоким средним рейтингом? (0.5 балла)"
   ]
  },
  {
   "cell_type": "markdown",
   "metadata": {},
   "source": [
    "### Ответ:\n",
    "Можно по разному интерпретировать поскольку не понятно что означают пропуски, первый вариант всего 4 вида курсов, три с названиями и у одного пропущенно название, другой вариант три вида курсов, просто некоторые студенты не заполнили информацию.\n",
    "\n",
    "Наибольшее количество записалось на курс без названия, либо если это просто пропуски, то на DevOps."
   ]
  },
  {
   "cell_type": "code",
   "execution_count": 21,
   "metadata": {
    "id": "j_BRWerHhLu0"
   },
   "outputs": [
    {
     "data": {
      "text/plain": [
       "                                         213\n",
       "DevOps                                    87\n",
       "Соревновательный анализ данных            32\n",
       "Введение в дифференциальную геометрию     15\n",
       "Name: blended, dtype: int64"
      ]
     },
     "execution_count": 21,
     "metadata": {},
     "output_type": "execute_result"
    }
   ],
   "source": [
    "data['blended'].value_counts()"
   ]
  },
  {
   "cell_type": "markdown",
   "metadata": {},
   "source": [
    "С самым высоким средним рейтингом студенты на курсе \"Введение в дифференциальную геометрию\""
   ]
  },
  {
   "cell_type": "code",
   "execution_count": 22,
   "metadata": {},
   "outputs": [
    {
     "data": {
      "text/plain": [
       "blended\n",
       "                                          633.901408\n",
       "DevOps                                   1154.172414\n",
       "Введение в дифференциальную геометрию    1210.733333\n",
       "Соревновательный анализ данных           1144.218750\n",
       "Name: rating, dtype: float64"
      ]
     },
     "execution_count": 22,
     "metadata": {},
     "output_type": "execute_result"
    }
   ],
   "source": [
    "data.groupby('blended')['rating'].mean()"
   ]
  },
  {
   "cell_type": "markdown",
   "metadata": {
    "id": "IU_FLt8HhLu0"
   },
   "source": [
    "#### 6. Выясните, есть ли в данных студенты с абсолютно одинаковыми предпочтениями по всем курсам (не забудьте учесть blended-курсы для четверокурсников). Сколько таких наборов, которые взяли несколько студентов? Выведите их все вместе с количеством выбравших их студентов (1 балл)\n",
    "\n",
    "<i>Предпочтения двух студентов считаются абсолютно одинаковыми, если выбранные ими дисциплины имеют одинаковый приоритет.</i>"
   ]
  },
  {
   "cell_type": "code",
   "execution_count": 23,
   "metadata": {},
   "outputs": [
    {
     "data": {
      "text/html": [
       "<div>\n",
       "<style scoped>\n",
       "    .dataframe tbody tr th:only-of-type {\n",
       "        vertical-align: middle;\n",
       "    }\n",
       "\n",
       "    .dataframe tbody tr th {\n",
       "        vertical-align: top;\n",
       "    }\n",
       "\n",
       "    .dataframe thead th {\n",
       "        text-align: right;\n",
       "    }\n",
       "</style>\n",
       "<table border=\"1\" class=\"dataframe\">\n",
       "  <thead>\n",
       "    <tr style=\"text-align: right;\">\n",
       "      <th></th>\n",
       "      <th>timestamp</th>\n",
       "      <th>id</th>\n",
       "      <th>rating</th>\n",
       "      <th>18_group</th>\n",
       "      <th>is_mi</th>\n",
       "      <th>fall_1</th>\n",
       "      <th>fall_2</th>\n",
       "      <th>fall_3</th>\n",
       "      <th>spring_1</th>\n",
       "      <th>spring_2</th>\n",
       "      <th>spring_3</th>\n",
       "      <th>is_first_time</th>\n",
       "      <th>percentile</th>\n",
       "      <th>17_group</th>\n",
       "      <th>blended</th>\n",
       "      <th>is_ml_student</th>\n",
       "    </tr>\n",
       "  </thead>\n",
       "  <tbody>\n",
       "    <tr>\n",
       "      <th>228</th>\n",
       "      <td>2020-05-14 21:10:58.417</td>\n",
       "      <td>8c3aa7371731bef999519c3de2c47423</td>\n",
       "      <td>1101</td>\n",
       "      <td>0.0</td>\n",
       "      <td>0.0</td>\n",
       "      <td>Безопасность компьютерных систем</td>\n",
       "      <td>Высокопроизводительные вычисления</td>\n",
       "      <td>Анализ неструктурированных данных</td>\n",
       "      <td>Проектирование и разработка высоконагруженных ...</td>\n",
       "      <td>Методы сжатия и передачи медиаданных</td>\n",
       "      <td>Конфликты и кооперация</td>\n",
       "      <td>Да</td>\n",
       "      <td>0.695652</td>\n",
       "      <td>176.0</td>\n",
       "      <td>DevOps</td>\n",
       "      <td>0.0</td>\n",
       "    </tr>\n",
       "    <tr>\n",
       "      <th>40</th>\n",
       "      <td>2020-05-17 00:54:43.939</td>\n",
       "      <td>d38ebd0ba564ea88de8015e116f811c8</td>\n",
       "      <td>546</td>\n",
       "      <td>187.0</td>\n",
       "      <td>0.0</td>\n",
       "      <td>Безопасность компьютерных систем</td>\n",
       "      <td>Высокопроизводительные вычисления</td>\n",
       "      <td>Язык SQL</td>\n",
       "      <td>Компьютерные сети</td>\n",
       "      <td>Промышленное программирование на языке Java</td>\n",
       "      <td>Дискретная оптимизация</td>\n",
       "      <td>Да</td>\n",
       "      <td>0.883408</td>\n",
       "      <td>0.0</td>\n",
       "      <td></td>\n",
       "      <td>0.0</td>\n",
       "    </tr>\n",
       "    <tr>\n",
       "      <th>274</th>\n",
       "      <td>2020-05-18 12:40:49.066</td>\n",
       "      <td>5d76b97bcf684f8a1ec03057dd94d416</td>\n",
       "      <td>1257</td>\n",
       "      <td>0.0</td>\n",
       "      <td>0.0</td>\n",
       "      <td>Высокопроизводительные вычисления</td>\n",
       "      <td>Сбор и обработка данных с помощью краудсорсинга</td>\n",
       "      <td>Моделирование временных рядов</td>\n",
       "      <td>Проектирование и разработка высоконагруженных ...</td>\n",
       "      <td>Методы сжатия и передачи медиаданных</td>\n",
       "      <td>Методы сжатия и передачи медиаданных</td>\n",
       "      <td>Да</td>\n",
       "      <td>0.137681</td>\n",
       "      <td>175.0</td>\n",
       "      <td>DevOps</td>\n",
       "      <td>0.0</td>\n",
       "    </tr>\n",
       "    <tr>\n",
       "      <th>278</th>\n",
       "      <td>2020-05-18 13:31:45.687</td>\n",
       "      <td>9775834d44b69d181c5fb0c0af57c783</td>\n",
       "      <td>1231</td>\n",
       "      <td>0.0</td>\n",
       "      <td>0.0</td>\n",
       "      <td>Байесовские методы машинного обучения</td>\n",
       "      <td>Анализ неструктурированных данных</td>\n",
       "      <td>Глубинное обучение в обработке звука</td>\n",
       "      <td>Обучение с подкреплением</td>\n",
       "      <td>Генеративные модели в машинном обучении</td>\n",
       "      <td>Компьютерное зрение</td>\n",
       "      <td>Да</td>\n",
       "      <td>0.210145</td>\n",
       "      <td>171.0</td>\n",
       "      <td>DevOps</td>\n",
       "      <td>0.0</td>\n",
       "    </tr>\n",
       "    <tr>\n",
       "      <th>72</th>\n",
       "      <td>2020-05-18 14:44:19.586</td>\n",
       "      <td>fa4860bc719aadedbb00ba027067a8b7</td>\n",
       "      <td>642</td>\n",
       "      <td>187.0</td>\n",
       "      <td>0.0</td>\n",
       "      <td>Безопасность компьютерных систем</td>\n",
       "      <td>Высокопроизводительные вычисления</td>\n",
       "      <td>Язык SQL</td>\n",
       "      <td>Компьютерные сети</td>\n",
       "      <td>Промышленное программирование на языке Java</td>\n",
       "      <td>Дискретная оптимизация</td>\n",
       "      <td>Да</td>\n",
       "      <td>0.448430</td>\n",
       "      <td>0.0</td>\n",
       "      <td></td>\n",
       "      <td>0.0</td>\n",
       "    </tr>\n",
       "    <tr>\n",
       "      <th>84</th>\n",
       "      <td>2020-05-18 17:22:56.786</td>\n",
       "      <td>bfe75c08c6b7e31d4e7d48c9c5fed69b</td>\n",
       "      <td>758</td>\n",
       "      <td>182.0</td>\n",
       "      <td>0.0</td>\n",
       "      <td>Безопасность компьютерных систем</td>\n",
       "      <td>Statistical Learning Theory</td>\n",
       "      <td>Матричные вычисления</td>\n",
       "      <td>Дискретная оптимизация</td>\n",
       "      <td>Промышленное программирование на языке Java</td>\n",
       "      <td>Дополнительные главы прикладной статистики</td>\n",
       "      <td>Да</td>\n",
       "      <td>0.022422</td>\n",
       "      <td>0.0</td>\n",
       "      <td></td>\n",
       "      <td>1.0</td>\n",
       "    </tr>\n",
       "    <tr>\n",
       "      <th>88</th>\n",
       "      <td>2020-05-18 17:56:00.688</td>\n",
       "      <td>044e038535ae5d2ff037150b77fdc6d1</td>\n",
       "      <td>710</td>\n",
       "      <td>182.0</td>\n",
       "      <td>0.0</td>\n",
       "      <td>Безопасность компьютерных систем</td>\n",
       "      <td>Statistical Learning Theory</td>\n",
       "      <td>Матричные вычисления</td>\n",
       "      <td>Дискретная оптимизация</td>\n",
       "      <td>Промышленное программирование на языке Java</td>\n",
       "      <td>Дополнительные главы прикладной статистики</td>\n",
       "      <td>Да</td>\n",
       "      <td>0.139013</td>\n",
       "      <td>0.0</td>\n",
       "      <td></td>\n",
       "      <td>1.0</td>\n",
       "    </tr>\n",
       "    <tr>\n",
       "      <th>291</th>\n",
       "      <td>2020-05-18 18:13:35.809</td>\n",
       "      <td>c976c868dd660e792ab82ba8d9e02506</td>\n",
       "      <td>1087</td>\n",
       "      <td>0.0</td>\n",
       "      <td>0.0</td>\n",
       "      <td>Высокопроизводительные вычисления</td>\n",
       "      <td>Безопасность компьютерных систем</td>\n",
       "      <td>Сбор и обработка данных с помощью краудсорсинга</td>\n",
       "      <td>Проектирование и разработка высоконагруженных ...</td>\n",
       "      <td>Методы сжатия и передачи медиаданных</td>\n",
       "      <td>Компьютерное зрение</td>\n",
       "      <td>Да</td>\n",
       "      <td>0.753623</td>\n",
       "      <td>176.0</td>\n",
       "      <td>DevOps</td>\n",
       "      <td>0.0</td>\n",
       "    </tr>\n",
       "    <tr>\n",
       "      <th>105</th>\n",
       "      <td>2020-05-18 19:25:39.947</td>\n",
       "      <td>5a6f07c1f6186408b43f0f8e729168e9</td>\n",
       "      <td>632</td>\n",
       "      <td>186.0</td>\n",
       "      <td>0.0</td>\n",
       "      <td>Моделирование временных рядов</td>\n",
       "      <td>Сбор и обработка данных с помощью краудсорсинга</td>\n",
       "      <td>Безопасность компьютерных систем</td>\n",
       "      <td>Компьютерные сети</td>\n",
       "      <td>Дополнительные главы прикладной статистики</td>\n",
       "      <td>Системы баз данных</td>\n",
       "      <td>Да</td>\n",
       "      <td>0.493274</td>\n",
       "      <td>0.0</td>\n",
       "      <td></td>\n",
       "      <td>1.0</td>\n",
       "    </tr>\n",
       "    <tr>\n",
       "      <th>110</th>\n",
       "      <td>2020-05-18 19:36:51.479</td>\n",
       "      <td>f5d9f99cb876ca0888d18b6e444fa1b1</td>\n",
       "      <td>516</td>\n",
       "      <td>187.0</td>\n",
       "      <td>0.0</td>\n",
       "      <td>Сбор и обработка данных с помощью краудсорсинга</td>\n",
       "      <td>Язык SQL</td>\n",
       "      <td>Теория баз данных</td>\n",
       "      <td>Промышленное программирование на языке Java</td>\n",
       "      <td>Машинное обучение 2</td>\n",
       "      <td>Компьютерные сети</td>\n",
       "      <td>Нет</td>\n",
       "      <td>0.982063</td>\n",
       "      <td>0.0</td>\n",
       "      <td></td>\n",
       "      <td>0.0</td>\n",
       "    </tr>\n",
       "    <tr>\n",
       "      <th>133</th>\n",
       "      <td>2020-05-18 21:15:58.617</td>\n",
       "      <td>a6ce02b12540bca3cdd15757f8a2e919</td>\n",
       "      <td>597</td>\n",
       "      <td>185.0</td>\n",
       "      <td>0.0</td>\n",
       "      <td>Безопасность компьютерных систем</td>\n",
       "      <td>Сбор и обработка данных с помощью краудсорсинга</td>\n",
       "      <td>Матричные вычисления</td>\n",
       "      <td>Компьютерные сети</td>\n",
       "      <td>Промышленное программирование на языке Java</td>\n",
       "      <td>Анализ данных в бизнесе</td>\n",
       "      <td>Да</td>\n",
       "      <td>0.663677</td>\n",
       "      <td>0.0</td>\n",
       "      <td></td>\n",
       "      <td>0.0</td>\n",
       "    </tr>\n",
       "    <tr>\n",
       "      <th>320</th>\n",
       "      <td>2020-05-18 22:14:40.670</td>\n",
       "      <td>f98ac9a12b43a53c0fa44491cb56890c</td>\n",
       "      <td>1147</td>\n",
       "      <td>0.0</td>\n",
       "      <td>0.0</td>\n",
       "      <td>Байесовские методы машинного обучения</td>\n",
       "      <td>Анализ неструктурированных данных</td>\n",
       "      <td>Сбор и обработка данных с помощью краудсорсинга</td>\n",
       "      <td>Обучение с подкреплением</td>\n",
       "      <td>Компьютерное зрение</td>\n",
       "      <td>Генеративные модели в машинном обучении</td>\n",
       "      <td>Да</td>\n",
       "      <td>0.528986</td>\n",
       "      <td>171.0</td>\n",
       "      <td>DevOps</td>\n",
       "      <td>0.0</td>\n",
       "    </tr>\n",
       "    <tr>\n",
       "      <th>171</th>\n",
       "      <td>2020-05-18 22:32:20.002</td>\n",
       "      <td>851497aadac83e844753bb3b2163c79b</td>\n",
       "      <td>654</td>\n",
       "      <td>183.0</td>\n",
       "      <td>0.0</td>\n",
       "      <td>Безопасность компьютерных систем</td>\n",
       "      <td>Высокопроизводительные вычисления</td>\n",
       "      <td>Язык SQL</td>\n",
       "      <td>Промышленное программирование на языке Java</td>\n",
       "      <td>Компьютерные сети</td>\n",
       "      <td>Системы баз данных</td>\n",
       "      <td>Да</td>\n",
       "      <td>0.394619</td>\n",
       "      <td>0.0</td>\n",
       "      <td></td>\n",
       "      <td>0.0</td>\n",
       "    </tr>\n",
       "    <tr>\n",
       "      <th>178</th>\n",
       "      <td>2020-05-18 22:56:27.522</td>\n",
       "      <td>6388c7920a7d454d2db81430f1f231c4</td>\n",
       "      <td>599</td>\n",
       "      <td>183.0</td>\n",
       "      <td>0.0</td>\n",
       "      <td>Безопасность компьютерных систем</td>\n",
       "      <td>Матричные вычисления</td>\n",
       "      <td>Моделирование временных рядов</td>\n",
       "      <td>Промышленное программирование на языке Java</td>\n",
       "      <td>Компьютерные сети</td>\n",
       "      <td>Дискретная оптимизация</td>\n",
       "      <td>Да</td>\n",
       "      <td>0.654709</td>\n",
       "      <td>0.0</td>\n",
       "      <td></td>\n",
       "      <td>0.0</td>\n",
       "    </tr>\n",
       "    <tr>\n",
       "      <th>185</th>\n",
       "      <td>2020-05-18 23:11:05.179</td>\n",
       "      <td>813663487952e66e7c39d29b0931206d</td>\n",
       "      <td>585</td>\n",
       "      <td>183.0</td>\n",
       "      <td>0.0</td>\n",
       "      <td>Язык SQL</td>\n",
       "      <td>Высокопроизводительные вычисления</td>\n",
       "      <td>Теория баз данных</td>\n",
       "      <td>Компьютерные сети</td>\n",
       "      <td>Промышленное программирование на языке Java</td>\n",
       "      <td>Дискретная оптимизация</td>\n",
       "      <td>Да</td>\n",
       "      <td>0.717489</td>\n",
       "      <td>0.0</td>\n",
       "      <td></td>\n",
       "      <td>0.0</td>\n",
       "    </tr>\n",
       "    <tr>\n",
       "      <th>356</th>\n",
       "      <td>2020-05-19 19:04:17.873</td>\n",
       "      <td>c5870b37ee3f672e4259dfb2fc02ed8f</td>\n",
       "      <td>1029</td>\n",
       "      <td>0.0</td>\n",
       "      <td>0.0</td>\n",
       "      <td>Statistical Learning Theory</td>\n",
       "      <td>Анализ неструктурированных данных</td>\n",
       "      <td>Сбор и обработка данных с помощью краудсорсинга</td>\n",
       "      <td>Обучение с подкреплением</td>\n",
       "      <td>Конфликты и кооперация</td>\n",
       "      <td>Компьютерное зрение</td>\n",
       "      <td>Да</td>\n",
       "      <td>0.920290</td>\n",
       "      <td>174.0</td>\n",
       "      <td>DevOps</td>\n",
       "      <td>0.0</td>\n",
       "    </tr>\n",
       "    <tr>\n",
       "      <th>218</th>\n",
       "      <td>2020-05-20 11:49:38.801</td>\n",
       "      <td>bd416140ecdb32b6dbd7f40820bf63b1</td>\n",
       "      <td>518</td>\n",
       "      <td>185.0</td>\n",
       "      <td>0.0</td>\n",
       "      <td>Безопасность компьютерных систем</td>\n",
       "      <td>Теория баз данных</td>\n",
       "      <td>Язык SQL</td>\n",
       "      <td>Машинное обучение 2</td>\n",
       "      <td>Компьютерные сети</td>\n",
       "      <td>Промышленное программирование на языке Java</td>\n",
       "      <td>Да</td>\n",
       "      <td>0.977578</td>\n",
       "      <td>0.0</td>\n",
       "      <td></td>\n",
       "      <td>0.0</td>\n",
       "    </tr>\n",
       "  </tbody>\n",
       "</table>\n",
       "</div>"
      ],
      "text/plain": [
       "                  timestamp                                id  rating  \\\n",
       "228 2020-05-14 21:10:58.417  8c3aa7371731bef999519c3de2c47423    1101   \n",
       "40  2020-05-17 00:54:43.939  d38ebd0ba564ea88de8015e116f811c8     546   \n",
       "274 2020-05-18 12:40:49.066  5d76b97bcf684f8a1ec03057dd94d416    1257   \n",
       "278 2020-05-18 13:31:45.687  9775834d44b69d181c5fb0c0af57c783    1231   \n",
       "72  2020-05-18 14:44:19.586  fa4860bc719aadedbb00ba027067a8b7     642   \n",
       "84  2020-05-18 17:22:56.786  bfe75c08c6b7e31d4e7d48c9c5fed69b     758   \n",
       "88  2020-05-18 17:56:00.688  044e038535ae5d2ff037150b77fdc6d1     710   \n",
       "291 2020-05-18 18:13:35.809  c976c868dd660e792ab82ba8d9e02506    1087   \n",
       "105 2020-05-18 19:25:39.947  5a6f07c1f6186408b43f0f8e729168e9     632   \n",
       "110 2020-05-18 19:36:51.479  f5d9f99cb876ca0888d18b6e444fa1b1     516   \n",
       "133 2020-05-18 21:15:58.617  a6ce02b12540bca3cdd15757f8a2e919     597   \n",
       "320 2020-05-18 22:14:40.670  f98ac9a12b43a53c0fa44491cb56890c    1147   \n",
       "171 2020-05-18 22:32:20.002  851497aadac83e844753bb3b2163c79b     654   \n",
       "178 2020-05-18 22:56:27.522  6388c7920a7d454d2db81430f1f231c4     599   \n",
       "185 2020-05-18 23:11:05.179  813663487952e66e7c39d29b0931206d     585   \n",
       "356 2020-05-19 19:04:17.873  c5870b37ee3f672e4259dfb2fc02ed8f    1029   \n",
       "218 2020-05-20 11:49:38.801  bd416140ecdb32b6dbd7f40820bf63b1     518   \n",
       "\n",
       "     18_group  is_mi                                           fall_1  \\\n",
       "228       0.0    0.0                 Безопасность компьютерных систем   \n",
       "40      187.0    0.0                 Безопасность компьютерных систем   \n",
       "274       0.0    0.0                Высокопроизводительные вычисления   \n",
       "278       0.0    0.0            Байесовские методы машинного обучения   \n",
       "72      187.0    0.0                 Безопасность компьютерных систем   \n",
       "84      182.0    0.0                 Безопасность компьютерных систем   \n",
       "88      182.0    0.0                 Безопасность компьютерных систем   \n",
       "291       0.0    0.0                Высокопроизводительные вычисления   \n",
       "105     186.0    0.0                    Моделирование временных рядов   \n",
       "110     187.0    0.0  Сбор и обработка данных с помощью краудсорсинга   \n",
       "133     185.0    0.0                 Безопасность компьютерных систем   \n",
       "320       0.0    0.0            Байесовские методы машинного обучения   \n",
       "171     183.0    0.0                 Безопасность компьютерных систем   \n",
       "178     183.0    0.0                 Безопасность компьютерных систем   \n",
       "185     183.0    0.0                                         Язык SQL   \n",
       "356       0.0    0.0                      Statistical Learning Theory   \n",
       "218     185.0    0.0                 Безопасность компьютерных систем   \n",
       "\n",
       "                                              fall_2  \\\n",
       "228                Высокопроизводительные вычисления   \n",
       "40                 Высокопроизводительные вычисления   \n",
       "274  Сбор и обработка данных с помощью краудсорсинга   \n",
       "278                Анализ неструктурированных данных   \n",
       "72                 Высокопроизводительные вычисления   \n",
       "84                       Statistical Learning Theory   \n",
       "88                       Statistical Learning Theory   \n",
       "291                 Безопасность компьютерных систем   \n",
       "105  Сбор и обработка данных с помощью краудсорсинга   \n",
       "110                                         Язык SQL   \n",
       "133  Сбор и обработка данных с помощью краудсорсинга   \n",
       "320                Анализ неструктурированных данных   \n",
       "171                Высокопроизводительные вычисления   \n",
       "178                             Матричные вычисления   \n",
       "185                Высокопроизводительные вычисления   \n",
       "356                Анализ неструктурированных данных   \n",
       "218                                Теория баз данных   \n",
       "\n",
       "                                              fall_3  \\\n",
       "228                Анализ неструктурированных данных   \n",
       "40                                          Язык SQL   \n",
       "274                    Моделирование временных рядов   \n",
       "278             Глубинное обучение в обработке звука   \n",
       "72                                          Язык SQL   \n",
       "84                              Матричные вычисления   \n",
       "88                              Матричные вычисления   \n",
       "291  Сбор и обработка данных с помощью краудсорсинга   \n",
       "105                 Безопасность компьютерных систем   \n",
       "110                                Теория баз данных   \n",
       "133                             Матричные вычисления   \n",
       "320  Сбор и обработка данных с помощью краудсорсинга   \n",
       "171                                         Язык SQL   \n",
       "178                    Моделирование временных рядов   \n",
       "185                                Теория баз данных   \n",
       "356  Сбор и обработка данных с помощью краудсорсинга   \n",
       "218                                         Язык SQL   \n",
       "\n",
       "                                              spring_1  \\\n",
       "228  Проектирование и разработка высоконагруженных ...   \n",
       "40                                   Компьютерные сети   \n",
       "274  Проектирование и разработка высоконагруженных ...   \n",
       "278                           Обучение с подкреплением   \n",
       "72                                   Компьютерные сети   \n",
       "84                              Дискретная оптимизация   \n",
       "88                              Дискретная оптимизация   \n",
       "291  Проектирование и разработка высоконагруженных ...   \n",
       "105                                  Компьютерные сети   \n",
       "110        Промышленное программирование на языке Java   \n",
       "133                                  Компьютерные сети   \n",
       "320                           Обучение с подкреплением   \n",
       "171        Промышленное программирование на языке Java   \n",
       "178        Промышленное программирование на языке Java   \n",
       "185                                  Компьютерные сети   \n",
       "356                           Обучение с подкреплением   \n",
       "218                                Машинное обучение 2   \n",
       "\n",
       "                                        spring_2  \\\n",
       "228         Методы сжатия и передачи медиаданных   \n",
       "40   Промышленное программирование на языке Java   \n",
       "274         Методы сжатия и передачи медиаданных   \n",
       "278      Генеративные модели в машинном обучении   \n",
       "72   Промышленное программирование на языке Java   \n",
       "84   Промышленное программирование на языке Java   \n",
       "88   Промышленное программирование на языке Java   \n",
       "291         Методы сжатия и передачи медиаданных   \n",
       "105   Дополнительные главы прикладной статистики   \n",
       "110                          Машинное обучение 2   \n",
       "133  Промышленное программирование на языке Java   \n",
       "320                          Компьютерное зрение   \n",
       "171                            Компьютерные сети   \n",
       "178                            Компьютерные сети   \n",
       "185  Промышленное программирование на языке Java   \n",
       "356                       Конфликты и кооперация   \n",
       "218                            Компьютерные сети   \n",
       "\n",
       "                                        spring_3 is_first_time  percentile  \\\n",
       "228                       Конфликты и кооперация            Да    0.695652   \n",
       "40                        Дискретная оптимизация            Да    0.883408   \n",
       "274         Методы сжатия и передачи медиаданных            Да    0.137681   \n",
       "278                          Компьютерное зрение            Да    0.210145   \n",
       "72                        Дискретная оптимизация            Да    0.448430   \n",
       "84    Дополнительные главы прикладной статистики            Да    0.022422   \n",
       "88    Дополнительные главы прикладной статистики            Да    0.139013   \n",
       "291                          Компьютерное зрение            Да    0.753623   \n",
       "105                           Системы баз данных            Да    0.493274   \n",
       "110                            Компьютерные сети           Нет    0.982063   \n",
       "133                      Анализ данных в бизнесе            Да    0.663677   \n",
       "320      Генеративные модели в машинном обучении            Да    0.528986   \n",
       "171                           Системы баз данных            Да    0.394619   \n",
       "178                       Дискретная оптимизация            Да    0.654709   \n",
       "185                       Дискретная оптимизация            Да    0.717489   \n",
       "356                          Компьютерное зрение            Да    0.920290   \n",
       "218  Промышленное программирование на языке Java            Да    0.977578   \n",
       "\n",
       "     17_group blended  is_ml_student  \n",
       "228     176.0  DevOps            0.0  \n",
       "40        0.0                    0.0  \n",
       "274     175.0  DevOps            0.0  \n",
       "278     171.0  DevOps            0.0  \n",
       "72        0.0                    0.0  \n",
       "84        0.0                    1.0  \n",
       "88        0.0                    1.0  \n",
       "291     176.0  DevOps            0.0  \n",
       "105       0.0                    1.0  \n",
       "110       0.0                    0.0  \n",
       "133       0.0                    0.0  \n",
       "320     171.0  DevOps            0.0  \n",
       "171       0.0                    0.0  \n",
       "178       0.0                    0.0  \n",
       "185       0.0                    0.0  \n",
       "356     174.0  DevOps            0.0  \n",
       "218       0.0                    0.0  "
      ]
     },
     "execution_count": 23,
     "metadata": {},
     "output_type": "execute_result"
    }
   ],
   "source": [
    "data.loc[data.duplicated(subset=['fall_1', 'fall_2', 'fall_3', 'spring_1', 'spring_2', 'spring_3', 'blended'])]"
   ]
  },
  {
   "cell_type": "markdown",
   "metadata": {},
   "source": [
    "всего 17 дубликатов и 15 идентичных наборов"
   ]
  },
  {
   "cell_type": "markdown",
   "metadata": {
    "id": "spu3r3vchLu0"
   },
   "source": [
    "#### 7. Найдите курсы по выбору, на которые записывались как студенты 18-го года набора, так и студенты 17-го года (0.5 балла)"
   ]
  },
  {
   "cell_type": "code",
   "execution_count": 24,
   "metadata": {
    "id": "t21fWi8ShLu0"
   },
   "outputs": [],
   "source": [
    "gr_18 = data[data['18_group'] != 0][['fall_1', 'fall_2', 'fall_3', 'spring_1', 'spring_2', 'spring_3', 'blended']]"
   ]
  },
  {
   "cell_type": "code",
   "execution_count": 25,
   "metadata": {},
   "outputs": [],
   "source": [
    "gr_17 = data[data['17_group'] != 0][['fall_1', 'fall_2', 'fall_3', 'spring_1', 'spring_2', 'spring_3', 'blended']]"
   ]
  },
  {
   "cell_type": "markdown",
   "metadata": {},
   "source": [
    "Так как курсы осенью по всем 3 столбцам одинаковы, как и весной, то сравним по fall1 и spring1, посмотрев на пересечения. Курсы представлены ниже"
   ]
  },
  {
   "cell_type": "code",
   "execution_count": 26,
   "metadata": {},
   "outputs": [
    {
     "data": {
      "text/plain": [
       "array(['Statistical Learning Theory', 'Безопасность компьютерных систем',\n",
       "       'Высокопроизводительные вычисления',\n",
       "       'Моделирование временных рядов',\n",
       "       'Принятие решений в условиях риска и неопределённости',\n",
       "       'Сбор и обработка данных с помощью краудсорсинга'], dtype=object)"
      ]
     },
     "execution_count": 26,
     "metadata": {},
     "output_type": "execute_result"
    }
   ],
   "source": [
    "np.intersect1d(gr_17['fall_1'].unique(), gr_18['fall_1'].unique())"
   ]
  },
  {
   "cell_type": "code",
   "execution_count": 27,
   "metadata": {},
   "outputs": [
    {
     "data": {
      "text/plain": [
       "array(['Численные методы'], dtype=object)"
      ]
     },
     "execution_count": 27,
     "metadata": {},
     "output_type": "execute_result"
    }
   ],
   "source": [
    "np.intersect1d(gr_17['spring_1'].unique(), gr_18['spring_1'].unique())"
   ]
  },
  {
   "cell_type": "code",
   "execution_count": 28,
   "metadata": {},
   "outputs": [
    {
     "data": {
      "text/plain": [
       "array([], dtype=object)"
      ]
     },
     "execution_count": 28,
     "metadata": {},
     "output_type": "execute_result"
    }
   ],
   "source": [
    "np.intersect1d(gr_17['blended'].unique(), gr_18['blended'].unique())"
   ]
  },
  {
   "cell_type": "markdown",
   "metadata": {
    "id": "PYfX-Dr5hLu0"
   },
   "source": [
    "Методом исключения найдите курсы, которые предлагались только студентам 18-го года и только студентам 17-го года."
   ]
  },
  {
   "cell_type": "markdown",
   "metadata": {},
   "source": [
    "У 18 года обучения осенние были курсы 'Матричные вычисления', 'Теория баз данных', 'Язык SQL'"
   ]
  },
  {
   "cell_type": "code",
   "execution_count": 29,
   "metadata": {
    "id": "G9SWBOpehLu1"
   },
   "outputs": [
    {
     "data": {
      "text/plain": [
       "array(['Матричные вычисления', 'Теория баз данных', 'Язык SQL'],\n",
       "      dtype=object)"
      ]
     },
     "execution_count": 29,
     "metadata": {},
     "output_type": "execute_result"
    }
   ],
   "source": [
    "np.setdiff1d(gr_18['fall_1'].unique(), gr_17['fall_1'].unique())"
   ]
  },
  {
   "cell_type": "markdown",
   "metadata": {},
   "source": [
    "А у 17 'Анализ неструктурированных данных','Байесовские методы машинного обучения','Глубинное обучение в обработке звука'"
   ]
  },
  {
   "cell_type": "code",
   "execution_count": 30,
   "metadata": {},
   "outputs": [
    {
     "data": {
      "text/plain": [
       "array(['Анализ неструктурированных данных',\n",
       "       'Байесовские методы машинного обучения',\n",
       "       'Глубинное обучение в обработке звука'], dtype=object)"
      ]
     },
     "execution_count": 30,
     "metadata": {},
     "output_type": "execute_result"
    }
   ],
   "source": [
    "np.setdiff1d(gr_17['fall_1'].unique(), gr_18['fall_1'].unique())"
   ]
  },
  {
   "cell_type": "markdown",
   "metadata": {},
   "source": [
    "Аналогично по весне"
   ]
  },
  {
   "cell_type": "code",
   "execution_count": 31,
   "metadata": {},
   "outputs": [
    {
     "data": {
      "text/plain": [
       "array(['Анализ данных в бизнесе', 'Дискретная оптимизация',\n",
       "       'Дополнительные главы прикладной статистики', 'Компьютерные сети',\n",
       "       'Машинное обучение 2',\n",
       "       'Промышленное программирование на языке Java',\n",
       "       'Системы баз данных'], dtype=object)"
      ]
     },
     "execution_count": 31,
     "metadata": {},
     "output_type": "execute_result"
    }
   ],
   "source": [
    "np.setdiff1d(gr_18['spring_1'].unique(), gr_17['spring_1'].unique())"
   ]
  },
  {
   "cell_type": "code",
   "execution_count": 32,
   "metadata": {},
   "outputs": [
    {
     "data": {
      "text/plain": [
       "array(['Генеративные модели в машинном обучении', 'Компьютерное зрение',\n",
       "       'Конфликты и кооперация', 'Методы сжатия и передачи медиаданных',\n",
       "       'Обучение с подкреплением',\n",
       "       'Проектирование и разработка высоконагруженных сервисов',\n",
       "       'Символьные вычисления'], dtype=object)"
      ]
     },
     "execution_count": 32,
     "metadata": {},
     "output_type": "execute_result"
    }
   ],
   "source": [
    "np.setdiff1d(gr_17['spring_1'].unique(), gr_18['spring_1'].unique())"
   ]
  },
  {
   "cell_type": "markdown",
   "metadata": {},
   "source": [
    "И blended курсы, так как у 18 года их не было вовсе, то у 17 'DevOps', 'Введение в дифференциальную геометрию',\n",
    "       'Соревновательный анализ данных'"
   ]
  },
  {
   "cell_type": "code",
   "execution_count": 33,
   "metadata": {},
   "outputs": [
    {
     "data": {
      "text/plain": [
       "array(['DevOps', 'Введение в дифференциальную геометрию',\n",
       "       'Соревновательный анализ данных'], dtype=object)"
      ]
     },
     "execution_count": 33,
     "metadata": {},
     "output_type": "execute_result"
    }
   ],
   "source": [
    "np.setdiff1d(gr_17['blended'].unique(), gr_18['blended'].unique())"
   ]
  },
  {
   "cell_type": "markdown",
   "metadata": {
    "id": "uL45Tg5fhLu1"
   },
   "source": [
    "### Визуализации и matplotlib"
   ]
  },
  {
   "cell_type": "markdown",
   "metadata": {
    "id": "MY9lKmP2hLu1"
   },
   "source": [
    "При работе с данными часто неудобно делать какие-то выводы, если смотреть на таблицу и числа в частности, поэтому важно уметь визуализировать данные. Здесь будут описаны ключевые правила оформления графиков для **всех** домашних заданий.\n",
    "\n",
    "У matplotlib, конечно же, есть [документация](https://matplotlib.org/users/index.html) с большим количеством [примеров](https://matplotlib.org/examples/), но для начала достаточно знать про несколько основных типов графиков:\n",
    "- plot — обычный поточечный график, которым можно изображать кривые или отдельные точки;\n",
    "- hist — гистограмма, показывающая распределение некоторой величины;\n",
    "- scatter — график, показывающий взаимосвязь двух величин;\n",
    "- bar — столбцовый график, показывающий взаимосвязь количественной величины от категориальной.\n",
    "\n",
    "В этом задании вы попробуете построить один из них. Не забывайте про базовые принципы построения приличных графиков:\n",
    "- оси должны быть подписаны, причём не слишком мелко;\n",
    "- у графика должно быть название;\n",
    "- если изображено несколько графиков, то необходима поясняющая легенда;\n",
    "- все линии на графиках должны быть чётко видны (нет похожих цветов или цветов, сливающихся с фоном);\n",
    "- если отображена величина, имеющая очевидный диапазон значений (например, проценты могут быть от 0 до 100), то желательно масштабировать ось на весь диапазон значений (исключением является случай, когда вам необходимо показать малое отличие, которое незаметно в таких масштабах);\n",
    "- сетка на графике помогает оценить значения в точках на глаз, это обычно полезно, поэтому лучше ее отрисовывать;\n",
    "- если распределение на гистограмме имеет тяжёлые хвосты, лучше использовать логарифмическую шкалу.\n",
    "\n",
    "Полезные строчки:\n",
    "- для красивой картинки <code>%config InlineBackend.figure_format = 'retina'</code>\n",
    "- задаем размер (почти) всех графиков (можно выбрать другие значения) <code>plt.rcParams['figure.figsize'] = 8, 5</code>\n",
    "- размер шрифта подписей графиков <code>plt.rcParams['font.size'] = 12</code>\n",
    "- формат в котором сохраняется изображение <code>mpl.rcParams['savefig.format'] = 'pdf'</code>\n",
    "- sns – seaborn, добавляет решетку <code>sns.set_style('darkgrid')</code>"
   ]
  },
  {
   "cell_type": "code",
   "execution_count": 34,
   "metadata": {
    "id": "na9doUOFhLu1"
   },
   "outputs": [],
   "source": [
    "import matplotlib.pyplot as plt\n",
    "%config InlineBackend.figure_format = 'retina'\n",
    "plt.style.use('ggplot')\n",
    "%matplotlib inline"
   ]
  },
  {
   "cell_type": "markdown",
   "metadata": {
    "id": "kikwLpxfhLu1"
   },
   "source": [
    "#### 8. Постройте график средних рейтингов по дням получения ответов (bar plot) (0.5 балла)."
   ]
  },
  {
   "cell_type": "code",
   "execution_count": 35,
   "metadata": {},
   "outputs": [],
   "source": [
    "import copy"
   ]
  },
  {
   "cell_type": "code",
   "execution_count": 36,
   "metadata": {},
   "outputs": [],
   "source": [
    "data1 = copy.deepcopy(data)\n",
    "data1['timestamp'] = pd.to_datetime(data1['timestamp'].dt.date)\n",
    "day_group_rating = data1.groupby('timestamp')['rating'].mean()"
   ]
  },
  {
   "cell_type": "code",
   "execution_count": 37,
   "metadata": {
    "id": "UTPLVeQvhLu2"
   },
   "outputs": [
    {
     "data": {
      "image/png": "[encoded data removed]",
      "text/plain": [
       "<Figure size 1000x500 with 1 Axes>"
      ]
     },
     "metadata": {
      "image/png": {
       "height": 471,
       "width": 864
      },
      "needs_background": "light"
     },
     "output_type": "display_data"
    }
   ],
   "source": [
    "plt.subplots(figsize=(10, 5), dpi=100)\n",
    "\n",
    "plt.bar(data1['timestamp'].unique(), height=day_group_rating.values)\n",
    "\n",
    "plt.title('Bar plot', fontsize=16)\n",
    "plt.ylabel('Mean Rating', fontsize=14)\n",
    "plt.xlabel('Time', fontsize=14)\n",
    "\n",
    "plt.savefig('mean_rating.pdf', dpi=300)\n",
    "plt.show()"
   ]
  },
  {
   "cell_type": "markdown",
   "metadata": {
    "id": "AmsQg9_xhLu2"
   },
   "source": [
    "Сохраните график в формате pdf (так он останется векторизованным)."
   ]
  },
  {
   "cell_type": "markdown",
   "metadata": {
    "id": "vKZNSwWghLu2"
   },
   "source": [
    "#### Сохранил выше сразу в коде"
   ]
  },
  {
   "cell_type": "markdown",
   "metadata": {
    "id": "b7SBV6_GhLu2"
   },
   "source": [
    "Еще одна билиотека для визуализации: [seaborn](https://jakevdp.github.io/PythonDataScienceHandbook/04.14-visualization-with-seaborn.html). Это настройка над matplotlib, иногда удобнее и красивее делать визуализации через неё. "
   ]
  },
  {
   "cell_type": "markdown",
   "metadata": {
    "id": "sCgWwjl0hLu2"
   },
   "source": [
    "### 2. Распределение студентов по курсам."
   ]
  },
  {
   "cell_type": "markdown",
   "metadata": {
    "id": "VNqXUpr4hLu3"
   },
   "source": [
    "Теперь вам нужно распределить студентов по осенним курсам по выбору, учитывая их предпочтения."
   ]
  },
  {
   "cell_type": "markdown",
   "metadata": {
    "id": "5cAR2FgphLu3"
   },
   "source": [
    "Алгоритм распределения студентов по курсам:\n",
    "1. По умолчанию на каждой дисциплине по выбору у 3 и 4 курсов может учиться 1 группа (до 30 студентов). Исключения описаны ниже. На blended-дисциплинах для четверокурсников количество мест не ограничено.\n",
    "2. Проводится первая волна отбора. Для каждой дисциплины формируется список тех, кто указал её первым приоритетом (если студент должен выбрать два курса по выбору, то для него дисциплины, которые он указал первым и вторым приоритетом, рассматриваются как дисциплины первого приоритета). Если желающих больше, чем мест, то выбирается топ по перцентилю рейтинга.\n",
    "3. На дисциплинах, где остались места после первой волны, формируются списки тех, кто выбрал их вторым приоритетом, и места заполняются лучшими по перцентили рейтинга студентами. После этого проводится такая же процедура для дисциплин третьего приоритета.\n",
    "4. Если студент не попал на необходимое количество курсов по итогам трёх волн, с ним связывается учебный офис и решает вопрос в индивидуальном порядке."
   ]
  },
  {
   "cell_type": "markdown",
   "metadata": {
    "id": "BiNKVwS6hLu3"
   },
   "source": [
    "Обращаем ваше внимание на следующие детали:\n",
    "\n",
    "- По умолчанию студент выбирает один осенний и один весенний курс по выбору, а также четверокурсники выбирают один blended-курс. Студенты групп 17-го года специализаций МОП и ТИ выбирают по 2 осенних и 2 весенних курса по выбору, также студенты групп 18' специализации МИ выбирают 2 осенних курса. <i>Для студентов, которые выбирают 2 курса (например, осенних) первый приоритет — <code>fall_1</code> и <code>fall_2</code>, второй приоритет — <code>fall_3</code>. Такие студенты участвуют только в двух волнах отбора</i>.\n",
    "\n",
    "- Студенты специализации МОП не могут выбрать весенним курсом по выбору Машинное обучение 2. <i>Если студент специализации МОП выбрал Машинное обучение 2, то его приоритеты сдвигаются. Из-за совпадений первого и второго курса по выбору двигать приоритеты не надо</i>.\n",
    "\n",
    "- Blended-курсы не трогайте, по ним не надо распределять, на другие курсы они никак не влияют.\n",
    "\n",
    "- Постарайтесь воздержаться от использования циклов там, где это возможно. <i>Допустимо итерироваться по <b>курсам</b>, на которые проводится отбор, и по <b>волнам</b> отбора. Если вы придумаете, как обойтись и без этих циклов, то на усмотрение проверяющего могут быть добавлены бонусные баллы. <b>Дублирование кода не признается успешным избавлением от циклов</b></i>\n",
    "\n",
    "- На выходе ожидается файл res_fall.csv с результатами распределения на осенние курсы по выбору. Файл должен быть следующего формата:\n",
    "\n",
    "    * три столбца: ID, course1, course2\n",
    "    \n",
    "    * Если студент не попал на курс, но должен был, то вместо названия курса в ячейке должна быть строка \"???\"\n",
    "    \n",
    "    * Если студент должен выбрать только один курс, то в колонке course2 для него должна стоять строка \"-\"\n",
    "    \n",
    "    * Если студент должен выбрать два курса по выбору, то порядок в колонках course1 и course2 не важен.\n",
    "    \n",
    "    * Формат csv: для сохранения воспользуйтесь df.to_csv('solution.csv', index=None)\n",
    "    \n",
    "\n",
    "Для работы вам могут понадобиться следующие данные:\n",
    "\n",
    "- Результаты опроса (вы уже использовали этот файл в первой части задания, но на всякий случай ссылка: https://www.dropbox.com/s/f4rm8sjc3v99p0m/_end_seminar.xlsx?dl=0)\n",
    "\n",
    "- Соответствие номеров групп специализациям:\n",
    "\n",
    "    * 171, 172 - МОП; 173 - ТИ; 174 — АДИС; 175, 176 — РС; 177 — АПР\n",
    "    \n",
    "    * У студентов 18-го года номера групп соответствуют номерам до распределения по специализациям.\n",
    "\n",
    "- Ограничения по количеству мест на курсах по выбору:\n",
    "\n",
    "    * Осенние: везде 30 мест, кроме Statistical Learning Theory (60 мест), Высокопроизводительных вычислений (60 мест), Анализа неструктурированных данных ($\\infty$ мест)\n",
    "\n",
    "    * Весенние: везде 30 мест, кроме Обучения с подкреплением (60 мест), Анализа данных в бизнесе (60 мест).\n",
    "\n",
    "\n",
    "Кстати, убедитесь, что в данных больше нет пропусков и повторных записей."
   ]
  },
  {
   "cell_type": "markdown",
   "metadata": {
    "id": "o5t55IcQhLu4"
   },
   "source": [
    "#### 0. Проверка\n",
    "\n",
    "Для начала давайте убедимся, что вы успешно выполнили задания первой части и проверим ваши данные на наличие пропусков и повторов:"
   ]
  },
  {
   "cell_type": "code",
   "execution_count": 38,
   "metadata": {},
   "outputs": [],
   "source": [
    "df = data"
   ]
  },
  {
   "cell_type": "code",
   "execution_count": 39,
   "metadata": {
    "id": "34HWEdVdhLu4"
   },
   "outputs": [],
   "source": [
    "# не удаляйте этот код, и вообще любой, который здесь уже написан -- он нужен для проверки ваших решений\n",
    "assert df.shape[0] == 347, 'В таблице остались повторы или потеряны данные'\n",
    "\n",
    "assert df.isna().sum().sum() == 0, 'В таблице остались пропуски'"
   ]
  },
  {
   "cell_type": "markdown",
   "metadata": {
    "id": "_ImUFyG3hLu4"
   },
   "source": [
    "Если вы не получили AssertionError, то можете продолжать."
   ]
  },
  {
   "cell_type": "markdown",
   "metadata": {
    "id": "LTGSwwvAhLu4"
   },
   "source": [
    "#### 1. Создайте новый признак, обозначающий, сколько осенних курсов должен выбрать студент (1 балл)\n",
    "\n",
    "В этом вам может помочь информация о специализации и группе студента."
   ]
  },
  {
   "cell_type": "code",
   "execution_count": 40,
   "metadata": {
    "id": "ouxo0kHFhLu4"
   },
   "outputs": [],
   "source": [
    "df['num_fall_course'] = np.zeros(len(df))"
   ]
  },
  {
   "cell_type": "code",
   "execution_count": 41,
   "metadata": {},
   "outputs": [],
   "source": [
    "df.loc[df[df['17_group'].isin([172, 171, 173])].index, 'num_fall_course'] = 2"
   ]
  },
  {
   "cell_type": "code",
   "execution_count": 42,
   "metadata": {},
   "outputs": [],
   "source": [
    "df.loc[df[~df['17_group'].isin([172, 171, 173])].index, 'num_fall_course'] = 1"
   ]
  },
  {
   "cell_type": "code",
   "execution_count": 43,
   "metadata": {},
   "outputs": [],
   "source": [
    "df.loc[df[df['is_mi'] == 1].index, 'num_fall_course'] = 2"
   ]
  },
  {
   "cell_type": "code",
   "execution_count": 44,
   "metadata": {},
   "outputs": [],
   "source": [
    "df.loc[df[(df['18_group'] != 0) & (df['is_mi'] == 0)].index, 'num_fall_course'] = 1"
   ]
  },
  {
   "cell_type": "code",
   "execution_count": 45,
   "metadata": {},
   "outputs": [
    {
     "data": {
      "text/plain": [
       "1.0    258\n",
       "2.0     89\n",
       "Name: num_fall_course, dtype: int64"
      ]
     },
     "execution_count": 45,
     "metadata": {},
     "output_type": "execute_result"
    }
   ],
   "source": [
    "df['num_fall_course'].value_counts()"
   ]
  },
  {
   "cell_type": "markdown",
   "metadata": {
    "id": "S47aq1sQhLu4"
   },
   "source": [
    "Проверка:"
   ]
  },
  {
   "cell_type": "code",
   "execution_count": 46,
   "metadata": {
    "id": "OlOgzDKDhLu5"
   },
   "outputs": [],
   "source": [
    "col_name = 'num_fall_course'\n",
    "assert(df[df['id'] == '2662600c2c37e11e62f6ee0b88452f22'][col_name] == 2).all()\n",
    "assert(df[df['id'] == 'd555d2805e1d93d4f023e57dc4c8f403'][col_name] == 2).all()\n",
    "assert(df[df['id'] == '8fe79f84f36e3a5d2d6745621321302c'][col_name] == 1).all()\n",
    "assert(df[df['id'] == 'e4caca755ee0bdd711e18fb8084958b5'][col_name] == 1).all()"
   ]
  },
  {
   "cell_type": "markdown",
   "metadata": {
    "id": "VtQYhwuPhLu5"
   },
   "source": [
    "#### 2. Распределите студентов в соответствии с первым приоритетом (2 балла)"
   ]
  },
  {
   "cell_type": "code",
   "execution_count": 47,
   "metadata": {},
   "outputs": [],
   "source": [
    "df['course1'] = ['-']*len(df)\n",
    "df['course2'] = ['-']*len(df)"
   ]
  },
  {
   "cell_type": "code",
   "execution_count": 48,
   "metadata": {},
   "outputs": [],
   "source": [
    "# res_df = pd.DataFrame(columns=['ID', 'course1', 'course2'])"
   ]
  },
  {
   "cell_type": "code",
   "execution_count": 49,
   "metadata": {},
   "outputs": [],
   "source": [
    "courses = df['fall_1'].unique()"
   ]
  },
  {
   "cell_type": "code",
   "execution_count": 50,
   "metadata": {},
   "outputs": [
    {
     "data": {
      "text/plain": [
       "array(['Безопасность компьютерных систем',\n",
       "       'Глубинное обучение в обработке звука',\n",
       "       'Высокопроизводительные вычисления', 'Statistical Learning Theory',\n",
       "       'Анализ неструктурированных данных',\n",
       "       'Байесовские методы машинного обучения', 'Язык SQL',\n",
       "       'Теория баз данных',\n",
       "       'Принятие решений в условиях риска и неопределённости',\n",
       "       'Сбор и обработка данных с помощью краудсорсинга',\n",
       "       'Матричные вычисления', 'Моделирование временных рядов'],\n",
       "      dtype=object)"
      ]
     },
     "execution_count": 50,
     "metadata": {},
     "output_type": "execute_result"
    }
   ],
   "source": [
    "courses"
   ]
  },
  {
   "cell_type": "markdown",
   "metadata": {},
   "source": [
    "Сформируем списки студентов с 1 курсом и 2"
   ]
  },
  {
   "cell_type": "code",
   "execution_count": 51,
   "metadata": {},
   "outputs": [],
   "source": [
    "st_1 = df[df['num_fall_course'] == 1]"
   ]
  },
  {
   "cell_type": "code",
   "execution_count": 52,
   "metadata": {},
   "outputs": [],
   "source": [
    "students = []\n",
    "for i in courses:\n",
    "    students.append(st_1[st_1['fall_1'] == i].id.values)"
   ]
  },
  {
   "cell_type": "code",
   "execution_count": 53,
   "metadata": {},
   "outputs": [],
   "source": [
    "st_2 = df[df['num_fall_course'] == 2]"
   ]
  },
  {
   "cell_type": "code",
   "execution_count": 54,
   "metadata": {},
   "outputs": [],
   "source": [
    "for i in range(len(courses)):\n",
    "    students[i] = np.append(students[i], (st_2[(st_2['fall_1'] == courses[i]) | (st_2['fall_2'] == courses[i])]).id.values)"
   ]
  },
  {
   "cell_type": "markdown",
   "metadata": {},
   "source": [
    "Сгруппируем их вместе"
   ]
  },
  {
   "cell_type": "code",
   "execution_count": 55,
   "metadata": {},
   "outputs": [
    {
     "name": "stderr",
     "output_type": "stream",
     "text": [
      "<ipython-input-55-41975022146d>:1: VisibleDeprecationWarning: Creating an ndarray from ragged nested sequences (which is a list-or-tuple of lists-or-tuples-or ndarrays with different lengths or shapes) is deprecated. If you meant to do this, you must specify 'dtype=object' when creating the ndarray.\n",
      "  students = np.array(students)\n"
     ]
    }
   ],
   "source": [
    "students = np.array(students)"
   ]
  },
  {
   "cell_type": "code",
   "execution_count": 56,
   "metadata": {},
   "outputs": [
    {
     "data": {
      "text/plain": [
       "[115, 23, 44, 33, 48, 24, 29, 14, 8, 50, 15, 31]"
      ]
     },
     "execution_count": 56,
     "metadata": {},
     "output_type": "execute_result"
    }
   ],
   "source": [
    "list(map(len, students))"
   ]
  },
  {
   "cell_type": "code",
   "execution_count": 57,
   "metadata": {},
   "outputs": [],
   "source": [
    "num_pos = [30, 30, 60, 60, 1000000, 30, 30, 30, 30, 30, 30, 30]"
   ]
  },
  {
   "cell_type": "code",
   "execution_count": 58,
   "metadata": {},
   "outputs": [
    {
     "data": {
      "text/plain": [
       "array([ True, False, False, False, False, False, False, False, False,\n",
       "        True, False,  True])"
      ]
     },
     "execution_count": 58,
     "metadata": {},
     "output_type": "execute_result"
    }
   ],
   "source": [
    "np.array(list(map(len, students))) > np.array(num_pos)"
   ]
  },
  {
   "cell_type": "markdown",
   "metadata": {},
   "source": [
    "Сортируем по каждому курсу по перцентилю"
   ]
  },
  {
   "cell_type": "code",
   "execution_count": 59,
   "metadata": {},
   "outputs": [],
   "source": [
    "students_choice = []\n",
    "students_fail = []\n",
    "\n",
    "\n",
    "for i in range(len(courses)):\n",
    "    temp = df[df['id'].isin(students[i])].sort_values(by='percentile', ascending=False)\n",
    "    if len(temp) > num_pos[i]:\n",
    "        choose = temp.iloc[:num_pos[i]]['id'].values\n",
    "        compl = np.setdiff1d(temp['id'], choose)\n",
    "        students_choice.append(choose)\n",
    "        students_fail.append(compl)\n",
    "    else:\n",
    "        students_choice.append(temp['id'].values)"
   ]
  },
  {
   "cell_type": "code",
   "execution_count": 60,
   "metadata": {},
   "outputs": [
    {
     "data": {
      "text/plain": [
       "[30, 23, 44, 33, 48, 24, 29, 14, 8, 30, 15, 30]"
      ]
     },
     "execution_count": 60,
     "metadata": {},
     "output_type": "execute_result"
    }
   ],
   "source": [
    "length_course = list(map(len, students_choice))\n",
    "length_course"
   ]
  },
  {
   "cell_type": "code",
   "execution_count": 61,
   "metadata": {},
   "outputs": [
    {
     "data": {
      "text/plain": [
       "[85, 20, 1]"
      ]
     },
     "execution_count": 61,
     "metadata": {},
     "output_type": "execute_result"
    }
   ],
   "source": [
    "list(map(len, students_fail))"
   ]
  },
  {
   "cell_type": "markdown",
   "metadata": {},
   "source": [
    "Сопоставляем названия курсов студентам"
   ]
  },
  {
   "cell_type": "code",
   "execution_count": 62,
   "metadata": {},
   "outputs": [],
   "source": [
    "names_courses1 = []\n",
    "st_choice_names = []\n",
    "\n",
    "for i in range(len(courses)):\n",
    "    names_courses1.append([courses[i]] * length_course[i])\n",
    "    st_choice_names.append(list(zip(students_choice[i], names_courses1[i])))"
   ]
  },
  {
   "cell_type": "code",
   "execution_count": 63,
   "metadata": {},
   "outputs": [
    {
     "data": {
      "text/plain": [
       "[30, 23, 44, 33, 48, 24, 29, 14, 8, 30, 15, 30]"
      ]
     },
     "execution_count": 63,
     "metadata": {},
     "output_type": "execute_result"
    }
   ],
   "source": [
    "list(map(len, names_courses1))"
   ]
  },
  {
   "cell_type": "code",
   "execution_count": 64,
   "metadata": {},
   "outputs": [
    {
     "data": {
      "text/plain": [
       "[[('be4fa2120de3397ae21eac38ff0060e3', 'Безопасность компьютерных систем'),\n",
       "  ('40b18d40197e3db66312a026e06b8ff1', 'Безопасность компьютерных систем'),\n",
       "  ('79d14db48e4737af731960ae212d5134', 'Безопасность компьютерных систем'),\n",
       "  ('bd416140ecdb32b6dbd7f40820bf63b1', 'Безопасность компьютерных систем'),\n",
       "  ('feb53dcdd28fff9dc4a981c3419fea6f', 'Безопасность компьютерных систем'),\n",
       "  ('d555d2805e1d93d4f023e57dc4c8f403', 'Безопасность компьютерных систем'),\n",
       "  ('e3d4f9a7b947ebc03d345dd9e14b5d2c', 'Безопасность компьютерных систем'),\n",
       "  ('9f23846141606a1e26e8e4c28e9a7262', 'Безопасность компьютерных систем'),\n",
       "  ('de539be8b29b3afa002184e28d63c670', 'Безопасность компьютерных систем'),\n",
       "  ('8fe79f84f36e3a5d2d6745621321302c', 'Безопасность компьютерных систем'),\n",
       "  ('ac2fd77f2ec0186c95f16e6721fd5998', 'Безопасность компьютерных систем'),\n",
       "  ('ba4091ee80dd63a042464dbd2a7e3363', 'Безопасность компьютерных систем'),\n",
       "  ('32fea7beb180e7de64ad408013cc01ec', 'Безопасность компьютерных систем'),\n",
       "  ('aeb7bb1e047c392b7e5e39225cd86422', 'Безопасность компьютерных систем'),\n",
       "  ('00b40fe7dbfd23e5daba765244509415', 'Безопасность компьютерных систем'),\n",
       "  ('d38ebd0ba564ea88de8015e116f811c8', 'Безопасность компьютерных систем'),\n",
       "  ('085da16dd3062b4790c3dabdc08a51cf', 'Безопасность компьютерных систем'),\n",
       "  ('5a6dfaade650ca8bb2d081342df303e8', 'Безопасность компьютерных систем'),\n",
       "  ('180cf0e0dc7a6f88e76e3076cb761d26', 'Безопасность компьютерных систем'),\n",
       "  ('c97ab5cabace9f00673cc8384771aa9c', 'Безопасность компьютерных систем'),\n",
       "  ('cc8e710c871ae8236b8b8705e6840793', 'Безопасность компьютерных систем'),\n",
       "  ('0c0cbdd1a309c1d1fd8993c4dc907bb5', 'Безопасность компьютерных систем'),\n",
       "  ('b3e75ee2a708cef65cc2f80da894dd50', 'Безопасность компьютерных систем'),\n",
       "  ('5d1deb0ae3a69348a018881ac785fd90', 'Безопасность компьютерных систем'),\n",
       "  ('ac4e2062ca444a506991c212bd2dd872', 'Безопасность компьютерных систем'),\n",
       "  ('8aa0f1b7331b49464174b02cd693be52', 'Безопасность компьютерных систем'),\n",
       "  ('1bbbfae51794b83c769b634be8da7b8d', 'Безопасность компьютерных систем'),\n",
       "  ('881b1a6fda195b354ae2edb396a69f5d', 'Безопасность компьютерных систем'),\n",
       "  ('5c49473012411a1eee72f8ea63767adf', 'Безопасность компьютерных систем'),\n",
       "  ('f2ed8115db45ef795ced2701fa86515d', 'Безопасность компьютерных систем')],\n",
       " [('d555d2805e1d93d4f023e57dc4c8f403', 'Глубинное обучение в обработке звука'),\n",
       "  ('98c5a2548d93f26bd4195466e93178b3', 'Глубинное обучение в обработке звука'),\n",
       "  ('7378a3c0caf8ce5fdbb1e4370b346cb7', 'Глубинное обучение в обработке звука'),\n",
       "  ('e11399490117e1913ae79d09a5a2b981', 'Глубинное обучение в обработке звука'),\n",
       "  ('2ca6917be428f8b84f6f15cdcbea2143', 'Глубинное обучение в обработке звука'),\n",
       "  ('cef24632489091cb8c085688b7d78dec', 'Глубинное обучение в обработке звука'),\n",
       "  ('2c0a8cb6662b9a0a0a5d2d1214442767', 'Глубинное обучение в обработке звука'),\n",
       "  ('75be5480aae801322ab8ee4b8f4517a3', 'Глубинное обучение в обработке звука'),\n",
       "  ('71c8f779c794a59d749092a11a350557', 'Глубинное обучение в обработке звука'),\n",
       "  ('2d23e58ee8e952b48da12adcb71f2db0', 'Глубинное обучение в обработке звука'),\n",
       "  ('5a9b8ac11ad05b39a58b0e04a263bf4c', 'Глубинное обучение в обработке звука'),\n",
       "  ('5bb63d6635c5f4c530b727fe1d6d84bf', 'Глубинное обучение в обработке звука'),\n",
       "  ('757ce29d3647ee4aff21bc1a62849805', 'Глубинное обучение в обработке звука'),\n",
       "  ('31c9900033ce01dd1365a6b6a350c3bb', 'Глубинное обучение в обработке звука'),\n",
       "  ('db450211a009799155ed6494957be8c7', 'Глубинное обучение в обработке звука'),\n",
       "  ('1d30f1c70a51faa60f497fe959851731', 'Глубинное обучение в обработке звука'),\n",
       "  ('f602211b88a96890ce75e36a390705b8', 'Глубинное обучение в обработке звука'),\n",
       "  ('9a66d84568b8017d98eb2e678b57296b', 'Глубинное обучение в обработке звука'),\n",
       "  ('15163c0c088c0ba42e1c77c9f3eabc81', 'Глубинное обучение в обработке звука'),\n",
       "  ('a207faa550aba9ebf30537be445012cc', 'Глубинное обучение в обработке звука'),\n",
       "  ('6a93fcbc79d0df6ddeba3b46739fc3d8', 'Глубинное обучение в обработке звука'),\n",
       "  ('840716fde17a536f5e067546ab49a8a7', 'Глубинное обучение в обработке звука'),\n",
       "  ('67e4ec4fe5c0601815692fbd6d403fb7',\n",
       "   'Глубинное обучение в обработке звука')],\n",
       " [('b4f1f195bd1bc63490a7bc42275a71cd', 'Высокопроизводительные вычисления'),\n",
       "  ('e6f751a81ab2d5197e8237a96656144d', 'Высокопроизводительные вычисления'),\n",
       "  ('5d1deb0ae3a69348a018881ac785fd90', 'Высокопроизводительные вычисления'),\n",
       "  ('496ea4f0d4abe264b1bb1b80eb3830c5', 'Высокопроизводительные вычисления'),\n",
       "  ('c976c868dd660e792ab82ba8d9e02506', 'Высокопроизводительные вычисления'),\n",
       "  ('c7f617262a8d9350bcbba27f6d65d86a', 'Высокопроизводительные вычисления'),\n",
       "  ('bbc73542db4946bde4d115b4dd944427', 'Высокопроизводительные вычисления'),\n",
       "  ('1b7e1b30238f393811a2b48c6f6a060f', 'Высокопроизводительные вычисления'),\n",
       "  ('42df9e301b39e4295fe849aa2abdfc7c', 'Высокопроизводительные вычисления'),\n",
       "  ('2826fc94cd575c8f7b0a2416506e70e5', 'Высокопроизводительные вычисления'),\n",
       "  ('bc4974fa622838af7586a7b67d1f3a28', 'Высокопроизводительные вычисления'),\n",
       "  ('6ef08b5cfd42ecdd713466cb4b7b41b7', 'Высокопроизводительные вычисления'),\n",
       "  ('7af276b31fb741aa81baa85aa5c82bd9', 'Высокопроизводительные вычисления'),\n",
       "  ('f81cc449798c2d8971612dc9a749ad2a', 'Высокопроизводительные вычисления'),\n",
       "  ('73fc0f1b300e6e49167b5f771586fe20', 'Высокопроизводительные вычисления'),\n",
       "  ('26b01b1c4cd5656bab18d24c548834fb', 'Высокопроизводительные вычисления'),\n",
       "  ('f736e00dc03850c59649e77149895d5a', 'Высокопроизводительные вычисления'),\n",
       "  ('2f8a48924249d2231659183d7654ed33', 'Высокопроизводительные вычисления'),\n",
       "  ('842a87d59de90b711fe3266830fe608c', 'Высокопроизводительные вычисления'),\n",
       "  ('f0f01fe07310ce6f403894eb624ac323', 'Высокопроизводительные вычисления'),\n",
       "  ('83981d0841bbb56201e68b2cba8dd87d', 'Высокопроизводительные вычисления'),\n",
       "  ('3eb1a783e55b0dd8bd2fa69eeeeecd4e', 'Высокопроизводительные вычисления'),\n",
       "  ('8cc921fb155319d983cf72e9a6e8caa8', 'Высокопроизводительные вычисления'),\n",
       "  ('0d85933f07516e8871e9415c1d95ddbe', 'Высокопроизводительные вычисления'),\n",
       "  ('e0fceae1e285f737630bb6123a1bd85d', 'Высокопроизводительные вычисления'),\n",
       "  ('fc8b84c5df1ea8bf6e5da51945124d57', 'Высокопроизводительные вычисления'),\n",
       "  ('840e108d7366fbf4f985f267c74ad523', 'Высокопроизводительные вычисления'),\n",
       "  ('45bb9abd8d10c9b079317e6807b53ea9', 'Высокопроизводительные вычисления'),\n",
       "  ('d670dfbe253658a4e427a5569c59de9e', 'Высокопроизводительные вычисления'),\n",
       "  ('b42de1b3235e9e84b43f38ff282cdfb9', 'Высокопроизводительные вычисления'),\n",
       "  ('3d1f14bf03e6eee14d833c45ccff2283', 'Высокопроизводительные вычисления'),\n",
       "  ('308ec2ced0092de5474a1a8f4c0bfcfd', 'Высокопроизводительные вычисления'),\n",
       "  ('df4d59dca630b474f77b0103cac53b52', 'Высокопроизводительные вычисления'),\n",
       "  ('e22f8203911170e6b68b1b88cf85fee2', 'Высокопроизводительные вычисления'),\n",
       "  ('5d76b97bcf684f8a1ec03057dd94d416', 'Высокопроизводительные вычисления'),\n",
       "  ('b65194fec33b2358296f74f6d948efdf', 'Высокопроизводительные вычисления'),\n",
       "  ('39e61b4b01ae9201a1e0f89e36e7882e', 'Высокопроизводительные вычисления'),\n",
       "  ('23484c24b8d551a189015750171974cd', 'Высокопроизводительные вычисления'),\n",
       "  ('77c7b37ee521df16ccff23ba50c893d4', 'Высокопроизводительные вычисления'),\n",
       "  ('b243a77fa09641c7f0a0b7dfb7a541df', 'Высокопроизводительные вычисления'),\n",
       "  ('f93afd8e92c336b471aa3bbbc579aefe', 'Высокопроизводительные вычисления'),\n",
       "  ('dc7f705ae386b0457542a833571d51d0', 'Высокопроизводительные вычисления'),\n",
       "  ('7fe7df0d207babbf30249b3063ac1f26', 'Высокопроизводительные вычисления'),\n",
       "  ('3a7326c9e355a67d3805824ca34c4bc5', 'Высокопроизводительные вычисления')],\n",
       " [('af20596134e83f3ca61259b325aa9688', 'Statistical Learning Theory'),\n",
       "  ('c5870b37ee3f672e4259dfb2fc02ed8f', 'Statistical Learning Theory'),\n",
       "  ('1386d00c9c8229c2be3c0956949ee122', 'Statistical Learning Theory'),\n",
       "  ('fe631bea98b075dd781e11df3987533b', 'Statistical Learning Theory'),\n",
       "  ('1528f0eaa027580820ccf0d92a53ad68', 'Statistical Learning Theory'),\n",
       "  ('88ae08d9db8d34b267780ed642d0d2db', 'Statistical Learning Theory'),\n",
       "  ('ce2a9120d5581dcd8bd0d6252918c9ec', 'Statistical Learning Theory'),\n",
       "  ('b75b5f8abebf7faf4adbb6247d6d03bb', 'Statistical Learning Theory'),\n",
       "  ('6256514074c4680d1b14e4f2a863fd78', 'Statistical Learning Theory'),\n",
       "  ('d7118b44c7e8fdbbaaca226d2da6fef1', 'Statistical Learning Theory'),\n",
       "  ('276e2ccf4903d4ddf856b20a2b08394e', 'Statistical Learning Theory'),\n",
       "  ('3da8ee30604398faa671135cebe8f982', 'Statistical Learning Theory'),\n",
       "  ('573e2218c3fe3ffc1894edc12432d315', 'Statistical Learning Theory'),\n",
       "  ('8c191b9ac692c190f54e66167b0adc3e', 'Statistical Learning Theory'),\n",
       "  ('1da702d51a0a1829bb1bc33011aec5f0', 'Statistical Learning Theory'),\n",
       "  ('2662600c2c37e11e62f6ee0b88452f22', 'Statistical Learning Theory'),\n",
       "  ('c93289511bf5625a199d4ae9b889a06a', 'Statistical Learning Theory'),\n",
       "  ('ffc04c64d068f8d85e4dc44e7f297ecc', 'Statistical Learning Theory'),\n",
       "  ('6b3d72def53597696afb19faed1f8365', 'Statistical Learning Theory'),\n",
       "  ('5a9b8ac11ad05b39a58b0e04a263bf4c', 'Statistical Learning Theory'),\n",
       "  ('9808df02cd92ed45df39e6bc748f3179', 'Statistical Learning Theory'),\n",
       "  ('f36d508e6129c7b248cc707b71c2a551', 'Statistical Learning Theory'),\n",
       "  ('80a0660d40d5e2f3e3b9bb8a4383db74', 'Statistical Learning Theory'),\n",
       "  ('8cc921fb155319d983cf72e9a6e8caa8', 'Statistical Learning Theory'),\n",
       "  ('4ab8340cfb08da86c14a2cc3c3fad908', 'Statistical Learning Theory'),\n",
       "  ('e86ac9984ebea336a2a71b6bd9929702', 'Statistical Learning Theory'),\n",
       "  ('fc833a2815fa010d53b0047244438d9d', 'Statistical Learning Theory'),\n",
       "  ('4df9699d2022802f80b3e6426d6976d7', 'Statistical Learning Theory'),\n",
       "  ('e4caca755ee0bdd711e18fb8084958b5', 'Statistical Learning Theory'),\n",
       "  ('1f63fc485d851236249263b91dc03d6b', 'Statistical Learning Theory'),\n",
       "  ('b3cbd3541c0cf66ff4eb2bc1596bb149', 'Statistical Learning Theory'),\n",
       "  ('723d5f32b699c971b4095a017c883ffa', 'Statistical Learning Theory'),\n",
       "  ('3a7326c9e355a67d3805824ca34c4bc5', 'Statistical Learning Theory')],\n",
       " [('d539461bf254cf8b3201cdf7990b119e', 'Анализ неструктурированных данных'),\n",
       "  ('c1e88502b6673d22c38ee1352e3a1dd9', 'Анализ неструктурированных данных'),\n",
       "  ('b739739c7080a6e15f962c3863021855', 'Анализ неструктурированных данных'),\n",
       "  ('de539be8b29b3afa002184e28d63c670', 'Анализ неструктурированных данных'),\n",
       "  ('c749f69f66d40cdfb3821745951be896', 'Анализ неструктурированных данных'),\n",
       "  ('a31027b4218c8cca257f9b9cd07791d2', 'Анализ неструктурированных данных'),\n",
       "  ('e11399490117e1913ae79d09a5a2b981', 'Анализ неструктурированных данных'),\n",
       "  ('01b072a0cdb45814fc4ab8ca3e621f0e', 'Анализ неструктурированных данных'),\n",
       "  ('f44aea1095f9f5b8e2f5f0ed2b17891b', 'Анализ неструктурированных данных'),\n",
       "  ('2ca6917be428f8b84f6f15cdcbea2143', 'Анализ неструктурированных данных'),\n",
       "  ('d9c068e5578253c2b0721558dd0813e1', 'Анализ неструктурированных данных'),\n",
       "  ('2e04f9bc8796f095ed7b9c7941df91a6', 'Анализ неструктурированных данных'),\n",
       "  ('881b1a6fda195b354ae2edb396a69f5d', 'Анализ неструктурированных данных'),\n",
       "  ('50f6d5b6a7fd6c8b1b8959f9ce1f808d', 'Анализ неструктурированных данных'),\n",
       "  ('7134f24c241836458335aa3abb8d8727', 'Анализ неструктурированных данных'),\n",
       "  ('e0a59b2b04663ea386d2cac7b876952e', 'Анализ неструктурированных данных'),\n",
       "  ('674d6e333a907d65780e9618436f1952', 'Анализ неструктурированных данных'),\n",
       "  ('338374a0f16d72f8c9066ca658c1ee04', 'Анализ неструктурированных данных'),\n",
       "  ('2c0a8cb6662b9a0a0a5d2d1214442767', 'Анализ неструктурированных данных'),\n",
       "  ('5ac46b96ef57b09c77dc50a6da3f39a5', 'Анализ неструктурированных данных'),\n",
       "  ('75be5480aae801322ab8ee4b8f4517a3', 'Анализ неструктурированных данных'),\n",
       "  ('fa61e55c68763160d0fffe57dab37af9', 'Анализ неструктурированных данных'),\n",
       "  ('573e2218c3fe3ffc1894edc12432d315', 'Анализ неструктурированных данных'),\n",
       "  ('2d23e58ee8e952b48da12adcb71f2db0', 'Анализ неструктурированных данных'),\n",
       "  ('906692ccd33f59058380aac1598c5480', 'Анализ неструктурированных данных'),\n",
       "  ('f98ac9a12b43a53c0fa44491cb56890c', 'Анализ неструктурированных данных'),\n",
       "  ('c39a1776d2509b6383ab9a7af9cba0ca', 'Анализ неструктурированных данных'),\n",
       "  ('29d0fcf21c4db938fae688bb09078f8d', 'Анализ неструктурированных данных'),\n",
       "  ('976376a468b8f4d1e3c48f7acb29c2e4', 'Анализ неструктурированных данных'),\n",
       "  ('ea682b140a15d40156a00aaf0234a91e', 'Анализ неструктурированных данных'),\n",
       "  ('757ce29d3647ee4aff21bc1a62849805', 'Анализ неструктурированных данных'),\n",
       "  ('31c9900033ce01dd1365a6b6a350c3bb', 'Анализ неструктурированных данных'),\n",
       "  ('db450211a009799155ed6494957be8c7', 'Анализ неструктурированных данных'),\n",
       "  ('f2d210ace25a841e1e58036b257d5d47', 'Анализ неструктурированных данных'),\n",
       "  ('1d30f1c70a51faa60f497fe959851731', 'Анализ неструктурированных данных'),\n",
       "  ('22eda17f96bbf2d0fb857453e6101160', 'Анализ неструктурированных данных'),\n",
       "  ('f602211b88a96890ce75e36a390705b8', 'Анализ неструктурированных данных'),\n",
       "  ('9a66d84568b8017d98eb2e678b57296b', 'Анализ неструктурированных данных'),\n",
       "  ('1a45910254951a8a55dd65cf4dc24b6d', 'Анализ неструктурированных данных'),\n",
       "  ('492c677be00bb8223ebbaffa3aff2549', 'Анализ неструктурированных данных'),\n",
       "  ('e3b41563b7ea61def9fdd3623df1c783', 'Анализ неструктурированных данных'),\n",
       "  ('d81070e804b5757d118efba759e707e8', 'Анализ неструктурированных данных'),\n",
       "  ('9775834d44b69d181c5fb0c0af57c783', 'Анализ неструктурированных данных'),\n",
       "  ('d028e00edda581b07bcbe6b841e6dc39', 'Анализ неструктурированных данных'),\n",
       "  ('93c0280966ae263fe26c5d78f719f2ae', 'Анализ неструктурированных данных'),\n",
       "  ('fecff7bd30995d16b59fb392d47b3760', 'Анализ неструктурированных данных'),\n",
       "  ('6a93fcbc79d0df6ddeba3b46739fc3d8', 'Анализ неструктурированных данных'),\n",
       "  ('7f98e4487c7a910567f2d841e5e764c3', 'Анализ неструктурированных данных')],\n",
       " [('98c5a2548d93f26bd4195466e93178b3',\n",
       "   'Байесовские методы машинного обучения'),\n",
       "  ('674d6e333a907d65780e9618436f1952',\n",
       "   'Байесовские методы машинного обучения'),\n",
       "  ('3e88c8d53bcd73595d2bbcdd8c51c1bf',\n",
       "   'Байесовские методы машинного обучения'),\n",
       "  ('276e2ccf4903d4ddf856b20a2b08394e',\n",
       "   'Байесовские методы машинного обучения'),\n",
       "  ('eb1d7205d913319ef3d48e0719839849',\n",
       "   'Байесовские методы машинного обучения'),\n",
       "  ('906692ccd33f59058380aac1598c5480',\n",
       "   'Байесовские методы машинного обучения'),\n",
       "  ('f98ac9a12b43a53c0fa44491cb56890c',\n",
       "   'Байесовские методы машинного обучения'),\n",
       "  ('1da702d51a0a1829bb1bc33011aec5f0',\n",
       "   'Байесовские методы машинного обучения'),\n",
       "  ('ba298cbd9be59b84bab33325e956f27e',\n",
       "   'Байесовские методы машинного обучения'),\n",
       "  ('c93289511bf5625a199d4ae9b889a06a',\n",
       "   'Байесовские методы машинного обучения'),\n",
       "  ('ffc04c64d068f8d85e4dc44e7f297ecc',\n",
       "   'Байесовские методы машинного обучения'),\n",
       "  ('976376a468b8f4d1e3c48f7acb29c2e4',\n",
       "   'Байесовские методы машинного обучения'),\n",
       "  ('fc8b84c5df1ea8bf6e5da51945124d57',\n",
       "   'Байесовские методы машинного обучения'),\n",
       "  ('1a45910254951a8a55dd65cf4dc24b6d',\n",
       "   'Байесовские методы машинного обучения'),\n",
       "  ('d9133abde61da78a0b956af5dad1228a',\n",
       "   'Байесовские методы машинного обучения'),\n",
       "  ('d81070e804b5757d118efba759e707e8',\n",
       "   'Байесовские методы машинного обучения'),\n",
       "  ('9775834d44b69d181c5fb0c0af57c783',\n",
       "   'Байесовские методы машинного обучения'),\n",
       "  ('e86ac9984ebea336a2a71b6bd9929702',\n",
       "   'Байесовские методы машинного обучения'),\n",
       "  ('d028e00edda581b07bcbe6b841e6dc39',\n",
       "   'Байесовские методы машинного обучения'),\n",
       "  ('fc833a2815fa010d53b0047244438d9d',\n",
       "   'Байесовские методы машинного обучения'),\n",
       "  ('93c0280966ae263fe26c5d78f719f2ae',\n",
       "   'Байесовские методы машинного обучения'),\n",
       "  ('840716fde17a536f5e067546ab49a8a7',\n",
       "   'Байесовские методы машинного обучения'),\n",
       "  ('b3cbd3541c0cf66ff4eb2bc1596bb149',\n",
       "   'Байесовские методы машинного обучения'),\n",
       "  ('67e4ec4fe5c0601815692fbd6d403fb7',\n",
       "   'Байесовские методы машинного обучения')],\n",
       " [('feb53dcdd28fff9dc4a981c3419fea6f', 'Язык SQL'),\n",
       "  ('ab5248060fbaac411a79a62dfb0d263d', 'Язык SQL'),\n",
       "  ('a19f36ae8465cac527e8ce7b6ebf1213', 'Язык SQL'),\n",
       "  ('cfe9fd28e4cbe0b46594b21f3067e30a', 'Язык SQL'),\n",
       "  ('162cbdeec1b766ab857df93cdf9d65f4', 'Язык SQL'),\n",
       "  ('3de75278c0cdb78bbe54267f65c67d25', 'Язык SQL'),\n",
       "  ('5a66e3b77559d14dd20fc4df99671688', 'Язык SQL'),\n",
       "  ('8047c18b3c531c6f47931e0744f3e028', 'Язык SQL'),\n",
       "  ('1f53f6dabcd59889dd7486a7cac5c9f2', 'Язык SQL'),\n",
       "  ('760529fb42ad1fd50071e2ceeadaaedc', 'Язык SQL'),\n",
       "  ('9750aa503b095b9297e1a778d6c7cc95', 'Язык SQL'),\n",
       "  ('f7f123322f77fd451a30ed4979c323fc', 'Язык SQL'),\n",
       "  ('ecc19831d7abd064f0488a9af2521920', 'Язык SQL'),\n",
       "  ('ea9d7e5f21ee102565b1437b26eb1144', 'Язык SQL'),\n",
       "  ('1341f488fae5f1ccf164960fd6506cd0', 'Язык SQL'),\n",
       "  ('813663487952e66e7c39d29b0931206d', 'Язык SQL'),\n",
       "  ('c7544f6c00a5164efdef675410d62e94', 'Язык SQL'),\n",
       "  ('d0d8ff53ed5b119f9056068e954256c6', 'Язык SQL'),\n",
       "  ('9c656049fc55775bb9215d12aabf5881', 'Язык SQL'),\n",
       "  ('9fa4bc4eb50e574e88b670a86781860b', 'Язык SQL'),\n",
       "  ('f0db08ec702a03450390efdca4166cc2', 'Язык SQL'),\n",
       "  ('e8b314842f176be9051d14a07cb156cb', 'Язык SQL'),\n",
       "  ('4d7035f3a6d0c55c4fbcf4031679545a', 'Язык SQL'),\n",
       "  ('fc2c60b8004aa91bc272df84628621ff', 'Язык SQL'),\n",
       "  ('c7f347b466ff14ec85103f61c4d6ff8e', 'Язык SQL'),\n",
       "  ('9015b809a29fb65ce23d7addf16d770d', 'Язык SQL'),\n",
       "  ('4b019ecb89626c8752a1d962b63c8a4b', 'Язык SQL'),\n",
       "  ('b8dab0479a00af2eb75deaf54dd9a442', 'Язык SQL'),\n",
       "  ('93ff79a51cd602f1dd3028ba2c129503', 'Язык SQL')],\n",
       " [('bb94ed5af639819dac15574197c80da3', 'Теория баз данных'),\n",
       "  ('f8c83b338162bb41af2851b5e62f84d0', 'Теория баз данных'),\n",
       "  ('72e79e6a79cb4025077b371cc6e54247', 'Теория баз данных'),\n",
       "  ('f8fab519d78047712c06798c8b7fe38f', 'Теория баз данных'),\n",
       "  ('9750aa503b095b9297e1a778d6c7cc95', 'Теория баз данных'),\n",
       "  ('c98c2ee69047bd8febea3ac2d1380bf9', 'Теория баз данных'),\n",
       "  ('f941beb89ecc5c59076bcfa79691116c', 'Теория баз данных'),\n",
       "  ('d82c2df25b8b36cd655077b4a885e1f7', 'Теория баз данных'),\n",
       "  ('6257850b5decedd464341a5b763e3b4a', 'Теория баз данных'),\n",
       "  ('e6f5eb76b34e7ab7bac753e6cb0a2279', 'Теория баз данных'),\n",
       "  ('04bcb5c9d23813ffa940e1febb27fadc', 'Теория баз данных'),\n",
       "  ('59347ad5e9d8099a9a8fa58b841bdf05', 'Теория баз данных'),\n",
       "  ('d6c079f1ff869c8c84fa3ed30bd67e0e', 'Теория баз данных'),\n",
       "  ('651f2fa7d270b436246ddd7d05880bfa', 'Теория баз данных')],\n",
       " [('7a21ef645ecb42198be493dd65320e78',\n",
       "   'Принятие решений в условиях риска и неопределённости'),\n",
       "  ('79d14db48e4737af731960ae212d5134',\n",
       "   'Принятие решений в условиях риска и неопределённости'),\n",
       "  ('f2e1cfc27a724879ac2a8c98004c14b0',\n",
       "   'Принятие решений в условиях риска и неопределённости'),\n",
       "  ('93da3d13e0ae40a97367b0c16d497399',\n",
       "   'Принятие решений в условиях риска и неопределённости'),\n",
       "  ('6f1c603284d031570af2e4be6c1afdcb',\n",
       "   'Принятие решений в условиях риска и неопределённости'),\n",
       "  ('f941beb89ecc5c59076bcfa79691116c',\n",
       "   'Принятие решений в условиях риска и неопределённости'),\n",
       "  ('57c331c5a1b473501d86dfd23421bb5c',\n",
       "   'Принятие решений в условиях риска и неопределённости'),\n",
       "  ('701078e1e897399f675e96bdda5fb149',\n",
       "   'Принятие решений в условиях риска и неопределённости')],\n",
       " [('f5d9f99cb876ca0888d18b6e444fa1b1',\n",
       "   'Сбор и обработка данных с помощью краудсорсинга'),\n",
       "  ('ef8c6afd958da5f51429948f090432da',\n",
       "   'Сбор и обработка данных с помощью краудсорсинга'),\n",
       "  ('dbcac463fe0b6294743107a9e74356c5',\n",
       "   'Сбор и обработка данных с помощью краудсорсинга'),\n",
       "  ('86c24daaa62246142d46ee58534a65e0',\n",
       "   'Сбор и обработка данных с помощью краудсорсинга'),\n",
       "  ('c749f69f66d40cdfb3821745951be896',\n",
       "   'Сбор и обработка данных с помощью краудсорсинга'),\n",
       "  ('a31027b4218c8cca257f9b9cd07791d2',\n",
       "   'Сбор и обработка данных с помощью краудсорсинга'),\n",
       "  ('7f8feb54319e52cb63ad437f4128a9d8',\n",
       "   'Сбор и обработка данных с помощью краудсорсинга'),\n",
       "  ('014b72217e20370dab7acc48b20c47be',\n",
       "   'Сбор и обработка данных с помощью краудсорсинга'),\n",
       "  ('bba51e2f648cb3323b96858a404dacea',\n",
       "   'Сбор и обработка данных с помощью краудсорсинга'),\n",
       "  ('01b072a0cdb45814fc4ab8ca3e621f0e',\n",
       "   'Сбор и обработка данных с помощью краудсорсинга'),\n",
       "  ('635e9ca4fcf26a2bd38b8488a8edfca5',\n",
       "   'Сбор и обработка данных с помощью краудсорсинга'),\n",
       "  ('0c0cbdd1a309c1d1fd8993c4dc907bb5',\n",
       "   'Сбор и обработка данных с помощью краудсорсинга'),\n",
       "  ('2e04f9bc8796f095ed7b9c7941df91a6',\n",
       "   'Сбор и обработка данных с помощью краудсорсинга'),\n",
       "  ('6a93b58f867db41e822a03c26c1bd428',\n",
       "   'Сбор и обработка данных с помощью краудсорсинга'),\n",
       "  ('7134f24c241836458335aa3abb8d8727',\n",
       "   'Сбор и обработка данных с помощью краудсорсинга'),\n",
       "  ('d40cbae8cfc9e6c5d05831ef7e122f3e',\n",
       "   'Сбор и обработка данных с помощью краудсорсинга'),\n",
       "  ('cef24632489091cb8c085688b7d78dec',\n",
       "   'Сбор и обработка данных с помощью краудсорсинга'),\n",
       "  ('5daee1bd98559bb2c52373e416942225',\n",
       "   'Сбор и обработка данных с помощью краудсорсинга'),\n",
       "  ('1c1623a037bd523d687245e6060e6c5b',\n",
       "   'Сбор и обработка данных с помощью краудсорсинга'),\n",
       "  ('d7118b44c7e8fdbbaaca226d2da6fef1',\n",
       "   'Сбор и обработка данных с помощью краудсорсинга'),\n",
       "  ('3e88c8d53bcd73595d2bbcdd8c51c1bf',\n",
       "   'Сбор и обработка данных с помощью краудсорсинга'),\n",
       "  ('39cd1820459fdbcc193f9bb0ddb74a58',\n",
       "   'Сбор и обработка данных с помощью краудсорсинга'),\n",
       "  ('6338b6eeb16faedc58d30d2f45c89a4c',\n",
       "   'Сбор и обработка данных с помощью краудсорсинга'),\n",
       "  ('47e2d8bbb630bc2d9b3fbf98fe77cffb',\n",
       "   'Сбор и обработка данных с помощью краудсорсинга'),\n",
       "  ('2662600c2c37e11e62f6ee0b88452f22',\n",
       "   'Сбор и обработка данных с помощью краудсорсинга'),\n",
       "  ('ba298cbd9be59b84bab33325e956f27e',\n",
       "   'Сбор и обработка данных с помощью краудсорсинга'),\n",
       "  ('a1184a8dbbf9a7418b634339bed7e9b1',\n",
       "   'Сбор и обработка данных с помощью краудсорсинга'),\n",
       "  ('c154bbf18efdd4d760e52155eaa87929',\n",
       "   'Сбор и обработка данных с помощью краудсорсинга'),\n",
       "  ('c39a1776d2509b6383ab9a7af9cba0ca',\n",
       "   'Сбор и обработка данных с помощью краудсорсинга'),\n",
       "  ('701078e1e897399f675e96bdda5fb149',\n",
       "   'Сбор и обработка данных с помощью краудсорсинга')],\n",
       " [('d9f0e5ebc6718202b86eaee2de1c697b', 'Матричные вычисления'),\n",
       "  ('b6bf56b8b8ffd1666036b0a8ca01c452', 'Матричные вычисления'),\n",
       "  ('73282cacef07625adb2f9b4e2d57240e', 'Матричные вычисления'),\n",
       "  ('ac3d08a6cc42a50f0ca53017b3ba5ba9', 'Матричные вычисления'),\n",
       "  ('d3b992fe1016d7951d335db002d43dec', 'Матричные вычисления'),\n",
       "  ('5ab47e4eef1a7c1899da4da200049038', 'Матричные вычисления'),\n",
       "  ('ffc58d371e2f52e1c7f45d49d3d629d0', 'Матричные вычисления'),\n",
       "  ('9abd31fe9761b5abd56524915237c1ea', 'Матричные вычисления'),\n",
       "  ('47a0391ff6ee0a09d11e595266a4b630', 'Матричные вычисления'),\n",
       "  ('5d9c9087b5a851ecb6bba1bc916b684f', 'Матричные вычисления'),\n",
       "  ('0f114e98d9f732aa51db34f687db2655', 'Матричные вычисления'),\n",
       "  ('d4c7805c20028b28a8e3713ccdeae2a1', 'Матричные вычисления'),\n",
       "  ('48ba69e4b13182a6d89499fd9a2c8f46', 'Матричные вычисления'),\n",
       "  ('cef7df6fa798b759b2a5763b7d0c5d38', 'Матричные вычисления'),\n",
       "  ('e0ca1a9548af9a3f98428c62420aa484', 'Матричные вычисления')],\n",
       " [('f2e1cfc27a724879ac2a8c98004c14b0', 'Моделирование временных рядов'),\n",
       "  ('c1e88502b6673d22c38ee1352e3a1dd9', 'Моделирование временных рядов'),\n",
       "  ('1ed2386f4de225ae7aa6cfd5772d9c50', 'Моделирование временных рядов'),\n",
       "  ('bba51e2f648cb3323b96858a404dacea', 'Моделирование временных рядов'),\n",
       "  ('6cd7de3774f07c65e44668cdf7e987b6', 'Моделирование временных рядов'),\n",
       "  ('6ed89e424179b0510e3f7c0cb7369ad6', 'Моделирование временных рядов'),\n",
       "  ('f8fab519d78047712c06798c8b7fe38f', 'Моделирование временных рядов'),\n",
       "  ('fe631bea98b075dd781e11df3987533b', 'Моделирование временных рядов'),\n",
       "  ('59241a17fc6c01fa7d209ef20712d31c', 'Моделирование временных рядов'),\n",
       "  ('ce2a9120d5581dcd8bd0d6252918c9ec', 'Моделирование временных рядов'),\n",
       "  ('28cd79966197dc97bafed62bc8c48bbd', 'Моделирование временных рядов'),\n",
       "  ('ddea5295ac96e74f05982e47c7ab4ff4', 'Моделирование временных рядов'),\n",
       "  ('6338b6eeb16faedc58d30d2f45c89a4c', 'Моделирование временных рядов'),\n",
       "  ('5a6f07c1f6186408b43f0f8e729168e9', 'Моделирование временных рядов'),\n",
       "  ('68f1b5165e9e310fcf920fb903117061', 'Моделирование временных рядов'),\n",
       "  ('25a3ce0eea214df2aa6d25d395d594f0', 'Моделирование временных рядов'),\n",
       "  ('5ab47e4eef1a7c1899da4da200049038', 'Моделирование временных рядов'),\n",
       "  ('348562c4a55053de25fdd4389b9f1181', 'Моделирование временных рядов'),\n",
       "  ('796d174c592006376963b8f31e818dbf', 'Моделирование временных рядов'),\n",
       "  ('876b1fbacdfe36cb2e3927aea554b1ff', 'Моделирование временных рядов'),\n",
       "  ('a69948a1730e412eab71a4d4e70791e2', 'Моделирование временных рядов'),\n",
       "  ('abceddfa2fc4eae8cff4a4e712abb3fb', 'Моделирование временных рядов'),\n",
       "  ('82bc94a50a6c08a67ad9bf3d9791c459', 'Моделирование временных рядов'),\n",
       "  ('9015b809a29fb65ce23d7addf16d770d', 'Моделирование временных рядов'),\n",
       "  ('c3c0a0524bae841e5f9a56cf967cd423', 'Моделирование временных рядов'),\n",
       "  ('addc4cb9d1641fa3f5dc02329c7e8d6c', 'Моделирование временных рядов'),\n",
       "  ('47a0391ff6ee0a09d11e595266a4b630', 'Моделирование временных рядов'),\n",
       "  ('b8dab0479a00af2eb75deaf54dd9a442', 'Моделирование временных рядов'),\n",
       "  ('59347ad5e9d8099a9a8fa58b841bdf05', 'Моделирование временных рядов'),\n",
       "  ('ff549c331d45453052f28ad2614afda9', 'Моделирование временных рядов')]]"
      ]
     },
     "execution_count": 64,
     "metadata": {},
     "output_type": "execute_result"
    }
   ],
   "source": [
    "st_choice_names"
   ]
  },
  {
   "cell_type": "code",
   "execution_count": 65,
   "metadata": {},
   "outputs": [],
   "source": [
    "s = pd.Series(np.hstack(students_choice))\n",
    "dupl_st = s[s.duplicated()].values"
   ]
  },
  {
   "cell_type": "markdown",
   "metadata": {},
   "source": [
    "Заполняем с учетом повторяющихся студентов, которые возникли после отбора по перцентилю, так как некотоыре выбирают по два курса."
   ]
  },
  {
   "cell_type": "code",
   "execution_count": 66,
   "metadata": {},
   "outputs": [],
   "source": [
    "for i in range(len(st_choice_names)):\n",
    "    for j in range(len(st_choice_names[i])):\n",
    "        if (df.loc[df['id'] == st_choice_names[i][j][0], 'course1'].values == '-')[0]:\n",
    "            df.loc[df['id'] == st_choice_names[i][j][0], 'course1'] = st_choice_names[i][j][1]\n",
    "        else:\n",
    "            df.loc[df['id'] == st_choice_names[i][j][0], 'course2'] = st_choice_names[i][j][1]"
   ]
  },
  {
   "cell_type": "code",
   "execution_count": 67,
   "metadata": {},
   "outputs": [],
   "source": [
    "df.loc[df['course1'] == '-', 'course1'] = ['???']*len(df[df['course1'] == '-'])"
   ]
  },
  {
   "cell_type": "code",
   "execution_count": 68,
   "metadata": {},
   "outputs": [
    {
     "data": {
      "text/html": [
       "<div>\n",
       "<style scoped>\n",
       "    .dataframe tbody tr th:only-of-type {\n",
       "        vertical-align: middle;\n",
       "    }\n",
       "\n",
       "    .dataframe tbody tr th {\n",
       "        vertical-align: top;\n",
       "    }\n",
       "\n",
       "    .dataframe thead th {\n",
       "        text-align: right;\n",
       "    }\n",
       "</style>\n",
       "<table border=\"1\" class=\"dataframe\">\n",
       "  <thead>\n",
       "    <tr style=\"text-align: right;\">\n",
       "      <th></th>\n",
       "      <th>timestamp</th>\n",
       "      <th>id</th>\n",
       "      <th>rating</th>\n",
       "      <th>18_group</th>\n",
       "      <th>is_mi</th>\n",
       "      <th>fall_1</th>\n",
       "      <th>fall_2</th>\n",
       "      <th>fall_3</th>\n",
       "      <th>spring_1</th>\n",
       "      <th>spring_2</th>\n",
       "      <th>spring_3</th>\n",
       "      <th>is_first_time</th>\n",
       "      <th>percentile</th>\n",
       "      <th>17_group</th>\n",
       "      <th>blended</th>\n",
       "      <th>is_ml_student</th>\n",
       "      <th>num_fall_course</th>\n",
       "      <th>course1</th>\n",
       "      <th>course2</th>\n",
       "    </tr>\n",
       "  </thead>\n",
       "  <tbody>\n",
       "    <tr>\n",
       "      <th>223</th>\n",
       "      <td>2020-05-14 20:23:21.662</td>\n",
       "      <td>d555d2805e1d93d4f023e57dc4c8f403</td>\n",
       "      <td>996</td>\n",
       "      <td>0.0</td>\n",
       "      <td>0.0</td>\n",
       "      <td>Безопасность компьютерных систем</td>\n",
       "      <td>Глубинное обучение в обработке звука</td>\n",
       "      <td>Байесовские методы машинного обучения</td>\n",
       "      <td>Компьютерное зрение</td>\n",
       "      <td>Обучение с подкреплением</td>\n",
       "      <td>Проектирование и разработка высоконагруженных ...</td>\n",
       "      <td>Да</td>\n",
       "      <td>0.963768</td>\n",
       "      <td>172.0</td>\n",
       "      <td>DevOps</td>\n",
       "      <td>0.0</td>\n",
       "      <td>2.0</td>\n",
       "      <td>Безопасность компьютерных систем</td>\n",
       "      <td>Глубинное обучение в обработке звука</td>\n",
       "    </tr>\n",
       "    <tr>\n",
       "      <th>224</th>\n",
       "      <td>2020-05-14 20:47:13.833</td>\n",
       "      <td>253bbe1a2021d0404712a1e4acd22939</td>\n",
       "      <td>1106</td>\n",
       "      <td>0.0</td>\n",
       "      <td>0.0</td>\n",
       "      <td>Безопасность компьютерных систем</td>\n",
       "      <td>Моделирование временных рядов</td>\n",
       "      <td>Statistical Learning Theory</td>\n",
       "      <td>Проектирование и разработка высоконагруженных ...</td>\n",
       "      <td>Численные методы</td>\n",
       "      <td>Методы сжатия и передачи медиаданных</td>\n",
       "      <td>Да</td>\n",
       "      <td>0.673913</td>\n",
       "      <td>176.0</td>\n",
       "      <td>DevOps</td>\n",
       "      <td>0.0</td>\n",
       "      <td>1.0</td>\n",
       "      <td>???</td>\n",
       "      <td>-</td>\n",
       "    </tr>\n",
       "    <tr>\n",
       "      <th>225</th>\n",
       "      <td>2020-05-14 20:52:42.734</td>\n",
       "      <td>881b1a6fda195b354ae2edb396a69f5d</td>\n",
       "      <td>1084</td>\n",
       "      <td>0.0</td>\n",
       "      <td>0.0</td>\n",
       "      <td>Безопасность компьютерных систем</td>\n",
       "      <td>Анализ неструктурированных данных</td>\n",
       "      <td>Глубинное обучение в обработке звука</td>\n",
       "      <td>Компьютерное зрение</td>\n",
       "      <td>Проектирование и разработка высоконагруженных ...</td>\n",
       "      <td>Генеративные модели в машинном обучении</td>\n",
       "      <td>Да</td>\n",
       "      <td>0.782609</td>\n",
       "      <td>172.0</td>\n",
       "      <td>DevOps</td>\n",
       "      <td>0.0</td>\n",
       "      <td>2.0</td>\n",
       "      <td>Безопасность компьютерных систем</td>\n",
       "      <td>Анализ неструктурированных данных</td>\n",
       "    </tr>\n",
       "    <tr>\n",
       "      <th>226</th>\n",
       "      <td>2020-05-14 21:03:02.916</td>\n",
       "      <td>5a9b8ac11ad05b39a58b0e04a263bf4c</td>\n",
       "      <td>1170</td>\n",
       "      <td>0.0</td>\n",
       "      <td>0.0</td>\n",
       "      <td>Глубинное обучение в обработке звука</td>\n",
       "      <td>Statistical Learning Theory</td>\n",
       "      <td>Сбор и обработка данных с помощью краудсорсинга</td>\n",
       "      <td>Конфликты и кооперация</td>\n",
       "      <td>Обучение с подкреплением</td>\n",
       "      <td>Генеративные модели в машинном обучении</td>\n",
       "      <td>Да</td>\n",
       "      <td>0.442029</td>\n",
       "      <td>171.0</td>\n",
       "      <td>DevOps</td>\n",
       "      <td>0.0</td>\n",
       "      <td>2.0</td>\n",
       "      <td>Глубинное обучение в обработке звука</td>\n",
       "      <td>Statistical Learning Theory</td>\n",
       "    </tr>\n",
       "    <tr>\n",
       "      <th>227</th>\n",
       "      <td>2020-05-14 21:10:54.945</td>\n",
       "      <td>1bbbfae51794b83c769b634be8da7b8d</td>\n",
       "      <td>1078</td>\n",
       "      <td>0.0</td>\n",
       "      <td>0.0</td>\n",
       "      <td>Безопасность компьютерных систем</td>\n",
       "      <td>Высокопроизводительные вычисления</td>\n",
       "      <td>Анализ неструктурированных данных</td>\n",
       "      <td>Проектирование и разработка высоконагруженных ...</td>\n",
       "      <td>Методы сжатия и передачи медиаданных</td>\n",
       "      <td>Конфликты и кооперация</td>\n",
       "      <td>Да</td>\n",
       "      <td>0.789855</td>\n",
       "      <td>176.0</td>\n",
       "      <td>DevOps</td>\n",
       "      <td>0.0</td>\n",
       "      <td>1.0</td>\n",
       "      <td>Безопасность компьютерных систем</td>\n",
       "      <td>-</td>\n",
       "    </tr>\n",
       "  </tbody>\n",
       "</table>\n",
       "</div>"
      ],
      "text/plain": [
       "                  timestamp                                id  rating  \\\n",
       "223 2020-05-14 20:23:21.662  d555d2805e1d93d4f023e57dc4c8f403     996   \n",
       "224 2020-05-14 20:47:13.833  253bbe1a2021d0404712a1e4acd22939    1106   \n",
       "225 2020-05-14 20:52:42.734  881b1a6fda195b354ae2edb396a69f5d    1084   \n",
       "226 2020-05-14 21:03:02.916  5a9b8ac11ad05b39a58b0e04a263bf4c    1170   \n",
       "227 2020-05-14 21:10:54.945  1bbbfae51794b83c769b634be8da7b8d    1078   \n",
       "\n",
       "     18_group  is_mi                                fall_1  \\\n",
       "223       0.0    0.0      Безопасность компьютерных систем   \n",
       "224       0.0    0.0      Безопасность компьютерных систем   \n",
       "225       0.0    0.0      Безопасность компьютерных систем   \n",
       "226       0.0    0.0  Глубинное обучение в обработке звука   \n",
       "227       0.0    0.0      Безопасность компьютерных систем   \n",
       "\n",
       "                                   fall_2  \\\n",
       "223  Глубинное обучение в обработке звука   \n",
       "224         Моделирование временных рядов   \n",
       "225     Анализ неструктурированных данных   \n",
       "226           Statistical Learning Theory   \n",
       "227     Высокопроизводительные вычисления   \n",
       "\n",
       "                                              fall_3  \\\n",
       "223            Байесовские методы машинного обучения   \n",
       "224                      Statistical Learning Theory   \n",
       "225             Глубинное обучение в обработке звука   \n",
       "226  Сбор и обработка данных с помощью краудсорсинга   \n",
       "227                Анализ неструктурированных данных   \n",
       "\n",
       "                                              spring_1  \\\n",
       "223                                Компьютерное зрение   \n",
       "224  Проектирование и разработка высоконагруженных ...   \n",
       "225                                Компьютерное зрение   \n",
       "226                             Конфликты и кооперация   \n",
       "227  Проектирование и разработка высоконагруженных ...   \n",
       "\n",
       "                                              spring_2  \\\n",
       "223                           Обучение с подкреплением   \n",
       "224                                   Численные методы   \n",
       "225  Проектирование и разработка высоконагруженных ...   \n",
       "226                           Обучение с подкреплением   \n",
       "227               Методы сжатия и передачи медиаданных   \n",
       "\n",
       "                                              spring_3 is_first_time  \\\n",
       "223  Проектирование и разработка высоконагруженных ...            Да   \n",
       "224               Методы сжатия и передачи медиаданных            Да   \n",
       "225            Генеративные модели в машинном обучении            Да   \n",
       "226            Генеративные модели в машинном обучении            Да   \n",
       "227                             Конфликты и кооперация            Да   \n",
       "\n",
       "     percentile  17_group blended  is_ml_student  num_fall_course  \\\n",
       "223    0.963768     172.0  DevOps            0.0              2.0   \n",
       "224    0.673913     176.0  DevOps            0.0              1.0   \n",
       "225    0.782609     172.0  DevOps            0.0              2.0   \n",
       "226    0.442029     171.0  DevOps            0.0              2.0   \n",
       "227    0.789855     176.0  DevOps            0.0              1.0   \n",
       "\n",
       "                                  course1  \\\n",
       "223      Безопасность компьютерных систем   \n",
       "224                                   ???   \n",
       "225      Безопасность компьютерных систем   \n",
       "226  Глубинное обучение в обработке звука   \n",
       "227      Безопасность компьютерных систем   \n",
       "\n",
       "                                  course2  \n",
       "223  Глубинное обучение в обработке звука  \n",
       "224                                     -  \n",
       "225     Анализ неструктурированных данных  \n",
       "226           Statistical Learning Theory  \n",
       "227                                     -  "
      ]
     },
     "execution_count": 68,
     "metadata": {},
     "output_type": "execute_result"
    }
   ],
   "source": [
    "df.head()"
   ]
  },
  {
   "cell_type": "markdown",
   "metadata": {},
   "source": [
    "Дополнительные признаки"
   ]
  },
  {
   "cell_type": "code",
   "execution_count": 69,
   "metadata": {},
   "outputs": [],
   "source": [
    "df2 = copy.deepcopy(df)"
   ]
  },
  {
   "cell_type": "code",
   "execution_count": 70,
   "metadata": {},
   "outputs": [],
   "source": [
    "id_max_array1 = []\n",
    "id_min_array1 = []\n",
    "id_max_array2 = []\n",
    "id_min_array2 = []\n",
    "\n",
    "for i in courses:\n",
    "    c1 = df2[df2['course1']  == i]\n",
    "    c2 = df2[df2['course2']  == i]\n",
    "    \n",
    "    id_max1 = c1['percentile'].argmax()\n",
    "    id_min1 = c1['percentile'].argmin()\n",
    "    \n",
    "    if len(c2) != 0:\n",
    "        id_max2 = c2['percentile'].argmax()\n",
    "        id_min2 = c2['percentile'].argmin()\n",
    "        \n",
    "        id_max_array2.append(c2['id'].iloc[id_max2])\n",
    "        id_min_array2.append(c2['id'].iloc[id_min2])\n",
    "    \n",
    "    id_max_array1.append(c1['id'].iloc[id_max1])\n",
    "    id_min_array1.append(c1['id'].iloc[id_min1])"
   ]
  },
  {
   "cell_type": "code",
   "execution_count": 71,
   "metadata": {},
   "outputs": [
    {
     "data": {
      "text/plain": [
       "'1ed2386f4de225ae7aa6cfd5772d9c50'"
      ]
     },
     "execution_count": 71,
     "metadata": {},
     "output_type": "execute_result"
    }
   ],
   "source": [
    "c1['id'].iloc[c1['percentile'].argmax()]"
   ]
  },
  {
   "cell_type": "code",
   "execution_count": 72,
   "metadata": {},
   "outputs": [],
   "source": [
    "df2['is_first_place'] = [np.nan]*len(df2)\n",
    "df2['is_last_place'] = [np.nan]*len(df2)"
   ]
  },
  {
   "cell_type": "code",
   "execution_count": 73,
   "metadata": {},
   "outputs": [],
   "source": [
    "df2.loc[df2['id'].isin(id_max_array1), 'is_first_place'] = True\n",
    "df2.loc[df2['id'].isin(id_max_array2), 'is_first_place'] = True\n",
    "df2.loc[df2['id'].isin(id_min_array1), 'is_last_place'] = True\n",
    "df2.loc[df2['id'].isin(id_min_array2), 'is_last_place'] = True"
   ]
  },
  {
   "cell_type": "code",
   "execution_count": 74,
   "metadata": {},
   "outputs": [],
   "source": [
    "df['is_first_place'] = df2['is_first_place']\n",
    "df['is_last_place'] = df2['is_last_place']"
   ]
  },
  {
   "cell_type": "code",
   "execution_count": 75,
   "metadata": {},
   "outputs": [
    {
     "data": {
      "text/html": [
       "<div>\n",
       "<style scoped>\n",
       "    .dataframe tbody tr th:only-of-type {\n",
       "        vertical-align: middle;\n",
       "    }\n",
       "\n",
       "    .dataframe tbody tr th {\n",
       "        vertical-align: top;\n",
       "    }\n",
       "\n",
       "    .dataframe thead th {\n",
       "        text-align: right;\n",
       "    }\n",
       "</style>\n",
       "<table border=\"1\" class=\"dataframe\">\n",
       "  <thead>\n",
       "    <tr style=\"text-align: right;\">\n",
       "      <th></th>\n",
       "      <th>timestamp</th>\n",
       "      <th>id</th>\n",
       "      <th>rating</th>\n",
       "      <th>18_group</th>\n",
       "      <th>is_mi</th>\n",
       "      <th>fall_1</th>\n",
       "      <th>fall_2</th>\n",
       "      <th>fall_3</th>\n",
       "      <th>spring_1</th>\n",
       "      <th>spring_2</th>\n",
       "      <th>...</th>\n",
       "      <th>is_first_time</th>\n",
       "      <th>percentile</th>\n",
       "      <th>17_group</th>\n",
       "      <th>blended</th>\n",
       "      <th>is_ml_student</th>\n",
       "      <th>num_fall_course</th>\n",
       "      <th>course1</th>\n",
       "      <th>course2</th>\n",
       "      <th>is_first_place</th>\n",
       "      <th>is_last_place</th>\n",
       "    </tr>\n",
       "  </thead>\n",
       "  <tbody>\n",
       "    <tr>\n",
       "      <th>223</th>\n",
       "      <td>2020-05-14 20:23:21.662</td>\n",
       "      <td>d555d2805e1d93d4f023e57dc4c8f403</td>\n",
       "      <td>996</td>\n",
       "      <td>0.0</td>\n",
       "      <td>0.0</td>\n",
       "      <td>Безопасность компьютерных систем</td>\n",
       "      <td>Глубинное обучение в обработке звука</td>\n",
       "      <td>Байесовские методы машинного обучения</td>\n",
       "      <td>Компьютерное зрение</td>\n",
       "      <td>Обучение с подкреплением</td>\n",
       "      <td>...</td>\n",
       "      <td>Да</td>\n",
       "      <td>0.963768</td>\n",
       "      <td>172.0</td>\n",
       "      <td>DevOps</td>\n",
       "      <td>0.0</td>\n",
       "      <td>2.0</td>\n",
       "      <td>Безопасность компьютерных систем</td>\n",
       "      <td>Глубинное обучение в обработке звука</td>\n",
       "      <td>True</td>\n",
       "      <td>True</td>\n",
       "    </tr>\n",
       "    <tr>\n",
       "      <th>224</th>\n",
       "      <td>2020-05-14 20:47:13.833</td>\n",
       "      <td>253bbe1a2021d0404712a1e4acd22939</td>\n",
       "      <td>1106</td>\n",
       "      <td>0.0</td>\n",
       "      <td>0.0</td>\n",
       "      <td>Безопасность компьютерных систем</td>\n",
       "      <td>Моделирование временных рядов</td>\n",
       "      <td>Statistical Learning Theory</td>\n",
       "      <td>Проектирование и разработка высоконагруженных ...</td>\n",
       "      <td>Численные методы</td>\n",
       "      <td>...</td>\n",
       "      <td>Да</td>\n",
       "      <td>0.673913</td>\n",
       "      <td>176.0</td>\n",
       "      <td>DevOps</td>\n",
       "      <td>0.0</td>\n",
       "      <td>1.0</td>\n",
       "      <td>???</td>\n",
       "      <td>-</td>\n",
       "      <td>NaN</td>\n",
       "      <td>NaN</td>\n",
       "    </tr>\n",
       "    <tr>\n",
       "      <th>225</th>\n",
       "      <td>2020-05-14 20:52:42.734</td>\n",
       "      <td>881b1a6fda195b354ae2edb396a69f5d</td>\n",
       "      <td>1084</td>\n",
       "      <td>0.0</td>\n",
       "      <td>0.0</td>\n",
       "      <td>Безопасность компьютерных систем</td>\n",
       "      <td>Анализ неструктурированных данных</td>\n",
       "      <td>Глубинное обучение в обработке звука</td>\n",
       "      <td>Компьютерное зрение</td>\n",
       "      <td>Проектирование и разработка высоконагруженных ...</td>\n",
       "      <td>...</td>\n",
       "      <td>Да</td>\n",
       "      <td>0.782609</td>\n",
       "      <td>172.0</td>\n",
       "      <td>DevOps</td>\n",
       "      <td>0.0</td>\n",
       "      <td>2.0</td>\n",
       "      <td>Безопасность компьютерных систем</td>\n",
       "      <td>Анализ неструктурированных данных</td>\n",
       "      <td>NaN</td>\n",
       "      <td>NaN</td>\n",
       "    </tr>\n",
       "    <tr>\n",
       "      <th>226</th>\n",
       "      <td>2020-05-14 21:03:02.916</td>\n",
       "      <td>5a9b8ac11ad05b39a58b0e04a263bf4c</td>\n",
       "      <td>1170</td>\n",
       "      <td>0.0</td>\n",
       "      <td>0.0</td>\n",
       "      <td>Глубинное обучение в обработке звука</td>\n",
       "      <td>Statistical Learning Theory</td>\n",
       "      <td>Сбор и обработка данных с помощью краудсорсинга</td>\n",
       "      <td>Конфликты и кооперация</td>\n",
       "      <td>Обучение с подкреплением</td>\n",
       "      <td>...</td>\n",
       "      <td>Да</td>\n",
       "      <td>0.442029</td>\n",
       "      <td>171.0</td>\n",
       "      <td>DevOps</td>\n",
       "      <td>0.0</td>\n",
       "      <td>2.0</td>\n",
       "      <td>Глубинное обучение в обработке звука</td>\n",
       "      <td>Statistical Learning Theory</td>\n",
       "      <td>True</td>\n",
       "      <td>NaN</td>\n",
       "    </tr>\n",
       "    <tr>\n",
       "      <th>227</th>\n",
       "      <td>2020-05-14 21:10:54.945</td>\n",
       "      <td>1bbbfae51794b83c769b634be8da7b8d</td>\n",
       "      <td>1078</td>\n",
       "      <td>0.0</td>\n",
       "      <td>0.0</td>\n",
       "      <td>Безопасность компьютерных систем</td>\n",
       "      <td>Высокопроизводительные вычисления</td>\n",
       "      <td>Анализ неструктурированных данных</td>\n",
       "      <td>Проектирование и разработка высоконагруженных ...</td>\n",
       "      <td>Методы сжатия и передачи медиаданных</td>\n",
       "      <td>...</td>\n",
       "      <td>Да</td>\n",
       "      <td>0.789855</td>\n",
       "      <td>176.0</td>\n",
       "      <td>DevOps</td>\n",
       "      <td>0.0</td>\n",
       "      <td>1.0</td>\n",
       "      <td>Безопасность компьютерных систем</td>\n",
       "      <td>-</td>\n",
       "      <td>NaN</td>\n",
       "      <td>NaN</td>\n",
       "    </tr>\n",
       "  </tbody>\n",
       "</table>\n",
       "<p>5 rows × 21 columns</p>\n",
       "</div>"
      ],
      "text/plain": [
       "                  timestamp                                id  rating  \\\n",
       "223 2020-05-14 20:23:21.662  d555d2805e1d93d4f023e57dc4c8f403     996   \n",
       "224 2020-05-14 20:47:13.833  253bbe1a2021d0404712a1e4acd22939    1106   \n",
       "225 2020-05-14 20:52:42.734  881b1a6fda195b354ae2edb396a69f5d    1084   \n",
       "226 2020-05-14 21:03:02.916  5a9b8ac11ad05b39a58b0e04a263bf4c    1170   \n",
       "227 2020-05-14 21:10:54.945  1bbbfae51794b83c769b634be8da7b8d    1078   \n",
       "\n",
       "     18_group  is_mi                                fall_1  \\\n",
       "223       0.0    0.0      Безопасность компьютерных систем   \n",
       "224       0.0    0.0      Безопасность компьютерных систем   \n",
       "225       0.0    0.0      Безопасность компьютерных систем   \n",
       "226       0.0    0.0  Глубинное обучение в обработке звука   \n",
       "227       0.0    0.0      Безопасность компьютерных систем   \n",
       "\n",
       "                                   fall_2  \\\n",
       "223  Глубинное обучение в обработке звука   \n",
       "224         Моделирование временных рядов   \n",
       "225     Анализ неструктурированных данных   \n",
       "226           Statistical Learning Theory   \n",
       "227     Высокопроизводительные вычисления   \n",
       "\n",
       "                                              fall_3  \\\n",
       "223            Байесовские методы машинного обучения   \n",
       "224                      Statistical Learning Theory   \n",
       "225             Глубинное обучение в обработке звука   \n",
       "226  Сбор и обработка данных с помощью краудсорсинга   \n",
       "227                Анализ неструктурированных данных   \n",
       "\n",
       "                                              spring_1  \\\n",
       "223                                Компьютерное зрение   \n",
       "224  Проектирование и разработка высоконагруженных ...   \n",
       "225                                Компьютерное зрение   \n",
       "226                             Конфликты и кооперация   \n",
       "227  Проектирование и разработка высоконагруженных ...   \n",
       "\n",
       "                                              spring_2  ... is_first_time  \\\n",
       "223                           Обучение с подкреплением  ...            Да   \n",
       "224                                   Численные методы  ...            Да   \n",
       "225  Проектирование и разработка высоконагруженных ...  ...            Да   \n",
       "226                           Обучение с подкреплением  ...            Да   \n",
       "227               Методы сжатия и передачи медиаданных  ...            Да   \n",
       "\n",
       "    percentile  17_group  blended is_ml_student  num_fall_course  \\\n",
       "223   0.963768     172.0   DevOps           0.0              2.0   \n",
       "224   0.673913     176.0   DevOps           0.0              1.0   \n",
       "225   0.782609     172.0   DevOps           0.0              2.0   \n",
       "226   0.442029     171.0   DevOps           0.0              2.0   \n",
       "227   0.789855     176.0   DevOps           0.0              1.0   \n",
       "\n",
       "                                  course1  \\\n",
       "223      Безопасность компьютерных систем   \n",
       "224                                   ???   \n",
       "225      Безопасность компьютерных систем   \n",
       "226  Глубинное обучение в обработке звука   \n",
       "227      Безопасность компьютерных систем   \n",
       "\n",
       "                                  course2 is_first_place is_last_place  \n",
       "223  Глубинное обучение в обработке звука           True          True  \n",
       "224                                     -            NaN           NaN  \n",
       "225     Анализ неструктурированных данных            NaN           NaN  \n",
       "226           Statistical Learning Theory           True           NaN  \n",
       "227                                     -            NaN           NaN  \n",
       "\n",
       "[5 rows x 21 columns]"
      ]
     },
     "execution_count": 75,
     "metadata": {},
     "output_type": "execute_result"
    }
   ],
   "source": [
    "df.head()"
   ]
  },
  {
   "cell_type": "markdown",
   "metadata": {
    "id": "vc5zXP5hhLu5"
   },
   "source": [
    "Здесь для проверки приведена таблица, в которой есть 2 дополнительные колонки:\n",
    "    \n",
    "    1) is_first_place - является ли студент лучшим по перцентили хотя бы на одном из курсов, куда он был зачислен \n",
    "    (True / NaN)\n",
    "    \n",
    "    2) is_last_place  - является ли студент худшим по перцентили хотя бы на одном из курсов, куда он был зачислен (True / NaN)"
   ]
  },
  {
   "cell_type": "code",
   "execution_count": 76,
   "metadata": {
    "colab": {
     "base_uri": "https://localhost:8080/",
     "height": 190
    },
    "executionInfo": {
     "elapsed": 2058,
     "status": "error",
     "timestamp": 1644527525033,
     "user": {
      "displayName": "Andrew Laptev",
      "photoUrl": "https://lh3.googleusercontent.com/a-/AOh14GiX4HHxHGGkyuy4J0SeRrRrUQTEOQgv6zCgmp_7=s64",
      "userId": "04618844592981676343"
     },
     "user_tz": -180
    },
    "id": "uZTkGEq5hLu5",
    "outputId": "6fcdd11c-af8b-49d5-d920-bb26e96f8099"
   },
   "outputs": [],
   "source": [
    "# !wget  -O '2_task_check.csv' -q 'https://www.dropbox.com/s/v8o2zzq3iz5gc9w/_2_task_check.csv?dl=0'\n",
    "check_df = pd.read_csv('2_task_check.csv')"
   ]
  },
  {
   "cell_type": "markdown",
   "metadata": {
    "id": "E_fbyB9qhLu5"
   },
   "source": [
    "После распределения студентов в соответствии с первым приоритетом добавьте в свой датафрейм аналогичные признаки и запустите проверку:"
   ]
  },
  {
   "cell_type": "code",
   "execution_count": 77,
   "metadata": {},
   "outputs": [],
   "source": [
    "# df[df[fir_col_name].isna() == False][['id']].sort_values('id').reset_index(drop=True)"
   ]
  },
  {
   "cell_type": "code",
   "execution_count": 78,
   "metadata": {},
   "outputs": [],
   "source": [
    "# check_df[check_df['is_first_place'].isna() == False][['id']].sort_values('id').reset_index(drop=True)"
   ]
  },
  {
   "cell_type": "code",
   "execution_count": 79,
   "metadata": {
    "id": "GOAzQeYehLu6"
   },
   "outputs": [],
   "source": [
    "# fir_col_name = 'is_first_place'      # insert name of your new column with is_first_place as str\n",
    "# last_col_name = 'is_last_place'     # insert name of your new column with is_last_place as str\n",
    "\n",
    "\n",
    "# assert((df[df[fir_col_name].isna() == False][['id']].sort_values('id').reset_index(drop=True)\n",
    "#         ==\n",
    "#         check_df[check_df['is_first_place'].isna() == False][['id']].sort_values('id').reset_index(drop=True)\n",
    "#        ).id.values).all()\n",
    "\n",
    "\n",
    "# assert((df[df[last_col_name].isna() == False][['id']].sort_values('id').reset_index(drop=True)\n",
    "#        == \n",
    "#        check_df[check_df['is_last_place'].isna() == False][['id']].sort_values('id').reset_index(drop=True)\n",
    "#       ).id.values).all()"
   ]
  },
  {
   "cell_type": "markdown",
   "metadata": {
    "id": "RO6DwNNFhLu6"
   },
   "source": [
    "#### 3. Проведите все три волны отбора студентов на курсы по выбору (3 балла)"
   ]
  },
  {
   "cell_type": "code",
   "execution_count": 80,
   "metadata": {},
   "outputs": [],
   "source": [
    "idx_free_courses = np.where(np.array(length_course) < np.array(num_pos))[0]"
   ]
  },
  {
   "cell_type": "code",
   "execution_count": 81,
   "metadata": {},
   "outputs": [],
   "source": [
    "courses_free_wave2 = courses[idx_free_courses]"
   ]
  },
  {
   "cell_type": "code",
   "execution_count": 82,
   "metadata": {},
   "outputs": [
    {
     "data": {
      "text/plain": [
       "array(['Глубинное обучение в обработке звука',\n",
       "       'Высокопроизводительные вычисления', 'Statistical Learning Theory',\n",
       "       'Анализ неструктурированных данных',\n",
       "       'Байесовские методы машинного обучения', 'Язык SQL',\n",
       "       'Теория баз данных',\n",
       "       'Принятие решений в условиях риска и неопределённости',\n",
       "       'Матричные вычисления'], dtype=object)"
      ]
     },
     "execution_count": 82,
     "metadata": {},
     "output_type": "execute_result"
    }
   ],
   "source": [
    "courses_free_wave2"
   ]
  },
  {
   "cell_type": "code",
   "execution_count": 83,
   "metadata": {},
   "outputs": [
    {
     "name": "stderr",
     "output_type": "stream",
     "text": [
      "<ipython-input-83-90acf8092bed>:8: VisibleDeprecationWarning: Creating an ndarray from ragged nested sequences (which is a list-or-tuple of lists-or-tuples-or ndarrays with different lengths or shapes) is deprecated. If you meant to do this, you must specify 'dtype=object' when creating the ndarray.\n",
      "  students = np.array(students)\n"
     ]
    }
   ],
   "source": [
    "st_1 = df[df['num_fall_course'] == 1]\n",
    "st_2 = df[df['num_fall_course'] == 2]\n",
    "\n",
    "students = []\n",
    "for i in courses_free_wave2:\n",
    "    students.append(np.hstack([st_1[st_1['fall_2'] == i].id.values, st_2[st_2['fall_3'] == i].id.values]))\n",
    "    \n",
    "students = np.array(students)    "
   ]
  },
  {
   "cell_type": "code",
   "execution_count": 84,
   "metadata": {},
   "outputs": [
    {
     "data": {
      "text/plain": [
       "[23, 52, 26, 14, 12, 40, 19, 10, 25]"
      ]
     },
     "execution_count": 84,
     "metadata": {},
     "output_type": "execute_result"
    }
   ],
   "source": [
    "list(map(len, students))"
   ]
  },
  {
   "cell_type": "code",
   "execution_count": 85,
   "metadata": {},
   "outputs": [],
   "source": [
    "free_space = (np.array(num_pos) - np.array(length_course))[idx_free_courses]"
   ]
  },
  {
   "cell_type": "code",
   "execution_count": 86,
   "metadata": {},
   "outputs": [
    {
     "data": {
      "text/plain": [
       "array([     7,     16,     27, 999952,      6,      1,     16,     22,\n",
       "           15])"
      ]
     },
     "execution_count": 86,
     "metadata": {},
     "output_type": "execute_result"
    }
   ],
   "source": [
    "free_space"
   ]
  },
  {
   "cell_type": "code",
   "execution_count": 87,
   "metadata": {},
   "outputs": [],
   "source": [
    "# num_pos = [30, 30, 60, 60, 1000000, 30, 30, 30, 30, 30, 30, 30]"
   ]
  },
  {
   "cell_type": "code",
   "execution_count": 88,
   "metadata": {},
   "outputs": [],
   "source": [
    "# np.array(list(map(len, students))) > np.array(num_pos)"
   ]
  },
  {
   "cell_type": "markdown",
   "metadata": {},
   "source": [
    "Сортируем по каждому курсу по перцентилю"
   ]
  },
  {
   "cell_type": "code",
   "execution_count": 89,
   "metadata": {},
   "outputs": [],
   "source": [
    "students_choice = []\n",
    "students_fail = []\n",
    "\n",
    "\n",
    "for i in range(len(courses_free_wave2)):\n",
    "    temp = df[df['id'].isin(students[i])].sort_values(by='percentile', ascending=False)\n",
    "    if len(temp) > free_space[i]:\n",
    "        choose = temp.iloc[:free_space[i]]['id'].values\n",
    "        compl = np.setdiff1d(temp['id'], choose)\n",
    "        students_choice.append(choose)\n",
    "        students_fail.append(compl)\n",
    "    else:\n",
    "        students_choice.append(temp['id'].values)"
   ]
  },
  {
   "cell_type": "code",
   "execution_count": 90,
   "metadata": {},
   "outputs": [
    {
     "data": {
      "text/plain": [
       "[7, 16, 26, 14, 6, 1, 16, 10, 15]"
      ]
     },
     "execution_count": 90,
     "metadata": {},
     "output_type": "execute_result"
    }
   ],
   "source": [
    "length_course = list(map(len, students_choice))\n",
    "length_course"
   ]
  },
  {
   "cell_type": "code",
   "execution_count": 91,
   "metadata": {},
   "outputs": [
    {
     "data": {
      "text/plain": [
       "[16, 36, 6, 39, 3, 10]"
      ]
     },
     "execution_count": 91,
     "metadata": {},
     "output_type": "execute_result"
    }
   ],
   "source": [
    "list(map(len, students_fail))"
   ]
  },
  {
   "cell_type": "code",
   "execution_count": 92,
   "metadata": {},
   "outputs": [],
   "source": [
    "names_courses1 = []\n",
    "st_choice_names = []\n",
    "\n",
    "for i in range(len(courses_free_wave2)):\n",
    "    names_courses1.append([courses_free_wave2[i]] * length_course[i])\n",
    "    st_choice_names.append(list(zip(students_choice[i], names_courses1[i])))"
   ]
  },
  {
   "cell_type": "code",
   "execution_count": 93,
   "metadata": {},
   "outputs": [
    {
     "data": {
      "text/plain": [
       "[7, 16, 26, 14, 6, 1, 16, 10, 15]"
      ]
     },
     "execution_count": 93,
     "metadata": {},
     "output_type": "execute_result"
    }
   ],
   "source": [
    "list(map(len, names_courses1))"
   ]
  },
  {
   "cell_type": "code",
   "execution_count": 94,
   "metadata": {},
   "outputs": [
    {
     "data": {
      "text/plain": [
       "[[('d539461bf254cf8b3201cdf7990b119e', 'Глубинное обучение в обработке звука'),\n",
       "  ('f2e1cfc27a724879ac2a8c98004c14b0', 'Глубинное обучение в обработке звука'),\n",
       "  ('de539be8b29b3afa002184e28d63c670', 'Глубинное обучение в обработке звука'),\n",
       "  ('2e04f9bc8796f095ed7b9c7941df91a6', 'Глубинное обучение в обработке звука'),\n",
       "  ('881b1a6fda195b354ae2edb396a69f5d', 'Глубинное обучение в обработке звука'),\n",
       "  ('50f6d5b6a7fd6c8b1b8959f9ce1f808d', 'Глубинное обучение в обработке звука'),\n",
       "  ('7134f24c241836458335aa3abb8d8727',\n",
       "   'Глубинное обучение в обработке звука')],\n",
       " [('ef8c6afd958da5f51429948f090432da', 'Высокопроизводительные вычисления'),\n",
       "  ('e3d4f9a7b947ebc03d345dd9e14b5d2c', 'Высокопроизводительные вычисления'),\n",
       "  ('b739739c7080a6e15f962c3863021855', 'Высокопроизводительные вычисления'),\n",
       "  ('8fe79f84f36e3a5d2d6745621321302c', 'Высокопроизводительные вычисления'),\n",
       "  ('d9f0e5ebc6718202b86eaee2de1c697b', 'Высокопроизводительные вычисления'),\n",
       "  ('d38ebd0ba564ea88de8015e116f811c8', 'Высокопроизводительные вычисления'),\n",
       "  ('180cf0e0dc7a6f88e76e3076cb761d26', 'Высокопроизводительные вычисления'),\n",
       "  ('e11399490117e1913ae79d09a5a2b981', 'Высокопроизводительные вычисления'),\n",
       "  ('f44aea1095f9f5b8e2f5f0ed2b17891b', 'Высокопроизводительные вычисления'),\n",
       "  ('2ca6917be428f8b84f6f15cdcbea2143', 'Высокопроизводительные вычисления'),\n",
       "  ('5a66e3b77559d14dd20fc4df99671688', 'Высокопроизводительные вычисления'),\n",
       "  ('1bbbfae51794b83c769b634be8da7b8d', 'Высокопроизводительные вычисления'),\n",
       "  ('fe631bea98b075dd781e11df3987533b', 'Высокопроизводительные вычисления'),\n",
       "  ('f2ed8115db45ef795ced2701fa86515d', 'Высокопроизводительные вычисления'),\n",
       "  ('1528f0eaa027580820ccf0d92a53ad68', 'Высокопроизводительные вычисления'),\n",
       "  ('813663487952e66e7c39d29b0931206d', 'Высокопроизводительные вычисления')],\n",
       " [('98c5a2548d93f26bd4195466e93178b3', 'Statistical Learning Theory'),\n",
       "  ('014b72217e20370dab7acc48b20c47be', 'Statistical Learning Theory'),\n",
       "  ('e6f751a81ab2d5197e8237a96656144d', 'Statistical Learning Theory'),\n",
       "  ('5d1deb0ae3a69348a018881ac785fd90', 'Statistical Learning Theory'),\n",
       "  ('d9c068e5578253c2b0721558dd0813e1', 'Statistical Learning Theory'),\n",
       "  ('28cd79966197dc97bafed62bc8c48bbd', 'Statistical Learning Theory'),\n",
       "  ('d0d8ff53ed5b119f9056068e954256c6', 'Statistical Learning Theory'),\n",
       "  ('5daee1bd98559bb2c52373e416942225', 'Statistical Learning Theory'),\n",
       "  ('39cd1820459fdbcc193f9bb0ddb74a58', 'Statistical Learning Theory'),\n",
       "  ('eb1d7205d913319ef3d48e0719839849', 'Statistical Learning Theory'),\n",
       "  ('4d7035f3a6d0c55c4fbcf4031679545a', 'Statistical Learning Theory'),\n",
       "  ('fd784637a19d65bbe5b07d6efac5a05d', 'Statistical Learning Theory'),\n",
       "  ('1eafb63c510c305e325bff51d246adb1', 'Statistical Learning Theory'),\n",
       "  ('9abd31fe9761b5abd56524915237c1ea', 'Statistical Learning Theory'),\n",
       "  ('2ba0a356c95af4fe74272e708082086f', 'Statistical Learning Theory'),\n",
       "  ('1a45910254951a8a55dd65cf4dc24b6d', 'Statistical Learning Theory'),\n",
       "  ('64b63332f8e86fa32969cfe0c167dbea', 'Statistical Learning Theory'),\n",
       "  ('7f9d0f835bf734ccd4619041c3475c1c', 'Statistical Learning Theory'),\n",
       "  ('bf24738793f54467434ad78be13a42bf', 'Statistical Learning Theory'),\n",
       "  ('044e038535ae5d2ff037150b77fdc6d1', 'Statistical Learning Theory'),\n",
       "  ('cef7df6fa798b759b2a5763b7d0c5d38', 'Statistical Learning Theory'),\n",
       "  ('a0c56e8aa03ea6c1f5e8462914472075', 'Statistical Learning Theory'),\n",
       "  ('bfe75c08c6b7e31d4e7d48c9c5fed69b', 'Statistical Learning Theory'),\n",
       "  ('67e4ec4fe5c0601815692fbd6d403fb7', 'Statistical Learning Theory'),\n",
       "  ('3e106aaef8b24dbb01319c73e14c2936', 'Statistical Learning Theory'),\n",
       "  ('3a7326c9e355a67d3805824ca34c4bc5', 'Statistical Learning Theory')],\n",
       " [('79d14db48e4737af731960ae212d5134', 'Анализ неструктурированных данных'),\n",
       "  ('c5870b37ee3f672e4259dfb2fc02ed8f', 'Анализ неструктурированных данных'),\n",
       "  ('bba51e2f648cb3323b96858a404dacea', 'Анализ неструктурированных данных'),\n",
       "  ('d40cbae8cfc9e6c5d05831ef7e122f3e', 'Анализ неструктурированных данных'),\n",
       "  ('cef24632489091cb8c085688b7d78dec', 'Анализ неструктурированных данных'),\n",
       "  ('d7118b44c7e8fdbbaaca226d2da6fef1', 'Анализ неструктурированных данных'),\n",
       "  ('3e88c8d53bcd73595d2bbcdd8c51c1bf', 'Анализ неструктурированных данных'),\n",
       "  ('3da8ee30604398faa671135cebe8f982', 'Анализ неструктурированных данных'),\n",
       "  ('6338b6eeb16faedc58d30d2f45c89a4c', 'Анализ неструктурированных данных'),\n",
       "  ('ba298cbd9be59b84bab33325e956f27e', 'Анализ неструктурированных данных'),\n",
       "  ('fc8b84c5df1ea8bf6e5da51945124d57', 'Анализ неструктурированных данных'),\n",
       "  ('d9133abde61da78a0b956af5dad1228a', 'Анализ неструктурированных данных'),\n",
       "  ('3d1f14bf03e6eee14d833c45ccff2283', 'Анализ неструктурированных данных'),\n",
       "  ('840716fde17a536f5e067546ab49a8a7', 'Анализ неструктурированных данных')],\n",
       " [('d555d2805e1d93d4f023e57dc4c8f403',\n",
       "   'Байесовские методы машинного обучения'),\n",
       "  ('757ce29d3647ee4aff21bc1a62849805',\n",
       "   'Байесовские методы машинного обучения'),\n",
       "  ('31c9900033ce01dd1365a6b6a350c3bb',\n",
       "   'Байесовские методы машинного обучения'),\n",
       "  ('f36d508e6129c7b248cc707b71c2a551',\n",
       "   'Байесовские методы машинного обучения'),\n",
       "  ('f602211b88a96890ce75e36a390705b8',\n",
       "   'Байесовские методы машинного обучения'),\n",
       "  ('8cc921fb155319d983cf72e9a6e8caa8',\n",
       "   'Байесовские методы машинного обучения')],\n",
       " [('7a21ef645ecb42198be493dd65320e78', 'Язык SQL')],\n",
       " [('bd416140ecdb32b6dbd7f40820bf63b1', 'Теория баз данных'),\n",
       "  ('c97ab5cabace9f00673cc8384771aa9c', 'Теория баз данных'),\n",
       "  ('cc8e710c871ae8236b8b8705e6840793', 'Теория баз данных'),\n",
       "  ('3de75278c0cdb78bbe54267f65c67d25', 'Теория баз данных'),\n",
       "  ('8047c18b3c531c6f47931e0744f3e028', 'Теория баз данных'),\n",
       "  ('1341f488fae5f1ccf164960fd6506cd0', 'Теория баз данных'),\n",
       "  ('c7544f6c00a5164efdef675410d62e94', 'Теория баз данных'),\n",
       "  ('42df9e301b39e4295fe849aa2abdfc7c', 'Теория баз данных'),\n",
       "  ('e8b314842f176be9051d14a07cb156cb', 'Теория баз данных'),\n",
       "  ('701078e1e897399f675e96bdda5fb149', 'Теория баз данных'),\n",
       "  ('cddf159101f9a5a30f9041ceebdb2835', 'Теория баз данных'),\n",
       "  ('876b1fbacdfe36cb2e3927aea554b1ff', 'Теория баз данных'),\n",
       "  ('b121e4d7d62387cd5199cca464a34a6d', 'Теория баз данных'),\n",
       "  ('95cf121698ebc89ac0cf74625d714d1d', 'Теория баз данных'),\n",
       "  ('dcc2e3447043d6d70a90c9c924314695', 'Теория баз данных'),\n",
       "  ('ff549c331d45453052f28ad2614afda9', 'Теория баз данных')],\n",
       " [('9750aa503b095b9297e1a778d6c7cc95',\n",
       "   'Принятие решений в условиях риска и неопределённости'),\n",
       "  ('6a93b58f867db41e822a03c26c1bd428',\n",
       "   'Принятие решений в условиях риска и неопределённости'),\n",
       "  ('ecc19831d7abd064f0488a9af2521920',\n",
       "   'Принятие решений в условиях риска и неопределённости'),\n",
       "  ('c98c2ee69047bd8febea3ac2d1380bf9',\n",
       "   'Принятие решений в условиях риска и неопределённости'),\n",
       "  ('2662600c2c37e11e62f6ee0b88452f22',\n",
       "   'Принятие решений в условиях риска и неопределённости'),\n",
       "  ('1021c681cf4b273ed4905d431e4c17ce',\n",
       "   'Принятие решений в условиях риска и неопределённости'),\n",
       "  ('5ab47e4eef1a7c1899da4da200049038',\n",
       "   'Принятие решений в условиях риска и неопределённости'),\n",
       "  ('abceddfa2fc4eae8cff4a4e712abb3fb',\n",
       "   'Принятие решений в условиях риска и неопределённости'),\n",
       "  ('5d9c9087b5a851ecb6bba1bc916b684f',\n",
       "   'Принятие решений в условиях риска и неопределённости'),\n",
       "  ('59347ad5e9d8099a9a8fa58b841bdf05',\n",
       "   'Принятие решений в условиях риска и неопределённости')],\n",
       " [('ac2fd77f2ec0186c95f16e6721fd5998', 'Матричные вычисления'),\n",
       "  ('6ed89e424179b0510e3f7c0cb7369ad6', 'Матричные вычисления'),\n",
       "  ('1f53f6dabcd59889dd7486a7cac5c9f2', 'Матричные вычисления'),\n",
       "  ('88ae08d9db8d34b267780ed642d0d2db', 'Матричные вычисления'),\n",
       "  ('6388c7920a7d454d2db81430f1f231c4', 'Матричные вычисления'),\n",
       "  ('f0db08ec702a03450390efdca4166cc2', 'Матричные вычисления'),\n",
       "  ('17676f1d09ba15d060a7352e4308661a', 'Матричные вычисления'),\n",
       "  ('30f3653fc176d54e89ac3179c455c6dd', 'Матричные вычисления'),\n",
       "  ('6b3d72def53597696afb19faed1f8365', 'Матричные вычисления'),\n",
       "  ('25a3ce0eea214df2aa6d25d395d594f0', 'Матричные вычисления'),\n",
       "  ('796d174c592006376963b8f31e818dbf', 'Матричные вычисления'),\n",
       "  ('9c2251ef9825947b98265e4bfa887bcf', 'Матричные вычисления'),\n",
       "  ('e83471de8976e4fcfccf4ef417f07192', 'Матричные вычисления'),\n",
       "  ('80a0660d40d5e2f3e3b9bb8a4383db74', 'Матричные вычисления'),\n",
       "  ('a69948a1730e412eab71a4d4e70791e2', 'Матричные вычисления')]]"
      ]
     },
     "execution_count": 94,
     "metadata": {},
     "output_type": "execute_result"
    }
   ],
   "source": [
    "st_choice_names"
   ]
  },
  {
   "cell_type": "code",
   "execution_count": 95,
   "metadata": {},
   "outputs": [],
   "source": [
    "s = pd.Series(np.hstack(students_choice))\n",
    "dupl_st = s[s.duplicated()].values"
   ]
  },
  {
   "cell_type": "code",
   "execution_count": 96,
   "metadata": {},
   "outputs": [
    {
     "data": {
      "text/plain": [
       "array([], dtype=object)"
      ]
     },
     "execution_count": 96,
     "metadata": {},
     "output_type": "execute_result"
    }
   ],
   "source": [
    "dupl_st"
   ]
  },
  {
   "cell_type": "markdown",
   "metadata": {},
   "source": [
    "Заполняем с учетом повторяющихся студентов, которые возникли после отбора по перцентилю, так как некотоыре выбирают по два курса."
   ]
  },
  {
   "cell_type": "code",
   "execution_count": 97,
   "metadata": {},
   "outputs": [],
   "source": [
    "for i in range(len(st_choice_names)):\n",
    "    for j in range(len(st_choice_names[i])):\n",
    "        if ((df.loc[df['id'] == st_choice_names[i][j][0], 'course1'].values == '???') |\n",
    "           (df.loc[df['id'] == st_choice_names[i][j][0], 'course1'].values == '-'))[0]:\n",
    "            df.loc[df['id'] == st_choice_names[i][j][0], 'course1'] = st_choice_names[i][j][1]\n",
    "            \n",
    "        elif (((df.loc[df['id'] == st_choice_names[i][j][0], 'course2'].values == '???') |\n",
    "           (df.loc[df['id'] == st_choice_names[i][j][0], 'course2'].values == '-'))[0]) and \\\n",
    "            ((df.loc[df['id'] == st_choice_names[i][j][0], 'num_fall_course'].values == 2)[0]):\n",
    "            df.loc[df['id'] == st_choice_names[i][j][0], 'course2'] = st_choice_names[i][j][1]\n",
    "            \n",
    "        elif (((df.loc[df['id'] == st_choice_names[i][j][0], 'course2'].values == '???') |\n",
    "           (df.loc[df['id'] == st_choice_names[i][j][0], 'course2'].values == '-'))[0]) and \\\n",
    "            ((df.loc[df['id'] == st_choice_names[i][j][0], 'num_fall_course'].values == 1)[0]):\n",
    "            df.loc[df['id'] == st_choice_names[i][j][0], 'course2'] = '-'"
   ]
  },
  {
   "cell_type": "code",
   "execution_count": 98,
   "metadata": {},
   "outputs": [
    {
     "data": {
      "text/plain": [
       "array([False])"
      ]
     },
     "execution_count": 98,
     "metadata": {},
     "output_type": "execute_result"
    }
   ],
   "source": [
    "(df.loc[df['id'] == st_choice_names[i][j][0], 'num_fall_course'] == 2).values"
   ]
  },
  {
   "cell_type": "code",
   "execution_count": 99,
   "metadata": {},
   "outputs": [],
   "source": [
    "# df.loc[df['course2'] == '-', 'course2'] = ['???']*len(df[df['course2'] == '-'])"
   ]
  },
  {
   "cell_type": "code",
   "execution_count": 100,
   "metadata": {},
   "outputs": [
    {
     "data": {
      "text/html": [
       "<div>\n",
       "<style scoped>\n",
       "    .dataframe tbody tr th:only-of-type {\n",
       "        vertical-align: middle;\n",
       "    }\n",
       "\n",
       "    .dataframe tbody tr th {\n",
       "        vertical-align: top;\n",
       "    }\n",
       "\n",
       "    .dataframe thead th {\n",
       "        text-align: right;\n",
       "    }\n",
       "</style>\n",
       "<table border=\"1\" class=\"dataframe\">\n",
       "  <thead>\n",
       "    <tr style=\"text-align: right;\">\n",
       "      <th></th>\n",
       "      <th>timestamp</th>\n",
       "      <th>id</th>\n",
       "      <th>rating</th>\n",
       "      <th>18_group</th>\n",
       "      <th>is_mi</th>\n",
       "      <th>fall_1</th>\n",
       "      <th>fall_2</th>\n",
       "      <th>fall_3</th>\n",
       "      <th>spring_1</th>\n",
       "      <th>spring_2</th>\n",
       "      <th>...</th>\n",
       "      <th>is_first_time</th>\n",
       "      <th>percentile</th>\n",
       "      <th>17_group</th>\n",
       "      <th>blended</th>\n",
       "      <th>is_ml_student</th>\n",
       "      <th>num_fall_course</th>\n",
       "      <th>course1</th>\n",
       "      <th>course2</th>\n",
       "      <th>is_first_place</th>\n",
       "      <th>is_last_place</th>\n",
       "    </tr>\n",
       "  </thead>\n",
       "  <tbody>\n",
       "    <tr>\n",
       "      <th>223</th>\n",
       "      <td>2020-05-14 20:23:21.662</td>\n",
       "      <td>d555d2805e1d93d4f023e57dc4c8f403</td>\n",
       "      <td>996</td>\n",
       "      <td>0.0</td>\n",
       "      <td>0.0</td>\n",
       "      <td>Безопасность компьютерных систем</td>\n",
       "      <td>Глубинное обучение в обработке звука</td>\n",
       "      <td>Байесовские методы машинного обучения</td>\n",
       "      <td>Компьютерное зрение</td>\n",
       "      <td>Обучение с подкреплением</td>\n",
       "      <td>...</td>\n",
       "      <td>Да</td>\n",
       "      <td>0.963768</td>\n",
       "      <td>172.0</td>\n",
       "      <td>DevOps</td>\n",
       "      <td>0.0</td>\n",
       "      <td>2.0</td>\n",
       "      <td>Безопасность компьютерных систем</td>\n",
       "      <td>Глубинное обучение в обработке звука</td>\n",
       "      <td>True</td>\n",
       "      <td>True</td>\n",
       "    </tr>\n",
       "    <tr>\n",
       "      <th>224</th>\n",
       "      <td>2020-05-14 20:47:13.833</td>\n",
       "      <td>253bbe1a2021d0404712a1e4acd22939</td>\n",
       "      <td>1106</td>\n",
       "      <td>0.0</td>\n",
       "      <td>0.0</td>\n",
       "      <td>Безопасность компьютерных систем</td>\n",
       "      <td>Моделирование временных рядов</td>\n",
       "      <td>Statistical Learning Theory</td>\n",
       "      <td>Проектирование и разработка высоконагруженных ...</td>\n",
       "      <td>Численные методы</td>\n",
       "      <td>...</td>\n",
       "      <td>Да</td>\n",
       "      <td>0.673913</td>\n",
       "      <td>176.0</td>\n",
       "      <td>DevOps</td>\n",
       "      <td>0.0</td>\n",
       "      <td>1.0</td>\n",
       "      <td>???</td>\n",
       "      <td>-</td>\n",
       "      <td>NaN</td>\n",
       "      <td>NaN</td>\n",
       "    </tr>\n",
       "    <tr>\n",
       "      <th>225</th>\n",
       "      <td>2020-05-14 20:52:42.734</td>\n",
       "      <td>881b1a6fda195b354ae2edb396a69f5d</td>\n",
       "      <td>1084</td>\n",
       "      <td>0.0</td>\n",
       "      <td>0.0</td>\n",
       "      <td>Безопасность компьютерных систем</td>\n",
       "      <td>Анализ неструктурированных данных</td>\n",
       "      <td>Глубинное обучение в обработке звука</td>\n",
       "      <td>Компьютерное зрение</td>\n",
       "      <td>Проектирование и разработка высоконагруженных ...</td>\n",
       "      <td>...</td>\n",
       "      <td>Да</td>\n",
       "      <td>0.782609</td>\n",
       "      <td>172.0</td>\n",
       "      <td>DevOps</td>\n",
       "      <td>0.0</td>\n",
       "      <td>2.0</td>\n",
       "      <td>Безопасность компьютерных систем</td>\n",
       "      <td>Анализ неструктурированных данных</td>\n",
       "      <td>NaN</td>\n",
       "      <td>NaN</td>\n",
       "    </tr>\n",
       "    <tr>\n",
       "      <th>226</th>\n",
       "      <td>2020-05-14 21:03:02.916</td>\n",
       "      <td>5a9b8ac11ad05b39a58b0e04a263bf4c</td>\n",
       "      <td>1170</td>\n",
       "      <td>0.0</td>\n",
       "      <td>0.0</td>\n",
       "      <td>Глубинное обучение в обработке звука</td>\n",
       "      <td>Statistical Learning Theory</td>\n",
       "      <td>Сбор и обработка данных с помощью краудсорсинга</td>\n",
       "      <td>Конфликты и кооперация</td>\n",
       "      <td>Обучение с подкреплением</td>\n",
       "      <td>...</td>\n",
       "      <td>Да</td>\n",
       "      <td>0.442029</td>\n",
       "      <td>171.0</td>\n",
       "      <td>DevOps</td>\n",
       "      <td>0.0</td>\n",
       "      <td>2.0</td>\n",
       "      <td>Глубинное обучение в обработке звука</td>\n",
       "      <td>Statistical Learning Theory</td>\n",
       "      <td>True</td>\n",
       "      <td>NaN</td>\n",
       "    </tr>\n",
       "    <tr>\n",
       "      <th>227</th>\n",
       "      <td>2020-05-14 21:10:54.945</td>\n",
       "      <td>1bbbfae51794b83c769b634be8da7b8d</td>\n",
       "      <td>1078</td>\n",
       "      <td>0.0</td>\n",
       "      <td>0.0</td>\n",
       "      <td>Безопасность компьютерных систем</td>\n",
       "      <td>Высокопроизводительные вычисления</td>\n",
       "      <td>Анализ неструктурированных данных</td>\n",
       "      <td>Проектирование и разработка высоконагруженных ...</td>\n",
       "      <td>Методы сжатия и передачи медиаданных</td>\n",
       "      <td>...</td>\n",
       "      <td>Да</td>\n",
       "      <td>0.789855</td>\n",
       "      <td>176.0</td>\n",
       "      <td>DevOps</td>\n",
       "      <td>0.0</td>\n",
       "      <td>1.0</td>\n",
       "      <td>Безопасность компьютерных систем</td>\n",
       "      <td>-</td>\n",
       "      <td>NaN</td>\n",
       "      <td>NaN</td>\n",
       "    </tr>\n",
       "  </tbody>\n",
       "</table>\n",
       "<p>5 rows × 21 columns</p>\n",
       "</div>"
      ],
      "text/plain": [
       "                  timestamp                                id  rating  \\\n",
       "223 2020-05-14 20:23:21.662  d555d2805e1d93d4f023e57dc4c8f403     996   \n",
       "224 2020-05-14 20:47:13.833  253bbe1a2021d0404712a1e4acd22939    1106   \n",
       "225 2020-05-14 20:52:42.734  881b1a6fda195b354ae2edb396a69f5d    1084   \n",
       "226 2020-05-14 21:03:02.916  5a9b8ac11ad05b39a58b0e04a263bf4c    1170   \n",
       "227 2020-05-14 21:10:54.945  1bbbfae51794b83c769b634be8da7b8d    1078   \n",
       "\n",
       "     18_group  is_mi                                fall_1  \\\n",
       "223       0.0    0.0      Безопасность компьютерных систем   \n",
       "224       0.0    0.0      Безопасность компьютерных систем   \n",
       "225       0.0    0.0      Безопасность компьютерных систем   \n",
       "226       0.0    0.0  Глубинное обучение в обработке звука   \n",
       "227       0.0    0.0      Безопасность компьютерных систем   \n",
       "\n",
       "                                   fall_2  \\\n",
       "223  Глубинное обучение в обработке звука   \n",
       "224         Моделирование временных рядов   \n",
       "225     Анализ неструктурированных данных   \n",
       "226           Statistical Learning Theory   \n",
       "227     Высокопроизводительные вычисления   \n",
       "\n",
       "                                              fall_3  \\\n",
       "223            Байесовские методы машинного обучения   \n",
       "224                      Statistical Learning Theory   \n",
       "225             Глубинное обучение в обработке звука   \n",
       "226  Сбор и обработка данных с помощью краудсорсинга   \n",
       "227                Анализ неструктурированных данных   \n",
       "\n",
       "                                              spring_1  \\\n",
       "223                                Компьютерное зрение   \n",
       "224  Проектирование и разработка высоконагруженных ...   \n",
       "225                                Компьютерное зрение   \n",
       "226                             Конфликты и кооперация   \n",
       "227  Проектирование и разработка высоконагруженных ...   \n",
       "\n",
       "                                              spring_2  ... is_first_time  \\\n",
       "223                           Обучение с подкреплением  ...            Да   \n",
       "224                                   Численные методы  ...            Да   \n",
       "225  Проектирование и разработка высоконагруженных ...  ...            Да   \n",
       "226                           Обучение с подкреплением  ...            Да   \n",
       "227               Методы сжатия и передачи медиаданных  ...            Да   \n",
       "\n",
       "    percentile  17_group  blended is_ml_student  num_fall_course  \\\n",
       "223   0.963768     172.0   DevOps           0.0              2.0   \n",
       "224   0.673913     176.0   DevOps           0.0              1.0   \n",
       "225   0.782609     172.0   DevOps           0.0              2.0   \n",
       "226   0.442029     171.0   DevOps           0.0              2.0   \n",
       "227   0.789855     176.0   DevOps           0.0              1.0   \n",
       "\n",
       "                                  course1  \\\n",
       "223      Безопасность компьютерных систем   \n",
       "224                                   ???   \n",
       "225      Безопасность компьютерных систем   \n",
       "226  Глубинное обучение в обработке звука   \n",
       "227      Безопасность компьютерных систем   \n",
       "\n",
       "                                  course2 is_first_place is_last_place  \n",
       "223  Глубинное обучение в обработке звука           True          True  \n",
       "224                                     -            NaN           NaN  \n",
       "225     Анализ неструктурированных данных            NaN           NaN  \n",
       "226           Statistical Learning Theory           True           NaN  \n",
       "227                                     -            NaN           NaN  \n",
       "\n",
       "[5 rows x 21 columns]"
      ]
     },
     "execution_count": 100,
     "metadata": {},
     "output_type": "execute_result"
    }
   ],
   "source": [
    "df.head()"
   ]
  },
  {
   "cell_type": "markdown",
   "metadata": {},
   "source": [
    "### И аналогично по волне номер 3"
   ]
  },
  {
   "cell_type": "code",
   "execution_count": 101,
   "metadata": {},
   "outputs": [],
   "source": [
    "idx_free_courses = np.array(length_course) < free_space"
   ]
  },
  {
   "cell_type": "code",
   "execution_count": 102,
   "metadata": {},
   "outputs": [],
   "source": [
    "courses_free_wave3 = courses_free_wave2[idx_free_courses]"
   ]
  },
  {
   "cell_type": "code",
   "execution_count": 103,
   "metadata": {},
   "outputs": [
    {
     "data": {
      "text/plain": [
       "array(['Statistical Learning Theory', 'Анализ неструктурированных данных',\n",
       "       'Принятие решений в условиях риска и неопределённости'],\n",
       "      dtype=object)"
      ]
     },
     "execution_count": 103,
     "metadata": {},
     "output_type": "execute_result"
    }
   ],
   "source": [
    "courses_free_wave3"
   ]
  },
  {
   "cell_type": "code",
   "execution_count": 104,
   "metadata": {},
   "outputs": [
    {
     "name": "stderr",
     "output_type": "stream",
     "text": [
      "<ipython-input-104-253035837f17>:7: VisibleDeprecationWarning: Creating an ndarray from ragged nested sequences (which is a list-or-tuple of lists-or-tuples-or ndarrays with different lengths or shapes) is deprecated. If you meant to do this, you must specify 'dtype=object' when creating the ndarray.\n",
      "  students = np.array(students)\n"
     ]
    }
   ],
   "source": [
    "st_1 = df[df['num_fall_course'] == 1]\n",
    "\n",
    "students = []\n",
    "for i in courses_free_wave3:\n",
    "    students.append(st_1[st_1['fall_3'] == i].id.values)\n",
    "    \n",
    "students = np.array(students)"
   ]
  },
  {
   "cell_type": "code",
   "execution_count": 105,
   "metadata": {},
   "outputs": [],
   "source": [
    "free_space3 = (np.array(free_space) - np.array(length_course))[idx_free_courses]"
   ]
  },
  {
   "cell_type": "code",
   "execution_count": 106,
   "metadata": {},
   "outputs": [
    {
     "data": {
      "text/plain": [
       "array([     1, 999938,     12])"
      ]
     },
     "execution_count": 106,
     "metadata": {},
     "output_type": "execute_result"
    }
   ],
   "source": [
    "free_space3"
   ]
  },
  {
   "cell_type": "code",
   "execution_count": 107,
   "metadata": {},
   "outputs": [],
   "source": [
    "students_choice = []\n",
    "students_fail = []\n",
    "\n",
    "\n",
    "for i in range(len(courses_free_wave3)):\n",
    "    temp = df[df['id'].isin(students[i])].sort_values(by='percentile', ascending=False)\n",
    "    if len(temp) > free_space3[i]:\n",
    "        choose = temp.iloc[:free_space3[i]]['id'].values\n",
    "        compl = np.setdiff1d(temp['id'], choose)\n",
    "        students_choice.append(choose)\n",
    "        students_fail.append(compl)\n",
    "    else:\n",
    "        students_choice.append(temp['id'].values)"
   ]
  },
  {
   "cell_type": "code",
   "execution_count": 108,
   "metadata": {},
   "outputs": [
    {
     "data": {
      "text/plain": [
       "[1, 8, 10]"
      ]
     },
     "execution_count": 108,
     "metadata": {},
     "output_type": "execute_result"
    }
   ],
   "source": [
    "length_course = list(map(len, students_choice))\n",
    "length_course"
   ]
  },
  {
   "cell_type": "code",
   "execution_count": 109,
   "metadata": {},
   "outputs": [],
   "source": [
    "names_courses1 = []\n",
    "st_choice_names = []\n",
    "\n",
    "for i in range(len(courses_free_wave3)):\n",
    "    names_courses1.append([courses_free_wave3[i]] * length_course[i])\n",
    "    st_choice_names.append(list(zip(students_choice[i], names_courses1[i])))"
   ]
  },
  {
   "cell_type": "code",
   "execution_count": 110,
   "metadata": {},
   "outputs": [
    {
     "data": {
      "text/plain": [
       "array([], dtype=object)"
      ]
     },
     "execution_count": 110,
     "metadata": {},
     "output_type": "execute_result"
    }
   ],
   "source": [
    "s = pd.Series(np.hstack(students_choice))\n",
    "dupl_st = s[s.duplicated()].values\n",
    "dupl_st"
   ]
  },
  {
   "cell_type": "code",
   "execution_count": 111,
   "metadata": {},
   "outputs": [],
   "source": [
    "for i in range(len(st_choice_names)):\n",
    "    for j in range(len(st_choice_names[i])):\n",
    "        if ((df.loc[df['id'] == st_choice_names[i][j][0], 'course1'].values == '???') |\n",
    "           (df.loc[df['id'] == st_choice_names[i][j][0], 'course1'].values == '-'))[0]:\n",
    "            df.loc[df['id'] == st_choice_names[i][j][0], 'course1'] = st_choice_names[i][j][1]\n",
    "#         elif ((df.loc[df['id'] == st_choice_names[i][j][0], 'course2'].values == '???') |\n",
    "#            (df.loc[df['id'] == st_choice_names[i][j][0], 'course2'].values == '-'))[0]:\n",
    "#             df.loc[df['id'] == st_choice_names[i][j][0], 'course2'] = st_choice_names[i][j][1]\n",
    "            \n",
    "        else:\n",
    "            df.loc[df['id'] == st_choice_names[i][j][0], 'course2'] = '-'"
   ]
  },
  {
   "cell_type": "code",
   "execution_count": 112,
   "metadata": {},
   "outputs": [],
   "source": [
    "idx = (df.loc[df['id'].isin(st_2['id'])])[df.loc[df['id'].isin(st_2['id']), 'course2'] == '-'].index"
   ]
  },
  {
   "cell_type": "code",
   "execution_count": 113,
   "metadata": {},
   "outputs": [],
   "source": [
    "df.loc[idx, 'course2'] = ['???']*len(idx)"
   ]
  },
  {
   "cell_type": "code",
   "execution_count": 114,
   "metadata": {},
   "outputs": [
    {
     "data": {
      "text/html": [
       "<div>\n",
       "<style scoped>\n",
       "    .dataframe tbody tr th:only-of-type {\n",
       "        vertical-align: middle;\n",
       "    }\n",
       "\n",
       "    .dataframe tbody tr th {\n",
       "        vertical-align: top;\n",
       "    }\n",
       "\n",
       "    .dataframe thead th {\n",
       "        text-align: right;\n",
       "    }\n",
       "</style>\n",
       "<table border=\"1\" class=\"dataframe\">\n",
       "  <thead>\n",
       "    <tr style=\"text-align: right;\">\n",
       "      <th></th>\n",
       "      <th>timestamp</th>\n",
       "      <th>id</th>\n",
       "      <th>rating</th>\n",
       "      <th>18_group</th>\n",
       "      <th>is_mi</th>\n",
       "      <th>fall_1</th>\n",
       "      <th>fall_2</th>\n",
       "      <th>fall_3</th>\n",
       "      <th>spring_1</th>\n",
       "      <th>spring_2</th>\n",
       "      <th>...</th>\n",
       "      <th>is_first_time</th>\n",
       "      <th>percentile</th>\n",
       "      <th>17_group</th>\n",
       "      <th>blended</th>\n",
       "      <th>is_ml_student</th>\n",
       "      <th>num_fall_course</th>\n",
       "      <th>course1</th>\n",
       "      <th>course2</th>\n",
       "      <th>is_first_place</th>\n",
       "      <th>is_last_place</th>\n",
       "    </tr>\n",
       "  </thead>\n",
       "  <tbody>\n",
       "    <tr>\n",
       "      <th>223</th>\n",
       "      <td>2020-05-14 20:23:21.662</td>\n",
       "      <td>d555d2805e1d93d4f023e57dc4c8f403</td>\n",
       "      <td>996</td>\n",
       "      <td>0.0</td>\n",
       "      <td>0.0</td>\n",
       "      <td>Безопасность компьютерных систем</td>\n",
       "      <td>Глубинное обучение в обработке звука</td>\n",
       "      <td>Байесовские методы машинного обучения</td>\n",
       "      <td>Компьютерное зрение</td>\n",
       "      <td>Обучение с подкреплением</td>\n",
       "      <td>...</td>\n",
       "      <td>Да</td>\n",
       "      <td>0.963768</td>\n",
       "      <td>172.0</td>\n",
       "      <td>DevOps</td>\n",
       "      <td>0.0</td>\n",
       "      <td>2.0</td>\n",
       "      <td>Безопасность компьютерных систем</td>\n",
       "      <td>Глубинное обучение в обработке звука</td>\n",
       "      <td>True</td>\n",
       "      <td>True</td>\n",
       "    </tr>\n",
       "    <tr>\n",
       "      <th>224</th>\n",
       "      <td>2020-05-14 20:47:13.833</td>\n",
       "      <td>253bbe1a2021d0404712a1e4acd22939</td>\n",
       "      <td>1106</td>\n",
       "      <td>0.0</td>\n",
       "      <td>0.0</td>\n",
       "      <td>Безопасность компьютерных систем</td>\n",
       "      <td>Моделирование временных рядов</td>\n",
       "      <td>Statistical Learning Theory</td>\n",
       "      <td>Проектирование и разработка высоконагруженных ...</td>\n",
       "      <td>Численные методы</td>\n",
       "      <td>...</td>\n",
       "      <td>Да</td>\n",
       "      <td>0.673913</td>\n",
       "      <td>176.0</td>\n",
       "      <td>DevOps</td>\n",
       "      <td>0.0</td>\n",
       "      <td>1.0</td>\n",
       "      <td>???</td>\n",
       "      <td>-</td>\n",
       "      <td>NaN</td>\n",
       "      <td>NaN</td>\n",
       "    </tr>\n",
       "    <tr>\n",
       "      <th>225</th>\n",
       "      <td>2020-05-14 20:52:42.734</td>\n",
       "      <td>881b1a6fda195b354ae2edb396a69f5d</td>\n",
       "      <td>1084</td>\n",
       "      <td>0.0</td>\n",
       "      <td>0.0</td>\n",
       "      <td>Безопасность компьютерных систем</td>\n",
       "      <td>Анализ неструктурированных данных</td>\n",
       "      <td>Глубинное обучение в обработке звука</td>\n",
       "      <td>Компьютерное зрение</td>\n",
       "      <td>Проектирование и разработка высоконагруженных ...</td>\n",
       "      <td>...</td>\n",
       "      <td>Да</td>\n",
       "      <td>0.782609</td>\n",
       "      <td>172.0</td>\n",
       "      <td>DevOps</td>\n",
       "      <td>0.0</td>\n",
       "      <td>2.0</td>\n",
       "      <td>Безопасность компьютерных систем</td>\n",
       "      <td>Анализ неструктурированных данных</td>\n",
       "      <td>NaN</td>\n",
       "      <td>NaN</td>\n",
       "    </tr>\n",
       "    <tr>\n",
       "      <th>226</th>\n",
       "      <td>2020-05-14 21:03:02.916</td>\n",
       "      <td>5a9b8ac11ad05b39a58b0e04a263bf4c</td>\n",
       "      <td>1170</td>\n",
       "      <td>0.0</td>\n",
       "      <td>0.0</td>\n",
       "      <td>Глубинное обучение в обработке звука</td>\n",
       "      <td>Statistical Learning Theory</td>\n",
       "      <td>Сбор и обработка данных с помощью краудсорсинга</td>\n",
       "      <td>Конфликты и кооперация</td>\n",
       "      <td>Обучение с подкреплением</td>\n",
       "      <td>...</td>\n",
       "      <td>Да</td>\n",
       "      <td>0.442029</td>\n",
       "      <td>171.0</td>\n",
       "      <td>DevOps</td>\n",
       "      <td>0.0</td>\n",
       "      <td>2.0</td>\n",
       "      <td>Глубинное обучение в обработке звука</td>\n",
       "      <td>Statistical Learning Theory</td>\n",
       "      <td>True</td>\n",
       "      <td>NaN</td>\n",
       "    </tr>\n",
       "    <tr>\n",
       "      <th>227</th>\n",
       "      <td>2020-05-14 21:10:54.945</td>\n",
       "      <td>1bbbfae51794b83c769b634be8da7b8d</td>\n",
       "      <td>1078</td>\n",
       "      <td>0.0</td>\n",
       "      <td>0.0</td>\n",
       "      <td>Безопасность компьютерных систем</td>\n",
       "      <td>Высокопроизводительные вычисления</td>\n",
       "      <td>Анализ неструктурированных данных</td>\n",
       "      <td>Проектирование и разработка высоконагруженных ...</td>\n",
       "      <td>Методы сжатия и передачи медиаданных</td>\n",
       "      <td>...</td>\n",
       "      <td>Да</td>\n",
       "      <td>0.789855</td>\n",
       "      <td>176.0</td>\n",
       "      <td>DevOps</td>\n",
       "      <td>0.0</td>\n",
       "      <td>1.0</td>\n",
       "      <td>Безопасность компьютерных систем</td>\n",
       "      <td>-</td>\n",
       "      <td>NaN</td>\n",
       "      <td>NaN</td>\n",
       "    </tr>\n",
       "    <tr>\n",
       "      <th>...</th>\n",
       "      <td>...</td>\n",
       "      <td>...</td>\n",
       "      <td>...</td>\n",
       "      <td>...</td>\n",
       "      <td>...</td>\n",
       "      <td>...</td>\n",
       "      <td>...</td>\n",
       "      <td>...</td>\n",
       "      <td>...</td>\n",
       "      <td>...</td>\n",
       "      <td>...</td>\n",
       "      <td>...</td>\n",
       "      <td>...</td>\n",
       "      <td>...</td>\n",
       "      <td>...</td>\n",
       "      <td>...</td>\n",
       "      <td>...</td>\n",
       "      <td>...</td>\n",
       "      <td>...</td>\n",
       "      <td>...</td>\n",
       "      <td>...</td>\n",
       "    </tr>\n",
       "    <tr>\n",
       "      <th>220</th>\n",
       "      <td>2020-05-21 16:33:15.899</td>\n",
       "      <td>1341f488fae5f1ccf164960fd6506cd0</td>\n",
       "      <td>584</td>\n",
       "      <td>188.0</td>\n",
       "      <td>0.0</td>\n",
       "      <td>Язык SQL</td>\n",
       "      <td>Теория баз данных</td>\n",
       "      <td>Безопасность компьютерных систем</td>\n",
       "      <td>Промышленное программирование на языке Java</td>\n",
       "      <td>Компьютерные сети</td>\n",
       "      <td>...</td>\n",
       "      <td>Да</td>\n",
       "      <td>0.721973</td>\n",
       "      <td>0.0</td>\n",
       "      <td></td>\n",
       "      <td>0.0</td>\n",
       "      <td>1.0</td>\n",
       "      <td>Язык SQL</td>\n",
       "      <td>-</td>\n",
       "      <td>NaN</td>\n",
       "      <td>NaN</td>\n",
       "    </tr>\n",
       "    <tr>\n",
       "      <th>360</th>\n",
       "      <td>2020-05-23 21:16:40.916</td>\n",
       "      <td>f2d210ace25a841e1e58036b257d5d47</td>\n",
       "      <td>1195</td>\n",
       "      <td>0.0</td>\n",
       "      <td>0.0</td>\n",
       "      <td>Анализ неструктурированных данных</td>\n",
       "      <td>Моделирование временных рядов</td>\n",
       "      <td>Высокопроизводительные вычисления</td>\n",
       "      <td>Обучение с подкреплением</td>\n",
       "      <td>Компьютерное зрение</td>\n",
       "      <td>...</td>\n",
       "      <td></td>\n",
       "      <td>0.369565</td>\n",
       "      <td>176.0</td>\n",
       "      <td>Соревновательный анализ данных</td>\n",
       "      <td>0.0</td>\n",
       "      <td>1.0</td>\n",
       "      <td>Анализ неструктурированных данных</td>\n",
       "      <td>-</td>\n",
       "      <td>NaN</td>\n",
       "      <td>NaN</td>\n",
       "    </tr>\n",
       "    <tr>\n",
       "      <th>359</th>\n",
       "      <td>2020-05-23 21:16:40.916</td>\n",
       "      <td>79d14db48e4737af731960ae212d5134</td>\n",
       "      <td>966</td>\n",
       "      <td>0.0</td>\n",
       "      <td>0.0</td>\n",
       "      <td>Безопасность компьютерных систем</td>\n",
       "      <td>Принятие решений в условиях риска и неопределё...</td>\n",
       "      <td>Анализ неструктурированных данных</td>\n",
       "      <td>Проектирование и разработка высоконагруженных ...</td>\n",
       "      <td>Методы сжатия и передачи медиаданных</td>\n",
       "      <td>...</td>\n",
       "      <td>Да</td>\n",
       "      <td>0.985507</td>\n",
       "      <td>172.0</td>\n",
       "      <td>DevOps</td>\n",
       "      <td>0.0</td>\n",
       "      <td>2.0</td>\n",
       "      <td>Безопасность компьютерных систем</td>\n",
       "      <td>Принятие решений в условиях риска и неопределё...</td>\n",
       "      <td>True</td>\n",
       "      <td>NaN</td>\n",
       "    </tr>\n",
       "    <tr>\n",
       "      <th>221</th>\n",
       "      <td>2020-05-24 01:21:31.946</td>\n",
       "      <td>04bcb5c9d23813ffa940e1febb27fadc</td>\n",
       "      <td>646</td>\n",
       "      <td>186.0</td>\n",
       "      <td>0.0</td>\n",
       "      <td>Теория баз данных</td>\n",
       "      <td>Высокопроизводительные вычисления</td>\n",
       "      <td>Безопасность компьютерных систем</td>\n",
       "      <td>Компьютерные сети</td>\n",
       "      <td>Дискретная оптимизация</td>\n",
       "      <td>...</td>\n",
       "      <td>Нет</td>\n",
       "      <td>0.430493</td>\n",
       "      <td>0.0</td>\n",
       "      <td></td>\n",
       "      <td>0.0</td>\n",
       "      <td>1.0</td>\n",
       "      <td>Теория баз данных</td>\n",
       "      <td>-</td>\n",
       "      <td>NaN</td>\n",
       "      <td>NaN</td>\n",
       "    </tr>\n",
       "    <tr>\n",
       "      <th>222</th>\n",
       "      <td>2020-05-24 01:23:31.946</td>\n",
       "      <td>9d19b0d5f4fc8d7edc2258406f872c4e</td>\n",
       "      <td>695</td>\n",
       "      <td>188.0</td>\n",
       "      <td>0.0</td>\n",
       "      <td>Безопасность компьютерных систем</td>\n",
       "      <td>Язык SQL</td>\n",
       "      <td>Высокопроизводительные вычисления</td>\n",
       "      <td>Компьютерные сети</td>\n",
       "      <td>Дискретная оптимизация</td>\n",
       "      <td>...</td>\n",
       "      <td></td>\n",
       "      <td>0.197309</td>\n",
       "      <td>0.0</td>\n",
       "      <td></td>\n",
       "      <td>0.0</td>\n",
       "      <td>1.0</td>\n",
       "      <td>???</td>\n",
       "      <td>-</td>\n",
       "      <td>NaN</td>\n",
       "      <td>NaN</td>\n",
       "    </tr>\n",
       "  </tbody>\n",
       "</table>\n",
       "<p>347 rows × 21 columns</p>\n",
       "</div>"
      ],
      "text/plain": [
       "                  timestamp                                id  rating  \\\n",
       "223 2020-05-14 20:23:21.662  d555d2805e1d93d4f023e57dc4c8f403     996   \n",
       "224 2020-05-14 20:47:13.833  253bbe1a2021d0404712a1e4acd22939    1106   \n",
       "225 2020-05-14 20:52:42.734  881b1a6fda195b354ae2edb396a69f5d    1084   \n",
       "226 2020-05-14 21:03:02.916  5a9b8ac11ad05b39a58b0e04a263bf4c    1170   \n",
       "227 2020-05-14 21:10:54.945  1bbbfae51794b83c769b634be8da7b8d    1078   \n",
       "..                      ...                               ...     ...   \n",
       "220 2020-05-21 16:33:15.899  1341f488fae5f1ccf164960fd6506cd0     584   \n",
       "360 2020-05-23 21:16:40.916  f2d210ace25a841e1e58036b257d5d47    1195   \n",
       "359 2020-05-23 21:16:40.916  79d14db48e4737af731960ae212d5134     966   \n",
       "221 2020-05-24 01:21:31.946  04bcb5c9d23813ffa940e1febb27fadc     646   \n",
       "222 2020-05-24 01:23:31.946  9d19b0d5f4fc8d7edc2258406f872c4e     695   \n",
       "\n",
       "     18_group  is_mi                                fall_1  \\\n",
       "223       0.0    0.0      Безопасность компьютерных систем   \n",
       "224       0.0    0.0      Безопасность компьютерных систем   \n",
       "225       0.0    0.0      Безопасность компьютерных систем   \n",
       "226       0.0    0.0  Глубинное обучение в обработке звука   \n",
       "227       0.0    0.0      Безопасность компьютерных систем   \n",
       "..        ...    ...                                   ...   \n",
       "220     188.0    0.0                              Язык SQL   \n",
       "360       0.0    0.0     Анализ неструктурированных данных   \n",
       "359       0.0    0.0      Безопасность компьютерных систем   \n",
       "221     186.0    0.0                     Теория баз данных   \n",
       "222     188.0    0.0      Безопасность компьютерных систем   \n",
       "\n",
       "                                                fall_2  \\\n",
       "223               Глубинное обучение в обработке звука   \n",
       "224                      Моделирование временных рядов   \n",
       "225                  Анализ неструктурированных данных   \n",
       "226                        Statistical Learning Theory   \n",
       "227                  Высокопроизводительные вычисления   \n",
       "..                                                 ...   \n",
       "220                                  Теория баз данных   \n",
       "360                      Моделирование временных рядов   \n",
       "359  Принятие решений в условиях риска и неопределё...   \n",
       "221                  Высокопроизводительные вычисления   \n",
       "222                                           Язык SQL   \n",
       "\n",
       "                                              fall_3  \\\n",
       "223            Байесовские методы машинного обучения   \n",
       "224                      Statistical Learning Theory   \n",
       "225             Глубинное обучение в обработке звука   \n",
       "226  Сбор и обработка данных с помощью краудсорсинга   \n",
       "227                Анализ неструктурированных данных   \n",
       "..                                               ...   \n",
       "220                 Безопасность компьютерных систем   \n",
       "360                Высокопроизводительные вычисления   \n",
       "359                Анализ неструктурированных данных   \n",
       "221                 Безопасность компьютерных систем   \n",
       "222                Высокопроизводительные вычисления   \n",
       "\n",
       "                                              spring_1  \\\n",
       "223                                Компьютерное зрение   \n",
       "224  Проектирование и разработка высоконагруженных ...   \n",
       "225                                Компьютерное зрение   \n",
       "226                             Конфликты и кооперация   \n",
       "227  Проектирование и разработка высоконагруженных ...   \n",
       "..                                                 ...   \n",
       "220        Промышленное программирование на языке Java   \n",
       "360                           Обучение с подкреплением   \n",
       "359  Проектирование и разработка высоконагруженных ...   \n",
       "221                                  Компьютерные сети   \n",
       "222                                  Компьютерные сети   \n",
       "\n",
       "                                              spring_2  ... is_first_time  \\\n",
       "223                           Обучение с подкреплением  ...            Да   \n",
       "224                                   Численные методы  ...            Да   \n",
       "225  Проектирование и разработка высоконагруженных ...  ...            Да   \n",
       "226                           Обучение с подкреплением  ...            Да   \n",
       "227               Методы сжатия и передачи медиаданных  ...            Да   \n",
       "..                                                 ...  ...           ...   \n",
       "220                                  Компьютерные сети  ...            Да   \n",
       "360                                Компьютерное зрение  ...                 \n",
       "359               Методы сжатия и передачи медиаданных  ...            Да   \n",
       "221                             Дискретная оптимизация  ...           Нет   \n",
       "222                             Дискретная оптимизация  ...                 \n",
       "\n",
       "    percentile  17_group                         blended is_ml_student  \\\n",
       "223   0.963768     172.0                          DevOps           0.0   \n",
       "224   0.673913     176.0                          DevOps           0.0   \n",
       "225   0.782609     172.0                          DevOps           0.0   \n",
       "226   0.442029     171.0                          DevOps           0.0   \n",
       "227   0.789855     176.0                          DevOps           0.0   \n",
       "..         ...       ...                             ...           ...   \n",
       "220   0.721973       0.0                                           0.0   \n",
       "360   0.369565     176.0  Соревновательный анализ данных           0.0   \n",
       "359   0.985507     172.0                          DevOps           0.0   \n",
       "221   0.430493       0.0                                           0.0   \n",
       "222   0.197309       0.0                                           0.0   \n",
       "\n",
       "     num_fall_course                               course1  \\\n",
       "223              2.0      Безопасность компьютерных систем   \n",
       "224              1.0                                   ???   \n",
       "225              2.0      Безопасность компьютерных систем   \n",
       "226              2.0  Глубинное обучение в обработке звука   \n",
       "227              1.0      Безопасность компьютерных систем   \n",
       "..               ...                                   ...   \n",
       "220              1.0                              Язык SQL   \n",
       "360              1.0     Анализ неструктурированных данных   \n",
       "359              2.0      Безопасность компьютерных систем   \n",
       "221              1.0                     Теория баз данных   \n",
       "222              1.0                                   ???   \n",
       "\n",
       "                                               course2 is_first_place  \\\n",
       "223               Глубинное обучение в обработке звука           True   \n",
       "224                                                  -            NaN   \n",
       "225                  Анализ неструктурированных данных            NaN   \n",
       "226                        Statistical Learning Theory           True   \n",
       "227                                                  -            NaN   \n",
       "..                                                 ...            ...   \n",
       "220                                                  -            NaN   \n",
       "360                                                  -            NaN   \n",
       "359  Принятие решений в условиях риска и неопределё...           True   \n",
       "221                                                  -            NaN   \n",
       "222                                                  -            NaN   \n",
       "\n",
       "    is_last_place  \n",
       "223          True  \n",
       "224           NaN  \n",
       "225           NaN  \n",
       "226           NaN  \n",
       "227           NaN  \n",
       "..            ...  \n",
       "220           NaN  \n",
       "360           NaN  \n",
       "359           NaN  \n",
       "221           NaN  \n",
       "222           NaN  \n",
       "\n",
       "[347 rows x 21 columns]"
      ]
     },
     "execution_count": 114,
     "metadata": {},
     "output_type": "execute_result"
    }
   ],
   "source": [
    "df"
   ]
  },
  {
   "cell_type": "code",
   "execution_count": 115,
   "metadata": {},
   "outputs": [],
   "source": [
    "df[['id', 'course1', 'course2']].to_csv('res_fall.csv', index=False)"
   ]
  },
  {
   "cell_type": "markdown",
   "metadata": {
    "id": "1xQjV9BuhLu6"
   },
   "source": [
    "**Отправьте ссылку на свой файл res_fall.csv в вашу ячейку google-таблицы**"
   ]
  }
 ],
 "metadata": {
  "colab": {
   "name": "practice-01-pandas.ipynb",
   "provenance": []
  },
  "kernelspec": {
   "display_name": "Python 3",
   "language": "python",
   "name": "python3"
  },
  "language_info": {
   "codemirror_mode": {
    "name": "ipython",
    "version": 3
   },
   "file_extension": ".py",
   "mimetype": "text/x-python",
   "name": "python",
   "nbconvert_exporter": "python",
   "pygments_lexer": "ipython3",
   "version": "3.8.8"
  },
  "varInspector": {
   "cols": {
    "lenName": 16,
    "lenType": 16,
    "lenVar": 40
   },
   "kernels_config": {
    "python": {
     "delete_cmd_postfix": "",
     "delete_cmd_prefix": "del ",
     "library": "var_list.py",
     "varRefreshCmd": "print(var_dic_list())"
    },
    "r": {
     "delete_cmd_postfix": ") ",
     "delete_cmd_prefix": "rm(",
     "library": "var_list.r",
     "varRefreshCmd": "cat(var_dic_list()) "
    }
   },
   "types_to_exclude": [
    "module",
    "function",
    "builtin_function_or_method",
    "instance",
    "_Feature"
   ],
   "window_display": false
  }
 },
 "nbformat": 4,
 "nbformat_minor": 1
}
