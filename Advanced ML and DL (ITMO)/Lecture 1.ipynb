{
 "cells": [
  {
   "cell_type": "markdown",
   "id": "67a35743",
   "metadata": {},
   "source": [
    "# Lecture 1\n",
    "### Kirill Zakahrov"
   ]
  },
  {
   "cell_type": "code",
   "execution_count": 2,
   "id": "00c4e884",
   "metadata": {},
   "outputs": [],
   "source": [
    "import pandas as pd\n",
    "import numpy as np"
   ]
  },
  {
   "cell_type": "code",
   "execution_count": 22,
   "id": "757b8e9a",
   "metadata": {},
   "outputs": [],
   "source": [
    "df = pd.read_csv('Data/ROSSTAT_SALARY_RU_2019_normalized.csv')"
   ]
  },
  {
   "cell_type": "code",
   "execution_count": 27,
   "id": "e149f1c5",
   "metadata": {},
   "outputs": [
    {
     "data": {
      "text/html": [
       "<div>\n",
       "<style scoped>\n",
       "    .dataframe tbody tr th:only-of-type {\n",
       "        vertical-align: middle;\n",
       "    }\n",
       "\n",
       "    .dataframe tbody tr th {\n",
       "        vertical-align: top;\n",
       "    }\n",
       "\n",
       "    .dataframe thead th {\n",
       "        text-align: right;\n",
       "    }\n",
       "</style>\n",
       "<table border=\"1\" class=\"dataframe\">\n",
       "  <thead>\n",
       "    <tr style=\"text-align: right;\">\n",
       "      <th></th>\n",
       "      <th>REGION_NAME</th>\n",
       "      <th>SALARY</th>\n",
       "    </tr>\n",
       "  </thead>\n",
       "  <tbody>\n",
       "    <tr>\n",
       "      <th>0</th>\n",
       "      <td>Алтайский край</td>\n",
       "      <td>25960</td>\n",
       "    </tr>\n",
       "    <tr>\n",
       "      <th>1</th>\n",
       "      <td>Амурская область</td>\n",
       "      <td>43156</td>\n",
       "    </tr>\n",
       "    <tr>\n",
       "      <th>2</th>\n",
       "      <td>Архангельская область</td>\n",
       "      <td>47526</td>\n",
       "    </tr>\n",
       "    <tr>\n",
       "      <th>3</th>\n",
       "      <td>Астраханская область</td>\n",
       "      <td>32166</td>\n",
       "    </tr>\n",
       "    <tr>\n",
       "      <th>4</th>\n",
       "      <td>Белгородская область</td>\n",
       "      <td>31163</td>\n",
       "    </tr>\n",
       "    <tr>\n",
       "      <th>...</th>\n",
       "      <td>...</td>\n",
       "      <td>...</td>\n",
       "    </tr>\n",
       "    <tr>\n",
       "      <th>80</th>\n",
       "      <td>Чеченская Республика</td>\n",
       "      <td>26108</td>\n",
       "    </tr>\n",
       "    <tr>\n",
       "      <th>81</th>\n",
       "      <td>Чувашская Республика</td>\n",
       "      <td>27028</td>\n",
       "    </tr>\n",
       "    <tr>\n",
       "      <th>82</th>\n",
       "      <td>Чукотский АО</td>\n",
       "      <td>96930</td>\n",
       "    </tr>\n",
       "    <tr>\n",
       "      <th>83</th>\n",
       "      <td>Ямало-Ненецкий АО</td>\n",
       "      <td>86560</td>\n",
       "    </tr>\n",
       "    <tr>\n",
       "      <th>84</th>\n",
       "      <td>Ярославская область</td>\n",
       "      <td>33882</td>\n",
       "    </tr>\n",
       "  </tbody>\n",
       "</table>\n",
       "<p>85 rows × 2 columns</p>\n",
       "</div>"
      ],
      "text/plain": [
       "              REGION_NAME  SALARY\n",
       "0          Алтайский край   25960\n",
       "1        Амурская область   43156\n",
       "2   Архангельская область   47526\n",
       "3    Астраханская область   32166\n",
       "4    Белгородская область   31163\n",
       "..                    ...     ...\n",
       "80   Чеченская Республика   26108\n",
       "81   Чувашская Республика   27028\n",
       "82           Чукотский АО   96930\n",
       "83      Ямало-Ненецкий АО   86560\n",
       "84    Ярославская область   33882\n",
       "\n",
       "[85 rows x 2 columns]"
      ]
     },
     "execution_count": 27,
     "metadata": {},
     "output_type": "execute_result"
    }
   ],
   "source": [
    "df"
   ]
  },
  {
   "cell_type": "code",
   "execution_count": 24,
   "id": "09a40e7b",
   "metadata": {},
   "outputs": [],
   "source": [
    "import chardet\n",
    "\n",
    "with open('Data/ROSSTAT_SALARY_RU_2019_normalized.csv', 'rb') as f:\n",
    "    enc = chardet.detect(f.read()) "
   ]
  },
  {
   "cell_type": "code",
   "execution_count": 25,
   "id": "9551f88a",
   "metadata": {},
   "outputs": [
    {
     "data": {
      "text/plain": [
       "'utf-8'"
      ]
     },
     "execution_count": 25,
     "metadata": {},
     "output_type": "execute_result"
    }
   ],
   "source": [
    "enc['encoding']"
   ]
  },
  {
   "cell_type": "code",
   "execution_count": 36,
   "id": "fdddc2df",
   "metadata": {},
   "outputs": [],
   "source": [
    "df.index = df.REGION_NAME"
   ]
  },
  {
   "cell_type": "code",
   "execution_count": 47,
   "id": "26a00f73",
   "metadata": {},
   "outputs": [],
   "source": [
    "df = df.drop(['Республика Башкортостан', 'Ханты-Мансийский АО (Югра)', 'Оренбургская область'], axis=0)"
   ]
  },
  {
   "cell_type": "code",
   "execution_count": 48,
   "id": "c1034d87",
   "metadata": {},
   "outputs": [
    {
     "data": {
      "text/html": [
       "<div>\n",
       "<style scoped>\n",
       "    .dataframe tbody tr th:only-of-type {\n",
       "        vertical-align: middle;\n",
       "    }\n",
       "\n",
       "    .dataframe tbody tr th {\n",
       "        vertical-align: top;\n",
       "    }\n",
       "\n",
       "    .dataframe thead th {\n",
       "        text-align: right;\n",
       "    }\n",
       "</style>\n",
       "<table border=\"1\" class=\"dataframe\">\n",
       "  <thead>\n",
       "    <tr style=\"text-align: right;\">\n",
       "      <th></th>\n",
       "      <th>REGION_NAME</th>\n",
       "      <th>SALARY</th>\n",
       "    </tr>\n",
       "    <tr>\n",
       "      <th>REGION_NAME</th>\n",
       "      <th></th>\n",
       "      <th></th>\n",
       "    </tr>\n",
       "  </thead>\n",
       "  <tbody>\n",
       "    <tr>\n",
       "      <th>Алтайский край</th>\n",
       "      <td>Алтайский край</td>\n",
       "      <td>25960</td>\n",
       "    </tr>\n",
       "    <tr>\n",
       "      <th>Амурская область</th>\n",
       "      <td>Амурская область</td>\n",
       "      <td>43156</td>\n",
       "    </tr>\n",
       "    <tr>\n",
       "      <th>Архангельская область</th>\n",
       "      <td>Архангельская область</td>\n",
       "      <td>47526</td>\n",
       "    </tr>\n",
       "    <tr>\n",
       "      <th>Астраханская область</th>\n",
       "      <td>Астраханская область</td>\n",
       "      <td>32166</td>\n",
       "    </tr>\n",
       "    <tr>\n",
       "      <th>Белгородская область</th>\n",
       "      <td>Белгородская область</td>\n",
       "      <td>31163</td>\n",
       "    </tr>\n",
       "    <tr>\n",
       "      <th>...</th>\n",
       "      <td>...</td>\n",
       "      <td>...</td>\n",
       "    </tr>\n",
       "    <tr>\n",
       "      <th>Чеченская Республика</th>\n",
       "      <td>Чеченская Республика</td>\n",
       "      <td>26108</td>\n",
       "    </tr>\n",
       "    <tr>\n",
       "      <th>Чувашская Республика</th>\n",
       "      <td>Чувашская Республика</td>\n",
       "      <td>27028</td>\n",
       "    </tr>\n",
       "    <tr>\n",
       "      <th>Чукотский АО</th>\n",
       "      <td>Чукотский АО</td>\n",
       "      <td>96930</td>\n",
       "    </tr>\n",
       "    <tr>\n",
       "      <th>Ямало-Ненецкий АО</th>\n",
       "      <td>Ямало-Ненецкий АО</td>\n",
       "      <td>86560</td>\n",
       "    </tr>\n",
       "    <tr>\n",
       "      <th>Ярославская область</th>\n",
       "      <td>Ярославская область</td>\n",
       "      <td>33882</td>\n",
       "    </tr>\n",
       "  </tbody>\n",
       "</table>\n",
       "<p>82 rows × 2 columns</p>\n",
       "</div>"
      ],
      "text/plain": [
       "                                 REGION_NAME  SALARY\n",
       "REGION_NAME                                         \n",
       "Алтайский край                Алтайский край   25960\n",
       "Амурская область            Амурская область   43156\n",
       "Архангельская область  Архангельская область   47526\n",
       "Астраханская область    Астраханская область   32166\n",
       "Белгородская область    Белгородская область   31163\n",
       "...                                      ...     ...\n",
       "Чеченская Республика    Чеченская Республика   26108\n",
       "Чувашская Республика    Чувашская Республика   27028\n",
       "Чукотский АО                    Чукотский АО   96930\n",
       "Ямало-Ненецкий АО          Ямало-Ненецкий АО   86560\n",
       "Ярославская область      Ярославская область   33882\n",
       "\n",
       "[82 rows x 2 columns]"
      ]
     },
     "execution_count": 48,
     "metadata": {},
     "output_type": "execute_result"
    }
   ],
   "source": [
    "df"
   ]
  },
  {
   "cell_type": "code",
   "execution_count": 52,
   "id": "f27622c1",
   "metadata": {},
   "outputs": [
    {
     "data": {
      "text/html": [
       "<div>\n",
       "<style scoped>\n",
       "    .dataframe tbody tr th:only-of-type {\n",
       "        vertical-align: middle;\n",
       "    }\n",
       "\n",
       "    .dataframe tbody tr th {\n",
       "        vertical-align: top;\n",
       "    }\n",
       "\n",
       "    .dataframe thead th {\n",
       "        text-align: right;\n",
       "    }\n",
       "</style>\n",
       "<table border=\"1\" class=\"dataframe\">\n",
       "  <thead>\n",
       "    <tr style=\"text-align: right;\">\n",
       "      <th></th>\n",
       "      <th>REGION_NAME</th>\n",
       "      <th>SALARY</th>\n",
       "    </tr>\n",
       "    <tr>\n",
       "      <th>REGION_NAME</th>\n",
       "      <th></th>\n",
       "      <th></th>\n",
       "    </tr>\n",
       "  </thead>\n",
       "  <tbody>\n",
       "    <tr>\n",
       "      <th>Республика Дагестан</th>\n",
       "      <td>Республика Дагестан</td>\n",
       "      <td>24550</td>\n",
       "    </tr>\n",
       "    <tr>\n",
       "      <th>Кабардино-Балкарская Республика</th>\n",
       "      <td>Кабардино-Балкарская Республика</td>\n",
       "      <td>25318</td>\n",
       "    </tr>\n",
       "    <tr>\n",
       "      <th>Республика Ингушетия</th>\n",
       "      <td>Республика Ингушетия</td>\n",
       "      <td>25663</td>\n",
       "    </tr>\n",
       "    <tr>\n",
       "      <th>Карачаево-Черкесская Республика</th>\n",
       "      <td>Карачаево-Черкесская Республика</td>\n",
       "      <td>25699</td>\n",
       "    </tr>\n",
       "    <tr>\n",
       "      <th>Республика Калмыкия</th>\n",
       "      <td>Республика Калмыкия</td>\n",
       "      <td>25719</td>\n",
       "    </tr>\n",
       "    <tr>\n",
       "      <th>...</th>\n",
       "      <td>...</td>\n",
       "      <td>...</td>\n",
       "    </tr>\n",
       "    <tr>\n",
       "      <th>Ненецкий АО</th>\n",
       "      <td>Ненецкий АО</td>\n",
       "      <td>77277</td>\n",
       "    </tr>\n",
       "    <tr>\n",
       "      <th>г. Москва</th>\n",
       "      <td>г. Москва</td>\n",
       "      <td>78946</td>\n",
       "    </tr>\n",
       "    <tr>\n",
       "      <th>Ямало-Ненецкий АО</th>\n",
       "      <td>Ямало-Ненецкий АО</td>\n",
       "      <td>86560</td>\n",
       "    </tr>\n",
       "    <tr>\n",
       "      <th>Чукотский АО</th>\n",
       "      <td>Чукотский АО</td>\n",
       "      <td>96930</td>\n",
       "    </tr>\n",
       "    <tr>\n",
       "      <th>Магаданская обл.</th>\n",
       "      <td>Магаданская обл.</td>\n",
       "      <td>101662</td>\n",
       "    </tr>\n",
       "  </tbody>\n",
       "</table>\n",
       "<p>82 rows × 2 columns</p>\n",
       "</div>"
      ],
      "text/plain": [
       "                                                     REGION_NAME  SALARY\n",
       "REGION_NAME                                                             \n",
       "Республика Дагестан                          Республика Дагестан   24550\n",
       "Кабардино-Балкарская Республика  Кабардино-Балкарская Республика   25318\n",
       "Республика Ингушетия                        Республика Ингушетия   25663\n",
       "Карачаево-Черкесская Республика  Карачаево-Черкесская Республика   25699\n",
       "Республика Калмыкия                          Республика Калмыкия   25719\n",
       "...                                                          ...     ...\n",
       "Ненецкий АО                                          Ненецкий АО   77277\n",
       "г. Москва                                              г. Москва   78946\n",
       "Ямало-Ненецкий АО                              Ямало-Ненецкий АО   86560\n",
       "Чукотский АО                                        Чукотский АО   96930\n",
       "Магаданская обл.                                Магаданская обл.  101662\n",
       "\n",
       "[82 rows x 2 columns]"
      ]
     },
     "execution_count": 52,
     "metadata": {},
     "output_type": "execute_result"
    }
   ],
   "source": [
    "df_sorted = df.sort_values(by='SALARY', ascending=True)\n",
    "df_sorted"
   ]
  },
  {
   "cell_type": "code",
   "execution_count": 61,
   "id": "ac48e96b",
   "metadata": {},
   "outputs": [
    {
     "data": {
      "text/plain": [
       "34809"
      ]
     },
     "execution_count": 61,
     "metadata": {},
     "output_type": "execute_result"
    }
   ],
   "source": [
    "df_sorted.SALARY[47-1]"
   ]
  },
  {
   "cell_type": "code",
   "execution_count": 62,
   "id": "85b5b157",
   "metadata": {},
   "outputs": [
    {
     "data": {
      "text/plain": [
       "38720.96341463415"
      ]
     },
     "execution_count": 62,
     "metadata": {},
     "output_type": "execute_result"
    }
   ],
   "source": [
    "df_sorted.SALARY.mean()"
   ]
  },
  {
   "cell_type": "code",
   "execution_count": 64,
   "id": "9f8c8722",
   "metadata": {},
   "outputs": [
    {
     "data": {
      "text/plain": [
       "32723.0"
      ]
     },
     "execution_count": 64,
     "metadata": {},
     "output_type": "execute_result"
    }
   ],
   "source": [
    "df_sorted.SALARY.median()"
   ]
  },
  {
   "cell_type": "code",
   "execution_count": null,
   "id": "5132b65c",
   "metadata": {},
   "outputs": [],
   "source": []
  }
 ],
 "metadata": {
  "kernelspec": {
   "display_name": "Python 3",
   "language": "python",
   "name": "python3"
  },
  "language_info": {
   "codemirror_mode": {
    "name": "ipython",
    "version": 3
   },
   "file_extension": ".py",
   "mimetype": "text/x-python",
   "name": "python",
   "nbconvert_exporter": "python",
   "pygments_lexer": "ipython3",
   "version": "3.8.8"
  }
 },
 "nbformat": 4,
 "nbformat_minor": 5
}
