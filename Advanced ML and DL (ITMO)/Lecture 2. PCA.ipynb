{
 "cells": [
  {
   "cell_type": "markdown",
   "id": "0e345a62",
   "metadata": {},
   "source": [
    "# PCA\n",
    "### Kirill Zakharov"
   ]
  },
  {
   "cell_type": "code",
   "execution_count": 41,
   "id": "5d339477",
   "metadata": {},
   "outputs": [],
   "source": [
    "import numpy as np\n",
    "import pandas as pd\n",
    "\n",
    "from sklearn.decomposition import PCA\n",
    "\n",
    "import matplotlib.pyplot as plt\n",
    "plt.style.use('ggplot')"
   ]
  },
  {
   "cell_type": "markdown",
   "id": "3dab5e6e",
   "metadata": {},
   "source": [
    "## Task 1"
   ]
  },
  {
   "cell_type": "code",
   "execution_count": 4,
   "id": "0f099e95",
   "metadata": {},
   "outputs": [],
   "source": [
    "df = pd.read_csv('Data/data_lecture2_1.csv', header=None)"
   ]
  },
  {
   "cell_type": "code",
   "execution_count": 8,
   "id": "06604104",
   "metadata": {},
   "outputs": [
    {
     "data": {
      "text/html": [
       "<div>\n",
       "<style scoped>\n",
       "    .dataframe tbody tr th:only-of-type {\n",
       "        vertical-align: middle;\n",
       "    }\n",
       "\n",
       "    .dataframe tbody tr th {\n",
       "        vertical-align: top;\n",
       "    }\n",
       "\n",
       "    .dataframe thead th {\n",
       "        text-align: right;\n",
       "    }\n",
       "</style>\n",
       "<table border=\"1\" class=\"dataframe\">\n",
       "  <thead>\n",
       "    <tr style=\"text-align: right;\">\n",
       "      <th></th>\n",
       "      <th>0</th>\n",
       "      <th>1</th>\n",
       "      <th>2</th>\n",
       "      <th>3</th>\n",
       "      <th>4</th>\n",
       "      <th>5</th>\n",
       "      <th>6</th>\n",
       "      <th>7</th>\n",
       "      <th>8</th>\n",
       "      <th>9</th>\n",
       "    </tr>\n",
       "  </thead>\n",
       "  <tbody>\n",
       "    <tr>\n",
       "      <th>0</th>\n",
       "      <td>-21.759720</td>\n",
       "      <td>12.661154</td>\n",
       "      <td>-4.869926</td>\n",
       "      <td>9.598234</td>\n",
       "      <td>23.449185</td>\n",
       "      <td>0.154820</td>\n",
       "      <td>2.302482</td>\n",
       "      <td>-21.821396</td>\n",
       "      <td>-11.415078</td>\n",
       "      <td>2.151484</td>\n",
       "    </tr>\n",
       "    <tr>\n",
       "      <th>1</th>\n",
       "      <td>1.408364</td>\n",
       "      <td>-6.638400</td>\n",
       "      <td>9.211893</td>\n",
       "      <td>-5.495415</td>\n",
       "      <td>-0.645486</td>\n",
       "      <td>11.878330</td>\n",
       "      <td>-4.853190</td>\n",
       "      <td>21.437183</td>\n",
       "      <td>-15.858709</td>\n",
       "      <td>14.000808</td>\n",
       "    </tr>\n",
       "    <tr>\n",
       "      <th>2</th>\n",
       "      <td>2.616627</td>\n",
       "      <td>23.965814</td>\n",
       "      <td>-13.427229</td>\n",
       "      <td>3.159229</td>\n",
       "      <td>22.770143</td>\n",
       "      <td>-16.722209</td>\n",
       "      <td>1.080627</td>\n",
       "      <td>13.702021</td>\n",
       "      <td>6.303106</td>\n",
       "      <td>-0.961493</td>\n",
       "    </tr>\n",
       "    <tr>\n",
       "      <th>3</th>\n",
       "      <td>-23.049862</td>\n",
       "      <td>13.223549</td>\n",
       "      <td>-3.489613</td>\n",
       "      <td>9.938069</td>\n",
       "      <td>23.477814</td>\n",
       "      <td>-0.379360</td>\n",
       "      <td>0.077757</td>\n",
       "      <td>-24.087916</td>\n",
       "      <td>-11.868835</td>\n",
       "      <td>1.040066</td>\n",
       "    </tr>\n",
       "    <tr>\n",
       "      <th>4</th>\n",
       "      <td>4.397046</td>\n",
       "      <td>24.046032</td>\n",
       "      <td>-10.728164</td>\n",
       "      <td>2.437134</td>\n",
       "      <td>22.975698</td>\n",
       "      <td>-19.245294</td>\n",
       "      <td>1.665254</td>\n",
       "      <td>12.259758</td>\n",
       "      <td>6.068289</td>\n",
       "      <td>-1.225398</td>\n",
       "    </tr>\n",
       "  </tbody>\n",
       "</table>\n",
       "</div>"
      ],
      "text/plain": [
       "           0          1          2         3          4          5         6  \\\n",
       "0 -21.759720  12.661154  -4.869926  9.598234  23.449185   0.154820  2.302482   \n",
       "1   1.408364  -6.638400   9.211893 -5.495415  -0.645486  11.878330 -4.853190   \n",
       "2   2.616627  23.965814 -13.427229  3.159229  22.770143 -16.722209  1.080627   \n",
       "3 -23.049862  13.223549  -3.489613  9.938069  23.477814  -0.379360  0.077757   \n",
       "4   4.397046  24.046032 -10.728164  2.437134  22.975698 -19.245294  1.665254   \n",
       "\n",
       "           7          8          9  \n",
       "0 -21.821396 -11.415078   2.151484  \n",
       "1  21.437183 -15.858709  14.000808  \n",
       "2  13.702021   6.303106  -0.961493  \n",
       "3 -24.087916 -11.868835   1.040066  \n",
       "4  12.259758   6.068289  -1.225398  "
      ]
     },
     "execution_count": 8,
     "metadata": {},
     "output_type": "execute_result"
    }
   ],
   "source": [
    "df.head()"
   ]
  },
  {
   "cell_type": "code",
   "execution_count": 9,
   "id": "0b07f302",
   "metadata": {},
   "outputs": [
    {
     "data": {
      "text/plain": [
       "(60, 10)"
      ]
     },
     "execution_count": 9,
     "metadata": {},
     "output_type": "execute_result"
    }
   ],
   "source": [
    "df.shape"
   ]
  },
  {
   "cell_type": "code",
   "execution_count": 38,
   "id": "05392ad1",
   "metadata": {},
   "outputs": [],
   "source": [
    "pca = PCA(n_components = 2, svd_solver='full')"
   ]
  },
  {
   "cell_type": "code",
   "execution_count": 39,
   "id": "d81e7c4d",
   "metadata": {},
   "outputs": [],
   "source": [
    "df_red = pca.fit_transform(df)"
   ]
  },
  {
   "cell_type": "code",
   "execution_count": 40,
   "id": "43fb6c08",
   "metadata": {},
   "outputs": [
    {
     "data": {
      "text/plain": [
       "0.6901648533426789"
      ]
     },
     "execution_count": 40,
     "metadata": {},
     "output_type": "execute_result"
    }
   ],
   "source": [
    "sum(pca.explained_variance_ratio_)"
   ]
  },
  {
   "cell_type": "code",
   "execution_count": 42,
   "id": "f7d865c3",
   "metadata": {},
   "outputs": [
    {
     "data": {
      "text/plain": [
       "<matplotlib.collections.PathCollection at 0x7f796015c6d0>"
      ]
     },
     "execution_count": 42,
     "metadata": {},
     "output_type": "execute_result"
    },
    {
     "data": {
      "image/png": "[encoded data removed]",
      "text/plain": [
       "<Figure size 432x288 with 1 Axes>"
      ]
     },
     "metadata": {},
     "output_type": "display_data"
    }
   ],
   "source": [
    "plt.scatter(df_red.T[0],df_red.T[1])"
   ]
  },
  {
   "cell_type": "markdown",
   "id": "cac8e890",
   "metadata": {},
   "source": [
    "## Task 2"
   ]
  },
  {
   "cell_type": "code",
   "execution_count": 45,
   "id": "0aa24a5e",
   "metadata": {},
   "outputs": [],
   "source": [
    "proj = pd.read_csv('Data/lecture2_2_proj.csv', header=None, delimiter=';')"
   ]
  },
  {
   "cell_type": "code",
   "execution_count": 46,
   "id": "3fc5486b",
   "metadata": {},
   "outputs": [
    {
     "data": {
      "text/html": [
       "<div>\n",
       "<style scoped>\n",
       "    .dataframe tbody tr th:only-of-type {\n",
       "        vertical-align: middle;\n",
       "    }\n",
       "\n",
       "    .dataframe tbody tr th {\n",
       "        vertical-align: top;\n",
       "    }\n",
       "\n",
       "    .dataframe thead th {\n",
       "        text-align: right;\n",
       "    }\n",
       "</style>\n",
       "<table border=\"1\" class=\"dataframe\">\n",
       "  <thead>\n",
       "    <tr style=\"text-align: right;\">\n",
       "      <th></th>\n",
       "      <th>0</th>\n",
       "      <th>1</th>\n",
       "      <th>2</th>\n",
       "      <th>3</th>\n",
       "      <th>4</th>\n",
       "      <th>5</th>\n",
       "      <th>6</th>\n",
       "      <th>7</th>\n",
       "      <th>8</th>\n",
       "      <th>9</th>\n",
       "    </tr>\n",
       "  </thead>\n",
       "  <tbody>\n",
       "    <tr>\n",
       "      <th>0</th>\n",
       "      <td>-509.65828</td>\n",
       "      <td>56.115251</td>\n",
       "      <td>59.109204</td>\n",
       "      <td>10.286757</td>\n",
       "      <td>3.762528</td>\n",
       "      <td>-26.63257</td>\n",
       "      <td>2.527262</td>\n",
       "      <td>-8.67279</td>\n",
       "      <td>5.553466</td>\n",
       "      <td>10.623214</td>\n",
       "    </tr>\n",
       "    <tr>\n",
       "      <th>1</th>\n",
       "      <td>-509.65828</td>\n",
       "      <td>56.115251</td>\n",
       "      <td>59.109204</td>\n",
       "      <td>10.286757</td>\n",
       "      <td>3.762528</td>\n",
       "      <td>-26.63257</td>\n",
       "      <td>2.527262</td>\n",
       "      <td>-8.67279</td>\n",
       "      <td>5.553466</td>\n",
       "      <td>10.623214</td>\n",
       "    </tr>\n",
       "    <tr>\n",
       "      <th>2</th>\n",
       "      <td>-509.65828</td>\n",
       "      <td>56.115251</td>\n",
       "      <td>59.109204</td>\n",
       "      <td>10.286757</td>\n",
       "      <td>3.762528</td>\n",
       "      <td>-26.63257</td>\n",
       "      <td>2.527262</td>\n",
       "      <td>-8.67279</td>\n",
       "      <td>5.553466</td>\n",
       "      <td>10.623214</td>\n",
       "    </tr>\n",
       "    <tr>\n",
       "      <th>3</th>\n",
       "      <td>-509.65828</td>\n",
       "      <td>56.115251</td>\n",
       "      <td>59.109204</td>\n",
       "      <td>10.286757</td>\n",
       "      <td>3.762528</td>\n",
       "      <td>-26.63257</td>\n",
       "      <td>2.527262</td>\n",
       "      <td>-8.67279</td>\n",
       "      <td>5.553466</td>\n",
       "      <td>10.623214</td>\n",
       "    </tr>\n",
       "    <tr>\n",
       "      <th>4</th>\n",
       "      <td>-509.65828</td>\n",
       "      <td>56.115251</td>\n",
       "      <td>59.109204</td>\n",
       "      <td>10.286757</td>\n",
       "      <td>3.762528</td>\n",
       "      <td>-26.63257</td>\n",
       "      <td>2.527262</td>\n",
       "      <td>-8.67279</td>\n",
       "      <td>5.553466</td>\n",
       "      <td>10.623214</td>\n",
       "    </tr>\n",
       "  </tbody>\n",
       "</table>\n",
       "</div>"
      ],
      "text/plain": [
       "           0          1          2          3         4         5         6  \\\n",
       "0 -509.65828  56.115251  59.109204  10.286757  3.762528 -26.63257  2.527262   \n",
       "1 -509.65828  56.115251  59.109204  10.286757  3.762528 -26.63257  2.527262   \n",
       "2 -509.65828  56.115251  59.109204  10.286757  3.762528 -26.63257  2.527262   \n",
       "3 -509.65828  56.115251  59.109204  10.286757  3.762528 -26.63257  2.527262   \n",
       "4 -509.65828  56.115251  59.109204  10.286757  3.762528 -26.63257  2.527262   \n",
       "\n",
       "         7         8          9  \n",
       "0 -8.67279  5.553466  10.623214  \n",
       "1 -8.67279  5.553466  10.623214  \n",
       "2 -8.67279  5.553466  10.623214  \n",
       "3 -8.67279  5.553466  10.623214  \n",
       "4 -8.67279  5.553466  10.623214  "
      ]
     },
     "execution_count": 46,
     "metadata": {},
     "output_type": "execute_result"
    }
   ],
   "source": [
    "proj.head()"
   ]
  },
  {
   "cell_type": "code",
   "execution_count": 47,
   "id": "f334fa21",
   "metadata": {},
   "outputs": [
    {
     "data": {
      "text/plain": [
       "(100, 10)"
      ]
     },
     "execution_count": 47,
     "metadata": {},
     "output_type": "execute_result"
    }
   ],
   "source": [
    "proj.shape"
   ]
  },
  {
   "cell_type": "code",
   "execution_count": 48,
   "id": "59ade783",
   "metadata": {},
   "outputs": [],
   "source": [
    "weights = pd.read_csv('Data/lecture2_2_weights.csv', header=None, delimiter=';')"
   ]
  },
  {
   "cell_type": "code",
   "execution_count": 49,
   "id": "cc3cec58",
   "metadata": {},
   "outputs": [
    {
     "data": {
      "text/html": [
       "<div>\n",
       "<style scoped>\n",
       "    .dataframe tbody tr th:only-of-type {\n",
       "        vertical-align: middle;\n",
       "    }\n",
       "\n",
       "    .dataframe tbody tr th {\n",
       "        vertical-align: top;\n",
       "    }\n",
       "\n",
       "    .dataframe thead th {\n",
       "        text-align: right;\n",
       "    }\n",
       "</style>\n",
       "<table border=\"1\" class=\"dataframe\">\n",
       "  <thead>\n",
       "    <tr style=\"text-align: right;\">\n",
       "      <th></th>\n",
       "      <th>0</th>\n",
       "      <th>1</th>\n",
       "      <th>2</th>\n",
       "      <th>3</th>\n",
       "      <th>4</th>\n",
       "      <th>5</th>\n",
       "      <th>6</th>\n",
       "      <th>7</th>\n",
       "      <th>8</th>\n",
       "      <th>9</th>\n",
       "    </tr>\n",
       "  </thead>\n",
       "  <tbody>\n",
       "    <tr>\n",
       "      <th>0</th>\n",
       "      <td>-1.161976e-17</td>\n",
       "      <td>2.883151e-18</td>\n",
       "      <td>6.300305e-18</td>\n",
       "      <td>2.345693e-18</td>\n",
       "      <td>1.504738e-18</td>\n",
       "      <td>-1.464543e-17</td>\n",
       "      <td>1.605363e-18</td>\n",
       "      <td>-9.023598e-18</td>\n",
       "      <td>6.518054e-18</td>\n",
       "      <td>1.841770e-17</td>\n",
       "    </tr>\n",
       "    <tr>\n",
       "      <th>1</th>\n",
       "      <td>1.110223e-16</td>\n",
       "      <td>-6.938894e-17</td>\n",
       "      <td>-2.775558e-17</td>\n",
       "      <td>6.938894e-18</td>\n",
       "      <td>6.938894e-18</td>\n",
       "      <td>5.551115e-17</td>\n",
       "      <td>1.578598e-16</td>\n",
       "      <td>3.469447e-17</td>\n",
       "      <td>-1.578598e-16</td>\n",
       "      <td>-1.214306e-16</td>\n",
       "    </tr>\n",
       "    <tr>\n",
       "      <th>2</th>\n",
       "      <td>-0.000000e+00</td>\n",
       "      <td>-0.000000e+00</td>\n",
       "      <td>0.000000e+00</td>\n",
       "      <td>-2.775558e-17</td>\n",
       "      <td>-6.938894e-18</td>\n",
       "      <td>0.000000e+00</td>\n",
       "      <td>5.551115e-17</td>\n",
       "      <td>-5.551115e-17</td>\n",
       "      <td>-8.326673e-17</td>\n",
       "      <td>0.000000e+00</td>\n",
       "    </tr>\n",
       "    <tr>\n",
       "      <th>3</th>\n",
       "      <td>-0.000000e+00</td>\n",
       "      <td>-1.110223e-16</td>\n",
       "      <td>8.153200e-17</td>\n",
       "      <td>-0.000000e+00</td>\n",
       "      <td>6.245005e-17</td>\n",
       "      <td>-2.220446e-16</td>\n",
       "      <td>6.938894e-18</td>\n",
       "      <td>-5.551115e-17</td>\n",
       "      <td>-0.000000e+00</td>\n",
       "      <td>5.551115e-17</td>\n",
       "    </tr>\n",
       "    <tr>\n",
       "      <th>4</th>\n",
       "      <td>-0.000000e+00</td>\n",
       "      <td>-0.000000e+00</td>\n",
       "      <td>0.000000e+00</td>\n",
       "      <td>-5.204170e-18</td>\n",
       "      <td>3.469447e-18</td>\n",
       "      <td>5.551115e-17</td>\n",
       "      <td>-6.938894e-18</td>\n",
       "      <td>8.326673e-17</td>\n",
       "      <td>-2.775558e-17</td>\n",
       "      <td>5.551115e-17</td>\n",
       "    </tr>\n",
       "  </tbody>\n",
       "</table>\n",
       "</div>"
      ],
      "text/plain": [
       "              0             1             2             3             4  \\\n",
       "0 -1.161976e-17  2.883151e-18  6.300305e-18  2.345693e-18  1.504738e-18   \n",
       "1  1.110223e-16 -6.938894e-17 -2.775558e-17  6.938894e-18  6.938894e-18   \n",
       "2 -0.000000e+00 -0.000000e+00  0.000000e+00 -2.775558e-17 -6.938894e-18   \n",
       "3 -0.000000e+00 -1.110223e-16  8.153200e-17 -0.000000e+00  6.245005e-17   \n",
       "4 -0.000000e+00 -0.000000e+00  0.000000e+00 -5.204170e-18  3.469447e-18   \n",
       "\n",
       "              5             6             7             8             9  \n",
       "0 -1.464543e-17  1.605363e-18 -9.023598e-18  6.518054e-18  1.841770e-17  \n",
       "1  5.551115e-17  1.578598e-16  3.469447e-17 -1.578598e-16 -1.214306e-16  \n",
       "2  0.000000e+00  5.551115e-17 -5.551115e-17 -8.326673e-17  0.000000e+00  \n",
       "3 -2.220446e-16  6.938894e-18 -5.551115e-17 -0.000000e+00  5.551115e-17  \n",
       "4  5.551115e-17 -6.938894e-18  8.326673e-17 -2.775558e-17  5.551115e-17  "
      ]
     },
     "execution_count": 49,
     "metadata": {},
     "output_type": "execute_result"
    }
   ],
   "source": [
    "weights.head()"
   ]
  },
  {
   "cell_type": "code",
   "execution_count": 50,
   "id": "8d14023e",
   "metadata": {},
   "outputs": [
    {
     "data": {
      "text/plain": [
       "(100, 10)"
      ]
     },
     "execution_count": 50,
     "metadata": {},
     "output_type": "execute_result"
    }
   ],
   "source": [
    "weights.shape"
   ]
  },
  {
   "cell_type": "code",
   "execution_count": 53,
   "id": "158075d3",
   "metadata": {},
   "outputs": [],
   "source": [
    "res = np.dot(proj,(weights.T))"
   ]
  },
  {
   "cell_type": "code",
   "execution_count": 56,
   "id": "c02acc53",
   "metadata": {},
   "outputs": [
    {
     "data": {
      "text/plain": [
       "<matplotlib.image.AxesImage at 0x7f79200c7880>"
      ]
     },
     "execution_count": 56,
     "metadata": {},
     "output_type": "execute_result"
    },
    {
     "data": {
      "image/png": "[encoded data removed]",
      "text/plain": [
       "<Figure size 432x288 with 1 Axes>"
      ]
     },
     "metadata": {},
     "output_type": "display_data"
    }
   ],
   "source": [
    "plt.imshow(res)"
   ]
  },
  {
   "cell_type": "code",
   "execution_count": null,
   "id": "f94670ec",
   "metadata": {},
   "outputs": [],
   "source": []
  }
 ],
 "metadata": {
  "kernelspec": {
   "display_name": "Python 3",
   "language": "python",
   "name": "python3"
  },
  "language_info": {
   "codemirror_mode": {
    "name": "ipython",
    "version": 3
   },
   "file_extension": ".py",
   "mimetype": "text/x-python",
   "name": "python",
   "nbconvert_exporter": "python",
   "pygments_lexer": "ipython3",
   "version": "3.8.8"
  }
 },
 "nbformat": 4,
 "nbformat_minor": 5
}
