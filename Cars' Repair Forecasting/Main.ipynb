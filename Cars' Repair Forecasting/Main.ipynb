{
 "cells": [
  {
   "cell_type": "code",
   "execution_count": 412,
   "id": "af76f11d-7c7d-400f-8f79-3993af8046c3",
   "metadata": {},
   "outputs": [],
   "source": [
    "import pandas as pd\n",
    "import numpy as np\n",
    "from sklearn.linear_model import LogisticRegression\n",
    "from sklearn.metrics import classification_report, confusion_matrix\n",
    "from sklearn.metrics import roc_curve, auc, roc_auc_score\n",
    "from sklearn.metrics import fbeta_score\n",
    "\n",
    "from sklearn.ensemble import RandomForestClassifier, GradientBoostingClassifier, AdaBoostClassifier, VotingClassifier\n",
    "from sklearn.model_selection import GridSearchCV, train_test_split\n",
    "from sklearn.pipeline import Pipeline\n",
    "from sklearn.preprocessing import MinMaxScaler, StandardScaler\n",
    "from sklearn.preprocessing import OneHotEncoder, OrdinalEncoder\n",
    "from catboost import CatBoostClassifier\n",
    "import category_encoders as ce\n",
    "import torch\n",
    "\n",
    "from sklearn.neighbors import KNeighborsClassifier\n",
    "from sklearn.ensemble import RandomForestClassifier\n",
    "\n",
    "import tqdm\n",
    "\n",
    "import matplotlib.pyplot as plt\n",
    "import seaborn as sns\n",
    "%matplotlib inline\n",
    "\n",
    "plt.style.use('ggplot')"
   ]
  },
  {
   "cell_type": "markdown",
   "id": "bd1c0e08-9c1e-4831-860d-1dcd3cf00529",
   "metadata": {},
   "source": [
    "## Dislocations"
   ]
  },
  {
   "cell_type": "code",
   "execution_count": 2,
   "id": "329b9a48-2ff3-4178-b3ea-552e29472ace",
   "metadata": {},
   "outputs": [],
   "source": [
    "dsl = pd.read_csv('DSL_2021_08.csv')"
   ]
  },
  {
   "cell_type": "code",
   "execution_count": 3,
   "id": "c4dd8725-fe3e-452e-940e-d0f22207e370",
   "metadata": {},
   "outputs": [
    {
     "data": {
      "text/html": [
       "<div>\n",
       "<style scoped>\n",
       "    .dataframe tbody tr th:only-of-type {\n",
       "        vertical-align: middle;\n",
       "    }\n",
       "\n",
       "    .dataframe tbody tr th {\n",
       "        vertical-align: top;\n",
       "    }\n",
       "\n",
       "    .dataframe thead th {\n",
       "        text-align: right;\n",
       "    }\n",
       "</style>\n",
       "<table border=\"1\" class=\"dataframe\">\n",
       "  <thead>\n",
       "    <tr style=\"text-align: right;\">\n",
       "      <th></th>\n",
       "      <th>carNum</th>\n",
       "      <th>operDate</th>\n",
       "      <th>operCode</th>\n",
       "      <th>operSt</th>\n",
       "      <th>operDestSt</th>\n",
       "      <th>operCargo</th>\n",
       "      <th>operWeight</th>\n",
       "    </tr>\n",
       "  </thead>\n",
       "  <tbody>\n",
       "    <tr>\n",
       "      <th>0</th>\n",
       "      <td>92806595</td>\n",
       "      <td>2021-08-26 08:05:00</td>\n",
       "      <td>ПРИБ</td>\n",
       "      <td>140</td>\n",
       "      <td>13094</td>\n",
       "      <td>00300</td>\n",
       "      <td>16.0</td>\n",
       "    </tr>\n",
       "    <tr>\n",
       "      <th>1</th>\n",
       "      <td>97897698</td>\n",
       "      <td>2021-08-26 08:05:00</td>\n",
       "      <td>ПРИБ</td>\n",
       "      <td>140</td>\n",
       "      <td>13094</td>\n",
       "      <td>00300</td>\n",
       "      <td>17.0</td>\n",
       "    </tr>\n",
       "    <tr>\n",
       "      <th>2</th>\n",
       "      <td>98097207</td>\n",
       "      <td>2021-08-26 08:05:00</td>\n",
       "      <td>ПРИБ</td>\n",
       "      <td>140</td>\n",
       "      <td>13094</td>\n",
       "      <td>00300</td>\n",
       "      <td>24.0</td>\n",
       "    </tr>\n",
       "    <tr>\n",
       "      <th>3</th>\n",
       "      <td>92668896</td>\n",
       "      <td>2021-08-26 08:05:00</td>\n",
       "      <td>ПРИБ</td>\n",
       "      <td>140</td>\n",
       "      <td>13094</td>\n",
       "      <td>00300</td>\n",
       "      <td>25.0</td>\n",
       "    </tr>\n",
       "    <tr>\n",
       "      <th>4</th>\n",
       "      <td>94588092</td>\n",
       "      <td>2021-08-26 08:05:00</td>\n",
       "      <td>ПРИБ</td>\n",
       "      <td>140</td>\n",
       "      <td>13094</td>\n",
       "      <td>00300</td>\n",
       "      <td>26.0</td>\n",
       "    </tr>\n",
       "  </tbody>\n",
       "</table>\n",
       "</div>"
      ],
      "text/plain": [
       "     carNum             operDate operCode  operSt  operDestSt operCargo  \\\n",
       "0  92806595  2021-08-26 08:05:00    ПРИБ      140       13094     00300   \n",
       "1  97897698  2021-08-26 08:05:00    ПРИБ      140       13094     00300   \n",
       "2  98097207  2021-08-26 08:05:00    ПРИБ      140       13094     00300   \n",
       "3  92668896  2021-08-26 08:05:00    ПРИБ      140       13094     00300   \n",
       "4  94588092  2021-08-26 08:05:00    ПРИБ      140       13094     00300   \n",
       "\n",
       "   operWeight  \n",
       "0        16.0  \n",
       "1        17.0  \n",
       "2        24.0  \n",
       "3        25.0  \n",
       "4        26.0  "
      ]
     },
     "execution_count": 3,
     "metadata": {},
     "output_type": "execute_result"
    }
   ],
   "source": [
    "dsl.head()"
   ]
  },
  {
   "cell_type": "code",
   "execution_count": 4,
   "id": "2d1ae9d6-f94b-4bf8-b225-b2aa196a6603",
   "metadata": {},
   "outputs": [],
   "source": [
    "dsl = dsl.rename(columns = {'operDate':'repBeginDate'})"
   ]
  },
  {
   "cell_type": "code",
   "execution_count": 5,
   "id": "33864e18-9e7e-41a1-bbd2-24d1b5f500fa",
   "metadata": {},
   "outputs": [
    {
     "data": {
      "text/plain": [
       "(5061934, 7)"
      ]
     },
     "execution_count": 5,
     "metadata": {},
     "output_type": "execute_result"
    }
   ],
   "source": [
    "dsl.shape"
   ]
  },
  {
   "cell_type": "code",
   "execution_count": 6,
   "id": "d335b576-da68-4aa5-99b3-5b61eeb2f559",
   "metadata": {},
   "outputs": [],
   "source": [
    "timeArray1 = np.array(list(map(lambda x: pd.Timestamp(x).date(), dsl['repBeginDate'])))"
   ]
  },
  {
   "cell_type": "code",
   "execution_count": 7,
   "id": "f6580bd7-e423-4d3d-9c91-ddd0f330ca10",
   "metadata": {},
   "outputs": [],
   "source": [
    "dsl['repBeginDate'] = timeArray1"
   ]
  },
  {
   "cell_type": "code",
   "execution_count": 8,
   "id": "eca19570-6f39-4405-b32b-fdbeb60456da",
   "metadata": {},
   "outputs": [
    {
     "data": {
      "text/html": [
       "<div>\n",
       "<style scoped>\n",
       "    .dataframe tbody tr th:only-of-type {\n",
       "        vertical-align: middle;\n",
       "    }\n",
       "\n",
       "    .dataframe tbody tr th {\n",
       "        vertical-align: top;\n",
       "    }\n",
       "\n",
       "    .dataframe thead th {\n",
       "        text-align: right;\n",
       "    }\n",
       "</style>\n",
       "<table border=\"1\" class=\"dataframe\">\n",
       "  <thead>\n",
       "    <tr style=\"text-align: right;\">\n",
       "      <th></th>\n",
       "      <th>carNum</th>\n",
       "      <th>repBeginDate</th>\n",
       "      <th>operCode</th>\n",
       "      <th>operSt</th>\n",
       "      <th>operDestSt</th>\n",
       "      <th>operCargo</th>\n",
       "      <th>operWeight</th>\n",
       "    </tr>\n",
       "  </thead>\n",
       "  <tbody>\n",
       "    <tr>\n",
       "      <th>0</th>\n",
       "      <td>92806595</td>\n",
       "      <td>2021-08-26</td>\n",
       "      <td>ПРИБ</td>\n",
       "      <td>140</td>\n",
       "      <td>13094</td>\n",
       "      <td>00300</td>\n",
       "      <td>16.0</td>\n",
       "    </tr>\n",
       "    <tr>\n",
       "      <th>1</th>\n",
       "      <td>97897698</td>\n",
       "      <td>2021-08-26</td>\n",
       "      <td>ПРИБ</td>\n",
       "      <td>140</td>\n",
       "      <td>13094</td>\n",
       "      <td>00300</td>\n",
       "      <td>17.0</td>\n",
       "    </tr>\n",
       "    <tr>\n",
       "      <th>2</th>\n",
       "      <td>98097207</td>\n",
       "      <td>2021-08-26</td>\n",
       "      <td>ПРИБ</td>\n",
       "      <td>140</td>\n",
       "      <td>13094</td>\n",
       "      <td>00300</td>\n",
       "      <td>24.0</td>\n",
       "    </tr>\n",
       "    <tr>\n",
       "      <th>3</th>\n",
       "      <td>92668896</td>\n",
       "      <td>2021-08-26</td>\n",
       "      <td>ПРИБ</td>\n",
       "      <td>140</td>\n",
       "      <td>13094</td>\n",
       "      <td>00300</td>\n",
       "      <td>25.0</td>\n",
       "    </tr>\n",
       "    <tr>\n",
       "      <th>4</th>\n",
       "      <td>94588092</td>\n",
       "      <td>2021-08-26</td>\n",
       "      <td>ПРИБ</td>\n",
       "      <td>140</td>\n",
       "      <td>13094</td>\n",
       "      <td>00300</td>\n",
       "      <td>26.0</td>\n",
       "    </tr>\n",
       "    <tr>\n",
       "      <th>...</th>\n",
       "      <td>...</td>\n",
       "      <td>...</td>\n",
       "      <td>...</td>\n",
       "      <td>...</td>\n",
       "      <td>...</td>\n",
       "      <td>...</td>\n",
       "      <td>...</td>\n",
       "    </tr>\n",
       "    <tr>\n",
       "      <th>5061929</th>\n",
       "      <td>98198518</td>\n",
       "      <td>2021-08-17</td>\n",
       "      <td>ОТПР</td>\n",
       "      <td>96342</td>\n",
       "      <td>23060</td>\n",
       "      <td>00300</td>\n",
       "      <td>20.0</td>\n",
       "    </tr>\n",
       "    <tr>\n",
       "      <th>5061930</th>\n",
       "      <td>54961453</td>\n",
       "      <td>2021-08-17</td>\n",
       "      <td>ОТПР</td>\n",
       "      <td>96342</td>\n",
       "      <td>23060</td>\n",
       "      <td>00300</td>\n",
       "      <td>21.0</td>\n",
       "    </tr>\n",
       "    <tr>\n",
       "      <th>5061931</th>\n",
       "      <td>92630698</td>\n",
       "      <td>2021-08-17</td>\n",
       "      <td>ОТПР</td>\n",
       "      <td>96342</td>\n",
       "      <td>23060</td>\n",
       "      <td>00300</td>\n",
       "      <td>21.0</td>\n",
       "    </tr>\n",
       "    <tr>\n",
       "      <th>5061932</th>\n",
       "      <td>92870690</td>\n",
       "      <td>2021-08-17</td>\n",
       "      <td>ОТПР</td>\n",
       "      <td>96342</td>\n",
       "      <td>23060</td>\n",
       "      <td>00300</td>\n",
       "      <td>21.0</td>\n",
       "    </tr>\n",
       "    <tr>\n",
       "      <th>5061933</th>\n",
       "      <td>98112824</td>\n",
       "      <td>2021-08-17</td>\n",
       "      <td>ОТПР</td>\n",
       "      <td>96342</td>\n",
       "      <td>23060</td>\n",
       "      <td>00300</td>\n",
       "      <td>23.0</td>\n",
       "    </tr>\n",
       "  </tbody>\n",
       "</table>\n",
       "<p>5061934 rows × 7 columns</p>\n",
       "</div>"
      ],
      "text/plain": [
       "           carNum repBeginDate operCode  operSt  operDestSt operCargo  \\\n",
       "0        92806595   2021-08-26    ПРИБ      140       13094     00300   \n",
       "1        97897698   2021-08-26    ПРИБ      140       13094     00300   \n",
       "2        98097207   2021-08-26    ПРИБ      140       13094     00300   \n",
       "3        92668896   2021-08-26    ПРИБ      140       13094     00300   \n",
       "4        94588092   2021-08-26    ПРИБ      140       13094     00300   \n",
       "...           ...          ...      ...     ...         ...       ...   \n",
       "5061929  98198518   2021-08-17    ОТПР    96342       23060     00300   \n",
       "5061930  54961453   2021-08-17    ОТПР    96342       23060     00300   \n",
       "5061931  92630698   2021-08-17    ОТПР    96342       23060     00300   \n",
       "5061932  92870690   2021-08-17    ОТПР    96342       23060     00300   \n",
       "5061933  98112824   2021-08-17    ОТПР    96342       23060     00300   \n",
       "\n",
       "         operWeight  \n",
       "0              16.0  \n",
       "1              17.0  \n",
       "2              24.0  \n",
       "3              25.0  \n",
       "4              26.0  \n",
       "...             ...  \n",
       "5061929        20.0  \n",
       "5061930        21.0  \n",
       "5061931        21.0  \n",
       "5061932        21.0  \n",
       "5061933        23.0  \n",
       "\n",
       "[5061934 rows x 7 columns]"
      ]
     },
     "execution_count": 8,
     "metadata": {},
     "output_type": "execute_result"
    }
   ],
   "source": [
    "dsl"
   ]
  },
  {
   "cell_type": "code",
   "execution_count": 17,
   "id": "c37b40ba-65ec-4a0f-9419-da1b806d49c7",
   "metadata": {},
   "outputs": [],
   "source": [
    "dsl = dsl[dsl['carNum'].isin(dsl['carNum'].value_counts().index[dsl['carNum'].value_counts() >= 5])]"
   ]
  },
  {
   "cell_type": "code",
   "execution_count": 18,
   "id": "e594eca5-84bd-45e4-a9dc-4b1aaa5fc3ca",
   "metadata": {},
   "outputs": [
    {
     "data": {
      "text/plain": [
       "92694199    1329\n",
       "94584091    1302\n",
       "98191554    1302\n",
       "92873397    1302\n",
       "92658699    1302\n",
       "            ... \n",
       "98077720       5\n",
       "29446796       5\n",
       "29434990       5\n",
       "98110018       5\n",
       "68262765       5\n",
       "Name: carNum, Length: 16066, dtype: int64"
      ]
     },
     "execution_count": 18,
     "metadata": {},
     "output_type": "execute_result"
    }
   ],
   "source": [
    "dsl['carNum'].value_counts()"
   ]
  },
  {
   "cell_type": "code",
   "execution_count": 33,
   "id": "b50d1209-4d07-4577-8440-2b2818c21daf",
   "metadata": {},
   "outputs": [
    {
     "data": {
      "image/png": "[encoded data removed]",
      "text/plain": [
       "<Figure size 720x480 with 1 Axes>"
      ]
     },
     "metadata": {},
     "output_type": "display_data"
    }
   ],
   "source": [
    "plt.subplots(dpi=120)\n",
    "sns.histplot(dsl['carNum'], bins=20, color='black')\n",
    "plt.show()"
   ]
  },
  {
   "cell_type": "code",
   "execution_count": 32,
   "id": "1938f89f-a715-49c3-b4a5-63bd8dbe2036",
   "metadata": {},
   "outputs": [
    {
     "data": {
      "image/png": "[encoded data removed]",
      "text/plain": [
       "<Figure size 720x480 with 1 Axes>"
      ]
     },
     "metadata": {},
     "output_type": "display_data"
    }
   ],
   "source": [
    "plt.subplots(dpi=120)\n",
    "sns.histplot(dsl['operWeight'], bins=20, color='black')\n",
    "plt.show()"
   ]
  },
  {
   "cell_type": "code",
   "execution_count": 18,
   "id": "66ee9a68-3eee-4385-bbb7-a453b39e18af",
   "metadata": {},
   "outputs": [
    {
     "data": {
      "text/plain": [
       "18000    20617\n",
       "85160    17820\n",
       "3000     16537\n",
       "30000    16534\n",
       "85000    15872\n",
       "         ...  \n",
       "40750        1\n",
       "75400        1\n",
       "38590        1\n",
       "8000         1\n",
       "38240        1\n",
       "Name: operSt, Length: 6143, dtype: int64"
      ]
     },
     "execution_count": 18,
     "metadata": {},
     "output_type": "execute_result"
    }
   ],
   "source": [
    "dsl['operSt'].value_counts()"
   ]
  },
  {
   "cell_type": "code",
   "execution_count": 20,
   "id": "b4fdc1d1-b390-4762-8fec-2b0ba4c387f7",
   "metadata": {},
   "outputs": [
    {
     "data": {
      "text/plain": [
       "00300    2266538\n",
       "42103     237165\n",
       "08118     224000\n",
       "09111     167518\n",
       "08103     158209\n",
       "          ...   \n",
       "75772          1\n",
       "51638          1\n",
       "91118          1\n",
       "51637          1\n",
       "75420          1\n",
       "Name: operCargo, Length: 536, dtype: int64"
      ]
     },
     "execution_count": 20,
     "metadata": {},
     "output_type": "execute_result"
    }
   ],
   "source": [
    "dsl['operCargo'].value_counts()"
   ]
  },
  {
   "cell_type": "code",
   "execution_count": 59,
   "id": "05c3d49d-f1c8-43ca-94c7-13227425223e",
   "metadata": {},
   "outputs": [
    {
     "data": {
      "image/png": "[encoded data removed]",
      "text/plain": [
       "<Figure size 720x480 with 1 Axes>"
      ]
     },
     "metadata": {},
     "output_type": "display_data"
    }
   ],
   "source": [
    "plt.subplots(dpi=120)\n",
    "sns.histplot(dsl[dsl['operCode'].isin(['ОТПР ', 'ПРИБ ', 'РМНТ '])]['operCode'], bins=20, color='black')\n",
    "plt.show()"
   ]
  },
  {
   "cell_type": "code",
   "execution_count": 60,
   "id": "48cf0ed7-159a-4fd6-a3d0-5766aa7ec678",
   "metadata": {},
   "outputs": [
    {
     "data": {
      "text/plain": [
       "ОТПР     3468602\n",
       "ПРИБ      911984\n",
       "РМНТ        1642\n",
       "Name: operCode, dtype: int64"
      ]
     },
     "execution_count": 60,
     "metadata": {},
     "output_type": "execute_result"
    }
   ],
   "source": [
    "dsl[dsl['operCode'].isin(['ОТПР ', 'ПРИБ ', 'РМНТ '])]['operCode'].value_counts()"
   ]
  },
  {
   "cell_type": "markdown",
   "id": "c893ddd2-94a1-48f9-a5f5-f15f86024983",
   "metadata": {},
   "source": [
    "## Repairs"
   ]
  },
  {
   "cell_type": "code",
   "execution_count": 34,
   "id": "b03bc928-bdf4-4bc0-967d-999423a9b83c",
   "metadata": {},
   "outputs": [],
   "source": [
    "reps = pd.read_csv('Repairs_2021_08-09.csv')"
   ]
  },
  {
   "cell_type": "code",
   "execution_count": 35,
   "id": "cd4dd054-0ed8-4254-aa21-39c708eba1a2",
   "metadata": {},
   "outputs": [
    {
     "data": {
      "text/plain": [
       "Текущий        2453\n",
       "Деповской       515\n",
       "Разбраковка     336\n",
       "Капитальный     117\n",
       "Name: repType, dtype: int64"
      ]
     },
     "execution_count": 35,
     "metadata": {},
     "output_type": "execute_result"
    }
   ],
   "source": [
    "reps['repType'].value_counts()"
   ]
  },
  {
   "cell_type": "code",
   "execution_count": 36,
   "id": "bc448b93-5e06-4eb2-93a3-19b77818a846",
   "metadata": {},
   "outputs": [
    {
     "data": {
      "text/html": [
       "<div>\n",
       "<style scoped>\n",
       "    .dataframe tbody tr th:only-of-type {\n",
       "        vertical-align: middle;\n",
       "    }\n",
       "\n",
       "    .dataframe tbody tr th {\n",
       "        vertical-align: top;\n",
       "    }\n",
       "\n",
       "    .dataframe thead th {\n",
       "        text-align: right;\n",
       "    }\n",
       "</style>\n",
       "<table border=\"1\" class=\"dataframe\">\n",
       "  <thead>\n",
       "    <tr style=\"text-align: right;\">\n",
       "      <th></th>\n",
       "      <th>carNum</th>\n",
       "      <th>repType</th>\n",
       "      <th>repBeginDate</th>\n",
       "      <th>repEndDate</th>\n",
       "      <th>repStCode</th>\n",
       "      <th>repRwCode</th>\n",
       "      <th>repStName</th>\n",
       "      <th>repShCode</th>\n",
       "      <th>faultGroup1</th>\n",
       "      <th>faultCode1</th>\n",
       "      <th>faultGroup2</th>\n",
       "      <th>faultCode2</th>\n",
       "      <th>faultGroup3</th>\n",
       "      <th>faultCode3</th>\n",
       "    </tr>\n",
       "  </thead>\n",
       "  <tbody>\n",
       "    <tr>\n",
       "      <th>1</th>\n",
       "      <td>28068658</td>\n",
       "      <td>Текущий</td>\n",
       "      <td>2021-08-01 00:30:00.000</td>\n",
       "      <td>2021-08-03 06:59:00.000</td>\n",
       "      <td>84000</td>\n",
       "      <td>83.0</td>\n",
       "      <td>Алтайская</td>\n",
       "      <td>799</td>\n",
       "      <td>1.0</td>\n",
       "      <td>107</td>\n",
       "      <td>NaN</td>\n",
       "      <td>NaN</td>\n",
       "      <td>NaN</td>\n",
       "      <td>NaN</td>\n",
       "    </tr>\n",
       "    <tr>\n",
       "      <th>4</th>\n",
       "      <td>52727617</td>\n",
       "      <td>Текущий</td>\n",
       "      <td>2021-08-02 22:11:00.000</td>\n",
       "      <td>2021-08-03 10:20:00.000</td>\n",
       "      <td>83020</td>\n",
       "      <td>83.0</td>\n",
       "      <td>Входная</td>\n",
       "      <td>4087</td>\n",
       "      <td>5.0</td>\n",
       "      <td>540</td>\n",
       "      <td>NaN</td>\n",
       "      <td>NaN</td>\n",
       "      <td>NaN</td>\n",
       "      <td>NaN</td>\n",
       "    </tr>\n",
       "    <tr>\n",
       "      <th>7</th>\n",
       "      <td>61819488</td>\n",
       "      <td>Текущий</td>\n",
       "      <td>2021-09-19 18:38:00.000</td>\n",
       "      <td>2021-09-24 17:51:00.000</td>\n",
       "      <td>29050</td>\n",
       "      <td>28.0</td>\n",
       "      <td>Архангельск-Город</td>\n",
       "      <td>390</td>\n",
       "      <td>1.0</td>\n",
       "      <td>107</td>\n",
       "      <td>NaN</td>\n",
       "      <td>NaN</td>\n",
       "      <td>NaN</td>\n",
       "      <td>NaN</td>\n",
       "    </tr>\n",
       "    <tr>\n",
       "      <th>9</th>\n",
       "      <td>61819611</td>\n",
       "      <td>Текущий</td>\n",
       "      <td>2021-08-01 20:53:00.000</td>\n",
       "      <td>2021-08-02 07:48:00.000</td>\n",
       "      <td>83020</td>\n",
       "      <td>83.0</td>\n",
       "      <td>Входная</td>\n",
       "      <td>4087</td>\n",
       "      <td>5.0</td>\n",
       "      <td>540</td>\n",
       "      <td>NaN</td>\n",
       "      <td>NaN</td>\n",
       "      <td>NaN</td>\n",
       "      <td>NaN</td>\n",
       "    </tr>\n",
       "    <tr>\n",
       "      <th>10</th>\n",
       "      <td>61819645</td>\n",
       "      <td>Текущий</td>\n",
       "      <td>2021-09-29 16:18:00.000</td>\n",
       "      <td>2021-10-06 17:08:00.000</td>\n",
       "      <td>6150</td>\n",
       "      <td>1.0</td>\n",
       "      <td>Тверь</td>\n",
       "      <td>317</td>\n",
       "      <td>1.0</td>\n",
       "      <td>107</td>\n",
       "      <td>NaN</td>\n",
       "      <td>NaN</td>\n",
       "      <td>NaN</td>\n",
       "      <td>NaN</td>\n",
       "    </tr>\n",
       "  </tbody>\n",
       "</table>\n",
       "</div>"
      ],
      "text/plain": [
       "      carNum  repType             repBeginDate               repEndDate  \\\n",
       "1   28068658  Текущий  2021-08-01 00:30:00.000  2021-08-03 06:59:00.000   \n",
       "4   52727617  Текущий  2021-08-02 22:11:00.000  2021-08-03 10:20:00.000   \n",
       "7   61819488  Текущий  2021-09-19 18:38:00.000  2021-09-24 17:51:00.000   \n",
       "9   61819611  Текущий  2021-08-01 20:53:00.000  2021-08-02 07:48:00.000   \n",
       "10  61819645  Текущий  2021-09-29 16:18:00.000  2021-10-06 17:08:00.000   \n",
       "\n",
       "    repStCode  repRwCode          repStName  repShCode  faultGroup1  \\\n",
       "1       84000       83.0          Алтайская        799          1.0   \n",
       "4       83020       83.0            Входная       4087          5.0   \n",
       "7       29050       28.0  Архангельск-Город        390          1.0   \n",
       "9       83020       83.0            Входная       4087          5.0   \n",
       "10       6150        1.0              Тверь        317          1.0   \n",
       "\n",
       "    faultCode1  faultGroup2  faultCode2  faultGroup3  faultCode3  \n",
       "1          107          NaN         NaN          NaN         NaN  \n",
       "4          540          NaN         NaN          NaN         NaN  \n",
       "7          107          NaN         NaN          NaN         NaN  \n",
       "9          540          NaN         NaN          NaN         NaN  \n",
       "10         107          NaN         NaN          NaN         NaN  "
      ]
     },
     "execution_count": 36,
     "metadata": {},
     "output_type": "execute_result"
    }
   ],
   "source": [
    "reps[reps['repType'] == 'Текущий'].head()"
   ]
  },
  {
   "cell_type": "code",
   "execution_count": 37,
   "id": "4d570f67-c395-4448-a327-db477c5f6d2f",
   "metadata": {},
   "outputs": [],
   "source": [
    "flanges = pd.read_csv('Flanges_2018-2021.csv', sep=';')"
   ]
  },
  {
   "cell_type": "code",
   "execution_count": 38,
   "id": "3081965f-0635-47e5-87e7-0be781fae3ca",
   "metadata": {},
   "outputs": [],
   "source": [
    "flanges = flanges.dropna()"
   ]
  },
  {
   "cell_type": "code",
   "execution_count": 39,
   "id": "873ad2a0-69fc-4cb8-b8fa-d22bcdc7f532",
   "metadata": {},
   "outputs": [],
   "source": [
    "flanges = flanges.rename(columns = {'carnum': 'carNum','msr_date':'repBeginDate'})"
   ]
  },
  {
   "cell_type": "code",
   "execution_count": 40,
   "id": "f39c0b5b-be6d-4032-80b4-eec7522293f1",
   "metadata": {},
   "outputs": [
    {
     "data": {
      "text/html": [
       "<div>\n",
       "<style scoped>\n",
       "    .dataframe tbody tr th:only-of-type {\n",
       "        vertical-align: middle;\n",
       "    }\n",
       "\n",
       "    .dataframe tbody tr th {\n",
       "        vertical-align: top;\n",
       "    }\n",
       "\n",
       "    .dataframe thead th {\n",
       "        text-align: right;\n",
       "    }\n",
       "</style>\n",
       "<table border=\"1\" class=\"dataframe\">\n",
       "  <thead>\n",
       "    <tr style=\"text-align: right;\">\n",
       "      <th></th>\n",
       "      <th>carNum</th>\n",
       "      <th>repBeginDate</th>\n",
       "      <th>axle1_rf</th>\n",
       "      <th>axle1_lf</th>\n",
       "      <th>axle2_rf</th>\n",
       "      <th>axle2_lf</th>\n",
       "      <th>axle3_rf</th>\n",
       "      <th>axle3_lf</th>\n",
       "      <th>axle4_rf</th>\n",
       "      <th>axle4_lf</th>\n",
       "    </tr>\n",
       "  </thead>\n",
       "  <tbody>\n",
       "    <tr>\n",
       "      <th>0</th>\n",
       "      <td>28065977</td>\n",
       "      <td>2018-01-29 17:38:00.000</td>\n",
       "      <td>27.8</td>\n",
       "      <td>25.6</td>\n",
       "      <td>26.9</td>\n",
       "      <td>27.1</td>\n",
       "      <td>27.3</td>\n",
       "      <td>25.7</td>\n",
       "      <td>27.1</td>\n",
       "      <td>25.8</td>\n",
       "    </tr>\n",
       "    <tr>\n",
       "      <th>1</th>\n",
       "      <td>28070084</td>\n",
       "      <td>2018-01-29 10:38:00.000</td>\n",
       "      <td>26.7</td>\n",
       "      <td>29.7</td>\n",
       "      <td>28.8</td>\n",
       "      <td>28.5</td>\n",
       "      <td>26.0</td>\n",
       "      <td>26.6</td>\n",
       "      <td>26.4</td>\n",
       "      <td>29.5</td>\n",
       "    </tr>\n",
       "    <tr>\n",
       "      <th>2</th>\n",
       "      <td>28073328</td>\n",
       "      <td>2018-01-29 17:38:00.000</td>\n",
       "      <td>28.2</td>\n",
       "      <td>27.3</td>\n",
       "      <td>27.1</td>\n",
       "      <td>29.8</td>\n",
       "      <td>23.9</td>\n",
       "      <td>27.1</td>\n",
       "      <td>29.3</td>\n",
       "      <td>26.9</td>\n",
       "    </tr>\n",
       "    <tr>\n",
       "      <th>3</th>\n",
       "      <td>29307493</td>\n",
       "      <td>2018-01-29 08:06:00.000</td>\n",
       "      <td>26.2</td>\n",
       "      <td>28.4</td>\n",
       "      <td>27.2</td>\n",
       "      <td>25.5</td>\n",
       "      <td>29.7</td>\n",
       "      <td>29.6</td>\n",
       "      <td>27.6</td>\n",
       "      <td>27.8</td>\n",
       "    </tr>\n",
       "    <tr>\n",
       "      <th>4</th>\n",
       "      <td>29376894</td>\n",
       "      <td>2018-01-29 21:12:00.000</td>\n",
       "      <td>27.2</td>\n",
       "      <td>27.4</td>\n",
       "      <td>26.4</td>\n",
       "      <td>26.0</td>\n",
       "      <td>26.1</td>\n",
       "      <td>27.8</td>\n",
       "      <td>28.8</td>\n",
       "      <td>28.4</td>\n",
       "    </tr>\n",
       "    <tr>\n",
       "      <th>...</th>\n",
       "      <td>...</td>\n",
       "      <td>...</td>\n",
       "      <td>...</td>\n",
       "      <td>...</td>\n",
       "      <td>...</td>\n",
       "      <td>...</td>\n",
       "      <td>...</td>\n",
       "      <td>...</td>\n",
       "      <td>...</td>\n",
       "      <td>...</td>\n",
       "    </tr>\n",
       "    <tr>\n",
       "      <th>1035453</th>\n",
       "      <td>61818571</td>\n",
       "      <td>2021-11-08 21:53:00.000</td>\n",
       "      <td>26.9</td>\n",
       "      <td>26.8</td>\n",
       "      <td>28.8</td>\n",
       "      <td>27.6</td>\n",
       "      <td>25.4</td>\n",
       "      <td>28.2</td>\n",
       "      <td>27.4</td>\n",
       "      <td>26.8</td>\n",
       "    </tr>\n",
       "    <tr>\n",
       "      <th>1035454</th>\n",
       "      <td>61601563</td>\n",
       "      <td>2021-11-08 21:57:00.000</td>\n",
       "      <td>27.5</td>\n",
       "      <td>27.3</td>\n",
       "      <td>25.0</td>\n",
       "      <td>28.3</td>\n",
       "      <td>28.0</td>\n",
       "      <td>27.4</td>\n",
       "      <td>25.3</td>\n",
       "      <td>28.0</td>\n",
       "    </tr>\n",
       "    <tr>\n",
       "      <th>1035455</th>\n",
       "      <td>61554986</td>\n",
       "      <td>2021-11-08 22:27:00.000</td>\n",
       "      <td>26.0</td>\n",
       "      <td>26.5</td>\n",
       "      <td>28.3</td>\n",
       "      <td>27.0</td>\n",
       "      <td>30.4</td>\n",
       "      <td>29.5</td>\n",
       "      <td>30.3</td>\n",
       "      <td>29.8</td>\n",
       "    </tr>\n",
       "    <tr>\n",
       "      <th>1035458</th>\n",
       "      <td>61434866</td>\n",
       "      <td>2021-11-08 23:27:00.000</td>\n",
       "      <td>27.2</td>\n",
       "      <td>28.1</td>\n",
       "      <td>27.2</td>\n",
       "      <td>25.5</td>\n",
       "      <td>28.0</td>\n",
       "      <td>27.7</td>\n",
       "      <td>25.6</td>\n",
       "      <td>26.8</td>\n",
       "    </tr>\n",
       "    <tr>\n",
       "      <th>1035459</th>\n",
       "      <td>61663613</td>\n",
       "      <td>2021-11-08 23:27:00.000</td>\n",
       "      <td>25.7</td>\n",
       "      <td>28.5</td>\n",
       "      <td>25.4</td>\n",
       "      <td>28.4</td>\n",
       "      <td>28.6</td>\n",
       "      <td>26.9</td>\n",
       "      <td>28.2</td>\n",
       "      <td>26.2</td>\n",
       "    </tr>\n",
       "  </tbody>\n",
       "</table>\n",
       "<p>1006898 rows × 10 columns</p>\n",
       "</div>"
      ],
      "text/plain": [
       "           carNum             repBeginDate  axle1_rf  axle1_lf  axle2_rf  \\\n",
       "0        28065977  2018-01-29 17:38:00.000      27.8      25.6      26.9   \n",
       "1        28070084  2018-01-29 10:38:00.000      26.7      29.7      28.8   \n",
       "2        28073328  2018-01-29 17:38:00.000      28.2      27.3      27.1   \n",
       "3        29307493  2018-01-29 08:06:00.000      26.2      28.4      27.2   \n",
       "4        29376894  2018-01-29 21:12:00.000      27.2      27.4      26.4   \n",
       "...           ...                      ...       ...       ...       ...   \n",
       "1035453  61818571  2021-11-08 21:53:00.000      26.9      26.8      28.8   \n",
       "1035454  61601563  2021-11-08 21:57:00.000      27.5      27.3      25.0   \n",
       "1035455  61554986  2021-11-08 22:27:00.000      26.0      26.5      28.3   \n",
       "1035458  61434866  2021-11-08 23:27:00.000      27.2      28.1      27.2   \n",
       "1035459  61663613  2021-11-08 23:27:00.000      25.7      28.5      25.4   \n",
       "\n",
       "         axle2_lf  axle3_rf  axle3_lf  axle4_rf  axle4_lf  \n",
       "0            27.1      27.3      25.7      27.1      25.8  \n",
       "1            28.5      26.0      26.6      26.4      29.5  \n",
       "2            29.8      23.9      27.1      29.3      26.9  \n",
       "3            25.5      29.7      29.6      27.6      27.8  \n",
       "4            26.0      26.1      27.8      28.8      28.4  \n",
       "...           ...       ...       ...       ...       ...  \n",
       "1035453      27.6      25.4      28.2      27.4      26.8  \n",
       "1035454      28.3      28.0      27.4      25.3      28.0  \n",
       "1035455      27.0      30.4      29.5      30.3      29.8  \n",
       "1035458      25.5      28.0      27.7      25.6      26.8  \n",
       "1035459      28.4      28.6      26.9      28.2      26.2  \n",
       "\n",
       "[1006898 rows x 10 columns]"
      ]
     },
     "execution_count": 40,
     "metadata": {},
     "output_type": "execute_result"
    }
   ],
   "source": [
    "flanges"
   ]
  },
  {
   "cell_type": "code",
   "execution_count": 41,
   "id": "1ae3f248-6284-47a0-8600-ef81a19de9dd",
   "metadata": {},
   "outputs": [],
   "source": [
    "flanges['repBeginDate'] = np.array(list(map(lambda x: pd.Timestamp(x).date(), flanges['repBeginDate'])))"
   ]
  },
  {
   "cell_type": "code",
   "execution_count": 42,
   "id": "245ca1ec-4820-48db-8ff3-d8e99bc29266",
   "metadata": {},
   "outputs": [
    {
     "data": {
      "text/html": [
       "<div>\n",
       "<style scoped>\n",
       "    .dataframe tbody tr th:only-of-type {\n",
       "        vertical-align: middle;\n",
       "    }\n",
       "\n",
       "    .dataframe tbody tr th {\n",
       "        vertical-align: top;\n",
       "    }\n",
       "\n",
       "    .dataframe thead th {\n",
       "        text-align: right;\n",
       "    }\n",
       "</style>\n",
       "<table border=\"1\" class=\"dataframe\">\n",
       "  <thead>\n",
       "    <tr style=\"text-align: right;\">\n",
       "      <th></th>\n",
       "      <th>carNum</th>\n",
       "      <th>repBeginDate</th>\n",
       "      <th>axle1_rf</th>\n",
       "      <th>axle1_lf</th>\n",
       "      <th>axle2_rf</th>\n",
       "      <th>axle2_lf</th>\n",
       "      <th>axle3_rf</th>\n",
       "      <th>axle3_lf</th>\n",
       "      <th>axle4_rf</th>\n",
       "      <th>axle4_lf</th>\n",
       "    </tr>\n",
       "  </thead>\n",
       "  <tbody>\n",
       "    <tr>\n",
       "      <th>0</th>\n",
       "      <td>28065977</td>\n",
       "      <td>2018-01-29</td>\n",
       "      <td>27.8</td>\n",
       "      <td>25.6</td>\n",
       "      <td>26.9</td>\n",
       "      <td>27.1</td>\n",
       "      <td>27.3</td>\n",
       "      <td>25.7</td>\n",
       "      <td>27.1</td>\n",
       "      <td>25.8</td>\n",
       "    </tr>\n",
       "    <tr>\n",
       "      <th>1</th>\n",
       "      <td>28070084</td>\n",
       "      <td>2018-01-29</td>\n",
       "      <td>26.7</td>\n",
       "      <td>29.7</td>\n",
       "      <td>28.8</td>\n",
       "      <td>28.5</td>\n",
       "      <td>26.0</td>\n",
       "      <td>26.6</td>\n",
       "      <td>26.4</td>\n",
       "      <td>29.5</td>\n",
       "    </tr>\n",
       "    <tr>\n",
       "      <th>2</th>\n",
       "      <td>28073328</td>\n",
       "      <td>2018-01-29</td>\n",
       "      <td>28.2</td>\n",
       "      <td>27.3</td>\n",
       "      <td>27.1</td>\n",
       "      <td>29.8</td>\n",
       "      <td>23.9</td>\n",
       "      <td>27.1</td>\n",
       "      <td>29.3</td>\n",
       "      <td>26.9</td>\n",
       "    </tr>\n",
       "    <tr>\n",
       "      <th>3</th>\n",
       "      <td>29307493</td>\n",
       "      <td>2018-01-29</td>\n",
       "      <td>26.2</td>\n",
       "      <td>28.4</td>\n",
       "      <td>27.2</td>\n",
       "      <td>25.5</td>\n",
       "      <td>29.7</td>\n",
       "      <td>29.6</td>\n",
       "      <td>27.6</td>\n",
       "      <td>27.8</td>\n",
       "    </tr>\n",
       "    <tr>\n",
       "      <th>4</th>\n",
       "      <td>29376894</td>\n",
       "      <td>2018-01-29</td>\n",
       "      <td>27.2</td>\n",
       "      <td>27.4</td>\n",
       "      <td>26.4</td>\n",
       "      <td>26.0</td>\n",
       "      <td>26.1</td>\n",
       "      <td>27.8</td>\n",
       "      <td>28.8</td>\n",
       "      <td>28.4</td>\n",
       "    </tr>\n",
       "    <tr>\n",
       "      <th>...</th>\n",
       "      <td>...</td>\n",
       "      <td>...</td>\n",
       "      <td>...</td>\n",
       "      <td>...</td>\n",
       "      <td>...</td>\n",
       "      <td>...</td>\n",
       "      <td>...</td>\n",
       "      <td>...</td>\n",
       "      <td>...</td>\n",
       "      <td>...</td>\n",
       "    </tr>\n",
       "    <tr>\n",
       "      <th>1035453</th>\n",
       "      <td>61818571</td>\n",
       "      <td>2021-11-08</td>\n",
       "      <td>26.9</td>\n",
       "      <td>26.8</td>\n",
       "      <td>28.8</td>\n",
       "      <td>27.6</td>\n",
       "      <td>25.4</td>\n",
       "      <td>28.2</td>\n",
       "      <td>27.4</td>\n",
       "      <td>26.8</td>\n",
       "    </tr>\n",
       "    <tr>\n",
       "      <th>1035454</th>\n",
       "      <td>61601563</td>\n",
       "      <td>2021-11-08</td>\n",
       "      <td>27.5</td>\n",
       "      <td>27.3</td>\n",
       "      <td>25.0</td>\n",
       "      <td>28.3</td>\n",
       "      <td>28.0</td>\n",
       "      <td>27.4</td>\n",
       "      <td>25.3</td>\n",
       "      <td>28.0</td>\n",
       "    </tr>\n",
       "    <tr>\n",
       "      <th>1035455</th>\n",
       "      <td>61554986</td>\n",
       "      <td>2021-11-08</td>\n",
       "      <td>26.0</td>\n",
       "      <td>26.5</td>\n",
       "      <td>28.3</td>\n",
       "      <td>27.0</td>\n",
       "      <td>30.4</td>\n",
       "      <td>29.5</td>\n",
       "      <td>30.3</td>\n",
       "      <td>29.8</td>\n",
       "    </tr>\n",
       "    <tr>\n",
       "      <th>1035458</th>\n",
       "      <td>61434866</td>\n",
       "      <td>2021-11-08</td>\n",
       "      <td>27.2</td>\n",
       "      <td>28.1</td>\n",
       "      <td>27.2</td>\n",
       "      <td>25.5</td>\n",
       "      <td>28.0</td>\n",
       "      <td>27.7</td>\n",
       "      <td>25.6</td>\n",
       "      <td>26.8</td>\n",
       "    </tr>\n",
       "    <tr>\n",
       "      <th>1035459</th>\n",
       "      <td>61663613</td>\n",
       "      <td>2021-11-08</td>\n",
       "      <td>25.7</td>\n",
       "      <td>28.5</td>\n",
       "      <td>25.4</td>\n",
       "      <td>28.4</td>\n",
       "      <td>28.6</td>\n",
       "      <td>26.9</td>\n",
       "      <td>28.2</td>\n",
       "      <td>26.2</td>\n",
       "    </tr>\n",
       "  </tbody>\n",
       "</table>\n",
       "<p>1006898 rows × 10 columns</p>\n",
       "</div>"
      ],
      "text/plain": [
       "           carNum repBeginDate  axle1_rf  axle1_lf  axle2_rf  axle2_lf  \\\n",
       "0        28065977   2018-01-29      27.8      25.6      26.9      27.1   \n",
       "1        28070084   2018-01-29      26.7      29.7      28.8      28.5   \n",
       "2        28073328   2018-01-29      28.2      27.3      27.1      29.8   \n",
       "3        29307493   2018-01-29      26.2      28.4      27.2      25.5   \n",
       "4        29376894   2018-01-29      27.2      27.4      26.4      26.0   \n",
       "...           ...          ...       ...       ...       ...       ...   \n",
       "1035453  61818571   2021-11-08      26.9      26.8      28.8      27.6   \n",
       "1035454  61601563   2021-11-08      27.5      27.3      25.0      28.3   \n",
       "1035455  61554986   2021-11-08      26.0      26.5      28.3      27.0   \n",
       "1035458  61434866   2021-11-08      27.2      28.1      27.2      25.5   \n",
       "1035459  61663613   2021-11-08      25.7      28.5      25.4      28.4   \n",
       "\n",
       "         axle3_rf  axle3_lf  axle4_rf  axle4_lf  \n",
       "0            27.3      25.7      27.1      25.8  \n",
       "1            26.0      26.6      26.4      29.5  \n",
       "2            23.9      27.1      29.3      26.9  \n",
       "3            29.7      29.6      27.6      27.8  \n",
       "4            26.1      27.8      28.8      28.4  \n",
       "...           ...       ...       ...       ...  \n",
       "1035453      25.4      28.2      27.4      26.8  \n",
       "1035454      28.0      27.4      25.3      28.0  \n",
       "1035455      30.4      29.5      30.3      29.8  \n",
       "1035458      28.0      27.7      25.6      26.8  \n",
       "1035459      28.6      26.9      28.2      26.2  \n",
       "\n",
       "[1006898 rows x 10 columns]"
      ]
     },
     "execution_count": 42,
     "metadata": {},
     "output_type": "execute_result"
    }
   ],
   "source": [
    "flanges"
   ]
  },
  {
   "cell_type": "code",
   "execution_count": 43,
   "id": "6086033a-0882-48a3-bfd7-3e94c9aa02e3",
   "metadata": {},
   "outputs": [],
   "source": [
    "parts = pd.read_csv('Parts_2018-2021.csv')"
   ]
  },
  {
   "cell_type": "code",
   "execution_count": 44,
   "id": "2fd30459-b2a7-4dc2-adcd-4d4eb2fb3af8",
   "metadata": {},
   "outputs": [
    {
     "data": {
      "text/html": [
       "<div>\n",
       "<style scoped>\n",
       "    .dataframe tbody tr th:only-of-type {\n",
       "        vertical-align: middle;\n",
       "    }\n",
       "\n",
       "    .dataframe tbody tr th {\n",
       "        vertical-align: top;\n",
       "    }\n",
       "\n",
       "    .dataframe thead th {\n",
       "        text-align: right;\n",
       "    }\n",
       "</style>\n",
       "<table border=\"1\" class=\"dataframe\">\n",
       "  <thead>\n",
       "    <tr style=\"text-align: right;\">\n",
       "      <th></th>\n",
       "      <th>carNum</th>\n",
       "      <th>repDate</th>\n",
       "      <th>repShop</th>\n",
       "      <th>partType</th>\n",
       "      <th>partMountShop</th>\n",
       "      <th>partMountDt</th>\n",
       "      <th>partManufactureShop</th>\n",
       "      <th>partManufactureYear</th>\n",
       "      <th>partRimDepth</th>\n",
       "      <th>partFlangeDepth</th>\n",
       "    </tr>\n",
       "  </thead>\n",
       "  <tbody>\n",
       "    <tr>\n",
       "      <th>0</th>\n",
       "      <td>24557720</td>\n",
       "      <td>2018-04-17</td>\n",
       "      <td>4100</td>\n",
       "      <td>БАЛКА</td>\n",
       "      <td>4100</td>\n",
       "      <td>2018-04-17</td>\n",
       "      <td>14.0</td>\n",
       "      <td>1994.0</td>\n",
       "      <td>0.0</td>\n",
       "      <td>0.0</td>\n",
       "    </tr>\n",
       "    <tr>\n",
       "      <th>1</th>\n",
       "      <td>24557720</td>\n",
       "      <td>2018-04-17</td>\n",
       "      <td>4100</td>\n",
       "      <td>БАЛКА</td>\n",
       "      <td>4100</td>\n",
       "      <td>2018-04-17</td>\n",
       "      <td>14.0</td>\n",
       "      <td>1993.0</td>\n",
       "      <td>0.0</td>\n",
       "      <td>0.0</td>\n",
       "    </tr>\n",
       "    <tr>\n",
       "      <th>2</th>\n",
       "      <td>24557720</td>\n",
       "      <td>2018-04-17</td>\n",
       "      <td>4100</td>\n",
       "      <td>ОСЬ</td>\n",
       "      <td>4100</td>\n",
       "      <td>2018-04-17</td>\n",
       "      <td>5.0</td>\n",
       "      <td>1986.0</td>\n",
       "      <td>43.0</td>\n",
       "      <td>30.0</td>\n",
       "    </tr>\n",
       "    <tr>\n",
       "      <th>3</th>\n",
       "      <td>24557720</td>\n",
       "      <td>2018-04-17</td>\n",
       "      <td>4100</td>\n",
       "      <td>ОСЬ</td>\n",
       "      <td>4100</td>\n",
       "      <td>2018-04-17</td>\n",
       "      <td>5.0</td>\n",
       "      <td>2008.0</td>\n",
       "      <td>32.0</td>\n",
       "      <td>30.0</td>\n",
       "    </tr>\n",
       "    <tr>\n",
       "      <th>4</th>\n",
       "      <td>24557720</td>\n",
       "      <td>2018-04-17</td>\n",
       "      <td>4100</td>\n",
       "      <td>ОСЬ</td>\n",
       "      <td>4100</td>\n",
       "      <td>2018-04-17</td>\n",
       "      <td>5.0</td>\n",
       "      <td>2007.0</td>\n",
       "      <td>35.0</td>\n",
       "      <td>30.0</td>\n",
       "    </tr>\n",
       "  </tbody>\n",
       "</table>\n",
       "</div>"
      ],
      "text/plain": [
       "     carNum     repDate  repShop partType  partMountShop partMountDt  \\\n",
       "0  24557720  2018-04-17     4100  БАЛКА             4100  2018-04-17   \n",
       "1  24557720  2018-04-17     4100  БАЛКА             4100  2018-04-17   \n",
       "2  24557720  2018-04-17     4100  ОСЬ               4100  2018-04-17   \n",
       "3  24557720  2018-04-17     4100  ОСЬ               4100  2018-04-17   \n",
       "4  24557720  2018-04-17     4100  ОСЬ               4100  2018-04-17   \n",
       "\n",
       "   partManufactureShop  partManufactureYear  partRimDepth  partFlangeDepth  \n",
       "0                 14.0               1994.0           0.0              0.0  \n",
       "1                 14.0               1993.0           0.0              0.0  \n",
       "2                  5.0               1986.0          43.0             30.0  \n",
       "3                  5.0               2008.0          32.0             30.0  \n",
       "4                  5.0               2007.0          35.0             30.0  "
      ]
     },
     "execution_count": 44,
     "metadata": {},
     "output_type": "execute_result"
    }
   ],
   "source": [
    "parts.head()"
   ]
  },
  {
   "cell_type": "code",
   "execution_count": 48,
   "id": "61d58b8e-17af-4a62-a216-d076507c7145",
   "metadata": {},
   "outputs": [
    {
     "data": {
      "image/png": "[encoded data removed]",
      "text/plain": [
       "<Figure size 600x400 with 1 Axes>"
      ]
     },
     "metadata": {},
     "output_type": "display_data"
    }
   ],
   "source": [
    "plt.subplots(dpi=100)\n",
    "sns.histplot(parts['partType'], bins=20, color='black')\n",
    "plt.show()"
   ]
  },
  {
   "cell_type": "code",
   "execution_count": 61,
   "id": "203dfe79-14ed-46d9-b33d-a967d95756ba",
   "metadata": {},
   "outputs": [
    {
     "data": {
      "text/plain": [
       "ОСЬ        397746\n",
       "РАМАБОК    397746\n",
       "БАЛКА      198873\n",
       "Name: partType, dtype: int64"
      ]
     },
     "execution_count": 61,
     "metadata": {},
     "output_type": "execute_result"
    }
   ],
   "source": [
    "parts['partType'].value_counts()"
   ]
  },
  {
   "cell_type": "code",
   "execution_count": 62,
   "id": "f35691d9-bed2-48bd-a126-7f6304c71510",
   "metadata": {},
   "outputs": [],
   "source": [
    "dslFlanges = pd.merge(dsl, flanges, how='inner', on=['carNum', 'repBeginDate'])"
   ]
  },
  {
   "cell_type": "code",
   "execution_count": 63,
   "id": "c30c36aa-fcc9-4fe5-a893-3f4ad214480c",
   "metadata": {},
   "outputs": [
    {
     "data": {
      "text/html": [
       "<div>\n",
       "<style scoped>\n",
       "    .dataframe tbody tr th:only-of-type {\n",
       "        vertical-align: middle;\n",
       "    }\n",
       "\n",
       "    .dataframe tbody tr th {\n",
       "        vertical-align: top;\n",
       "    }\n",
       "\n",
       "    .dataframe thead th {\n",
       "        text-align: right;\n",
       "    }\n",
       "</style>\n",
       "<table border=\"1\" class=\"dataframe\">\n",
       "  <thead>\n",
       "    <tr style=\"text-align: right;\">\n",
       "      <th></th>\n",
       "      <th>carNum</th>\n",
       "      <th>repBeginDate</th>\n",
       "      <th>operCode</th>\n",
       "      <th>operSt</th>\n",
       "      <th>operDestSt</th>\n",
       "      <th>operCargo</th>\n",
       "      <th>operWeight</th>\n",
       "      <th>axle1_rf</th>\n",
       "      <th>axle1_lf</th>\n",
       "      <th>axle2_rf</th>\n",
       "      <th>axle2_lf</th>\n",
       "      <th>axle3_rf</th>\n",
       "      <th>axle3_lf</th>\n",
       "      <th>axle4_rf</th>\n",
       "      <th>axle4_lf</th>\n",
       "    </tr>\n",
       "  </thead>\n",
       "  <tbody>\n",
       "    <tr>\n",
       "      <th>30</th>\n",
       "      <td>61523155</td>\n",
       "      <td>2021-08-17</td>\n",
       "      <td>РМНТ</td>\n",
       "      <td>17000</td>\n",
       "      <td>29040</td>\n",
       "      <td>25313</td>\n",
       "      <td>69.0</td>\n",
       "      <td>28.7</td>\n",
       "      <td>29.7</td>\n",
       "      <td>31.1</td>\n",
       "      <td>29.8</td>\n",
       "      <td>28.9</td>\n",
       "      <td>30.1</td>\n",
       "      <td>30.4</td>\n",
       "      <td>28.0</td>\n",
       "    </tr>\n",
       "    <tr>\n",
       "      <th>3675</th>\n",
       "      <td>61555017</td>\n",
       "      <td>2021-08-19</td>\n",
       "      <td>РМНТ</td>\n",
       "      <td>17000</td>\n",
       "      <td>18340</td>\n",
       "      <td>23245</td>\n",
       "      <td>68.0</td>\n",
       "      <td>30.7</td>\n",
       "      <td>30.8</td>\n",
       "      <td>29.6</td>\n",
       "      <td>29.4</td>\n",
       "      <td>29.8</td>\n",
       "      <td>29.8</td>\n",
       "      <td>30.7</td>\n",
       "      <td>29.9</td>\n",
       "    </tr>\n",
       "    <tr>\n",
       "      <th>4800</th>\n",
       "      <td>29330891</td>\n",
       "      <td>2021-08-13</td>\n",
       "      <td>РМНТ</td>\n",
       "      <td>28000</td>\n",
       "      <td>28410</td>\n",
       "      <td>30324</td>\n",
       "      <td>0.0</td>\n",
       "      <td>25.9</td>\n",
       "      <td>27.5</td>\n",
       "      <td>24.3</td>\n",
       "      <td>27.0</td>\n",
       "      <td>24.1</td>\n",
       "      <td>24.9</td>\n",
       "      <td>25.6</td>\n",
       "      <td>30.2</td>\n",
       "    </tr>\n",
       "    <tr>\n",
       "      <th>4801</th>\n",
       "      <td>29330891</td>\n",
       "      <td>2021-08-13</td>\n",
       "      <td>РМНТ</td>\n",
       "      <td>28000</td>\n",
       "      <td>28410</td>\n",
       "      <td>30324</td>\n",
       "      <td>0.0</td>\n",
       "      <td>25.9</td>\n",
       "      <td>27.5</td>\n",
       "      <td>24.3</td>\n",
       "      <td>27.0</td>\n",
       "      <td>24.1</td>\n",
       "      <td>24.9</td>\n",
       "      <td>25.6</td>\n",
       "      <td>30.2</td>\n",
       "    </tr>\n",
       "    <tr>\n",
       "      <th>4802</th>\n",
       "      <td>29330891</td>\n",
       "      <td>2021-08-13</td>\n",
       "      <td>РМНТ</td>\n",
       "      <td>28000</td>\n",
       "      <td>28410</td>\n",
       "      <td>30324</td>\n",
       "      <td>0.0</td>\n",
       "      <td>25.9</td>\n",
       "      <td>27.5</td>\n",
       "      <td>24.3</td>\n",
       "      <td>27.0</td>\n",
       "      <td>24.1</td>\n",
       "      <td>24.9</td>\n",
       "      <td>25.6</td>\n",
       "      <td>30.2</td>\n",
       "    </tr>\n",
       "    <tr>\n",
       "      <th>...</th>\n",
       "      <td>...</td>\n",
       "      <td>...</td>\n",
       "      <td>...</td>\n",
       "      <td>...</td>\n",
       "      <td>...</td>\n",
       "      <td>...</td>\n",
       "      <td>...</td>\n",
       "      <td>...</td>\n",
       "      <td>...</td>\n",
       "      <td>...</td>\n",
       "      <td>...</td>\n",
       "      <td>...</td>\n",
       "      <td>...</td>\n",
       "      <td>...</td>\n",
       "      <td>...</td>\n",
       "    </tr>\n",
       "    <tr>\n",
       "      <th>780452</th>\n",
       "      <td>54235585</td>\n",
       "      <td>2021-08-28</td>\n",
       "      <td>РМНТ</td>\n",
       "      <td>94310</td>\n",
       "      <td>92390</td>\n",
       "      <td>09111</td>\n",
       "      <td>0.0</td>\n",
       "      <td>29.1</td>\n",
       "      <td>30.1</td>\n",
       "      <td>31.2</td>\n",
       "      <td>30.8</td>\n",
       "      <td>28.4</td>\n",
       "      <td>29.5</td>\n",
       "      <td>23.2</td>\n",
       "      <td>32.7</td>\n",
       "    </tr>\n",
       "    <tr>\n",
       "      <th>785059</th>\n",
       "      <td>52910676</td>\n",
       "      <td>2021-08-30</td>\n",
       "      <td>РМНТ</td>\n",
       "      <td>22000</td>\n",
       "      <td>64820</td>\n",
       "      <td>23508</td>\n",
       "      <td>0.0</td>\n",
       "      <td>27.2</td>\n",
       "      <td>27.7</td>\n",
       "      <td>29.8</td>\n",
       "      <td>30.3</td>\n",
       "      <td>27.4</td>\n",
       "      <td>27.9</td>\n",
       "      <td>28.8</td>\n",
       "      <td>27.5</td>\n",
       "    </tr>\n",
       "    <tr>\n",
       "      <th>788074</th>\n",
       "      <td>52790482</td>\n",
       "      <td>2021-08-25</td>\n",
       "      <td>РМНТ</td>\n",
       "      <td>90440</td>\n",
       "      <td>92450</td>\n",
       "      <td>16118</td>\n",
       "      <td>0.0</td>\n",
       "      <td>24.6</td>\n",
       "      <td>27.8</td>\n",
       "      <td>29.8</td>\n",
       "      <td>29.3</td>\n",
       "      <td>26.2</td>\n",
       "      <td>28.6</td>\n",
       "      <td>28.0</td>\n",
       "      <td>28.8</td>\n",
       "    </tr>\n",
       "    <tr>\n",
       "      <th>788075</th>\n",
       "      <td>52790482</td>\n",
       "      <td>2021-08-25</td>\n",
       "      <td>РМНТ</td>\n",
       "      <td>90440</td>\n",
       "      <td>92450</td>\n",
       "      <td>16118</td>\n",
       "      <td>0.0</td>\n",
       "      <td>24.6</td>\n",
       "      <td>27.8</td>\n",
       "      <td>29.8</td>\n",
       "      <td>29.3</td>\n",
       "      <td>26.2</td>\n",
       "      <td>28.6</td>\n",
       "      <td>28.0</td>\n",
       "      <td>28.8</td>\n",
       "    </tr>\n",
       "    <tr>\n",
       "      <th>788076</th>\n",
       "      <td>52790482</td>\n",
       "      <td>2021-08-25</td>\n",
       "      <td>РМНТ</td>\n",
       "      <td>90440</td>\n",
       "      <td>92450</td>\n",
       "      <td>16118</td>\n",
       "      <td>0.0</td>\n",
       "      <td>24.6</td>\n",
       "      <td>27.8</td>\n",
       "      <td>29.8</td>\n",
       "      <td>29.3</td>\n",
       "      <td>26.2</td>\n",
       "      <td>28.6</td>\n",
       "      <td>28.0</td>\n",
       "      <td>28.8</td>\n",
       "    </tr>\n",
       "  </tbody>\n",
       "</table>\n",
       "<p>192 rows × 15 columns</p>\n",
       "</div>"
      ],
      "text/plain": [
       "          carNum repBeginDate operCode  operSt  operDestSt operCargo  \\\n",
       "30      61523155   2021-08-17    РМНТ    17000       29040     25313   \n",
       "3675    61555017   2021-08-19    РМНТ    17000       18340     23245   \n",
       "4800    29330891   2021-08-13    РМНТ    28000       28410     30324   \n",
       "4801    29330891   2021-08-13    РМНТ    28000       28410     30324   \n",
       "4802    29330891   2021-08-13    РМНТ    28000       28410     30324   \n",
       "...          ...          ...      ...     ...         ...       ...   \n",
       "780452  54235585   2021-08-28    РМНТ    94310       92390     09111   \n",
       "785059  52910676   2021-08-30    РМНТ    22000       64820     23508   \n",
       "788074  52790482   2021-08-25    РМНТ    90440       92450     16118   \n",
       "788075  52790482   2021-08-25    РМНТ    90440       92450     16118   \n",
       "788076  52790482   2021-08-25    РМНТ    90440       92450     16118   \n",
       "\n",
       "        operWeight  axle1_rf  axle1_lf  axle2_rf  axle2_lf  axle3_rf  \\\n",
       "30            69.0      28.7      29.7      31.1      29.8      28.9   \n",
       "3675          68.0      30.7      30.8      29.6      29.4      29.8   \n",
       "4800           0.0      25.9      27.5      24.3      27.0      24.1   \n",
       "4801           0.0      25.9      27.5      24.3      27.0      24.1   \n",
       "4802           0.0      25.9      27.5      24.3      27.0      24.1   \n",
       "...            ...       ...       ...       ...       ...       ...   \n",
       "780452         0.0      29.1      30.1      31.2      30.8      28.4   \n",
       "785059         0.0      27.2      27.7      29.8      30.3      27.4   \n",
       "788074         0.0      24.6      27.8      29.8      29.3      26.2   \n",
       "788075         0.0      24.6      27.8      29.8      29.3      26.2   \n",
       "788076         0.0      24.6      27.8      29.8      29.3      26.2   \n",
       "\n",
       "        axle3_lf  axle4_rf  axle4_lf  \n",
       "30          30.1      30.4      28.0  \n",
       "3675        29.8      30.7      29.9  \n",
       "4800        24.9      25.6      30.2  \n",
       "4801        24.9      25.6      30.2  \n",
       "4802        24.9      25.6      30.2  \n",
       "...          ...       ...       ...  \n",
       "780452      29.5      23.2      32.7  \n",
       "785059      27.9      28.8      27.5  \n",
       "788074      28.6      28.0      28.8  \n",
       "788075      28.6      28.0      28.8  \n",
       "788076      28.6      28.0      28.8  \n",
       "\n",
       "[192 rows x 15 columns]"
      ]
     },
     "execution_count": 63,
     "metadata": {},
     "output_type": "execute_result"
    }
   ],
   "source": [
    "dslFlanges[dslFlanges['operCode'] == 'РМНТ ']"
   ]
  },
  {
   "cell_type": "code",
   "execution_count": 64,
   "id": "9d96ea0b-27c0-4d0a-896e-3997ce644647",
   "metadata": {},
   "outputs": [
    {
     "data": {
      "text/plain": [
       "(788579, 15)"
      ]
     },
     "execution_count": 64,
     "metadata": {},
     "output_type": "execute_result"
    }
   ],
   "source": [
    "dslFlanges.shape"
   ]
  },
  {
   "cell_type": "code",
   "execution_count": 65,
   "id": "8720b3f3-a682-43dc-82b4-36b037fc1688",
   "metadata": {},
   "outputs": [],
   "source": [
    "res = pd.read_csv('DislocRepParts.csv')"
   ]
  },
  {
   "cell_type": "code",
   "execution_count": 66,
   "id": "a83bf2d5-bc3e-4101-9230-538bddb8d614",
   "metadata": {},
   "outputs": [],
   "source": [
    "res['repBeginDate'] = np.array(list(map(lambda x: pd.Timestamp(x).date(), res['repBeginDate'])))"
   ]
  },
  {
   "cell_type": "code",
   "execution_count": 67,
   "id": "4c677871-6e34-42f2-b710-95b03ed67d51",
   "metadata": {},
   "outputs": [
    {
     "data": {
      "text/html": [
       "<div>\n",
       "<style scoped>\n",
       "    .dataframe tbody tr th:only-of-type {\n",
       "        vertical-align: middle;\n",
       "    }\n",
       "\n",
       "    .dataframe tbody tr th {\n",
       "        vertical-align: top;\n",
       "    }\n",
       "\n",
       "    .dataframe thead th {\n",
       "        text-align: right;\n",
       "    }\n",
       "</style>\n",
       "<table border=\"1\" class=\"dataframe\">\n",
       "  <thead>\n",
       "    <tr style=\"text-align: right;\">\n",
       "      <th></th>\n",
       "      <th>carNum</th>\n",
       "      <th>repBeginDate</th>\n",
       "      <th>operCode</th>\n",
       "      <th>repStCode</th>\n",
       "      <th>operDestSt</th>\n",
       "      <th>operCargo</th>\n",
       "      <th>operWeight</th>\n",
       "      <th>repType</th>\n",
       "      <th>partRimDepth</th>\n",
       "      <th>partFlangeDepth</th>\n",
       "      <th>partType_БАЛКА</th>\n",
       "      <th>partType_ОСЬ</th>\n",
       "      <th>partType_РАМАБОК</th>\n",
       "    </tr>\n",
       "  </thead>\n",
       "  <tbody>\n",
       "    <tr>\n",
       "      <th>0</th>\n",
       "      <td>29344793</td>\n",
       "      <td>2018-01-01</td>\n",
       "      <td>ОТПР</td>\n",
       "      <td>84080.0</td>\n",
       "      <td>64850</td>\n",
       "      <td>69322</td>\n",
       "      <td>66.0</td>\n",
       "      <td>0</td>\n",
       "      <td>0.0</td>\n",
       "      <td>0.0</td>\n",
       "      <td>0.0</td>\n",
       "      <td>0.0</td>\n",
       "      <td>0.0</td>\n",
       "    </tr>\n",
       "    <tr>\n",
       "      <th>1</th>\n",
       "      <td>52917028</td>\n",
       "      <td>2018-01-01</td>\n",
       "      <td>ОТПР</td>\n",
       "      <td>30010.0</td>\n",
       "      <td>28410</td>\n",
       "      <td>30411</td>\n",
       "      <td>0.0</td>\n",
       "      <td>0</td>\n",
       "      <td>0.0</td>\n",
       "      <td>0.0</td>\n",
       "      <td>0.0</td>\n",
       "      <td>0.0</td>\n",
       "      <td>0.0</td>\n",
       "    </tr>\n",
       "    <tr>\n",
       "      <th>2</th>\n",
       "      <td>56627227</td>\n",
       "      <td>2018-01-01</td>\n",
       "      <td>ОТПР</td>\n",
       "      <td>60840.0</td>\n",
       "      <td>40490</td>\n",
       "      <td>16118</td>\n",
       "      <td>70.0</td>\n",
       "      <td>0</td>\n",
       "      <td>0.0</td>\n",
       "      <td>0.0</td>\n",
       "      <td>0.0</td>\n",
       "      <td>0.0</td>\n",
       "      <td>0.0</td>\n",
       "    </tr>\n",
       "    <tr>\n",
       "      <th>3</th>\n",
       "      <td>29344793</td>\n",
       "      <td>2018-01-01</td>\n",
       "      <td>ОТПР</td>\n",
       "      <td>83680.0</td>\n",
       "      <td>64850</td>\n",
       "      <td>69322</td>\n",
       "      <td>66.0</td>\n",
       "      <td>0</td>\n",
       "      <td>0.0</td>\n",
       "      <td>0.0</td>\n",
       "      <td>0.0</td>\n",
       "      <td>0.0</td>\n",
       "      <td>0.0</td>\n",
       "    </tr>\n",
       "    <tr>\n",
       "      <th>4</th>\n",
       "      <td>52917028</td>\n",
       "      <td>2018-01-01</td>\n",
       "      <td>ОТПР</td>\n",
       "      <td>30110.0</td>\n",
       "      <td>28410</td>\n",
       "      <td>30411</td>\n",
       "      <td>0.0</td>\n",
       "      <td>0</td>\n",
       "      <td>0.0</td>\n",
       "      <td>0.0</td>\n",
       "      <td>0.0</td>\n",
       "      <td>0.0</td>\n",
       "      <td>0.0</td>\n",
       "    </tr>\n",
       "    <tr>\n",
       "      <th>...</th>\n",
       "      <td>...</td>\n",
       "      <td>...</td>\n",
       "      <td>...</td>\n",
       "      <td>...</td>\n",
       "      <td>...</td>\n",
       "      <td>...</td>\n",
       "      <td>...</td>\n",
       "      <td>...</td>\n",
       "      <td>...</td>\n",
       "      <td>...</td>\n",
       "      <td>...</td>\n",
       "      <td>...</td>\n",
       "      <td>...</td>\n",
       "    </tr>\n",
       "    <tr>\n",
       "      <th>2329981</th>\n",
       "      <td>53586186</td>\n",
       "      <td>2019-08-31</td>\n",
       "      <td>ОТПР</td>\n",
       "      <td>86480.0</td>\n",
       "      <td>59220</td>\n",
       "      <td>16104</td>\n",
       "      <td>68.0</td>\n",
       "      <td>0</td>\n",
       "      <td>0.0</td>\n",
       "      <td>0.0</td>\n",
       "      <td>0.0</td>\n",
       "      <td>0.0</td>\n",
       "      <td>0.0</td>\n",
       "    </tr>\n",
       "    <tr>\n",
       "      <th>2329982</th>\n",
       "      <td>54260096</td>\n",
       "      <td>2019-08-31</td>\n",
       "      <td>ПРИБ</td>\n",
       "      <td>93480.0</td>\n",
       "      <td>93730</td>\n",
       "      <td>300</td>\n",
       "      <td>59.0</td>\n",
       "      <td>0</td>\n",
       "      <td>25.9</td>\n",
       "      <td>12.0</td>\n",
       "      <td>2.0</td>\n",
       "      <td>4.0</td>\n",
       "      <td>4.0</td>\n",
       "    </tr>\n",
       "    <tr>\n",
       "      <th>2329983</th>\n",
       "      <td>28832566</td>\n",
       "      <td>2019-09-01</td>\n",
       "      <td>ОТПР</td>\n",
       "      <td>27781.0</td>\n",
       "      <td>74560</td>\n",
       "      <td>12202</td>\n",
       "      <td>67.0</td>\n",
       "      <td>0</td>\n",
       "      <td>0.0</td>\n",
       "      <td>0.0</td>\n",
       "      <td>0.0</td>\n",
       "      <td>0.0</td>\n",
       "      <td>0.0</td>\n",
       "    </tr>\n",
       "    <tr>\n",
       "      <th>2329984</th>\n",
       "      <td>28067320</td>\n",
       "      <td>2019-09-01</td>\n",
       "      <td>ОТПР</td>\n",
       "      <td>20820.0</td>\n",
       "      <td>20890</td>\n",
       "      <td>24211</td>\n",
       "      <td>0.0</td>\n",
       "      <td>0</td>\n",
       "      <td>13.7</td>\n",
       "      <td>12.0</td>\n",
       "      <td>2.0</td>\n",
       "      <td>4.0</td>\n",
       "      <td>4.0</td>\n",
       "    </tr>\n",
       "    <tr>\n",
       "      <th>2329985</th>\n",
       "      <td>29300696</td>\n",
       "      <td>2019-09-01</td>\n",
       "      <td>СВПП</td>\n",
       "      <td>3580.0</td>\n",
       "      <td>3590</td>\n",
       "      <td>10304</td>\n",
       "      <td>65.0</td>\n",
       "      <td>0</td>\n",
       "      <td>0.0</td>\n",
       "      <td>0.0</td>\n",
       "      <td>0.0</td>\n",
       "      <td>0.0</td>\n",
       "      <td>0.0</td>\n",
       "    </tr>\n",
       "  </tbody>\n",
       "</table>\n",
       "<p>2329986 rows × 13 columns</p>\n",
       "</div>"
      ],
      "text/plain": [
       "           carNum repBeginDate operCode  repStCode  operDestSt  operCargo  \\\n",
       "0        29344793   2018-01-01    ОТПР     84080.0       64850      69322   \n",
       "1        52917028   2018-01-01    ОТПР     30010.0       28410      30411   \n",
       "2        56627227   2018-01-01    ОТПР     60840.0       40490      16118   \n",
       "3        29344793   2018-01-01    ОТПР     83680.0       64850      69322   \n",
       "4        52917028   2018-01-01    ОТПР     30110.0       28410      30411   \n",
       "...           ...          ...      ...        ...         ...        ...   \n",
       "2329981  53586186   2019-08-31    ОТПР     86480.0       59220      16104   \n",
       "2329982  54260096   2019-08-31    ПРИБ     93480.0       93730        300   \n",
       "2329983  28832566   2019-09-01    ОТПР     27781.0       74560      12202   \n",
       "2329984  28067320   2019-09-01    ОТПР     20820.0       20890      24211   \n",
       "2329985  29300696   2019-09-01    СВПП      3580.0        3590      10304   \n",
       "\n",
       "         operWeight  repType  partRimDepth  partFlangeDepth  partType_БАЛКА  \\\n",
       "0              66.0        0           0.0              0.0             0.0   \n",
       "1               0.0        0           0.0              0.0             0.0   \n",
       "2              70.0        0           0.0              0.0             0.0   \n",
       "3              66.0        0           0.0              0.0             0.0   \n",
       "4               0.0        0           0.0              0.0             0.0   \n",
       "...             ...      ...           ...              ...             ...   \n",
       "2329981        68.0        0           0.0              0.0             0.0   \n",
       "2329982        59.0        0          25.9             12.0             2.0   \n",
       "2329983        67.0        0           0.0              0.0             0.0   \n",
       "2329984         0.0        0          13.7             12.0             2.0   \n",
       "2329985        65.0        0           0.0              0.0             0.0   \n",
       "\n",
       "         partType_ОСЬ  partType_РАМАБОК  \n",
       "0                 0.0               0.0  \n",
       "1                 0.0               0.0  \n",
       "2                 0.0               0.0  \n",
       "3                 0.0               0.0  \n",
       "4                 0.0               0.0  \n",
       "...               ...               ...  \n",
       "2329981           0.0               0.0  \n",
       "2329982           4.0               4.0  \n",
       "2329983           0.0               0.0  \n",
       "2329984           4.0               4.0  \n",
       "2329985           0.0               0.0  \n",
       "\n",
       "[2329986 rows x 13 columns]"
      ]
     },
     "execution_count": 67,
     "metadata": {},
     "output_type": "execute_result"
    }
   ],
   "source": [
    "res"
   ]
  },
  {
   "cell_type": "code",
   "execution_count": 68,
   "id": "5d79996b-8b72-482d-a6cb-bfe18ba1b294",
   "metadata": {},
   "outputs": [],
   "source": [
    "data = pd.merge(res, flanges, how='left', on=['carNum', 'repBeginDate']).drop_duplicates()"
   ]
  },
  {
   "cell_type": "code",
   "execution_count": 69,
   "id": "2cabf76f-4dd5-4c6e-9beb-9f98a22b9f9f",
   "metadata": {},
   "outputs": [
    {
     "data": {
      "text/html": [
       "<div>\n",
       "<style scoped>\n",
       "    .dataframe tbody tr th:only-of-type {\n",
       "        vertical-align: middle;\n",
       "    }\n",
       "\n",
       "    .dataframe tbody tr th {\n",
       "        vertical-align: top;\n",
       "    }\n",
       "\n",
       "    .dataframe thead th {\n",
       "        text-align: right;\n",
       "    }\n",
       "</style>\n",
       "<table border=\"1\" class=\"dataframe\">\n",
       "  <thead>\n",
       "    <tr style=\"text-align: right;\">\n",
       "      <th></th>\n",
       "      <th>carNum</th>\n",
       "      <th>repBeginDate</th>\n",
       "      <th>operCode</th>\n",
       "      <th>repStCode</th>\n",
       "      <th>operDestSt</th>\n",
       "      <th>operCargo</th>\n",
       "      <th>operWeight</th>\n",
       "      <th>repType</th>\n",
       "      <th>partRimDepth</th>\n",
       "      <th>partFlangeDepth</th>\n",
       "      <th>...</th>\n",
       "      <th>partType_ОСЬ</th>\n",
       "      <th>partType_РАМАБОК</th>\n",
       "      <th>axle1_rf</th>\n",
       "      <th>axle1_lf</th>\n",
       "      <th>axle2_rf</th>\n",
       "      <th>axle2_lf</th>\n",
       "      <th>axle3_rf</th>\n",
       "      <th>axle3_lf</th>\n",
       "      <th>axle4_rf</th>\n",
       "      <th>axle4_lf</th>\n",
       "    </tr>\n",
       "  </thead>\n",
       "  <tbody>\n",
       "    <tr>\n",
       "      <th>0</th>\n",
       "      <td>29344793</td>\n",
       "      <td>2018-01-01</td>\n",
       "      <td>ОТПР</td>\n",
       "      <td>84080.0</td>\n",
       "      <td>64850</td>\n",
       "      <td>69322</td>\n",
       "      <td>66.0</td>\n",
       "      <td>0</td>\n",
       "      <td>0.0</td>\n",
       "      <td>0.0</td>\n",
       "      <td>...</td>\n",
       "      <td>0.0</td>\n",
       "      <td>0.0</td>\n",
       "      <td>NaN</td>\n",
       "      <td>NaN</td>\n",
       "      <td>NaN</td>\n",
       "      <td>NaN</td>\n",
       "      <td>NaN</td>\n",
       "      <td>NaN</td>\n",
       "      <td>NaN</td>\n",
       "      <td>NaN</td>\n",
       "    </tr>\n",
       "    <tr>\n",
       "      <th>1</th>\n",
       "      <td>52917028</td>\n",
       "      <td>2018-01-01</td>\n",
       "      <td>ОТПР</td>\n",
       "      <td>30010.0</td>\n",
       "      <td>28410</td>\n",
       "      <td>30411</td>\n",
       "      <td>0.0</td>\n",
       "      <td>0</td>\n",
       "      <td>0.0</td>\n",
       "      <td>0.0</td>\n",
       "      <td>...</td>\n",
       "      <td>0.0</td>\n",
       "      <td>0.0</td>\n",
       "      <td>NaN</td>\n",
       "      <td>NaN</td>\n",
       "      <td>NaN</td>\n",
       "      <td>NaN</td>\n",
       "      <td>NaN</td>\n",
       "      <td>NaN</td>\n",
       "      <td>NaN</td>\n",
       "      <td>NaN</td>\n",
       "    </tr>\n",
       "    <tr>\n",
       "      <th>2</th>\n",
       "      <td>56627227</td>\n",
       "      <td>2018-01-01</td>\n",
       "      <td>ОТПР</td>\n",
       "      <td>60840.0</td>\n",
       "      <td>40490</td>\n",
       "      <td>16118</td>\n",
       "      <td>70.0</td>\n",
       "      <td>0</td>\n",
       "      <td>0.0</td>\n",
       "      <td>0.0</td>\n",
       "      <td>...</td>\n",
       "      <td>0.0</td>\n",
       "      <td>0.0</td>\n",
       "      <td>NaN</td>\n",
       "      <td>NaN</td>\n",
       "      <td>NaN</td>\n",
       "      <td>NaN</td>\n",
       "      <td>NaN</td>\n",
       "      <td>NaN</td>\n",
       "      <td>NaN</td>\n",
       "      <td>NaN</td>\n",
       "    </tr>\n",
       "    <tr>\n",
       "      <th>3</th>\n",
       "      <td>29344793</td>\n",
       "      <td>2018-01-01</td>\n",
       "      <td>ОТПР</td>\n",
       "      <td>83680.0</td>\n",
       "      <td>64850</td>\n",
       "      <td>69322</td>\n",
       "      <td>66.0</td>\n",
       "      <td>0</td>\n",
       "      <td>0.0</td>\n",
       "      <td>0.0</td>\n",
       "      <td>...</td>\n",
       "      <td>0.0</td>\n",
       "      <td>0.0</td>\n",
       "      <td>NaN</td>\n",
       "      <td>NaN</td>\n",
       "      <td>NaN</td>\n",
       "      <td>NaN</td>\n",
       "      <td>NaN</td>\n",
       "      <td>NaN</td>\n",
       "      <td>NaN</td>\n",
       "      <td>NaN</td>\n",
       "    </tr>\n",
       "    <tr>\n",
       "      <th>4</th>\n",
       "      <td>52917028</td>\n",
       "      <td>2018-01-01</td>\n",
       "      <td>ОТПР</td>\n",
       "      <td>30110.0</td>\n",
       "      <td>28410</td>\n",
       "      <td>30411</td>\n",
       "      <td>0.0</td>\n",
       "      <td>0</td>\n",
       "      <td>0.0</td>\n",
       "      <td>0.0</td>\n",
       "      <td>...</td>\n",
       "      <td>0.0</td>\n",
       "      <td>0.0</td>\n",
       "      <td>NaN</td>\n",
       "      <td>NaN</td>\n",
       "      <td>NaN</td>\n",
       "      <td>NaN</td>\n",
       "      <td>NaN</td>\n",
       "      <td>NaN</td>\n",
       "      <td>NaN</td>\n",
       "      <td>NaN</td>\n",
       "    </tr>\n",
       "  </tbody>\n",
       "</table>\n",
       "<p>5 rows × 21 columns</p>\n",
       "</div>"
      ],
      "text/plain": [
       "     carNum repBeginDate operCode  repStCode  operDestSt  operCargo  \\\n",
       "0  29344793   2018-01-01    ОТПР     84080.0       64850      69322   \n",
       "1  52917028   2018-01-01    ОТПР     30010.0       28410      30411   \n",
       "2  56627227   2018-01-01    ОТПР     60840.0       40490      16118   \n",
       "3  29344793   2018-01-01    ОТПР     83680.0       64850      69322   \n",
       "4  52917028   2018-01-01    ОТПР     30110.0       28410      30411   \n",
       "\n",
       "   operWeight  repType  partRimDepth  partFlangeDepth  ...  partType_ОСЬ  \\\n",
       "0        66.0        0           0.0              0.0  ...           0.0   \n",
       "1         0.0        0           0.0              0.0  ...           0.0   \n",
       "2        70.0        0           0.0              0.0  ...           0.0   \n",
       "3        66.0        0           0.0              0.0  ...           0.0   \n",
       "4         0.0        0           0.0              0.0  ...           0.0   \n",
       "\n",
       "   partType_РАМАБОК  axle1_rf  axle1_lf  axle2_rf  axle2_lf  axle3_rf  \\\n",
       "0               0.0       NaN       NaN       NaN       NaN       NaN   \n",
       "1               0.0       NaN       NaN       NaN       NaN       NaN   \n",
       "2               0.0       NaN       NaN       NaN       NaN       NaN   \n",
       "3               0.0       NaN       NaN       NaN       NaN       NaN   \n",
       "4               0.0       NaN       NaN       NaN       NaN       NaN   \n",
       "\n",
       "   axle3_lf  axle4_rf  axle4_lf  \n",
       "0       NaN       NaN       NaN  \n",
       "1       NaN       NaN       NaN  \n",
       "2       NaN       NaN       NaN  \n",
       "3       NaN       NaN       NaN  \n",
       "4       NaN       NaN       NaN  \n",
       "\n",
       "[5 rows x 21 columns]"
      ]
     },
     "execution_count": 69,
     "metadata": {},
     "output_type": "execute_result"
    }
   ],
   "source": [
    "data.head()"
   ]
  },
  {
   "cell_type": "code",
   "execution_count": 70,
   "id": "50d13607-27a7-49f6-8168-6c3cbdd7b528",
   "metadata": {},
   "outputs": [
    {
     "data": {
      "text/plain": [
       "(2243852, 21)"
      ]
     },
     "execution_count": 70,
     "metadata": {},
     "output_type": "execute_result"
    }
   ],
   "source": [
    "data.shape"
   ]
  },
  {
   "cell_type": "code",
   "execution_count": 71,
   "id": "211f52f5-a7e4-46f7-aed5-12f8d7eaa5f3",
   "metadata": {},
   "outputs": [
    {
     "data": {
      "text/plain": [
       "carNum                int64\n",
       "repBeginDate         object\n",
       "operCode             object\n",
       "repStCode           float64\n",
       "operDestSt            int64\n",
       "operCargo             int64\n",
       "operWeight          float64\n",
       "repType               int64\n",
       "partRimDepth        float64\n",
       "partFlangeDepth     float64\n",
       "partType_БАЛКА      float64\n",
       "partType_ОСЬ        float64\n",
       "partType_РАМАБОК    float64\n",
       "axle1_rf            float64\n",
       "axle1_lf            float64\n",
       "axle2_rf            float64\n",
       "axle2_lf            float64\n",
       "axle3_rf            float64\n",
       "axle3_lf            float64\n",
       "axle4_rf            float64\n",
       "axle4_lf            float64\n",
       "dtype: object"
      ]
     },
     "execution_count": 71,
     "metadata": {},
     "output_type": "execute_result"
    }
   ],
   "source": [
    "data.dtypes"
   ]
  },
  {
   "cell_type": "code",
   "execution_count": 72,
   "id": "3fcc7622-6787-409c-a824-3edcb74464bd",
   "metadata": {},
   "outputs": [],
   "source": [
    "# repeatedReps = pd.concat([data[data['repType'] == 1]]*4)\n",
    "# data = pd.concat([data, repeatedReps])"
   ]
  },
  {
   "cell_type": "code",
   "execution_count": 73,
   "id": "25bbe6d0-1c71-4ba1-a06d-9389bdfc9e89",
   "metadata": {},
   "outputs": [],
   "source": [
    "ord_enc = OrdinalEncoder()\n",
    "scaler = MinMaxScaler()"
   ]
  },
  {
   "cell_type": "code",
   "execution_count": 74,
   "id": "b66b230c-5a46-4bbc-889e-3ed98fa98296",
   "metadata": {},
   "outputs": [],
   "source": [
    "columns = ['operCargo', 'repStCode', 'operDestSt', 'carNum']"
   ]
  },
  {
   "cell_type": "code",
   "execution_count": 75,
   "id": "d79be51f-1365-49aa-bc23-110b77442a82",
   "metadata": {},
   "outputs": [],
   "source": [
    "data[columns] = data[columns].astype(str)"
   ]
  },
  {
   "cell_type": "code",
   "execution_count": 76,
   "id": "c7e9d0bf-defe-4248-81db-c29572529612",
   "metadata": {},
   "outputs": [],
   "source": [
    "X = data[['operCargo', 'repStCode', 'operWeight', 'operDestSt', 'carNum', 'partRimDepth',\\\n",
    "               'partFlangeDepth', 'partType_БАЛКА', 'partType_ОСЬ', 'partType_РАМАБОК', \n",
    "                'axle1_rf', 'axle1_lf', 'axle2_rf', 'axle2_lf', 'axle3_rf',\\\n",
    "                'axle3_lf', 'axle4_rf', 'axle4_lf']]"
   ]
  },
  {
   "cell_type": "code",
   "execution_count": 77,
   "id": "c89f3874-71a2-4c6d-94ed-a485fb21ecda",
   "metadata": {},
   "outputs": [],
   "source": [
    "# for i in columns:\n",
    "#     ord_enc = OrdinalEncoder()\n",
    "#     X = X.join(pd.DataFrame(ord_enc.fit_transform(X[[i]]), columns=[i+'1']))"
   ]
  },
  {
   "cell_type": "code",
   "execution_count": 78,
   "id": "8de82cb5-b82f-495e-988f-da348fc3d8dc",
   "metadata": {},
   "outputs": [],
   "source": [
    "y = data['repType']"
   ]
  },
  {
   "cell_type": "code",
   "execution_count": 79,
   "id": "c1b3fd68-6d04-4d0b-868c-07d704f560bf",
   "metadata": {},
   "outputs": [
    {
     "name": "stderr",
     "output_type": "stream",
     "text": [
      "/opt/anaconda3/lib/python3.8/site-packages/pandas/core/frame.py:3191: SettingWithCopyWarning: \n",
      "A value is trying to be set on a copy of a slice from a DataFrame.\n",
      "Try using .loc[row_indexer,col_indexer] = value instead\n",
      "\n",
      "See the caveats in the documentation: https://pandas.pydata.org/pandas-docs/stable/user_guide/indexing.html#returning-a-view-versus-a-copy\n",
      "  self[k1] = value[k2]\n",
      "/opt/anaconda3/lib/python3.8/site-packages/pandas/core/frame.py:3191: SettingWithCopyWarning: \n",
      "A value is trying to be set on a copy of a slice from a DataFrame.\n",
      "Try using .loc[row_indexer,col_indexer] = value instead\n",
      "\n",
      "See the caveats in the documentation: https://pandas.pydata.org/pandas-docs/stable/user_guide/indexing.html#returning-a-view-versus-a-copy\n",
      "  self[k1] = value[k2]\n",
      "/opt/anaconda3/lib/python3.8/site-packages/pandas/core/frame.py:3191: SettingWithCopyWarning: \n",
      "A value is trying to be set on a copy of a slice from a DataFrame.\n",
      "Try using .loc[row_indexer,col_indexer] = value instead\n",
      "\n",
      "See the caveats in the documentation: https://pandas.pydata.org/pandas-docs/stable/user_guide/indexing.html#returning-a-view-versus-a-copy\n",
      "  self[k1] = value[k2]\n",
      "/opt/anaconda3/lib/python3.8/site-packages/pandas/core/frame.py:3191: SettingWithCopyWarning: \n",
      "A value is trying to be set on a copy of a slice from a DataFrame.\n",
      "Try using .loc[row_indexer,col_indexer] = value instead\n",
      "\n",
      "See the caveats in the documentation: https://pandas.pydata.org/pandas-docs/stable/user_guide/indexing.html#returning-a-view-versus-a-copy\n",
      "  self[k1] = value[k2]\n"
     ]
    }
   ],
   "source": [
    "for i in columns:\n",
    "    ord_enc = ce.CatBoostEncoder()\n",
    "    X[[i]] = ord_enc.fit_transform(X[[i]], y)"
   ]
  },
  {
   "cell_type": "code",
   "execution_count": 80,
   "id": "25c3ccb2-7b91-4e59-a19e-fc30d53180b3",
   "metadata": {},
   "outputs": [],
   "source": [
    "columns_train = ['operCargo1', 'repStCode1', 'operDestSt1', 'operWeight', 'carNum1', 'partRimDepth',\\\n",
    "               'partFlangeDepth', 'partType_БАЛКА', 'partType_ОСЬ', 'partType_РАМАБОК', \\\n",
    "                'axle1_rf', 'axle1_lf', 'axle2_rf', 'axle2_lf', 'axle3_rf',\\\n",
    "                'axle3_lf', 'axle4_rf', 'axle4_lf']"
   ]
  },
  {
   "cell_type": "code",
   "execution_count": 81,
   "id": "e1a4b0ca-84aa-4b01-a724-c62c0571b957",
   "metadata": {},
   "outputs": [
    {
     "name": "stderr",
     "output_type": "stream",
     "text": [
      "<ipython-input-81-427663e937a9>:1: SettingWithCopyWarning: \n",
      "A value is trying to be set on a copy of a slice from a DataFrame.\n",
      "Try using .loc[row_indexer,col_indexer] = value instead\n",
      "\n",
      "See the caveats in the documentation: https://pandas.pydata.org/pandas-docs/stable/user_guide/indexing.html#returning-a-view-versus-a-copy\n",
      "  X['operWeight'] = scaler.fit_transform(X[['operWeight']])\n"
     ]
    }
   ],
   "source": [
    "X['operWeight'] = scaler.fit_transform(X[['operWeight']])"
   ]
  },
  {
   "cell_type": "code",
   "execution_count": 82,
   "id": "d54d2489-e20c-42ac-b04c-4fc169e22a93",
   "metadata": {},
   "outputs": [],
   "source": [
    "# X = X[columns_train]\n",
    "X = X.interpolate()\n",
    "X[['axle1_rf', 'axle1_lf', 'axle2_rf', 'axle2_lf', 'axle3_rf', 'axle3_lf', 'axle4_rf', 'axle4_lf']]=\\\n",
    "    X[['axle1_rf', 'axle1_lf', 'axle2_rf', 'axle2_lf', 'axle3_rf',\\\n",
    "                'axle3_lf', 'axle4_rf', 'axle4_lf']].fillna({'axle1_rf': np.mean(X['axle1_rf']),\\\n",
    "                'axle1_lf': np.mean(X['axle1_lf']), 'axle2_rf': np.mean(X['axle2_rf']),\\\n",
    "                'axle2_lf': np.mean(X['axle2_lf']), 'axle3_rf': np.mean(X['axle3_rf']),\\\n",
    "                'axle3_lf': np.mean(X['axle3_lf']), 'axle4_rf': np.mean(X['axle4_rf']),\\\n",
    "                'axle4_lf': np.mean(X['axle4_lf'])})"
   ]
  },
  {
   "cell_type": "code",
   "execution_count": 83,
   "id": "5458d45c-cbec-43aa-9d99-2d606a3849f1",
   "metadata": {},
   "outputs": [
    {
     "data": {
      "image/png": "[encoded data removed]",
      "text/plain": [
       "<Figure size 864x864 with 2 Axes>"
      ]
     },
     "metadata": {},
     "output_type": "display_data"
    }
   ],
   "source": [
    "plt.subplots(figsize=(12, 12))\n",
    "sns.heatmap(X.corr(), annot=True, square=True)\n",
    "plt.show()"
   ]
  },
  {
   "cell_type": "code",
   "execution_count": 84,
   "id": "b9fa26d2-2a13-4cef-a7b3-3656333b63c6",
   "metadata": {},
   "outputs": [
    {
     "data": {
      "text/html": [
       "<div>\n",
       "<style scoped>\n",
       "    .dataframe tbody tr th:only-of-type {\n",
       "        vertical-align: middle;\n",
       "    }\n",
       "\n",
       "    .dataframe tbody tr th {\n",
       "        vertical-align: top;\n",
       "    }\n",
       "\n",
       "    .dataframe thead th {\n",
       "        text-align: right;\n",
       "    }\n",
       "</style>\n",
       "<table border=\"1\" class=\"dataframe\">\n",
       "  <thead>\n",
       "    <tr style=\"text-align: right;\">\n",
       "      <th></th>\n",
       "      <th>operCargo</th>\n",
       "      <th>repStCode</th>\n",
       "      <th>operWeight</th>\n",
       "      <th>operDestSt</th>\n",
       "      <th>carNum</th>\n",
       "      <th>partRimDepth</th>\n",
       "      <th>partFlangeDepth</th>\n",
       "      <th>partType_БАЛКА</th>\n",
       "      <th>partType_ОСЬ</th>\n",
       "      <th>partType_РАМАБОК</th>\n",
       "      <th>axle1_rf</th>\n",
       "      <th>axle1_lf</th>\n",
       "      <th>axle2_rf</th>\n",
       "      <th>axle2_lf</th>\n",
       "      <th>axle3_rf</th>\n",
       "      <th>axle3_lf</th>\n",
       "      <th>axle4_rf</th>\n",
       "      <th>axle4_lf</th>\n",
       "    </tr>\n",
       "  </thead>\n",
       "  <tbody>\n",
       "    <tr>\n",
       "      <th>0</th>\n",
       "      <td>0.00166</td>\n",
       "      <td>0.00166</td>\n",
       "      <td>0.868421</td>\n",
       "      <td>0.00166</td>\n",
       "      <td>0.00166</td>\n",
       "      <td>0.0</td>\n",
       "      <td>0.0</td>\n",
       "      <td>0.0</td>\n",
       "      <td>0.0</td>\n",
       "      <td>0.0</td>\n",
       "      <td>28.078406</td>\n",
       "      <td>28.159313</td>\n",
       "      <td>28.18709</td>\n",
       "      <td>28.181189</td>\n",
       "      <td>28.039307</td>\n",
       "      <td>28.128573</td>\n",
       "      <td>28.209754</td>\n",
       "      <td>28.177149</td>\n",
       "    </tr>\n",
       "    <tr>\n",
       "      <th>1</th>\n",
       "      <td>0.00166</td>\n",
       "      <td>0.00166</td>\n",
       "      <td>0.000000</td>\n",
       "      <td>0.00166</td>\n",
       "      <td>0.00166</td>\n",
       "      <td>0.0</td>\n",
       "      <td>0.0</td>\n",
       "      <td>0.0</td>\n",
       "      <td>0.0</td>\n",
       "      <td>0.0</td>\n",
       "      <td>28.078406</td>\n",
       "      <td>28.159313</td>\n",
       "      <td>28.18709</td>\n",
       "      <td>28.181189</td>\n",
       "      <td>28.039307</td>\n",
       "      <td>28.128573</td>\n",
       "      <td>28.209754</td>\n",
       "      <td>28.177149</td>\n",
       "    </tr>\n",
       "    <tr>\n",
       "      <th>2</th>\n",
       "      <td>0.00166</td>\n",
       "      <td>0.00166</td>\n",
       "      <td>0.921053</td>\n",
       "      <td>0.00166</td>\n",
       "      <td>0.00166</td>\n",
       "      <td>0.0</td>\n",
       "      <td>0.0</td>\n",
       "      <td>0.0</td>\n",
       "      <td>0.0</td>\n",
       "      <td>0.0</td>\n",
       "      <td>28.078406</td>\n",
       "      <td>28.159313</td>\n",
       "      <td>28.18709</td>\n",
       "      <td>28.181189</td>\n",
       "      <td>28.039307</td>\n",
       "      <td>28.128573</td>\n",
       "      <td>28.209754</td>\n",
       "      <td>28.177149</td>\n",
       "    </tr>\n",
       "    <tr>\n",
       "      <th>3</th>\n",
       "      <td>0.00083</td>\n",
       "      <td>0.00166</td>\n",
       "      <td>0.868421</td>\n",
       "      <td>0.00083</td>\n",
       "      <td>0.00083</td>\n",
       "      <td>0.0</td>\n",
       "      <td>0.0</td>\n",
       "      <td>0.0</td>\n",
       "      <td>0.0</td>\n",
       "      <td>0.0</td>\n",
       "      <td>28.078406</td>\n",
       "      <td>28.159313</td>\n",
       "      <td>28.18709</td>\n",
       "      <td>28.181189</td>\n",
       "      <td>28.039307</td>\n",
       "      <td>28.128573</td>\n",
       "      <td>28.209754</td>\n",
       "      <td>28.177149</td>\n",
       "    </tr>\n",
       "    <tr>\n",
       "      <th>4</th>\n",
       "      <td>0.00083</td>\n",
       "      <td>0.00166</td>\n",
       "      <td>0.000000</td>\n",
       "      <td>0.00083</td>\n",
       "      <td>0.00083</td>\n",
       "      <td>0.0</td>\n",
       "      <td>0.0</td>\n",
       "      <td>0.0</td>\n",
       "      <td>0.0</td>\n",
       "      <td>0.0</td>\n",
       "      <td>28.078406</td>\n",
       "      <td>28.159313</td>\n",
       "      <td>28.18709</td>\n",
       "      <td>28.181189</td>\n",
       "      <td>28.039307</td>\n",
       "      <td>28.128573</td>\n",
       "      <td>28.209754</td>\n",
       "      <td>28.177149</td>\n",
       "    </tr>\n",
       "  </tbody>\n",
       "</table>\n",
       "</div>"
      ],
      "text/plain": [
       "   operCargo  repStCode  operWeight  operDestSt   carNum  partRimDepth  \\\n",
       "0    0.00166    0.00166    0.868421     0.00166  0.00166           0.0   \n",
       "1    0.00166    0.00166    0.000000     0.00166  0.00166           0.0   \n",
       "2    0.00166    0.00166    0.921053     0.00166  0.00166           0.0   \n",
       "3    0.00083    0.00166    0.868421     0.00083  0.00083           0.0   \n",
       "4    0.00083    0.00166    0.000000     0.00083  0.00083           0.0   \n",
       "\n",
       "   partFlangeDepth  partType_БАЛКА  partType_ОСЬ  partType_РАМАБОК   axle1_rf  \\\n",
       "0              0.0             0.0           0.0               0.0  28.078406   \n",
       "1              0.0             0.0           0.0               0.0  28.078406   \n",
       "2              0.0             0.0           0.0               0.0  28.078406   \n",
       "3              0.0             0.0           0.0               0.0  28.078406   \n",
       "4              0.0             0.0           0.0               0.0  28.078406   \n",
       "\n",
       "    axle1_lf  axle2_rf   axle2_lf   axle3_rf   axle3_lf   axle4_rf   axle4_lf  \n",
       "0  28.159313  28.18709  28.181189  28.039307  28.128573  28.209754  28.177149  \n",
       "1  28.159313  28.18709  28.181189  28.039307  28.128573  28.209754  28.177149  \n",
       "2  28.159313  28.18709  28.181189  28.039307  28.128573  28.209754  28.177149  \n",
       "3  28.159313  28.18709  28.181189  28.039307  28.128573  28.209754  28.177149  \n",
       "4  28.159313  28.18709  28.181189  28.039307  28.128573  28.209754  28.177149  "
      ]
     },
     "execution_count": 84,
     "metadata": {},
     "output_type": "execute_result"
    }
   ],
   "source": [
    "X.head()"
   ]
  },
  {
   "cell_type": "code",
   "execution_count": null,
   "id": "98dd49be-cfdd-4753-ad0a-9728fb8e9034",
   "metadata": {},
   "outputs": [],
   "source": []
  },
  {
   "cell_type": "code",
   "execution_count": 85,
   "id": "f1dda3f0-a9e0-4068-8a79-215889a283a7",
   "metadata": {},
   "outputs": [],
   "source": [
    "inds = X.index"
   ]
  },
  {
   "cell_type": "code",
   "execution_count": 86,
   "id": "7db7dffc-0149-4e9c-9e30-d3208885a259",
   "metadata": {},
   "outputs": [],
   "source": [
    "Y = data['repType']"
   ]
  },
  {
   "cell_type": "code",
   "execution_count": 87,
   "id": "85492dad-006e-4e44-9f46-ee7cae54fc55",
   "metadata": {},
   "outputs": [],
   "source": [
    "X_train, X_test, Y_train, Y_test = train_test_split(X, Y, test_size=0.33, shuffle=False, random_state=5)"
   ]
  },
  {
   "cell_type": "markdown",
   "id": "3bb99f54-7d95-4841-bd41-d94de989e384",
   "metadata": {},
   "source": [
    "### Logistic Regression"
   ]
  },
  {
   "cell_type": "code",
   "execution_count": 88,
   "id": "004bc1dc-e738-474d-b689-f54c647692a6",
   "metadata": {},
   "outputs": [],
   "source": [
    "logReg = LogisticRegression(max_iter = 2000, class_weight='balanced')"
   ]
  },
  {
   "cell_type": "code",
   "execution_count": 89,
   "id": "80187fbf-cf4d-4222-ac94-733fcaea6d01",
   "metadata": {},
   "outputs": [
    {
     "data": {
      "text/plain": [
       "LogisticRegression(class_weight='balanced', max_iter=2000)"
      ]
     },
     "execution_count": 89,
     "metadata": {},
     "output_type": "execute_result"
    }
   ],
   "source": [
    "logReg.fit(X_train, Y_train)"
   ]
  },
  {
   "cell_type": "code",
   "execution_count": 90,
   "id": "2c4124ee-731c-4b1e-b076-e34e5c58189b",
   "metadata": {},
   "outputs": [],
   "source": [
    "prediction = logReg.predict(X_test)"
   ]
  },
  {
   "cell_type": "code",
   "execution_count": 91,
   "id": "06723b03-5b41-488a-ad05-ab09588ac5d7",
   "metadata": {},
   "outputs": [
    {
     "name": "stdout",
     "output_type": "stream",
     "text": [
      "              precision    recall  f1-score   support\n",
      "\n",
      "           0       1.00      0.83      0.91    739262\n",
      "           1       0.01      0.85      0.02      1210\n",
      "\n",
      "    accuracy                           0.83    740472\n",
      "   macro avg       0.50      0.84      0.46    740472\n",
      "weighted avg       1.00      0.83      0.90    740472\n",
      "\n"
     ]
    }
   ],
   "source": [
    "print(classification_report(Y_test, prediction))"
   ]
  },
  {
   "cell_type": "code",
   "execution_count": 92,
   "id": "1b8df211-b910-4ee5-b0f3-3aa08465849a",
   "metadata": {},
   "outputs": [
    {
     "name": "stdout",
     "output_type": "stream",
     "text": [
      "[[611451 127811]\n",
      " [   184   1026]]\n"
     ]
    }
   ],
   "source": [
    "print(confusion_matrix(Y_test, prediction))"
   ]
  },
  {
   "cell_type": "code",
   "execution_count": 93,
   "id": "014e0c30-350c-4954-acc0-851319b86afc",
   "metadata": {},
   "outputs": [
    {
     "data": {
      "text/plain": [
       "260896"
      ]
     },
     "execution_count": 93,
     "metadata": {},
     "output_type": "execute_result"
    }
   ],
   "source": [
    "data['axle2_rf'].value_counts().sum()"
   ]
  },
  {
   "cell_type": "code",
   "execution_count": 326,
   "id": "fd91f176-5869-4afd-a96e-52cf46389d7e",
   "metadata": {},
   "outputs": [
    {
     "name": "stderr",
     "output_type": "stream",
     "text": [
      "/opt/anaconda3/lib/python3.8/site-packages/pandas/core/indexing.py:1637: SettingWithCopyWarning: \n",
      "A value is trying to be set on a copy of a slice from a DataFrame\n",
      "\n",
      "See the caveats in the documentation: https://pandas.pydata.org/pandas-docs/stable/user_guide/indexing.html#returning-a-view-versus-a-copy\n",
      "  self._setitem_single_block(indexer, value, name)\n"
     ]
    }
   ],
   "source": [
    "probs = pd.DataFrame(logReg.predict_proba(X_test), columns=['0', '1'])\n",
    "probs['prediction'] = 0\n",
    "probs['prediction'].iloc[np.where(probs['1'] > 0.45)] = 1"
   ]
  },
  {
   "cell_type": "code",
   "execution_count": 327,
   "id": "aa85f31a-42d0-40e9-bf01-2fc0e7abdd6f",
   "metadata": {},
   "outputs": [
    {
     "data": {
      "text/html": [
       "<div>\n",
       "<style scoped>\n",
       "    .dataframe tbody tr th:only-of-type {\n",
       "        vertical-align: middle;\n",
       "    }\n",
       "\n",
       "    .dataframe tbody tr th {\n",
       "        vertical-align: top;\n",
       "    }\n",
       "\n",
       "    .dataframe thead th {\n",
       "        text-align: right;\n",
       "    }\n",
       "</style>\n",
       "<table border=\"1\" class=\"dataframe\">\n",
       "  <thead>\n",
       "    <tr style=\"text-align: right;\">\n",
       "      <th></th>\n",
       "      <th>0</th>\n",
       "      <th>1</th>\n",
       "      <th>prediction</th>\n",
       "    </tr>\n",
       "  </thead>\n",
       "  <tbody>\n",
       "    <tr>\n",
       "      <th>0</th>\n",
       "      <td>0.921543</td>\n",
       "      <td>0.078457</td>\n",
       "      <td>0</td>\n",
       "    </tr>\n",
       "    <tr>\n",
       "      <th>1</th>\n",
       "      <td>0.749947</td>\n",
       "      <td>0.250053</td>\n",
       "      <td>0</td>\n",
       "    </tr>\n",
       "    <tr>\n",
       "      <th>2</th>\n",
       "      <td>0.966881</td>\n",
       "      <td>0.033119</td>\n",
       "      <td>0</td>\n",
       "    </tr>\n",
       "    <tr>\n",
       "      <th>3</th>\n",
       "      <td>0.943636</td>\n",
       "      <td>0.056364</td>\n",
       "      <td>0</td>\n",
       "    </tr>\n",
       "    <tr>\n",
       "      <th>4</th>\n",
       "      <td>0.895207</td>\n",
       "      <td>0.104793</td>\n",
       "      <td>0</td>\n",
       "    </tr>\n",
       "  </tbody>\n",
       "</table>\n",
       "</div>"
      ],
      "text/plain": [
       "          0         1  prediction\n",
       "0  0.921543  0.078457           0\n",
       "1  0.749947  0.250053           0\n",
       "2  0.966881  0.033119           0\n",
       "3  0.943636  0.056364           0\n",
       "4  0.895207  0.104793           0"
      ]
     },
     "execution_count": 327,
     "metadata": {},
     "output_type": "execute_result"
    }
   ],
   "source": [
    "probs.head()"
   ]
  },
  {
   "cell_type": "code",
   "execution_count": 328,
   "id": "167e9f0a-2541-4670-abfa-d4b5b4cfc8e3",
   "metadata": {},
   "outputs": [
    {
     "name": "stdout",
     "output_type": "stream",
     "text": [
      "[[597972 141290]\n",
      " [   143   1067]]\n"
     ]
    }
   ],
   "source": [
    "print(confusion_matrix(Y_test, probs['prediction'].values))"
   ]
  },
  {
   "cell_type": "code",
   "execution_count": 369,
   "id": "55ccab1e-3a61-4643-ad0b-3da9c5d2e884",
   "metadata": {},
   "outputs": [
    {
     "data": {
      "image/png": "[encoded data removed]",
      "text/plain": [
       "<Figure size 432x288 with 1 Axes>"
      ]
     },
     "metadata": {},
     "output_type": "display_data"
    }
   ],
   "source": [
    "# plt.subplots(dpi=50)\n",
    "sns.set(font_scale=2)\n",
    "sns.heatmap(confusion_matrix(Y_test, probs['prediction'].values), annot=True, cmap='mako', cbar=False, fmt='d')\n",
    "plt.show()"
   ]
  },
  {
   "cell_type": "code",
   "execution_count": 329,
   "id": "d15ccf9e-d045-42b9-9e0a-9116f762c31f",
   "metadata": {},
   "outputs": [],
   "source": [
    "roc_lr = roc_curve(Y_test, logReg.predict_proba(X_test)[:, 1])"
   ]
  },
  {
   "cell_type": "code",
   "execution_count": 330,
   "id": "b4a6d704-9b6a-4353-9b39-ccd4ac83d689",
   "metadata": {},
   "outputs": [
    {
     "data": {
      "text/plain": [
       "0.8396759442922523"
      ]
     },
     "execution_count": 330,
     "metadata": {},
     "output_type": "execute_result"
    }
   ],
   "source": [
    "fbeta_lr = fbeta_score(Y_test, probs['prediction'].values, average='weighted', beta=2)\n",
    "fbeta_lr"
   ]
  },
  {
   "cell_type": "markdown",
   "id": "9d80a2d0-9063-4b61-9c4d-922353ed79e5",
   "metadata": {},
   "source": [
    "### Random Forest Classifier"
   ]
  },
  {
   "cell_type": "code",
   "execution_count": 99,
   "id": "35e2ea79-be77-443d-aa91-408e5215ffc4",
   "metadata": {},
   "outputs": [
    {
     "data": {
      "text/plain": [
       "RandomForestClassifier(class_weight='balanced_subsample', max_depth=10,\n",
       "                       n_jobs=-1, oob_score=True, random_state=5)"
      ]
     },
     "execution_count": 99,
     "metadata": {},
     "output_type": "execute_result"
    }
   ],
   "source": [
    "rf_cls = RandomForestClassifier(n_estimators=100, max_depth = 10, random_state=5, bootstrap=True, oob_score=True,\\\n",
    "                                     class_weight='balanced_subsample', n_jobs=-1)\n",
    "rf_cls.fit(X_train, Y_train)"
   ]
  },
  {
   "cell_type": "code",
   "execution_count": 100,
   "id": "931245a0-ba84-4c9d-98ed-4b3fc2e78bdc",
   "metadata": {},
   "outputs": [
    {
     "name": "stdout",
     "output_type": "stream",
     "text": [
      "              precision    recall  f1-score   support\n",
      "\n",
      "           0       1.00      0.97      0.98    739262\n",
      "           1       0.04      0.85      0.08      1210\n",
      "\n",
      "    accuracy                           0.97    740472\n",
      "   macro avg       0.52      0.91      0.53    740472\n",
      "weighted avg       1.00      0.97      0.98    740472\n",
      "\n"
     ]
    }
   ],
   "source": [
    "print(classification_report(Y_test, rf_cls.predict(X_test)))"
   ]
  },
  {
   "cell_type": "code",
   "execution_count": 101,
   "id": "c913cf5d-0d6a-4acd-a7d3-8aa28c3e70ea",
   "metadata": {},
   "outputs": [
    {
     "name": "stdout",
     "output_type": "stream",
     "text": [
      "[[715379  23883]\n",
      " [   182   1028]]\n"
     ]
    }
   ],
   "source": [
    "print(confusion_matrix(Y_test, rf_cls.predict(X_test)))"
   ]
  },
  {
   "cell_type": "code",
   "execution_count": 368,
   "id": "ff49cf01-e366-4dda-b1e7-d0d8dd906395",
   "metadata": {},
   "outputs": [
    {
     "data": {
      "image/png": "[encoded data removed]",
      "text/plain": [
       "<Figure size 432x288 with 1 Axes>"
      ]
     },
     "metadata": {},
     "output_type": "display_data"
    }
   ],
   "source": [
    "sns.set(font_scale=2)\n",
    "sns.heatmap(confusion_matrix(Y_test, rf_cls.predict(X_test)), annot=True, cmap='mako', cbar=False, fmt='d')\n",
    "plt.show()"
   ]
  },
  {
   "cell_type": "code",
   "execution_count": 102,
   "id": "a87a4c79-9b9d-4892-a9ea-3b27ddaf6e45",
   "metadata": {},
   "outputs": [],
   "source": [
    "feature_imp = pd.Series(rf_cls.feature_importances_, index=X.columns).sort_values(ascending=False)"
   ]
  },
  {
   "cell_type": "code",
   "execution_count": 103,
   "id": "5e014a4c-87d7-47de-a22e-e33fdc18564b",
   "metadata": {},
   "outputs": [
    {
     "data": {
      "image/png": "[encoded data removed]",
      "text/plain": [
       "<Figure size 1200x600 with 1 Axes>"
      ]
     },
     "metadata": {},
     "output_type": "display_data"
    }
   ],
   "source": [
    "plt.figure(figsize=(10,5), dpi=120)\n",
    "sns.barplot(x=feature_imp, y=feature_imp.index)\n",
    "\n",
    "plt.xlabel('Feature Importance Score', fontsize=14)\n",
    "plt.ylabel('Features', fontsize=14)\n",
    "plt.title(\"Visualizing Important Features\", fontsize=16)\n",
    "plt.show()"
   ]
  },
  {
   "cell_type": "code",
   "execution_count": 104,
   "id": "a3e41824-eb67-41db-b6fd-2df62fbb2297",
   "metadata": {},
   "outputs": [],
   "source": [
    "roc_rf = roc_curve(Y_test, rf_cls.predict_proba(X_test)[:, 1])"
   ]
  },
  {
   "cell_type": "code",
   "execution_count": 317,
   "id": "258156a5-e7d6-47d2-b680-f34a4361f759",
   "metadata": {},
   "outputs": [
    {
     "data": {
      "text/plain": [
       "0.9726292301736386"
      ]
     },
     "execution_count": 317,
     "metadata": {},
     "output_type": "execute_result"
    }
   ],
   "source": [
    "fbeta_rf = fbeta_score(Y_test, rf_cls.predict(X_test), average='weighted', beta=2)\n",
    "fbeta_rf"
   ]
  },
  {
   "cell_type": "markdown",
   "id": "eef772fe-0e3d-457d-95cf-d70a3134de0a",
   "metadata": {},
   "source": [
    "### Gradient Boost Classifier"
   ]
  },
  {
   "cell_type": "code",
   "execution_count": 106,
   "id": "ae1d6171-9845-4de4-b5a5-7dc0994f57cc",
   "metadata": {},
   "outputs": [
    {
     "data": {
      "text/plain": [
       "GradientBoostingClassifier(max_features='sqrt', random_state=10)"
      ]
     },
     "execution_count": 106,
     "metadata": {},
     "output_type": "execute_result"
    }
   ],
   "source": [
    "gboost = GradientBoostingClassifier(n_estimators=100, random_state=10, max_depth=3, learning_rate=0.1, max_features='sqrt')\n",
    "gboost.fit(X_train, Y_train)"
   ]
  },
  {
   "cell_type": "code",
   "execution_count": 107,
   "id": "24a1ccaf-e4db-4eae-86ba-ab032d252da5",
   "metadata": {},
   "outputs": [
    {
     "name": "stdout",
     "output_type": "stream",
     "text": [
      "              precision    recall  f1-score   support\n",
      "\n",
      "           0       1.00      1.00      1.00    739262\n",
      "           1       0.53      0.38      0.44      1210\n",
      "\n",
      "    accuracy                           1.00    740472\n",
      "   macro avg       0.76      0.69      0.72    740472\n",
      "weighted avg       1.00      1.00      1.00    740472\n",
      "\n"
     ]
    }
   ],
   "source": [
    "print(classification_report(Y_test, gboost.predict(X_test)))"
   ]
  },
  {
   "cell_type": "code",
   "execution_count": 108,
   "id": "0c3f2734-c403-43b8-82f4-e1b202f35d9d",
   "metadata": {},
   "outputs": [
    {
     "name": "stdout",
     "output_type": "stream",
     "text": [
      "[[738851    411]\n",
      " [   755    455]]\n"
     ]
    }
   ],
   "source": [
    "print(confusion_matrix(Y_test, gboost.predict(X_test)))"
   ]
  },
  {
   "cell_type": "code",
   "execution_count": 109,
   "id": "aa58f6e1-c105-4042-9e48-b15835255918",
   "metadata": {},
   "outputs": [],
   "source": [
    "roc_gb = roc_curve(Y_test, gboost.predict_proba(X_test)[:, 1])"
   ]
  },
  {
   "cell_type": "code",
   "execution_count": 316,
   "id": "27e432df-9218-43d6-aa0f-55128b94edfa",
   "metadata": {},
   "outputs": [
    {
     "data": {
      "text/plain": [
       "0.9983695202835927"
      ]
     },
     "execution_count": 316,
     "metadata": {},
     "output_type": "execute_result"
    }
   ],
   "source": [
    "fbeta_gb = fbeta_score(Y_test, gboost.predict(X_test), average='weighted', beta=2)\n",
    "fbeta_gb"
   ]
  },
  {
   "cell_type": "code",
   "execution_count": 367,
   "id": "57e4d16b-b40e-463f-bdeb-e5f49ab6f5e2",
   "metadata": {},
   "outputs": [
    {
     "data": {
      "image/png": "[encoded data removed]",
      "text/plain": [
       "<Figure size 432x288 with 1 Axes>"
      ]
     },
     "metadata": {},
     "output_type": "display_data"
    }
   ],
   "source": [
    "sns.set(font_scale=2)\n",
    "sns.heatmap(confusion_matrix(Y_test, gboost.predict(X_test)), annot=True, cmap='mako', cbar=False, fmt='d')\n",
    "plt.show()"
   ]
  },
  {
   "cell_type": "markdown",
   "id": "c616d3a9-d763-4a91-ab71-7c39e7fcf7ad",
   "metadata": {},
   "source": [
    "### AdaBoost based on Random Forest"
   ]
  },
  {
   "cell_type": "code",
   "execution_count": 418,
   "id": "89d39247-b8c7-4d47-a27f-02794c262ba1",
   "metadata": {},
   "outputs": [
    {
     "data": {
      "text/plain": [
       "AdaBoostClassifier(base_estimator=RandomForestClassifier(class_weight='balanced_subsample',\n",
       "                                                         max_depth=10,\n",
       "                                                         n_jobs=-1,\n",
       "                                                         oob_score=True,\n",
       "                                                         random_state=5),\n",
       "                   n_estimators=10, random_state=5)"
      ]
     },
     "execution_count": 418,
     "metadata": {},
     "output_type": "execute_result"
    }
   ],
   "source": [
    "adaboost = AdaBoostClassifier(base_estimator=RandomForestClassifier(n_estimators=100, max_depth = 10, \\\n",
    "                    random_state=5, bootstrap=True, oob_score=True,\\\n",
    "                    class_weight='balanced_subsample', n_jobs=-1), \n",
    "                              \n",
    "                    n_estimators=10, random_state=5)\n",
    "\n",
    "adaboost.fit(X_train, Y_train)"
   ]
  },
  {
   "cell_type": "code",
   "execution_count": 419,
   "id": "9cd959e1-4d33-4065-981d-80804d5ae3b4",
   "metadata": {},
   "outputs": [
    {
     "name": "stdout",
     "output_type": "stream",
     "text": [
      "              precision    recall  f1-score   support\n",
      "\n",
      "           0       1.00      0.99      1.00    739262\n",
      "           1       0.12      0.71      0.21      1210\n",
      "\n",
      "    accuracy                           0.99    740472\n",
      "   macro avg       0.56      0.85      0.60    740472\n",
      "weighted avg       1.00      0.99      0.99    740472\n",
      "\n"
     ]
    }
   ],
   "source": [
    "print(classification_report(Y_test, adaboost.predict(X_test)))"
   ]
  },
  {
   "cell_type": "code",
   "execution_count": 420,
   "id": "b213e325-1d5d-432e-bbb7-495636b50334",
   "metadata": {},
   "outputs": [
    {
     "name": "stdout",
     "output_type": "stream",
     "text": [
      "[[733077   6185]\n",
      " [   350    860]]\n"
     ]
    }
   ],
   "source": [
    "print(confusion_matrix(Y_test, adaboost.predict(X_test)))"
   ]
  },
  {
   "cell_type": "code",
   "execution_count": 421,
   "id": "b90b1a19-ad6c-4efe-ac18-12ea3e2022fd",
   "metadata": {},
   "outputs": [
    {
     "data": {
      "image/png": "[encoded data removed]",
      "text/plain": [
       "<Figure size 432x288 with 1 Axes>"
      ]
     },
     "metadata": {},
     "output_type": "display_data"
    }
   ],
   "source": [
    "sns.set(font_scale=2)\n",
    "sns.heatmap(confusion_matrix(Y_test, adaboost.predict(X_test)), annot=True, cmap='mako', cbar=False, fmt='d')\n",
    "plt.show()"
   ]
  },
  {
   "cell_type": "code",
   "execution_count": 422,
   "id": "de238c44-2b8d-43ea-aba2-59b83bfbf9c1",
   "metadata": {},
   "outputs": [],
   "source": [
    "roc_abrf = roc_curve(Y_test, adaboost.predict_proba(X_test)[:, 1])"
   ]
  },
  {
   "cell_type": "code",
   "execution_count": 423,
   "id": "45e95e2c-dfa1-4fea-8e84-822ae6f51591",
   "metadata": {},
   "outputs": [
    {
     "data": {
      "text/plain": [
       "0.9921696495836316"
      ]
     },
     "execution_count": 423,
     "metadata": {},
     "output_type": "execute_result"
    }
   ],
   "source": [
    "fbeta_abrf = fbeta_score(Y_test, adaboost.predict(X_test), average='weighted', beta=2)\n",
    "fbeta_abrf"
   ]
  },
  {
   "cell_type": "markdown",
   "id": "c487c59d-b9df-49e6-8f10-62ecd5aa77ce",
   "metadata": {},
   "source": [
    "### AdaBoost based on Gradient Boosting"
   ]
  },
  {
   "cell_type": "code",
   "execution_count": 149,
   "id": "16850330-8630-4242-afa8-6a9512f06f8b",
   "metadata": {},
   "outputs": [
    {
     "data": {
      "text/plain": [
       "AdaBoostClassifier(base_estimator=GradientBoostingClassifier(max_depth=5,\n",
       "                                                             max_features='sqrt',\n",
       "                                                             n_estimators=50,\n",
       "                                                             random_state=5),\n",
       "                   n_estimators=10, random_state=5)"
      ]
     },
     "execution_count": 149,
     "metadata": {},
     "output_type": "execute_result"
    }
   ],
   "source": [
    "adaboost_GB = AdaBoostClassifier(base_estimator=GradientBoostingClassifier(n_estimators=50, \\\n",
    "                                            random_state=5, max_depth=5, learning_rate=0.1, max_features='sqrt'),\n",
    "                                n_estimators=10, random_state=5)\n",
    "\n",
    "adaboost_GB.fit(X_train, Y_train)"
   ]
  },
  {
   "cell_type": "code",
   "execution_count": 150,
   "id": "7c37dc2a-2c78-4d4f-87ec-63a77d416398",
   "metadata": {},
   "outputs": [
    {
     "name": "stdout",
     "output_type": "stream",
     "text": [
      "              precision    recall  f1-score   support\n",
      "\n",
      "           0       1.00      1.00      1.00    739262\n",
      "           1       0.44      0.39      0.41      1210\n",
      "\n",
      "    accuracy                           1.00    740472\n",
      "   macro avg       0.72      0.69      0.71    740472\n",
      "weighted avg       1.00      1.00      1.00    740472\n",
      "\n"
     ]
    }
   ],
   "source": [
    "print(classification_report(Y_test, adaboost_GB.predict(X_test)))"
   ]
  },
  {
   "cell_type": "code",
   "execution_count": 151,
   "id": "ffef3602-15db-4172-acd7-4b38cc277ed3",
   "metadata": {},
   "outputs": [
    {
     "name": "stdout",
     "output_type": "stream",
     "text": [
      "[[738675    587]\n",
      " [   740    470]]\n"
     ]
    }
   ],
   "source": [
    "print(confusion_matrix(Y_test, adaboost_GB.predict(X_test)))"
   ]
  },
  {
   "cell_type": "code",
   "execution_count": 153,
   "id": "f240d2a7-c6b7-4c45-9c79-0c80ce6f698f",
   "metadata": {},
   "outputs": [],
   "source": [
    "roc_abgb = roc_curve(Y_test, adaboost_GB.predict_proba(X_test)[:, 1])"
   ]
  },
  {
   "cell_type": "markdown",
   "id": "62815026-7d21-41a9-bede-36336e0a25e1",
   "metadata": {},
   "source": [
    "### Models Blending"
   ]
  },
  {
   "cell_type": "code",
   "execution_count": 116,
   "id": "6287435a-6e69-46e1-8312-d18a541b75b4",
   "metadata": {},
   "outputs": [],
   "source": [
    "voting = VotingClassifier(estimators=[('lr', logReg), ('rfc', rf_cls), ('gboost', gboost)], voting='soft')"
   ]
  },
  {
   "cell_type": "code",
   "execution_count": 117,
   "id": "37e2931d-7654-4d23-b201-05490eb8ac1d",
   "metadata": {},
   "outputs": [
    {
     "data": {
      "text/plain": [
       "VotingClassifier(estimators=[('lr',\n",
       "                              LogisticRegression(class_weight='balanced',\n",
       "                                                 max_iter=2000)),\n",
       "                             ('rfc',\n",
       "                              RandomForestClassifier(class_weight='balanced_subsample',\n",
       "                                                     max_depth=10, n_jobs=-1,\n",
       "                                                     oob_score=True,\n",
       "                                                     random_state=5)),\n",
       "                             ('gboost',\n",
       "                              GradientBoostingClassifier(max_features='sqrt',\n",
       "                                                         random_state=10))],\n",
       "                 voting='soft')"
      ]
     },
     "execution_count": 117,
     "metadata": {},
     "output_type": "execute_result"
    }
   ],
   "source": [
    "voting.fit(X_train, Y_train)"
   ]
  },
  {
   "cell_type": "code",
   "execution_count": 118,
   "id": "3e383de8-e9f5-45f1-9b4a-64b2576cc4d5",
   "metadata": {},
   "outputs": [],
   "source": [
    "prediction_voting = voting.predict(X_test)"
   ]
  },
  {
   "cell_type": "code",
   "execution_count": 119,
   "id": "96b27633-46d0-4f9e-a7dc-2f12b73d2a83",
   "metadata": {},
   "outputs": [
    {
     "name": "stdout",
     "output_type": "stream",
     "text": [
      "              precision    recall  f1-score   support\n",
      "\n",
      "           0       1.00      0.99      0.99    739262\n",
      "           1       0.08      0.72      0.14      1210\n",
      "\n",
      "    accuracy                           0.99    740472\n",
      "   macro avg       0.54      0.85      0.57    740472\n",
      "weighted avg       1.00      0.99      0.99    740472\n",
      "\n"
     ]
    }
   ],
   "source": [
    "print(classification_report(Y_test, prediction_voting))"
   ]
  },
  {
   "cell_type": "code",
   "execution_count": 120,
   "id": "9515b2c4-649b-441c-8525-b2c8e43274ca",
   "metadata": {},
   "outputs": [
    {
     "name": "stdout",
     "output_type": "stream",
     "text": [
      "[[729274   9988]\n",
      " [   339    871]]\n"
     ]
    }
   ],
   "source": [
    "print(confusion_matrix(Y_test, prediction_voting))"
   ]
  },
  {
   "cell_type": "code",
   "execution_count": 370,
   "id": "ca1017df-8e43-421d-8e14-a6d8b92717a6",
   "metadata": {},
   "outputs": [
    {
     "data": {
      "image/png": "[encoded data removed]",
      "text/plain": [
       "<Figure size 432x288 with 1 Axes>"
      ]
     },
     "metadata": {},
     "output_type": "display_data"
    }
   ],
   "source": [
    "sns.set(font_scale=2)\n",
    "sns.heatmap(confusion_matrix(Y_test, prediction_voting), annot=True, cmap='mako', cbar=False, fmt='d')\n",
    "plt.show()"
   ]
  },
  {
   "cell_type": "code",
   "execution_count": 121,
   "id": "079850cf-be95-407d-9d46-c8d56f5566c4",
   "metadata": {},
   "outputs": [
    {
     "data": {
      "text/plain": [
       "array([0, 0, 0, ..., 0, 0, 0])"
      ]
     },
     "execution_count": 121,
     "metadata": {},
     "output_type": "execute_result"
    }
   ],
   "source": [
    "prediction_voting"
   ]
  },
  {
   "cell_type": "code",
   "execution_count": 122,
   "id": "f8faa3e4-0966-402d-905a-68557e50f11e",
   "metadata": {},
   "outputs": [],
   "source": [
    "roc_voting = roc_curve(Y_test, voting.predict_proba(X_test)[:, 1])"
   ]
  },
  {
   "cell_type": "code",
   "execution_count": 314,
   "id": "2c7eeee3-3ad9-4371-a32a-aa70f8cda50b",
   "metadata": {},
   "outputs": [
    {
     "data": {
      "text/plain": [
       "0.987908213942037"
      ]
     },
     "execution_count": 314,
     "metadata": {},
     "output_type": "execute_result"
    }
   ],
   "source": [
    "fbeta_vote1 = fbeta_score(Y_test, voting.predict(X_test), average='weighted', beta=2)\n",
    "fbeta_vote1"
   ]
  },
  {
   "cell_type": "markdown",
   "id": "5bec4b86-026e-45ed-a2e5-4f76a7a87118",
   "metadata": {},
   "source": [
    "### Cat Boost Classifier"
   ]
  },
  {
   "cell_type": "code",
   "execution_count": 124,
   "id": "3a44b8bc-e838-4f42-aef6-40057864616b",
   "metadata": {},
   "outputs": [],
   "source": [
    "X2 = data[['operCargo', 'repStCode', 'operWeight', 'operDestSt', 'carNum', 'partRimDepth',\\\n",
    "               'partFlangeDepth', 'partType_БАЛКА', 'partType_ОСЬ', 'partType_РАМАБОК', \n",
    "                'axle1_rf', 'axle1_lf', 'axle2_rf', 'axle2_lf', 'axle3_rf',\\\n",
    "                'axle3_lf', 'axle4_rf', 'axle4_lf']]"
   ]
  },
  {
   "cell_type": "code",
   "execution_count": 125,
   "id": "0b046013-e149-4c43-8660-c4afc8369b48",
   "metadata": {},
   "outputs": [],
   "source": [
    "y2 = data['repType']\n",
    "\n",
    "X_train2, X_test2, Y_train2, Y_test2 = train_test_split(X2, y2, test_size=0.33, shuffle=False, random_state=5)"
   ]
  },
  {
   "cell_type": "code",
   "execution_count": 126,
   "id": "1cd02cf7-075a-4038-8c7a-27a73a8cf4bd",
   "metadata": {},
   "outputs": [],
   "source": [
    "cbc = CatBoostClassifier(learning_rate=1, depth=3, loss_function='Logloss', iterations=100)"
   ]
  },
  {
   "cell_type": "code",
   "execution_count": 127,
   "id": "94baf28e-4dfe-4f8d-85d2-732841ac651b",
   "metadata": {},
   "outputs": [
    {
     "name": "stdout",
     "output_type": "stream",
     "text": [
      "0:\tlearn: 0.1309855\ttotal: 128ms\tremaining: 12.7s\n",
      "1:\tlearn: 0.0486149\ttotal: 165ms\tremaining: 8.09s\n",
      "2:\tlearn: 0.0229571\ttotal: 215ms\tremaining: 6.95s\n",
      "3:\tlearn: 0.0144354\ttotal: 255ms\tremaining: 6.11s\n",
      "4:\tlearn: 0.0117391\ttotal: 292ms\tremaining: 5.54s\n",
      "5:\tlearn: 0.0149402\ttotal: 327ms\tremaining: 5.12s\n",
      "6:\tlearn: 0.0121627\ttotal: 363ms\tremaining: 4.83s\n",
      "7:\tlearn: 0.0143591\ttotal: 408ms\tremaining: 4.69s\n",
      "8:\tlearn: 0.0114217\ttotal: 444ms\tremaining: 4.49s\n",
      "9:\tlearn: 0.0111193\ttotal: 480ms\tremaining: 4.32s\n",
      "10:\tlearn: 0.0110459\ttotal: 516ms\tremaining: 4.18s\n",
      "11:\tlearn: 0.0110728\ttotal: 555ms\tremaining: 4.07s\n",
      "12:\tlearn: 0.0109580\ttotal: 590ms\tremaining: 3.95s\n",
      "13:\tlearn: 0.0430397\ttotal: 628ms\tremaining: 3.86s\n",
      "14:\tlearn: 0.0224235\ttotal: 662ms\tremaining: 3.75s\n",
      "15:\tlearn: 0.0224208\ttotal: 696ms\tremaining: 3.65s\n",
      "16:\tlearn: 0.0224207\ttotal: 730ms\tremaining: 3.56s\n",
      "17:\tlearn: 0.0168837\ttotal: 764ms\tremaining: 3.48s\n",
      "18:\tlearn: 0.0248901\ttotal: 799ms\tremaining: 3.41s\n",
      "19:\tlearn: 0.0224207\ttotal: 839ms\tremaining: 3.35s\n",
      "20:\tlearn: 0.0224207\ttotal: 874ms\tremaining: 3.29s\n",
      "21:\tlearn: 0.0224207\ttotal: 910ms\tremaining: 3.23s\n",
      "22:\tlearn: 0.0224207\ttotal: 941ms\tremaining: 3.15s\n",
      "23:\tlearn: 0.0224162\ttotal: 972ms\tremaining: 3.08s\n",
      "24:\tlearn: 0.0127073\ttotal: 1s\tremaining: 3.01s\n",
      "25:\tlearn: 0.0482454\ttotal: 1.04s\tremaining: 2.96s\n",
      "26:\tlearn: 0.0224207\ttotal: 1.07s\tremaining: 2.9s\n",
      "27:\tlearn: 0.0224207\ttotal: 1.1s\tremaining: 2.84s\n",
      "28:\tlearn: 0.0224207\ttotal: 1.14s\tremaining: 2.78s\n",
      "29:\tlearn: 0.0224207\ttotal: 1.17s\tremaining: 2.73s\n",
      "30:\tlearn: 0.0186840\ttotal: 1.2s\tremaining: 2.67s\n",
      "31:\tlearn: 0.0148545\ttotal: 1.24s\tremaining: 2.63s\n",
      "32:\tlearn: 0.0127706\ttotal: 1.27s\tremaining: 2.58s\n",
      "33:\tlearn: 0.0478916\ttotal: 1.3s\tremaining: 2.52s\n",
      "34:\tlearn: 0.0224207\ttotal: 1.33s\tremaining: 2.47s\n",
      "35:\tlearn: 0.0224207\ttotal: 1.36s\tremaining: 2.42s\n",
      "36:\tlearn: 0.0224207\ttotal: 1.39s\tremaining: 2.38s\n",
      "37:\tlearn: 0.0224207\ttotal: 1.43s\tremaining: 2.33s\n",
      "38:\tlearn: 0.0187472\ttotal: 1.46s\tremaining: 2.28s\n",
      "39:\tlearn: 0.0145148\ttotal: 1.5s\tremaining: 2.24s\n",
      "40:\tlearn: 0.0115489\ttotal: 1.53s\tremaining: 2.2s\n",
      "41:\tlearn: 0.0545303\ttotal: 1.56s\tremaining: 2.15s\n",
      "42:\tlearn: 0.0224207\ttotal: 1.59s\tremaining: 2.11s\n",
      "43:\tlearn: 0.0224207\ttotal: 1.62s\tremaining: 2.07s\n",
      "44:\tlearn: 0.0224207\ttotal: 1.66s\tremaining: 2.02s\n",
      "45:\tlearn: 0.0224207\ttotal: 1.69s\tremaining: 1.98s\n",
      "46:\tlearn: 0.0175599\ttotal: 1.73s\tremaining: 1.95s\n",
      "47:\tlearn: 0.0211103\ttotal: 1.76s\tremaining: 1.91s\n",
      "48:\tlearn: 0.0224207\ttotal: 1.79s\tremaining: 1.87s\n",
      "49:\tlearn: 0.0224207\ttotal: 1.82s\tremaining: 1.82s\n",
      "50:\tlearn: 0.0224207\ttotal: 1.85s\tremaining: 1.78s\n",
      "51:\tlearn: 0.0224207\ttotal: 1.89s\tremaining: 1.74s\n",
      "52:\tlearn: 0.0224204\ttotal: 1.92s\tremaining: 1.7s\n",
      "53:\tlearn: 0.0130931\ttotal: 1.96s\tremaining: 1.67s\n",
      "54:\tlearn: 0.0460881\ttotal: 1.99s\tremaining: 1.63s\n",
      "55:\tlearn: 0.0224207\ttotal: 2.02s\tremaining: 1.59s\n",
      "56:\tlearn: 0.0224207\ttotal: 2.05s\tremaining: 1.55s\n",
      "57:\tlearn: 0.0224207\ttotal: 2.08s\tremaining: 1.51s\n",
      "58:\tlearn: 0.0224207\ttotal: 2.12s\tremaining: 1.47s\n",
      "59:\tlearn: 0.0190698\ttotal: 2.15s\tremaining: 1.43s\n",
      "60:\tlearn: 0.0129535\ttotal: 2.19s\tremaining: 1.4s\n",
      "61:\tlearn: 0.0106299\ttotal: 2.23s\tremaining: 1.36s\n",
      "62:\tlearn: 0.0102956\ttotal: 2.26s\tremaining: 1.33s\n",
      "63:\tlearn: 0.0102538\ttotal: 2.3s\tremaining: 1.29s\n",
      "64:\tlearn: 0.0102065\ttotal: 2.33s\tremaining: 1.26s\n",
      "65:\tlearn: 0.0101654\ttotal: 2.37s\tremaining: 1.22s\n",
      "66:\tlearn: 0.0239023\ttotal: 2.41s\tremaining: 1.19s\n",
      "67:\tlearn: 0.0213741\ttotal: 2.45s\tremaining: 1.15s\n",
      "68:\tlearn: 0.1094291\ttotal: 2.49s\tremaining: 1.12s\n",
      "69:\tlearn: 0.0213442\ttotal: 2.53s\tremaining: 1.08s\n",
      "70:\tlearn: 0.0213143\ttotal: 2.56s\tremaining: 1.05s\n",
      "71:\tlearn: 0.0212352\ttotal: 2.6s\tremaining: 1.01s\n",
      "72:\tlearn: 0.0211928\ttotal: 2.64s\tremaining: 978ms\n",
      "73:\tlearn: 0.0211689\ttotal: 2.68s\tremaining: 941ms\n",
      "74:\tlearn: 0.0211174\ttotal: 2.71s\tremaining: 904ms\n",
      "75:\tlearn: 0.0211025\ttotal: 2.74s\tremaining: 865ms\n",
      "76:\tlearn: 0.0210938\ttotal: 2.78s\tremaining: 830ms\n",
      "77:\tlearn: 0.0357694\ttotal: 2.82s\tremaining: 795ms\n",
      "78:\tlearn: 0.0212423\ttotal: 2.86s\tremaining: 761ms\n",
      "79:\tlearn: 0.0212206\ttotal: 2.9s\tremaining: 726ms\n",
      "80:\tlearn: 0.0262323\ttotal: 2.94s\tremaining: 690ms\n",
      "81:\tlearn: 0.0260954\ttotal: 2.98s\tremaining: 654ms\n",
      "82:\tlearn: 0.0260724\ttotal: 3.02s\tremaining: 618ms\n",
      "83:\tlearn: 0.0260743\ttotal: 3.05s\tremaining: 582ms\n",
      "84:\tlearn: 0.0260675\ttotal: 3.1s\tremaining: 547ms\n",
      "85:\tlearn: 0.0260047\ttotal: 3.14s\tremaining: 511ms\n",
      "86:\tlearn: 0.0259879\ttotal: 3.17s\tremaining: 474ms\n",
      "87:\tlearn: 0.0259750\ttotal: 3.21s\tremaining: 438ms\n",
      "88:\tlearn: 0.0178217\ttotal: 3.25s\tremaining: 401ms\n",
      "89:\tlearn: 0.0619672\ttotal: 3.29s\tremaining: 365ms\n",
      "90:\tlearn: 0.0259398\ttotal: 3.33s\tremaining: 329ms\n",
      "91:\tlearn: 0.0259308\ttotal: 3.37s\tremaining: 293ms\n",
      "92:\tlearn: 0.0261094\ttotal: 3.41s\tremaining: 256ms\n",
      "93:\tlearn: 0.0260987\ttotal: 3.44s\tremaining: 220ms\n",
      "94:\tlearn: 0.0260746\ttotal: 3.47s\tremaining: 183ms\n",
      "95:\tlearn: 0.0260608\ttotal: 3.51s\tremaining: 146ms\n",
      "96:\tlearn: 0.0287800\ttotal: 3.56s\tremaining: 110ms\n",
      "97:\tlearn: 0.0287201\ttotal: 3.59s\tremaining: 73.3ms\n",
      "98:\tlearn: 0.0272751\ttotal: 3.63s\tremaining: 36.7ms\n",
      "99:\tlearn: 0.0210939\ttotal: 3.67s\tremaining: 0us\n"
     ]
    },
    {
     "data": {
      "text/plain": [
       "<catboost.core.CatBoostClassifier at 0x7fdf326d4730>"
      ]
     },
     "execution_count": 127,
     "metadata": {},
     "output_type": "execute_result"
    }
   ],
   "source": [
    "cbc.fit(X_train2, Y_train2)"
   ]
  },
  {
   "cell_type": "code",
   "execution_count": 128,
   "id": "0ee75f33-fefc-4c7e-b1c8-16366ff66ad8",
   "metadata": {},
   "outputs": [
    {
     "name": "stdout",
     "output_type": "stream",
     "text": [
      "              precision    recall  f1-score   support\n",
      "\n",
      "           0       1.00      1.00      1.00    739262\n",
      "           1       0.22      0.06      0.10      1210\n",
      "\n",
      "    accuracy                           1.00    740472\n",
      "   macro avg       0.61      0.53      0.55    740472\n",
      "weighted avg       1.00      1.00      1.00    740472\n",
      "\n"
     ]
    }
   ],
   "source": [
    "print(classification_report(Y_test2, cbc.predict(X_test2)))"
   ]
  },
  {
   "cell_type": "code",
   "execution_count": 129,
   "id": "5d3695ec-818e-4956-90d7-4988cc8ecc9b",
   "metadata": {},
   "outputs": [
    {
     "name": "stdout",
     "output_type": "stream",
     "text": [
      "[[739001    261]\n",
      " [  1136     74]]\n"
     ]
    }
   ],
   "source": [
    "print(confusion_matrix(Y_test2, cbc.predict(X_test2)))"
   ]
  },
  {
   "cell_type": "code",
   "execution_count": 371,
   "id": "0b2510c1-66d6-486b-8856-3434026939d7",
   "metadata": {},
   "outputs": [
    {
     "data": {
      "image/png": "[encoded data removed]",
      "text/plain": [
       "<Figure size 432x288 with 1 Axes>"
      ]
     },
     "metadata": {},
     "output_type": "display_data"
    }
   ],
   "source": [
    "sns.set(font_scale=2)\n",
    "sns.heatmap(confusion_matrix(Y_test2, cbc.predict(X_test2)), annot=True, cmap='mako', cbar=False, fmt='d')\n",
    "plt.show()"
   ]
  },
  {
   "cell_type": "code",
   "execution_count": 130,
   "id": "b1407922-c721-49c2-b838-9d9f9bcc156f",
   "metadata": {},
   "outputs": [],
   "source": [
    "roc_catb1 = roc_curve(Y_test2, cbc.predict_proba(X_test2)[:, 1])"
   ]
  },
  {
   "cell_type": "code",
   "execution_count": 131,
   "id": "c6dc4abd-de86-4f19-aeaf-9a2732de6915",
   "metadata": {},
   "outputs": [],
   "source": [
    "cbc2 = CatBoostClassifier(learning_rate=0.1, depth=15, loss_function='Logloss', iterations=100)"
   ]
  },
  {
   "cell_type": "code",
   "execution_count": 132,
   "id": "cafbdbf9-6f6e-4ce6-b22e-01bced87d51b",
   "metadata": {},
   "outputs": [
    {
     "name": "stdout",
     "output_type": "stream",
     "text": [
      "0:\tlearn: 0.5993267\ttotal: 912ms\tremaining: 1m 30s\n",
      "1:\tlearn: 0.5235164\ttotal: 1.77s\tremaining: 1m 27s\n",
      "2:\tlearn: 0.4592795\ttotal: 2.49s\tremaining: 1m 20s\n",
      "3:\tlearn: 0.4050947\ttotal: 3.25s\tremaining: 1m 18s\n",
      "4:\tlearn: 0.3591564\ttotal: 4s\tremaining: 1m 16s\n",
      "5:\tlearn: 0.3189562\ttotal: 4.72s\tremaining: 1m 13s\n",
      "6:\tlearn: 0.2836648\ttotal: 4.79s\tremaining: 1m 3s\n",
      "7:\tlearn: 0.2538514\ttotal: 5.57s\tremaining: 1m 4s\n",
      "8:\tlearn: 0.2269064\ttotal: 5.88s\tremaining: 59.5s\n",
      "9:\tlearn: 0.2034885\ttotal: 6.63s\tremaining: 59.7s\n",
      "10:\tlearn: 0.1826853\ttotal: 7.38s\tremaining: 59.7s\n",
      "11:\tlearn: 0.1640501\ttotal: 7.43s\tremaining: 54.5s\n",
      "12:\tlearn: 0.1475508\ttotal: 7.56s\tremaining: 50.6s\n",
      "13:\tlearn: 0.1330589\ttotal: 8.3s\tremaining: 51s\n",
      "14:\tlearn: 0.1200008\ttotal: 8.42s\tremaining: 47.7s\n",
      "15:\tlearn: 0.1086088\ttotal: 9.16s\tremaining: 48.1s\n",
      "16:\tlearn: 0.0984923\ttotal: 9.92s\tremaining: 48.5s\n",
      "17:\tlearn: 0.0891523\ttotal: 10.1s\tremaining: 45.9s\n",
      "18:\tlearn: 0.0809435\ttotal: 10.9s\tremaining: 46.4s\n",
      "19:\tlearn: 0.0734294\ttotal: 11.6s\tremaining: 46.5s\n",
      "20:\tlearn: 0.0666797\ttotal: 12.4s\tremaining: 46.5s\n",
      "21:\tlearn: 0.0608440\ttotal: 13.1s\tremaining: 46.4s\n",
      "22:\tlearn: 0.0556504\ttotal: 13.9s\tremaining: 46.4s\n",
      "23:\tlearn: 0.0506974\ttotal: 13.9s\tremaining: 44.1s\n",
      "24:\tlearn: 0.0462997\ttotal: 14.7s\tremaining: 44.1s\n",
      "25:\tlearn: 0.0423555\ttotal: 15.4s\tremaining: 43.9s\n",
      "26:\tlearn: 0.0388430\ttotal: 16.2s\tremaining: 43.8s\n",
      "27:\tlearn: 0.0356833\ttotal: 16.9s\tremaining: 43.5s\n",
      "28:\tlearn: 0.0327117\ttotal: 17.6s\tremaining: 43.1s\n",
      "29:\tlearn: 0.0300321\ttotal: 18.3s\tremaining: 42.8s\n",
      "30:\tlearn: 0.0277214\ttotal: 19.1s\tremaining: 42.4s\n",
      "31:\tlearn: 0.0255524\ttotal: 19.2s\tremaining: 40.7s\n",
      "32:\tlearn: 0.0236016\ttotal: 19.9s\tremaining: 40.4s\n",
      "33:\tlearn: 0.0218107\ttotal: 20.2s\tremaining: 39.3s\n",
      "34:\tlearn: 0.0201857\ttotal: 21s\tremaining: 39s\n",
      "35:\tlearn: 0.0187510\ttotal: 21.7s\tremaining: 38.6s\n",
      "36:\tlearn: 0.0174671\ttotal: 22.4s\tremaining: 38.2s\n",
      "37:\tlearn: 0.0162885\ttotal: 23.2s\tremaining: 37.8s\n",
      "38:\tlearn: 0.0152759\ttotal: 23.9s\tremaining: 37.4s\n",
      "39:\tlearn: 0.0143271\ttotal: 24.7s\tremaining: 37s\n",
      "40:\tlearn: 0.0134876\ttotal: 25.4s\tremaining: 36.5s\n",
      "41:\tlearn: 0.0126707\ttotal: 26.1s\tremaining: 36.1s\n",
      "42:\tlearn: 0.0119527\ttotal: 26.9s\tremaining: 35.7s\n",
      "43:\tlearn: 0.0114222\ttotal: 27.7s\tremaining: 35.2s\n",
      "44:\tlearn: 0.0108427\ttotal: 28.4s\tremaining: 34.7s\n",
      "45:\tlearn: 0.0102973\ttotal: 29.2s\tremaining: 34.2s\n",
      "46:\tlearn: 0.0098250\ttotal: 29.9s\tremaining: 33.8s\n",
      "47:\tlearn: 0.0093867\ttotal: 30.7s\tremaining: 33.2s\n",
      "48:\tlearn: 0.0089860\ttotal: 31.4s\tremaining: 32.7s\n",
      "49:\tlearn: 0.0086046\ttotal: 32.2s\tremaining: 32.2s\n",
      "50:\tlearn: 0.0082882\ttotal: 32.9s\tremaining: 31.6s\n",
      "51:\tlearn: 0.0079876\ttotal: 33.7s\tremaining: 31.1s\n",
      "52:\tlearn: 0.0077386\ttotal: 34.4s\tremaining: 30.5s\n",
      "53:\tlearn: 0.0074918\ttotal: 35.2s\tremaining: 29.9s\n",
      "54:\tlearn: 0.0072674\ttotal: 35.9s\tremaining: 29.4s\n",
      "55:\tlearn: 0.0070642\ttotal: 36.7s\tremaining: 28.8s\n",
      "56:\tlearn: 0.0068658\ttotal: 37.4s\tremaining: 28.2s\n",
      "57:\tlearn: 0.0066996\ttotal: 38.1s\tremaining: 27.6s\n",
      "58:\tlearn: 0.0065470\ttotal: 38.9s\tremaining: 27s\n",
      "59:\tlearn: 0.0064161\ttotal: 39.6s\tremaining: 26.4s\n",
      "60:\tlearn: 0.0063035\ttotal: 40.4s\tremaining: 25.8s\n",
      "61:\tlearn: 0.0062243\ttotal: 41.2s\tremaining: 25.2s\n",
      "62:\tlearn: 0.0061284\ttotal: 41.9s\tremaining: 24.6s\n",
      "63:\tlearn: 0.0060333\ttotal: 42.7s\tremaining: 24s\n",
      "64:\tlearn: 0.0059467\ttotal: 43.5s\tremaining: 23.4s\n",
      "65:\tlearn: 0.0058666\ttotal: 44.3s\tremaining: 22.8s\n",
      "66:\tlearn: 0.0057833\ttotal: 45s\tremaining: 22.2s\n",
      "67:\tlearn: 0.0057204\ttotal: 45.7s\tremaining: 21.5s\n",
      "68:\tlearn: 0.0056614\ttotal: 46.5s\tremaining: 20.9s\n",
      "69:\tlearn: 0.0056065\ttotal: 47.2s\tremaining: 20.2s\n",
      "70:\tlearn: 0.0055609\ttotal: 48s\tremaining: 19.6s\n",
      "71:\tlearn: 0.0055076\ttotal: 48.8s\tremaining: 19s\n",
      "72:\tlearn: 0.0054715\ttotal: 49.5s\tremaining: 18.3s\n",
      "73:\tlearn: 0.0054165\ttotal: 50.3s\tremaining: 17.7s\n",
      "74:\tlearn: 0.0053764\ttotal: 51s\tremaining: 17s\n",
      "75:\tlearn: 0.0053377\ttotal: 51.8s\tremaining: 16.4s\n",
      "76:\tlearn: 0.0052958\ttotal: 52.5s\tremaining: 15.7s\n",
      "77:\tlearn: 0.0052655\ttotal: 53.3s\tremaining: 15s\n",
      "78:\tlearn: 0.0052301\ttotal: 54.1s\tremaining: 14.4s\n",
      "79:\tlearn: 0.0051952\ttotal: 54.8s\tremaining: 13.7s\n",
      "80:\tlearn: 0.0051665\ttotal: 55.6s\tremaining: 13s\n",
      "81:\tlearn: 0.0051375\ttotal: 56.4s\tremaining: 12.4s\n",
      "82:\tlearn: 0.0051141\ttotal: 57.1s\tremaining: 11.7s\n",
      "83:\tlearn: 0.0050958\ttotal: 57.9s\tremaining: 11s\n",
      "84:\tlearn: 0.0050692\ttotal: 58.8s\tremaining: 10.4s\n",
      "85:\tlearn: 0.0050474\ttotal: 59.5s\tremaining: 9.69s\n",
      "86:\tlearn: 0.0050262\ttotal: 1m\tremaining: 9.02s\n",
      "87:\tlearn: 0.0050103\ttotal: 1m 1s\tremaining: 8.33s\n",
      "88:\tlearn: 0.0049913\ttotal: 1m 1s\tremaining: 7.64s\n",
      "89:\tlearn: 0.0049763\ttotal: 1m 2s\tremaining: 6.96s\n",
      "90:\tlearn: 0.0049584\ttotal: 1m 3s\tremaining: 6.27s\n",
      "91:\tlearn: 0.0049442\ttotal: 1m 4s\tremaining: 5.58s\n",
      "92:\tlearn: 0.0049300\ttotal: 1m 4s\tremaining: 4.88s\n",
      "93:\tlearn: 0.0049047\ttotal: 1m 5s\tremaining: 4.19s\n",
      "94:\tlearn: 0.0048907\ttotal: 1m 6s\tremaining: 3.5s\n",
      "95:\tlearn: 0.0048784\ttotal: 1m 7s\tremaining: 2.8s\n",
      "96:\tlearn: 0.0048580\ttotal: 1m 7s\tremaining: 2.1s\n",
      "97:\tlearn: 0.0048469\ttotal: 1m 8s\tremaining: 1.4s\n",
      "98:\tlearn: 0.0048357\ttotal: 1m 9s\tremaining: 702ms\n",
      "99:\tlearn: 0.0048150\ttotal: 1m 10s\tremaining: 0us\n"
     ]
    },
    {
     "data": {
      "text/plain": [
       "<catboost.core.CatBoostClassifier at 0x7fdf34515d00>"
      ]
     },
     "execution_count": 132,
     "metadata": {},
     "output_type": "execute_result"
    }
   ],
   "source": [
    "cbc2.fit(X_train, Y_train)"
   ]
  },
  {
   "cell_type": "code",
   "execution_count": 133,
   "id": "4c31ad95-0979-46bc-bbc9-77d1a4b95c9f",
   "metadata": {},
   "outputs": [
    {
     "name": "stdout",
     "output_type": "stream",
     "text": [
      "              precision    recall  f1-score   support\n",
      "\n",
      "           0       1.00      1.00      1.00    739262\n",
      "           1       1.00      0.38      0.55      1210\n",
      "\n",
      "    accuracy                           1.00    740472\n",
      "   macro avg       1.00      0.69      0.77    740472\n",
      "weighted avg       1.00      1.00      1.00    740472\n",
      "\n"
     ]
    }
   ],
   "source": [
    "print(classification_report(Y_test, cbc2.predict(X_test)))"
   ]
  },
  {
   "cell_type": "code",
   "execution_count": 134,
   "id": "8756abbb-6ffb-4778-90ac-2162a4bf6922",
   "metadata": {},
   "outputs": [
    {
     "name": "stdout",
     "output_type": "stream",
     "text": [
      "[[739260      2]\n",
      " [   751    459]]\n"
     ]
    }
   ],
   "source": [
    "print(confusion_matrix(Y_test, cbc2.predict(X_test)))"
   ]
  },
  {
   "cell_type": "code",
   "execution_count": 372,
   "id": "cdffabbd-b295-4df9-b083-f99728c84b3b",
   "metadata": {},
   "outputs": [
    {
     "data": {
      "image/png": "[encoded data removed]",
      "text/plain": [
       "<Figure size 432x288 with 1 Axes>"
      ]
     },
     "metadata": {},
     "output_type": "display_data"
    }
   ],
   "source": [
    "sns.set(font_scale=2)\n",
    "sns.heatmap(confusion_matrix(Y_test, cbc2.predict(X_test)), annot=True, cmap='mako', cbar=False, fmt='d')\n",
    "plt.show()"
   ]
  },
  {
   "cell_type": "code",
   "execution_count": 135,
   "id": "dabdc704-259c-480e-b2a6-8bcd7dba9590",
   "metadata": {},
   "outputs": [],
   "source": [
    "roc_catb2 = roc_curve(Y_test, cbc2.predict_proba(X_test)[:, 1])"
   ]
  },
  {
   "cell_type": "code",
   "execution_count": 313,
   "id": "80cccaeb-4c8f-4225-9496-9e32ba40a772",
   "metadata": {},
   "outputs": [
    {
     "data": {
      "text/plain": [
       "0.9988684038606477"
      ]
     },
     "execution_count": 313,
     "metadata": {},
     "output_type": "execute_result"
    }
   ],
   "source": [
    "fbeta_cb = fbeta_score(Y_test, cbc2.predict(X_test), average='weighted', beta=2)\n",
    "fbeta_cb"
   ]
  },
  {
   "cell_type": "markdown",
   "id": "40676783-8792-46ea-8156-21f87f861868",
   "metadata": {},
   "source": [
    "### Model Blending 2.0"
   ]
  },
  {
   "cell_type": "code",
   "execution_count": 374,
   "id": "ef6ea4ff-1fe8-4c18-ad5e-1a1b428cba34",
   "metadata": {},
   "outputs": [],
   "source": [
    "voting2 = VotingClassifier(estimators=[('lr', logReg), ('adaboost', adaboost), ('catboost', cbc2)], voting='soft')"
   ]
  },
  {
   "cell_type": "code",
   "execution_count": 375,
   "id": "a28e9624-548e-4925-bc87-c34fde6bf6a6",
   "metadata": {},
   "outputs": [
    {
     "name": "stdout",
     "output_type": "stream",
     "text": [
      "0:\tlearn: 0.5993267\ttotal: 1.02s\tremaining: 1m 40s\n",
      "1:\tlearn: 0.5235164\ttotal: 1.87s\tremaining: 1m 31s\n",
      "2:\tlearn: 0.4592795\ttotal: 2.69s\tremaining: 1m 26s\n",
      "3:\tlearn: 0.4050947\ttotal: 3.49s\tremaining: 1m 23s\n",
      "4:\tlearn: 0.3591564\ttotal: 4.27s\tremaining: 1m 21s\n",
      "5:\tlearn: 0.3189562\ttotal: 4.94s\tremaining: 1m 17s\n",
      "6:\tlearn: 0.2836648\ttotal: 5.03s\tremaining: 1m 6s\n",
      "7:\tlearn: 0.2538514\ttotal: 5.79s\tremaining: 1m 6s\n",
      "8:\tlearn: 0.2269064\ttotal: 6.13s\tremaining: 1m 2s\n",
      "9:\tlearn: 0.2034885\ttotal: 6.83s\tremaining: 1m 1s\n",
      "10:\tlearn: 0.1826853\ttotal: 7.5s\tremaining: 1m\n",
      "11:\tlearn: 0.1640501\ttotal: 7.55s\tremaining: 55.4s\n",
      "12:\tlearn: 0.1475508\ttotal: 7.68s\tremaining: 51.4s\n",
      "13:\tlearn: 0.1330589\ttotal: 8.36s\tremaining: 51.3s\n",
      "14:\tlearn: 0.1200008\ttotal: 8.48s\tremaining: 48.1s\n",
      "15:\tlearn: 0.1086088\ttotal: 9.15s\tremaining: 48.1s\n",
      "16:\tlearn: 0.0984923\ttotal: 9.88s\tremaining: 48.2s\n",
      "17:\tlearn: 0.0891523\ttotal: 10s\tremaining: 45.7s\n",
      "18:\tlearn: 0.0809435\ttotal: 10.8s\tremaining: 46s\n",
      "19:\tlearn: 0.0734294\ttotal: 11.5s\tremaining: 46.1s\n",
      "20:\tlearn: 0.0666797\ttotal: 12.2s\tremaining: 46s\n",
      "21:\tlearn: 0.0608440\ttotal: 12.9s\tremaining: 45.8s\n",
      "22:\tlearn: 0.0556504\ttotal: 13.7s\tremaining: 45.8s\n",
      "23:\tlearn: 0.0506974\ttotal: 13.7s\tremaining: 43.5s\n",
      "24:\tlearn: 0.0462997\ttotal: 14.4s\tremaining: 43.3s\n",
      "25:\tlearn: 0.0423555\ttotal: 15.2s\tremaining: 43.4s\n",
      "26:\tlearn: 0.0388430\ttotal: 15.9s\tremaining: 43s\n",
      "27:\tlearn: 0.0356833\ttotal: 16.7s\tremaining: 42.9s\n",
      "28:\tlearn: 0.0327117\ttotal: 17.4s\tremaining: 42.6s\n",
      "29:\tlearn: 0.0300321\ttotal: 18.1s\tremaining: 42.3s\n",
      "30:\tlearn: 0.0277214\ttotal: 18.8s\tremaining: 41.9s\n",
      "31:\tlearn: 0.0255524\ttotal: 18.9s\tremaining: 40.2s\n",
      "32:\tlearn: 0.0236016\ttotal: 19.6s\tremaining: 39.8s\n",
      "33:\tlearn: 0.0218107\ttotal: 20s\tremaining: 38.7s\n",
      "34:\tlearn: 0.0201857\ttotal: 20.7s\tremaining: 38.4s\n",
      "35:\tlearn: 0.0187510\ttotal: 21.4s\tremaining: 38.1s\n",
      "36:\tlearn: 0.0174671\ttotal: 22.2s\tremaining: 37.8s\n",
      "37:\tlearn: 0.0162885\ttotal: 22.9s\tremaining: 37.4s\n",
      "38:\tlearn: 0.0152759\ttotal: 23.7s\tremaining: 37s\n",
      "39:\tlearn: 0.0143271\ttotal: 24.4s\tremaining: 36.5s\n",
      "40:\tlearn: 0.0134876\ttotal: 25.1s\tremaining: 36.1s\n",
      "41:\tlearn: 0.0126707\ttotal: 25.8s\tremaining: 35.6s\n",
      "42:\tlearn: 0.0119527\ttotal: 26.5s\tremaining: 35.1s\n",
      "43:\tlearn: 0.0114222\ttotal: 27.3s\tremaining: 34.7s\n",
      "44:\tlearn: 0.0108427\ttotal: 28s\tremaining: 34.2s\n",
      "45:\tlearn: 0.0102973\ttotal: 28.7s\tremaining: 33.7s\n",
      "46:\tlearn: 0.0098250\ttotal: 29.4s\tremaining: 33.2s\n",
      "47:\tlearn: 0.0093867\ttotal: 30.2s\tremaining: 32.7s\n",
      "48:\tlearn: 0.0089860\ttotal: 31s\tremaining: 32.2s\n",
      "49:\tlearn: 0.0086046\ttotal: 31.7s\tremaining: 31.7s\n",
      "50:\tlearn: 0.0082882\ttotal: 32.4s\tremaining: 31.1s\n",
      "51:\tlearn: 0.0079876\ttotal: 33.2s\tremaining: 30.6s\n",
      "52:\tlearn: 0.0077386\ttotal: 33.9s\tremaining: 30s\n",
      "53:\tlearn: 0.0074918\ttotal: 34.6s\tremaining: 29.5s\n",
      "54:\tlearn: 0.0072674\ttotal: 35.4s\tremaining: 28.9s\n",
      "55:\tlearn: 0.0070642\ttotal: 36.1s\tremaining: 28.4s\n",
      "56:\tlearn: 0.0068658\ttotal: 36.8s\tremaining: 27.8s\n",
      "57:\tlearn: 0.0066996\ttotal: 37.6s\tremaining: 27.2s\n",
      "58:\tlearn: 0.0065470\ttotal: 38.3s\tremaining: 26.6s\n",
      "59:\tlearn: 0.0064161\ttotal: 39s\tremaining: 26s\n",
      "60:\tlearn: 0.0063035\ttotal: 39.8s\tremaining: 25.4s\n",
      "61:\tlearn: 0.0062243\ttotal: 40.5s\tremaining: 24.8s\n",
      "62:\tlearn: 0.0061284\ttotal: 41.3s\tremaining: 24.2s\n",
      "63:\tlearn: 0.0060333\ttotal: 42s\tremaining: 23.6s\n",
      "64:\tlearn: 0.0059467\ttotal: 42.7s\tremaining: 23s\n",
      "65:\tlearn: 0.0058666\ttotal: 43.5s\tremaining: 22.4s\n",
      "66:\tlearn: 0.0057833\ttotal: 44.2s\tremaining: 21.8s\n",
      "67:\tlearn: 0.0057204\ttotal: 45s\tremaining: 21.2s\n",
      "68:\tlearn: 0.0056614\ttotal: 45.8s\tremaining: 20.6s\n",
      "69:\tlearn: 0.0056065\ttotal: 46.6s\tremaining: 20s\n",
      "70:\tlearn: 0.0055609\ttotal: 47.3s\tremaining: 19.3s\n",
      "71:\tlearn: 0.0055076\ttotal: 48s\tremaining: 18.7s\n",
      "72:\tlearn: 0.0054715\ttotal: 48.8s\tremaining: 18s\n",
      "73:\tlearn: 0.0054165\ttotal: 49.5s\tremaining: 17.4s\n",
      "74:\tlearn: 0.0053764\ttotal: 50.3s\tremaining: 16.8s\n",
      "75:\tlearn: 0.0053377\ttotal: 51.1s\tremaining: 16.1s\n",
      "76:\tlearn: 0.0052958\ttotal: 51.8s\tremaining: 15.5s\n",
      "77:\tlearn: 0.0052655\ttotal: 52.6s\tremaining: 14.8s\n",
      "78:\tlearn: 0.0052301\ttotal: 53.3s\tremaining: 14.2s\n",
      "79:\tlearn: 0.0051952\ttotal: 54.1s\tremaining: 13.5s\n",
      "80:\tlearn: 0.0051665\ttotal: 54.8s\tremaining: 12.8s\n",
      "81:\tlearn: 0.0051375\ttotal: 55.5s\tremaining: 12.2s\n",
      "82:\tlearn: 0.0051141\ttotal: 56.2s\tremaining: 11.5s\n",
      "83:\tlearn: 0.0050958\ttotal: 56.9s\tremaining: 10.8s\n",
      "84:\tlearn: 0.0050692\ttotal: 57.6s\tremaining: 10.2s\n",
      "85:\tlearn: 0.0050474\ttotal: 58.3s\tremaining: 9.49s\n",
      "86:\tlearn: 0.0050262\ttotal: 59s\tremaining: 8.82s\n",
      "87:\tlearn: 0.0050103\ttotal: 59.7s\tremaining: 8.14s\n",
      "88:\tlearn: 0.0049913\ttotal: 1m\tremaining: 7.47s\n",
      "89:\tlearn: 0.0049763\ttotal: 1m 1s\tremaining: 6.8s\n",
      "90:\tlearn: 0.0049584\ttotal: 1m 2s\tremaining: 6.13s\n",
      "91:\tlearn: 0.0049442\ttotal: 1m 2s\tremaining: 5.46s\n",
      "92:\tlearn: 0.0049300\ttotal: 1m 3s\tremaining: 4.78s\n",
      "93:\tlearn: 0.0049047\ttotal: 1m 4s\tremaining: 4.11s\n",
      "94:\tlearn: 0.0048907\ttotal: 1m 4s\tremaining: 3.42s\n",
      "95:\tlearn: 0.0048784\ttotal: 1m 5s\tremaining: 2.74s\n",
      "96:\tlearn: 0.0048580\ttotal: 1m 6s\tremaining: 2.06s\n",
      "97:\tlearn: 0.0048469\ttotal: 1m 7s\tremaining: 1.37s\n",
      "98:\tlearn: 0.0048357\ttotal: 1m 7s\tremaining: 686ms\n",
      "99:\tlearn: 0.0048150\ttotal: 1m 8s\tremaining: 0us\n"
     ]
    },
    {
     "data": {
      "text/plain": [
       "VotingClassifier(estimators=[('lr',\n",
       "                              LogisticRegression(class_weight='balanced',\n",
       "                                                 max_iter=2000)),\n",
       "                             ('adaboost',\n",
       "                              AdaBoostClassifier(base_estimator=RandomForestClassifier(class_weight='balanced_subsample',\n",
       "                                                                                       max_depth=10,\n",
       "                                                                                       n_jobs=-1,\n",
       "                                                                                       oob_score=True,\n",
       "                                                                                       random_state=5),\n",
       "                                                 n_estimators=10,\n",
       "                                                 random_state=5)),\n",
       "                             ('catboost',\n",
       "                              <catboost.core.CatBoostClassifier object at 0x7fdf34515d00>)],\n",
       "                 voting='soft')"
      ]
     },
     "execution_count": 375,
     "metadata": {},
     "output_type": "execute_result"
    }
   ],
   "source": [
    "voting2.fit(X_train, Y_train)"
   ]
  },
  {
   "cell_type": "code",
   "execution_count": 376,
   "id": "721e1f8a-0364-4b3b-99aa-2b03a6071b17",
   "metadata": {},
   "outputs": [],
   "source": [
    "prediction_voting2 = voting2.predict(X_test)"
   ]
  },
  {
   "cell_type": "code",
   "execution_count": 377,
   "id": "a9b35b23-f5aa-4065-ad97-3dcdb0f8967a",
   "metadata": {},
   "outputs": [
    {
     "name": "stdout",
     "output_type": "stream",
     "text": [
      "              precision    recall  f1-score   support\n",
      "\n",
      "           0       1.00      1.00      1.00    739262\n",
      "           1       0.21      0.60      0.31      1210\n",
      "\n",
      "    accuracy                           1.00    740472\n",
      "   macro avg       0.60      0.80      0.65    740472\n",
      "weighted avg       1.00      1.00      1.00    740472\n",
      "\n"
     ]
    }
   ],
   "source": [
    "print(classification_report(Y_test, prediction_voting2))"
   ]
  },
  {
   "cell_type": "code",
   "execution_count": 378,
   "id": "133cea92-6ca5-4361-8dc0-8ebf5302b86e",
   "metadata": {},
   "outputs": [
    {
     "name": "stdout",
     "output_type": "stream",
     "text": [
      "[[736463   2799]\n",
      " [   482    728]]\n"
     ]
    }
   ],
   "source": [
    "print(confusion_matrix(Y_test, prediction_voting2))"
   ]
  },
  {
   "cell_type": "code",
   "execution_count": 379,
   "id": "9ec82c16-8e19-41bc-ad1b-b9db48a1db58",
   "metadata": {},
   "outputs": [
    {
     "data": {
      "image/png": "[encoded data removed]",
      "text/plain": [
       "<Figure size 432x288 with 1 Axes>"
      ]
     },
     "metadata": {},
     "output_type": "display_data"
    }
   ],
   "source": [
    "sns.set(font_scale=2)\n",
    "sns.heatmap(confusion_matrix(Y_test, prediction_voting2), annot=True, cmap='mako', cbar=False, fmt='d')\n",
    "plt.show()"
   ]
  },
  {
   "cell_type": "code",
   "execution_count": 380,
   "id": "9e31d459-d0f2-4f06-85fa-c464884bfc40",
   "metadata": {},
   "outputs": [],
   "source": [
    "roc_voting2 = roc_curve(Y_test, voting2.predict_proba(X_test)[:, 1])"
   ]
  },
  {
   "cell_type": "code",
   "execution_count": 381,
   "id": "c6871889-3652-4256-b8ca-5846a16c28d2",
   "metadata": {},
   "outputs": [
    {
     "data": {
      "text/plain": [
       "0.9959206241013845"
      ]
     },
     "execution_count": 381,
     "metadata": {},
     "output_type": "execute_result"
    }
   ],
   "source": [
    "fbeta_vote2 = fbeta_score(Y_test, voting2.predict(X_test), average='weighted', beta=2)\n",
    "fbeta_vote2"
   ]
  },
  {
   "cell_type": "markdown",
   "id": "d7ec5728-52aa-4705-9086-8ac307d7c992",
   "metadata": {},
   "source": [
    "## Roc-Auc "
   ]
  },
  {
   "cell_type": "code",
   "execution_count": 424,
   "id": "3ee1d07d-1b6f-4d62-aa4b-e1540204be53",
   "metadata": {},
   "outputs": [],
   "source": [
    "rocs = [('Logistic regression', roc_lr), ('Random Forest', roc_rf), ('Gradient Boosting', roc_gb),\\\n",
    "        ('AdaBoost ~ RF', roc_abrf), ('CatBoost 1', roc_catb1), ('CatBoost 2', roc_catb2), \\\n",
    "        ('Ensemble 1', roc_voting), ('Ensemble 2', roc_voting2)]"
   ]
  },
  {
   "cell_type": "code",
   "execution_count": 425,
   "id": "4b0f8fb2-7450-482c-8d31-88608db32900",
   "metadata": {},
   "outputs": [
    {
     "data": {
      "image/png": "[encoded data removed]",
      "text/plain": [
       "<Figure size 1000x600 with 1 Axes>"
      ]
     },
     "metadata": {},
     "output_type": "display_data"
    }
   ],
   "source": [
    "sns.set(font_scale=1)\n",
    "# plt.style.use('ggplot')\n",
    "plt.subplots(figsize=(10, 6), dpi=100)\n",
    "\n",
    "\n",
    "\n",
    "\n",
    "for roc in rocs:\n",
    "    plt.plot(roc[1][0], roc[1][1], lw=2, label=f\"{roc[0]} (area = %0.4f)\" % auc(roc[1][0], roc[1][1]))\n",
    "\n",
    "plt.plot([0, 1], [0, 1], color=\"navy\", lw=2, linestyle=\"--\")\n",
    "\n",
    "plt.xlim([0.0, 1.0])\n",
    "plt.ylim([0.0, 1.05])\n",
    "\n",
    "plt.xlabel(\"False Positive Rate\")\n",
    "plt.ylabel(\"True Positive Rate\")\n",
    "plt.title(\"Receiver operating characteristic curve\")\n",
    "plt.legend(loc=\"lower right\")\n",
    "plt.show()"
   ]
  },
  {
   "cell_type": "markdown",
   "id": "0c31861e-a3de-4296-93a7-88e0d2c87399",
   "metadata": {},
   "source": [
    "### F-beta score"
   ]
  },
  {
   "cell_type": "code",
   "execution_count": 394,
   "id": "ddf02eee-41c3-46a8-9530-5e9285bb197d",
   "metadata": {},
   "outputs": [],
   "source": [
    "fbeta = pd.Series([fbeta_lr, fbeta_rf, fbeta_gb, fbeta_abrf, fbeta_vote1, fbeta_cb, fbeta_vote2],\\\n",
    "                  index=['Log Reg', 'Random Forest', 'Gradient Boosting', 'AdaBoost', 'Ensemble 1', 'CatBoost', 'Ensemble 2']).sort_values(ascending=False)"
   ]
  },
  {
   "cell_type": "code",
   "execution_count": 395,
   "id": "1446d883-11ad-4aef-b760-d10722b40282",
   "metadata": {},
   "outputs": [
    {
     "data": {
      "image/png": "[encoded data removed]",
      "text/plain": [
       "<Figure size 720x360 with 1 Axes>"
      ]
     },
     "metadata": {},
     "output_type": "display_data"
    }
   ],
   "source": [
    "plt.figure(figsize=(10,5))\n",
    "sns.set(font_scale=1.3)\n",
    "sns.barplot(x=fbeta, y=fbeta.index, palette='mako')\n",
    "\n",
    "plt.xlabel('F-beta Score', fontsize=14)\n",
    "plt.xlim(0.825, 1)\n",
    "plt.ylabel('Models', fontsize=14)\n",
    "plt.title(\"Visualizing F-beta Score\", fontsize=16)\n",
    "plt.show()"
   ]
  },
  {
   "cell_type": "code",
   "execution_count": 396,
   "id": "1c5f41c9-b5ba-4432-a86d-8302e0035d70",
   "metadata": {},
   "outputs": [
    {
     "data": {
      "text/plain": [
       "CatBoost             0.998868\n",
       "Gradient Boosting    0.998370\n",
       "Ensemble 2           0.995921\n",
       "AdaBoost             0.992203\n",
       "Ensemble 1           0.987908\n",
       "Random Forest        0.972629\n",
       "Log Reg              0.839676\n",
       "dtype: float64"
      ]
     },
     "execution_count": 396,
     "metadata": {},
     "output_type": "execute_result"
    }
   ],
   "source": [
    "fbeta"
   ]
  },
  {
   "cell_type": "markdown",
   "id": "b8710d55-f57c-447f-861e-78a4daa82e03",
   "metadata": {},
   "source": [
    "# Predictions"
   ]
  },
  {
   "cell_type": "code",
   "execution_count": 186,
   "id": "4de62d66-2fa9-4cb1-a76d-028eeecd726c",
   "metadata": {},
   "outputs": [],
   "source": [
    "X_Prediction = data[data['repBeginDate'] >= pd.Timestamp('2019-08-01')]"
   ]
  },
  {
   "cell_type": "code",
   "execution_count": 187,
   "id": "c42c5342-ebe7-417f-93d8-8eeef84f4006",
   "metadata": {},
   "outputs": [],
   "source": [
    "X_Prediction2 = X.loc[X_Prediction.index]"
   ]
  },
  {
   "cell_type": "code",
   "execution_count": 188,
   "id": "22f009fa-6d93-4fea-aab3-00413d590236",
   "metadata": {},
   "outputs": [],
   "source": [
    "res = adaboost.predict_proba(X_Prediction2)"
   ]
  },
  {
   "cell_type": "code",
   "execution_count": 189,
   "id": "65c0a1cc-2df8-48c9-af6e-10a514c8bc53",
   "metadata": {},
   "outputs": [],
   "source": [
    "cars = X_Prediction['carNum'].values\n",
    "stCodes = X_Prediction['repStCode'].values"
   ]
  },
  {
   "cell_type": "code",
   "execution_count": 190,
   "id": "d4394020-c7d1-4f58-a562-bf299b3ebe46",
   "metadata": {},
   "outputs": [],
   "source": [
    "true_val = X_Prediction['repType']"
   ]
  },
  {
   "cell_type": "code",
   "execution_count": 191,
   "id": "3fd8940e-8f0d-4123-bf7e-e9c4c6458958",
   "metadata": {},
   "outputs": [],
   "source": [
    "total_res = pd.DataFrame({'carNum': cars, 'Station': stCodes, 'Probability': res[:, 1], 'Actual': true_val})"
   ]
  },
  {
   "cell_type": "code",
   "execution_count": 192,
   "id": "26112119-2229-4560-a3dc-75c0c6992f21",
   "metadata": {},
   "outputs": [],
   "source": [
    "total_res = total_res.set_index(['carNum', 'Station']).sort_values(by = 'carNum')"
   ]
  },
  {
   "cell_type": "code",
   "execution_count": 193,
   "id": "6ca732a0-95e8-4dee-a4a6-e80779ac7210",
   "metadata": {},
   "outputs": [
    {
     "data": {
      "text/html": [
       "<div>\n",
       "<style scoped>\n",
       "    .dataframe tbody tr th:only-of-type {\n",
       "        vertical-align: middle;\n",
       "    }\n",
       "\n",
       "    .dataframe tbody tr th {\n",
       "        vertical-align: top;\n",
       "    }\n",
       "\n",
       "    .dataframe thead th {\n",
       "        text-align: right;\n",
       "    }\n",
       "</style>\n",
       "<table border=\"1\" class=\"dataframe\">\n",
       "  <thead>\n",
       "    <tr style=\"text-align: right;\">\n",
       "      <th></th>\n",
       "      <th></th>\n",
       "      <th>Probability</th>\n",
       "      <th>Actual</th>\n",
       "    </tr>\n",
       "    <tr>\n",
       "      <th>carNum</th>\n",
       "      <th>Station</th>\n",
       "      <th></th>\n",
       "      <th></th>\n",
       "    </tr>\n",
       "  </thead>\n",
       "  <tbody>\n",
       "    <tr>\n",
       "      <th rowspan=\"5\" valign=\"top\">28061984</th>\n",
       "      <th>27200.0</th>\n",
       "      <td>0.450099</td>\n",
       "      <td>0</td>\n",
       "    </tr>\n",
       "    <tr>\n",
       "      <th>76610.0</th>\n",
       "      <td>0.461108</td>\n",
       "      <td>0</td>\n",
       "    </tr>\n",
       "    <tr>\n",
       "      <th>27373.0</th>\n",
       "      <td>0.341475</td>\n",
       "      <td>0</td>\n",
       "    </tr>\n",
       "    <tr>\n",
       "      <th>26700.0</th>\n",
       "      <td>0.393005</td>\n",
       "      <td>0</td>\n",
       "    </tr>\n",
       "    <tr>\n",
       "      <th>27230.0</th>\n",
       "      <td>0.373902</td>\n",
       "      <td>0</td>\n",
       "    </tr>\n",
       "    <tr>\n",
       "      <th>...</th>\n",
       "      <th>...</th>\n",
       "      <td>...</td>\n",
       "      <td>...</td>\n",
       "    </tr>\n",
       "    <tr>\n",
       "      <th rowspan=\"5\" valign=\"top\">98077332</th>\n",
       "      <th>83283.0</th>\n",
       "      <td>0.363245</td>\n",
       "      <td>0</td>\n",
       "    </tr>\n",
       "    <tr>\n",
       "      <th>23060.0</th>\n",
       "      <td>0.536441</td>\n",
       "      <td>0</td>\n",
       "    </tr>\n",
       "    <tr>\n",
       "      <th>25823.0</th>\n",
       "      <td>0.380793</td>\n",
       "      <td>0</td>\n",
       "    </tr>\n",
       "    <tr>\n",
       "      <th>79040.0</th>\n",
       "      <td>0.418214</td>\n",
       "      <td>0</td>\n",
       "    </tr>\n",
       "    <tr>\n",
       "      <th>25442.0</th>\n",
       "      <td>0.386200</td>\n",
       "      <td>0</td>\n",
       "    </tr>\n",
       "  </tbody>\n",
       "</table>\n",
       "<p>692321 rows × 2 columns</p>\n",
       "</div>"
      ],
      "text/plain": [
       "                  Probability  Actual\n",
       "carNum   Station                     \n",
       "28061984 27200.0     0.450099       0\n",
       "         76610.0     0.461108       0\n",
       "         27373.0     0.341475       0\n",
       "         26700.0     0.393005       0\n",
       "         27230.0     0.373902       0\n",
       "...                       ...     ...\n",
       "98077332 83283.0     0.363245       0\n",
       "         23060.0     0.536441       0\n",
       "         25823.0     0.380793       0\n",
       "         79040.0     0.418214       0\n",
       "         25442.0     0.386200       0\n",
       "\n",
       "[692321 rows x 2 columns]"
      ]
     },
     "execution_count": 193,
     "metadata": {},
     "output_type": "execute_result"
    }
   ],
   "source": [
    "total_res"
   ]
  },
  {
   "cell_type": "code",
   "execution_count": 195,
   "id": "ef749c7d-9998-44d1-be01-b6a640036114",
   "metadata": {},
   "outputs": [
    {
     "data": {
      "text/html": [
       "<div>\n",
       "<style scoped>\n",
       "    .dataframe tbody tr th:only-of-type {\n",
       "        vertical-align: middle;\n",
       "    }\n",
       "\n",
       "    .dataframe tbody tr th {\n",
       "        vertical-align: top;\n",
       "    }\n",
       "\n",
       "    .dataframe thead th {\n",
       "        text-align: right;\n",
       "    }\n",
       "</style>\n",
       "<table border=\"1\" class=\"dataframe\">\n",
       "  <thead>\n",
       "    <tr style=\"text-align: right;\">\n",
       "      <th></th>\n",
       "      <th></th>\n",
       "      <th>Probability</th>\n",
       "      <th>Actual</th>\n",
       "    </tr>\n",
       "    <tr>\n",
       "      <th>carNum</th>\n",
       "      <th>Station</th>\n",
       "      <th></th>\n",
       "      <th></th>\n",
       "    </tr>\n",
       "  </thead>\n",
       "  <tbody>\n",
       "    <tr>\n",
       "      <th rowspan=\"20\" valign=\"top\">28061984</th>\n",
       "      <th>27200.0</th>\n",
       "      <td>0.450099</td>\n",
       "      <td>0</td>\n",
       "    </tr>\n",
       "    <tr>\n",
       "      <th>76610.0</th>\n",
       "      <td>0.461108</td>\n",
       "      <td>0</td>\n",
       "    </tr>\n",
       "    <tr>\n",
       "      <th>27373.0</th>\n",
       "      <td>0.341475</td>\n",
       "      <td>0</td>\n",
       "    </tr>\n",
       "    <tr>\n",
       "      <th>26700.0</th>\n",
       "      <td>0.393005</td>\n",
       "      <td>0</td>\n",
       "    </tr>\n",
       "    <tr>\n",
       "      <th>27230.0</th>\n",
       "      <td>0.373902</td>\n",
       "      <td>0</td>\n",
       "    </tr>\n",
       "    <tr>\n",
       "      <th>76060.0</th>\n",
       "      <td>0.404288</td>\n",
       "      <td>0</td>\n",
       "    </tr>\n",
       "    <tr>\n",
       "      <th>64000.0</th>\n",
       "      <td>0.706840</td>\n",
       "      <td>1</td>\n",
       "    </tr>\n",
       "    <tr>\n",
       "      <th>26720.0</th>\n",
       "      <td>0.359631</td>\n",
       "      <td>0</td>\n",
       "    </tr>\n",
       "    <tr>\n",
       "      <th>27144.0</th>\n",
       "      <td>0.365562</td>\n",
       "      <td>0</td>\n",
       "    </tr>\n",
       "    <tr>\n",
       "      <th>27140.0</th>\n",
       "      <td>0.347639</td>\n",
       "      <td>0</td>\n",
       "    </tr>\n",
       "    <tr>\n",
       "      <th>26600.0</th>\n",
       "      <td>0.400949</td>\n",
       "      <td>0</td>\n",
       "    </tr>\n",
       "    <tr>\n",
       "      <th>26770.0</th>\n",
       "      <td>0.380161</td>\n",
       "      <td>0</td>\n",
       "    </tr>\n",
       "    <tr>\n",
       "      <th>27230.0</th>\n",
       "      <td>0.479093</td>\n",
       "      <td>0</td>\n",
       "    </tr>\n",
       "    <tr>\n",
       "      <th>24580.0</th>\n",
       "      <td>0.371932</td>\n",
       "      <td>0</td>\n",
       "    </tr>\n",
       "    <tr>\n",
       "      <th>26670.0</th>\n",
       "      <td>0.399332</td>\n",
       "      <td>0</td>\n",
       "    </tr>\n",
       "    <tr>\n",
       "      <th>76610.0</th>\n",
       "      <td>0.452493</td>\n",
       "      <td>0</td>\n",
       "    </tr>\n",
       "    <tr>\n",
       "      <th>26670.0</th>\n",
       "      <td>0.367091</td>\n",
       "      <td>0</td>\n",
       "    </tr>\n",
       "    <tr>\n",
       "      <th>27270.0</th>\n",
       "      <td>0.360710</td>\n",
       "      <td>0</td>\n",
       "    </tr>\n",
       "    <tr>\n",
       "      <th>24683.0</th>\n",
       "      <td>0.387688</td>\n",
       "      <td>0</td>\n",
       "    </tr>\n",
       "    <tr>\n",
       "      <th>26770.0</th>\n",
       "      <td>0.341475</td>\n",
       "      <td>0</td>\n",
       "    </tr>\n",
       "  </tbody>\n",
       "</table>\n",
       "</div>"
      ],
      "text/plain": [
       "                  Probability  Actual\n",
       "carNum   Station                     \n",
       "28061984 27200.0     0.450099       0\n",
       "         76610.0     0.461108       0\n",
       "         27373.0     0.341475       0\n",
       "         26700.0     0.393005       0\n",
       "         27230.0     0.373902       0\n",
       "         76060.0     0.404288       0\n",
       "         64000.0     0.706840       1\n",
       "         26720.0     0.359631       0\n",
       "         27144.0     0.365562       0\n",
       "         27140.0     0.347639       0\n",
       "         26600.0     0.400949       0\n",
       "         26770.0     0.380161       0\n",
       "         27230.0     0.479093       0\n",
       "         24580.0     0.371932       0\n",
       "         26670.0     0.399332       0\n",
       "         76610.0     0.452493       0\n",
       "         26670.0     0.367091       0\n",
       "         27270.0     0.360710       0\n",
       "         24683.0     0.387688       0\n",
       "         26770.0     0.341475       0"
      ]
     },
     "execution_count": 195,
     "metadata": {},
     "output_type": "execute_result"
    }
   ],
   "source": [
    "total_res.head(20)"
   ]
  },
  {
   "cell_type": "code",
   "execution_count": 232,
   "id": "3363d840-66d4-48cf-ae12-f567b4b78473",
   "metadata": {},
   "outputs": [],
   "source": [
    "X_Prediction = data[data['repBeginDate'] >= pd.Timestamp('2019-08-01')]\n",
    "X_Prediction2 = X.loc[X_Prediction.index]\n",
    "\n",
    "res = gboost.predict_proba(X_Prediction2)\n",
    "cars = X_Prediction['carNum'].values\n",
    "stCodes = X_Prediction['repStCode'].values\n",
    "true_val = X_Prediction['repType']\n",
    "\n",
    "total_res = pd.DataFrame({'carNum': cars, 'Station': stCodes, 'Probability': res[:, 1], 'Actual': true_val})\n",
    "total_res = total_res.set_index(['carNum', 'Station']).sort_values(by = 'carNum')"
   ]
  },
  {
   "cell_type": "code",
   "execution_count": 235,
   "id": "13ea42b2-4f53-4ae2-8555-cc4c851ef2e4",
   "metadata": {},
   "outputs": [
    {
     "data": {
      "text/html": [
       "<div>\n",
       "<style scoped>\n",
       "    .dataframe tbody tr th:only-of-type {\n",
       "        vertical-align: middle;\n",
       "    }\n",
       "\n",
       "    .dataframe tbody tr th {\n",
       "        vertical-align: top;\n",
       "    }\n",
       "\n",
       "    .dataframe thead th {\n",
       "        text-align: right;\n",
       "    }\n",
       "</style>\n",
       "<table border=\"1\" class=\"dataframe\">\n",
       "  <thead>\n",
       "    <tr style=\"text-align: right;\">\n",
       "      <th></th>\n",
       "      <th></th>\n",
       "      <th>Probability</th>\n",
       "      <th>Actual</th>\n",
       "    </tr>\n",
       "    <tr>\n",
       "      <th>carNum</th>\n",
       "      <th>Station</th>\n",
       "      <th></th>\n",
       "      <th></th>\n",
       "    </tr>\n",
       "  </thead>\n",
       "  <tbody>\n",
       "    <tr>\n",
       "      <th rowspan=\"20\" valign=\"top\">28061984</th>\n",
       "      <th>27200.0</th>\n",
       "      <td>0.000690</td>\n",
       "      <td>0</td>\n",
       "    </tr>\n",
       "    <tr>\n",
       "      <th>76610.0</th>\n",
       "      <td>0.000564</td>\n",
       "      <td>0</td>\n",
       "    </tr>\n",
       "    <tr>\n",
       "      <th>27373.0</th>\n",
       "      <td>0.000094</td>\n",
       "      <td>0</td>\n",
       "    </tr>\n",
       "    <tr>\n",
       "      <th>26700.0</th>\n",
       "      <td>0.000111</td>\n",
       "      <td>0</td>\n",
       "    </tr>\n",
       "    <tr>\n",
       "      <th>27230.0</th>\n",
       "      <td>0.000094</td>\n",
       "      <td>0</td>\n",
       "    </tr>\n",
       "    <tr>\n",
       "      <th>76060.0</th>\n",
       "      <td>0.000562</td>\n",
       "      <td>0</td>\n",
       "    </tr>\n",
       "    <tr>\n",
       "      <th>64000.0</th>\n",
       "      <td>1.000000</td>\n",
       "      <td>1</td>\n",
       "    </tr>\n",
       "    <tr>\n",
       "      <th>26720.0</th>\n",
       "      <td>0.000093</td>\n",
       "      <td>0</td>\n",
       "    </tr>\n",
       "    <tr>\n",
       "      <th>27144.0</th>\n",
       "      <td>0.000106</td>\n",
       "      <td>0</td>\n",
       "    </tr>\n",
       "    <tr>\n",
       "      <th>27140.0</th>\n",
       "      <td>0.000094</td>\n",
       "      <td>0</td>\n",
       "    </tr>\n",
       "    <tr>\n",
       "      <th>26600.0</th>\n",
       "      <td>0.000101</td>\n",
       "      <td>0</td>\n",
       "    </tr>\n",
       "    <tr>\n",
       "      <th>26770.0</th>\n",
       "      <td>0.000095</td>\n",
       "      <td>0</td>\n",
       "    </tr>\n",
       "    <tr>\n",
       "      <th>27230.0</th>\n",
       "      <td>0.000498</td>\n",
       "      <td>0</td>\n",
       "    </tr>\n",
       "    <tr>\n",
       "      <th>24580.0</th>\n",
       "      <td>0.000134</td>\n",
       "      <td>0</td>\n",
       "    </tr>\n",
       "    <tr>\n",
       "      <th>26670.0</th>\n",
       "      <td>0.000106</td>\n",
       "      <td>0</td>\n",
       "    </tr>\n",
       "    <tr>\n",
       "      <th>76610.0</th>\n",
       "      <td>0.000553</td>\n",
       "      <td>0</td>\n",
       "    </tr>\n",
       "    <tr>\n",
       "      <th>26670.0</th>\n",
       "      <td>0.000078</td>\n",
       "      <td>0</td>\n",
       "    </tr>\n",
       "    <tr>\n",
       "      <th>27270.0</th>\n",
       "      <td>0.000095</td>\n",
       "      <td>0</td>\n",
       "    </tr>\n",
       "    <tr>\n",
       "      <th>24683.0</th>\n",
       "      <td>0.000101</td>\n",
       "      <td>0</td>\n",
       "    </tr>\n",
       "    <tr>\n",
       "      <th>26770.0</th>\n",
       "      <td>0.000094</td>\n",
       "      <td>0</td>\n",
       "    </tr>\n",
       "  </tbody>\n",
       "</table>\n",
       "</div>"
      ],
      "text/plain": [
       "                  Probability  Actual\n",
       "carNum   Station                     \n",
       "28061984 27200.0     0.000690       0\n",
       "         76610.0     0.000564       0\n",
       "         27373.0     0.000094       0\n",
       "         26700.0     0.000111       0\n",
       "         27230.0     0.000094       0\n",
       "         76060.0     0.000562       0\n",
       "         64000.0     1.000000       1\n",
       "         26720.0     0.000093       0\n",
       "         27144.0     0.000106       0\n",
       "         27140.0     0.000094       0\n",
       "         26600.0     0.000101       0\n",
       "         26770.0     0.000095       0\n",
       "         27230.0     0.000498       0\n",
       "         24580.0     0.000134       0\n",
       "         26670.0     0.000106       0\n",
       "         76610.0     0.000553       0\n",
       "         26670.0     0.000078       0\n",
       "         27270.0     0.000095       0\n",
       "         24683.0     0.000101       0\n",
       "         26770.0     0.000094       0"
      ]
     },
     "execution_count": 235,
     "metadata": {},
     "output_type": "execute_result"
    }
   ],
   "source": [
    "total_res.head(20)"
   ]
  },
  {
   "cell_type": "code",
   "execution_count": 239,
   "id": "9dedab6e-7b77-4c8e-a5c6-faaee690b375",
   "metadata": {},
   "outputs": [],
   "source": [
    "X_Prediction = data[data['repBeginDate'] >= pd.Timestamp('2019-08-01')]\n",
    "X_Prediction2 = X.loc[X_Prediction.index]\n",
    "\n",
    "res = logReg.predict_proba(X_Prediction2)\n",
    "cars = X_Prediction['carNum'].values\n",
    "stCodes = X_Prediction['repStCode'].values\n",
    "true_val = X_Prediction['repType']\n",
    "\n",
    "total_res = pd.DataFrame({'carNum': cars, 'Station': stCodes, 'Probability': res[:, 1], 'Actual': true_val})\n",
    "total_res = total_res.set_index(['carNum', 'Station']).sort_values(by = 'carNum')"
   ]
  },
  {
   "cell_type": "code",
   "execution_count": 240,
   "id": "8636f68d-7dc4-4abc-ab36-c08d7d2f2b79",
   "metadata": {},
   "outputs": [
    {
     "data": {
      "text/html": [
       "<div>\n",
       "<style scoped>\n",
       "    .dataframe tbody tr th:only-of-type {\n",
       "        vertical-align: middle;\n",
       "    }\n",
       "\n",
       "    .dataframe tbody tr th {\n",
       "        vertical-align: top;\n",
       "    }\n",
       "\n",
       "    .dataframe thead th {\n",
       "        text-align: right;\n",
       "    }\n",
       "</style>\n",
       "<table border=\"1\" class=\"dataframe\">\n",
       "  <thead>\n",
       "    <tr style=\"text-align: right;\">\n",
       "      <th></th>\n",
       "      <th></th>\n",
       "      <th>Probability</th>\n",
       "      <th>Actual</th>\n",
       "    </tr>\n",
       "    <tr>\n",
       "      <th>carNum</th>\n",
       "      <th>Station</th>\n",
       "      <th></th>\n",
       "      <th></th>\n",
       "    </tr>\n",
       "  </thead>\n",
       "  <tbody>\n",
       "    <tr>\n",
       "      <th rowspan=\"20\" valign=\"top\">28061984</th>\n",
       "      <th>27200.0</th>\n",
       "      <td>0.374954</td>\n",
       "      <td>0</td>\n",
       "    </tr>\n",
       "    <tr>\n",
       "      <th>76610.0</th>\n",
       "      <td>0.331884</td>\n",
       "      <td>0</td>\n",
       "    </tr>\n",
       "    <tr>\n",
       "      <th>27373.0</th>\n",
       "      <td>0.047027</td>\n",
       "      <td>0</td>\n",
       "    </tr>\n",
       "    <tr>\n",
       "      <th>26700.0</th>\n",
       "      <td>0.093520</td>\n",
       "      <td>0</td>\n",
       "    </tr>\n",
       "    <tr>\n",
       "      <th>27230.0</th>\n",
       "      <td>0.096537</td>\n",
       "      <td>0</td>\n",
       "    </tr>\n",
       "    <tr>\n",
       "      <th>76060.0</th>\n",
       "      <td>0.316018</td>\n",
       "      <td>0</td>\n",
       "    </tr>\n",
       "    <tr>\n",
       "      <th>64000.0</th>\n",
       "      <td>0.801020</td>\n",
       "      <td>1</td>\n",
       "    </tr>\n",
       "    <tr>\n",
       "      <th>26720.0</th>\n",
       "      <td>0.115795</td>\n",
       "      <td>0</td>\n",
       "    </tr>\n",
       "    <tr>\n",
       "      <th>27144.0</th>\n",
       "      <td>0.115629</td>\n",
       "      <td>0</td>\n",
       "    </tr>\n",
       "    <tr>\n",
       "      <th>27140.0</th>\n",
       "      <td>0.104696</td>\n",
       "      <td>0</td>\n",
       "    </tr>\n",
       "    <tr>\n",
       "      <th>26600.0</th>\n",
       "      <td>0.111136</td>\n",
       "      <td>0</td>\n",
       "    </tr>\n",
       "    <tr>\n",
       "      <th>26770.0</th>\n",
       "      <td>0.106920</td>\n",
       "      <td>0</td>\n",
       "    </tr>\n",
       "    <tr>\n",
       "      <th>27230.0</th>\n",
       "      <td>0.383070</td>\n",
       "      <td>0</td>\n",
       "    </tr>\n",
       "    <tr>\n",
       "      <th>24580.0</th>\n",
       "      <td>0.104734</td>\n",
       "      <td>0</td>\n",
       "    </tr>\n",
       "    <tr>\n",
       "      <th>26670.0</th>\n",
       "      <td>0.109262</td>\n",
       "      <td>0</td>\n",
       "    </tr>\n",
       "    <tr>\n",
       "      <th>76610.0</th>\n",
       "      <td>0.347065</td>\n",
       "      <td>0</td>\n",
       "    </tr>\n",
       "    <tr>\n",
       "      <th>26670.0</th>\n",
       "      <td>0.043959</td>\n",
       "      <td>0</td>\n",
       "    </tr>\n",
       "    <tr>\n",
       "      <th>27270.0</th>\n",
       "      <td>0.102771</td>\n",
       "      <td>0</td>\n",
       "    </tr>\n",
       "    <tr>\n",
       "      <th>24683.0</th>\n",
       "      <td>0.115965</td>\n",
       "      <td>0</td>\n",
       "    </tr>\n",
       "    <tr>\n",
       "      <th>26770.0</th>\n",
       "      <td>0.047035</td>\n",
       "      <td>0</td>\n",
       "    </tr>\n",
       "  </tbody>\n",
       "</table>\n",
       "</div>"
      ],
      "text/plain": [
       "                  Probability  Actual\n",
       "carNum   Station                     \n",
       "28061984 27200.0     0.374954       0\n",
       "         76610.0     0.331884       0\n",
       "         27373.0     0.047027       0\n",
       "         26700.0     0.093520       0\n",
       "         27230.0     0.096537       0\n",
       "         76060.0     0.316018       0\n",
       "         64000.0     0.801020       1\n",
       "         26720.0     0.115795       0\n",
       "         27144.0     0.115629       0\n",
       "         27140.0     0.104696       0\n",
       "         26600.0     0.111136       0\n",
       "         26770.0     0.106920       0\n",
       "         27230.0     0.383070       0\n",
       "         24580.0     0.104734       0\n",
       "         26670.0     0.109262       0\n",
       "         76610.0     0.347065       0\n",
       "         26670.0     0.043959       0\n",
       "         27270.0     0.102771       0\n",
       "         24683.0     0.115965       0\n",
       "         26770.0     0.047035       0"
      ]
     },
     "execution_count": 240,
     "metadata": {},
     "output_type": "execute_result"
    }
   ],
   "source": [
    "total_res.head(20)"
   ]
  },
  {
   "cell_type": "code",
   "execution_count": null,
   "id": "7e47ed81-5832-41b3-9fa5-89a21357a45b",
   "metadata": {},
   "outputs": [],
   "source": []
  }
 ],
 "metadata": {
  "kernelspec": {
   "display_name": "Python 3",
   "language": "python",
   "name": "python3"
  },
  "language_info": {
   "codemirror_mode": {
    "name": "ipython",
    "version": 3
   },
   "file_extension": ".py",
   "mimetype": "text/x-python",
   "name": "python",
   "nbconvert_exporter": "python",
   "pygments_lexer": "ipython3",
   "version": "3.8.8"
  }
 },
 "nbformat": 4,
 "nbformat_minor": 5
}
